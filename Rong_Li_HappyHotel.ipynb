{
 "cells": [
  {
   "cell_type": "markdown",
   "metadata": {},
   "source": [
    "# Happy Hotel"
   ]
  },
  {
   "cell_type": "markdown",
   "metadata": {},
   "source": [
    "## Problem:\n",
    "\n",
    "Given reviews for ten hotels, design and execute a method to identify topics within the reviews. For each topic, \n",
    "find a robust means of assigning a score to each hotel in that topic. For each of the ten hotels, make \n",
    "recommendations to their general managers.\n",
    "\n",
    "## Approch:\n",
    "\n",
    "1). Use LDA topic modeling to get the topics of the reviews. \n",
    "\n",
    "2). Then get the main topics each review talked about. \n",
    "\n",
    "3). Use the percentage contribution of topics as the scores each reviewer gave to the topics. If it was a happy \n",
    "review, then it is a positive score, otherwise, it is a negative score. \n",
    "\n",
    "4). Then for each hotel, its score for a given topic is the sum of all the percentage contributions of all the \n",
    "reviews. \n",
    "\n",
    "5). Also get the top reviews for each topic for each hotel, so that the managers can have an idea what they did \n",
    "great and what they need improve.\n",
    "\n",
    "## Results\n",
    "\n",
    "1). Found 14 topics in the reviews.\n",
    "\n",
    "2). Obtained the scores and top reviews for each topic for each hotel. \n",
    "\n",
    "3). For Hotel 1, it's close to a highway, and noisy, and thus some actions need to be taken to reduce the noise. Its billing department also need to improve their service. Its staffs were friendly and did a good job. Its location in NYC are close to many landmarks, and thus \n",
    "can be used in the advertisement to attract more customers. Suggestions for other hotels can be obtained similarly."
   ]
  },
  {
   "cell_type": "code",
   "execution_count": 2,
   "metadata": {},
   "outputs": [
    {
     "name": "stderr",
     "output_type": "stream",
     "text": [
      "[nltk_data] Downloading package stopwords to /Users/ll/nltk_data...\n",
      "[nltk_data]   Package stopwords is already up-to-date!\n"
     ]
    }
   ],
   "source": [
    "import re\n",
    "import numpy as np\n",
    "import pandas as pd\n",
    "from pprint import pprint\n",
    "\n",
    "# Gensim\n",
    "import gensim\n",
    "import gensim.corpora as corpora\n",
    "from gensim.utils import simple_preprocess\n",
    "from gensim.models import CoherenceModel\n",
    "from gensim.models.phrases import Phrases, Phraser\n",
    "from gensim.models.ldamodel import LdaModel\n",
    "\n",
    "# spacy for lemmatization\n",
    "import spacy\n",
    "\n",
    "# Plotting tools\n",
    "import pyLDAvis\n",
    "import pyLDAvis.gensim  # don't skip this\n",
    "import matplotlib.pyplot as plt\n",
    "%matplotlib inline\n",
    "import seaborn as sns\n",
    "sns.set()\n",
    "\n",
    "# Enable logging for gensim - optional\n",
    "import logging\n",
    "logging.basicConfig(format='%(asctime)s : %(levelname)s : %(message)s', level=logging.ERROR)\n",
    "\n",
    "import warnings\n",
    "warnings.filterwarnings(\"ignore\",category=DeprecationWarning)\n",
    "\n",
    "# NLTK Stop words\n",
    "import nltk; \n",
    "nltk.download('stopwords')\n",
    "from nltk.corpus import stopwords\n",
    "stop_words = stopwords.words('english')"
   ]
  },
  {
   "cell_type": "markdown",
   "metadata": {},
   "source": [
    "# 1. Load Data"
   ]
  },
  {
   "cell_type": "code",
   "execution_count": 3,
   "metadata": {},
   "outputs": [
    {
     "data": {
      "text/html": [
       "<div>\n",
       "<style scoped>\n",
       "    .dataframe tbody tr th:only-of-type {\n",
       "        vertical-align: middle;\n",
       "    }\n",
       "\n",
       "    .dataframe tbody tr th {\n",
       "        vertical-align: top;\n",
       "    }\n",
       "\n",
       "    .dataframe thead th {\n",
       "        text-align: right;\n",
       "    }\n",
       "</style>\n",
       "<table border=\"1\" class=\"dataframe\">\n",
       "  <thead>\n",
       "    <tr style=\"text-align: right;\">\n",
       "      <th></th>\n",
       "      <th>User_ID</th>\n",
       "      <th>Description</th>\n",
       "      <th>Is_Response</th>\n",
       "      <th>hotel_ID</th>\n",
       "    </tr>\n",
       "  </thead>\n",
       "  <tbody>\n",
       "    <tr>\n",
       "      <th>0</th>\n",
       "      <td>id10329</td>\n",
       "      <td>Stayed here with husband and sons on the way t...</td>\n",
       "      <td>happy</td>\n",
       "      <td>8</td>\n",
       "    </tr>\n",
       "    <tr>\n",
       "      <th>1</th>\n",
       "      <td>id10331</td>\n",
       "      <td>We had - rooms. One was very nice and clearly ...</td>\n",
       "      <td>happy</td>\n",
       "      <td>3</td>\n",
       "    </tr>\n",
       "    <tr>\n",
       "      <th>2</th>\n",
       "      <td>id10333</td>\n",
       "      <td>My wife &amp; I stayed in this glorious city a whi...</td>\n",
       "      <td>happy</td>\n",
       "      <td>3</td>\n",
       "    </tr>\n",
       "    <tr>\n",
       "      <th>3</th>\n",
       "      <td>id10334</td>\n",
       "      <td>My boyfriend and I stayed at the Fairmont on a...</td>\n",
       "      <td>happy</td>\n",
       "      <td>7</td>\n",
       "    </tr>\n",
       "    <tr>\n",
       "      <th>4</th>\n",
       "      <td>id10336</td>\n",
       "      <td>Steps off Times Square, nice rooms, stayed - n...</td>\n",
       "      <td>happy</td>\n",
       "      <td>3</td>\n",
       "    </tr>\n",
       "  </tbody>\n",
       "</table>\n",
       "</div>"
      ],
      "text/plain": [
       "   User_ID                                        Description Is_Response  \\\n",
       "0  id10329  Stayed here with husband and sons on the way t...       happy   \n",
       "1  id10331  We had - rooms. One was very nice and clearly ...       happy   \n",
       "2  id10333  My wife & I stayed in this glorious city a whi...       happy   \n",
       "3  id10334  My boyfriend and I stayed at the Fairmont on a...       happy   \n",
       "4  id10336  Steps off Times Square, nice rooms, stayed - n...       happy   \n",
       "\n",
       "   hotel_ID  \n",
       "0         8  \n",
       "1         3  \n",
       "2         3  \n",
       "3         7  \n",
       "4         3  "
      ]
     },
     "execution_count": 3,
     "metadata": {},
     "output_type": "execute_result"
    }
   ],
   "source": [
    "# Import Dataset for 'happy reviews'\n",
    "df_happy = pd.read_excel('./Happy Hotel Data Set/hotel_happy_reviews.xlsx')\n",
    "df_happy.head()"
   ]
  },
  {
   "cell_type": "code",
   "execution_count": 4,
   "metadata": {},
   "outputs": [
    {
     "name": "stdout",
     "output_type": "stream",
     "text": [
      "<class 'pandas.core.frame.DataFrame'>\n",
      "RangeIndex: 26521 entries, 0 to 26520\n",
      "Data columns (total 4 columns):\n",
      " #   Column       Non-Null Count  Dtype \n",
      "---  ------       --------------  ----- \n",
      " 0   User_ID      26521 non-null  object\n",
      " 1   Description  26521 non-null  object\n",
      " 2   Is_Response  26521 non-null  object\n",
      " 3   hotel_ID     26521 non-null  int64 \n",
      "dtypes: int64(1), object(3)\n",
      "memory usage: 828.9+ KB\n"
     ]
    }
   ],
   "source": [
    "df_happy.info()"
   ]
  },
  {
   "cell_type": "code",
   "execution_count": 5,
   "metadata": {},
   "outputs": [
    {
     "data": {
      "text/html": [
       "<div>\n",
       "<style scoped>\n",
       "    .dataframe tbody tr th:only-of-type {\n",
       "        vertical-align: middle;\n",
       "    }\n",
       "\n",
       "    .dataframe tbody tr th {\n",
       "        vertical-align: top;\n",
       "    }\n",
       "\n",
       "    .dataframe thead th {\n",
       "        text-align: right;\n",
       "    }\n",
       "</style>\n",
       "<table border=\"1\" class=\"dataframe\">\n",
       "  <thead>\n",
       "    <tr style=\"text-align: right;\">\n",
       "      <th></th>\n",
       "      <th>User_ID</th>\n",
       "      <th>Description</th>\n",
       "      <th>Is_Response</th>\n",
       "      <th>hotel_ID</th>\n",
       "    </tr>\n",
       "  </thead>\n",
       "  <tbody>\n",
       "    <tr>\n",
       "      <th>0</th>\n",
       "      <td>id10326</td>\n",
       "      <td>The room was kind of clean but had a VERY stro...</td>\n",
       "      <td>not happy</td>\n",
       "      <td>3</td>\n",
       "    </tr>\n",
       "    <tr>\n",
       "      <th>1</th>\n",
       "      <td>id10327</td>\n",
       "      <td>I stayed at the Crown Plaza April -- - April -...</td>\n",
       "      <td>not happy</td>\n",
       "      <td>9</td>\n",
       "    </tr>\n",
       "    <tr>\n",
       "      <th>2</th>\n",
       "      <td>id10328</td>\n",
       "      <td>I booked this hotel through Hotwire at the low...</td>\n",
       "      <td>not happy</td>\n",
       "      <td>3</td>\n",
       "    </tr>\n",
       "    <tr>\n",
       "      <th>3</th>\n",
       "      <td>id10330</td>\n",
       "      <td>My girlfriends and I stayed here to celebrate ...</td>\n",
       "      <td>not happy</td>\n",
       "      <td>3</td>\n",
       "    </tr>\n",
       "    <tr>\n",
       "      <th>4</th>\n",
       "      <td>id10332</td>\n",
       "      <td>My husband and I have stayed in this hotel a f...</td>\n",
       "      <td>not happy</td>\n",
       "      <td>7</td>\n",
       "    </tr>\n",
       "  </tbody>\n",
       "</table>\n",
       "</div>"
      ],
      "text/plain": [
       "   User_ID                                        Description Is_Response  \\\n",
       "0  id10326  The room was kind of clean but had a VERY stro...   not happy   \n",
       "1  id10327  I stayed at the Crown Plaza April -- - April -...   not happy   \n",
       "2  id10328  I booked this hotel through Hotwire at the low...   not happy   \n",
       "3  id10330  My girlfriends and I stayed here to celebrate ...   not happy   \n",
       "4  id10332  My husband and I have stayed in this hotel a f...   not happy   \n",
       "\n",
       "   hotel_ID  \n",
       "0         3  \n",
       "1         9  \n",
       "2         3  \n",
       "3         3  \n",
       "4         7  "
      ]
     },
     "execution_count": 5,
     "metadata": {},
     "output_type": "execute_result"
    }
   ],
   "source": [
    "# Import Dataset for 'not happy reviews'\n",
    "df_nothappy = pd.read_excel('./Happy Hotel Data Set/hotel_not_happy_reviews.xlsx')\n",
    "df_nothappy.head()"
   ]
  },
  {
   "cell_type": "code",
   "execution_count": 6,
   "metadata": {},
   "outputs": [
    {
     "name": "stdout",
     "output_type": "stream",
     "text": [
      "<class 'pandas.core.frame.DataFrame'>\n",
      "RangeIndex: 12411 entries, 0 to 12410\n",
      "Data columns (total 4 columns):\n",
      " #   Column       Non-Null Count  Dtype \n",
      "---  ------       --------------  ----- \n",
      " 0   User_ID      12411 non-null  object\n",
      " 1   Description  12411 non-null  object\n",
      " 2   Is_Response  12411 non-null  object\n",
      " 3   hotel_ID     12411 non-null  int64 \n",
      "dtypes: int64(1), object(3)\n",
      "memory usage: 388.0+ KB\n"
     ]
    }
   ],
   "source": [
    "df_nothappy.info()"
   ]
  },
  {
   "cell_type": "code",
   "execution_count": 7,
   "metadata": {},
   "outputs": [
    {
     "name": "stdout",
     "output_type": "stream",
     "text": [
      "<class 'pandas.core.frame.DataFrame'>\n",
      "RangeIndex: 38932 entries, 0 to 38931\n",
      "Data columns (total 4 columns):\n",
      " #   Column       Non-Null Count  Dtype \n",
      "---  ------       --------------  ----- \n",
      " 0   User_ID      38932 non-null  object\n",
      " 1   Description  38932 non-null  object\n",
      " 2   Is_Response  38932 non-null  object\n",
      " 3   hotel_ID     38932 non-null  int64 \n",
      "dtypes: int64(1), object(3)\n",
      "memory usage: 1.2+ MB\n"
     ]
    }
   ],
   "source": [
    "# Combine the happy and not happy reviews\n",
    "df = pd.concat([df_happy, df_nothappy], ignore_index=True)\n",
    "df.info()"
   ]
  },
  {
   "cell_type": "code",
   "execution_count": 8,
   "metadata": {},
   "outputs": [
    {
     "data": {
      "text/plain": [
       "4     6847\n",
       "5     6682\n",
       "8     5353\n",
       "7     5317\n",
       "3     5082\n",
       "1     3929\n",
       "2     2058\n",
       "10    1511\n",
       "6     1157\n",
       "9      996\n",
       "Name: hotel_ID, dtype: int64"
      ]
     },
     "execution_count": 8,
     "metadata": {},
     "output_type": "execute_result"
    }
   ],
   "source": [
    "# Number of reviews for each hotel\n",
    "df.hotel_ID.value_counts()"
   ]
  },
  {
   "cell_type": "markdown",
   "metadata": {},
   "source": [
    "# 2. Data Preprocessing"
   ]
  },
  {
   "cell_type": "code",
   "execution_count": 9,
   "metadata": {},
   "outputs": [],
   "source": [
    "# Remove space characters in 'Description'\n",
    "sentences = [re.sub('\\s+', ' ', s) for s in df.Description]"
   ]
  },
  {
   "cell_type": "code",
   "execution_count": 10,
   "metadata": {},
   "outputs": [],
   "source": [
    "# Tokenize, lower case, remove punctuations\n",
    "words = [gensim.utils.simple_preprocess(s,deacc=True) for s in sentences]"
   ]
  },
  {
   "cell_type": "code",
   "execution_count": 11,
   "metadata": {},
   "outputs": [
    {
     "name": "stdout",
     "output_type": "stream",
     "text": [
      "Stayed here with husband and sons on the way to an Alaska Cruise. We all loved the hotel, great experience. Ask for a room on the North tower, facing north west for the best views. We had a high floor, with a stunning view of the needle, the city, and even the cruise ships! We ordered room service for dinner so we could enjoy the perfect views. Room service dinners were delicious, too! You are in a perfect spot to walk everywhere, so enjoy the city. Almost forgot- Heavenly beds were heavenly, too! \n",
      " ['stayed', 'here', 'with', 'husband', 'and', 'sons', 'on', 'the', 'way', 'to', 'an', 'alaska', 'cruise', 'we', 'all', 'loved', 'the', 'hotel', 'great', 'experience', 'ask', 'for', 'room', 'on', 'the', 'north', 'tower', 'facing', 'north', 'west', 'for', 'the', 'best', 'views', 'we', 'had', 'high', 'floor', 'with', 'stunning', 'view', 'of', 'the', 'needle', 'the', 'city', 'and', 'even', 'the', 'cruise', 'ships', 'we', 'ordered', 'room', 'service', 'for', 'dinner', 'so', 'we', 'could', 'enjoy', 'the', 'perfect', 'views', 'room', 'service', 'dinners', 'were', 'delicious', 'too', 'you', 'are', 'in', 'perfect', 'spot', 'to', 'walk', 'everywhere', 'so', 'enjoy', 'the', 'city', 'almost', 'forgot', 'heavenly', 'beds', 'were', 'heavenly', 'too']\n"
     ]
    }
   ],
   "source": [
    "print(sentences[0],'\\n',words[0])"
   ]
  },
  {
   "cell_type": "code",
   "execution_count": 12,
   "metadata": {},
   "outputs": [],
   "source": [
    "# Train the bigram and trigram models\n",
    "bigram = Phrases(words, min_count=5, threshold=100) # higher threshold fewer phrases.\n",
    "trigram = Phrases(bigram[words], min_count=5, threshold=100)  \n",
    "\n",
    "# Export the trained model = use less RAM, faster processing. Model updates no longer possible.\n",
    "bigram_mod = Phraser(bigram)\n",
    "trigram_mod = Phraser(trigram)"
   ]
  },
  {
   "cell_type": "code",
   "execution_count": 13,
   "metadata": {},
   "outputs": [],
   "source": [
    "# Get all phrases that appear in ‘words’ that pass the bigram threshold.\n",
    "# print([x[0] for x in bigram.export_phrases(words)])"
   ]
  },
  {
   "cell_type": "code",
   "execution_count": 14,
   "metadata": {},
   "outputs": [],
   "source": [
    "# Get all phrases that appear in ‘words’ that pass the trigram threshold.\n",
    "# print([x[0] for x in trigram.export_phrases(bigram[words])])"
   ]
  },
  {
   "cell_type": "code",
   "execution_count": 15,
   "metadata": {},
   "outputs": [
    {
     "name": "stdout",
     "output_type": "stream",
     "text": [
      "['am', 'former', 'travel_agent', 'and', 'came', 'to', 'nyc', 'for', 'art', 'museums', 'found', 'this', 'hotel', 'very', 'comfortable', 'and', 'great', 'location', 'for', 'visiting', 'the', 'museums', 'the', 'upper_west', 'side', 'was', 'great', 'for', 'location', 'and', 'restaurants', 'used', 'the', 'internet', 'upgrade', 'to', 'choose', 'room', 'that', 'was', 'listed', 'as', 'king', 'with', 'small', 'balcony', 'the', 'room', 'was', 'large', 'and', 'very', 'quiet', 'on', 'the', 'th', 'floor', 'had', 'no', 'problems', 'the', 'bed', 'was', 'new', 'and', 'comfortable', 'clean', 'very', 'large', 'and', 'certainly', 'worth', 'the', 'nt', 'rate', 'found', 'no', 'complaints', 'with', 'this', 'hotel', 'and', 'would', 'stay', 'again']\n"
     ]
    }
   ],
   "source": [
    "# See bigram example\n",
    "print(bigram_mod[words[200]])"
   ]
  },
  {
   "cell_type": "code",
   "execution_count": 16,
   "metadata": {
    "scrolled": true
   },
   "outputs": [
    {
     "name": "stdout",
     "output_type": "stream",
     "text": [
      "['am', 'former', 'travel_agent', 'and', 'came', 'to', 'nyc', 'for', 'art', 'museums', 'found', 'this', 'hotel', 'very', 'comfortable', 'and', 'great', 'location', 'for', 'visiting', 'the', 'museums', 'the', 'upper_west_side', 'was', 'great', 'for', 'location', 'and', 'restaurants', 'used', 'the', 'internet', 'upgrade', 'to', 'choose', 'room', 'that', 'was', 'listed', 'as', 'king', 'with', 'small', 'balcony', 'the', 'room', 'was', 'large', 'and', 'very', 'quiet', 'on', 'the', 'th', 'floor', 'had', 'no', 'problems', 'the', 'bed', 'was', 'new', 'and', 'comfortable', 'clean', 'very', 'large', 'and', 'certainly', 'worth', 'the', 'nt', 'rate', 'found', 'no', 'complaints', 'with', 'this', 'hotel', 'and', 'would', 'stay', 'again']\n"
     ]
    }
   ],
   "source": [
    "# See trigram example\n",
    "print(trigram_mod[bigram_mod[words[200]]])"
   ]
  },
  {
   "cell_type": "code",
   "execution_count": 17,
   "metadata": {},
   "outputs": [],
   "source": [
    "# Define functions for stopwords, bigrams, trigrams and lemmatization\n",
    "def remove_stopwords(texts):\n",
    "    return [[word for word in simple_preprocess(str(doc)) if word not in stop_words] for doc in texts]\n",
    "\n",
    "def make_bigrams(texts):\n",
    "    return [bigram_mod[doc] for doc in texts]\n",
    "\n",
    "def make_trigrams(texts):\n",
    "    return [trigram_mod[bigram_mod[doc]] for doc in texts]\n",
    "\n",
    "def lemmatization(texts, allowed_postags=['NOUN', 'ADJ', 'VERB', 'ADV']):\n",
    "    \"\"\"https://spacy.io/api/annotation\"\"\"\n",
    "    texts_out = []\n",
    "    for sent in texts:\n",
    "        doc = nlp(\" \".join(sent)) \n",
    "        texts_out.append([token.lemma_ for token in doc if token.pos_ in allowed_postags])\n",
    "    return texts_out"
   ]
  },
  {
   "cell_type": "code",
   "execution_count": 18,
   "metadata": {},
   "outputs": [],
   "source": [
    "# Remove stop words\n",
    "words_nostops = remove_stopwords(words)\n",
    "\n",
    "# Form bigrams\n",
    "words_bigrams = make_bigrams(words_nostops)"
   ]
  },
  {
   "cell_type": "code",
   "execution_count": 19,
   "metadata": {},
   "outputs": [
    {
     "name": "stdout",
     "output_type": "stream",
     "text": [
      "['former', 'travel_agent', 'came', 'nyc', 'art', 'museums', 'found', 'hotel', 'comfortable', 'great', 'location', 'visiting', 'museums', 'upper_west', 'side', 'great', 'location', 'restaurants', 'used', 'internet', 'upgrade', 'choose', 'room', 'listed', 'king', 'small', 'balcony', 'room', 'large', 'quiet', 'th', 'floor', 'problems', 'bed', 'new', 'comfortable', 'clean', 'large', 'certainly', 'worth', 'nt', 'rate', 'found', 'complaints', 'hotel', 'would', 'stay']\n"
     ]
    }
   ],
   "source": [
    "# Show example after removing stop words and applying bigram \n",
    "print(words_bigrams[200])"
   ]
  },
  {
   "cell_type": "code",
   "execution_count": 20,
   "metadata": {},
   "outputs": [],
   "source": [
    "# Form trigrams\n",
    "words_trigrams = make_trigrams(words_nostops)"
   ]
  },
  {
   "cell_type": "code",
   "execution_count": 21,
   "metadata": {},
   "outputs": [
    {
     "name": "stdout",
     "output_type": "stream",
     "text": [
      "['former', 'travel_agent', 'came', 'nyc', 'art', 'museums', 'found', 'hotel', 'comfortable', 'great', 'location', 'visiting', 'museums', 'upper_west_side', 'great', 'location', 'restaurants', 'used', 'internet', 'upgrade', 'choose', 'room', 'listed', 'king', 'small', 'balcony', 'room', 'large', 'quiet', 'th', 'floor', 'problems', 'bed', 'new', 'comfortable', 'clean', 'large', 'certainly', 'worth', 'nt', 'rate', 'found', 'complaints', 'hotel', 'would', 'stay']\n"
     ]
    }
   ],
   "source": [
    "# Show example after removing stop words and applying trigram \n",
    "print(words_trigrams[200])"
   ]
  },
  {
   "cell_type": "code",
   "execution_count": 22,
   "metadata": {},
   "outputs": [
    {
     "name": "stdout",
     "output_type": "stream",
     "text": [
      "['stayed', 'husband', 'sons', 'way', 'alaska_cruise', 'loved', 'hotel', 'great', 'experience', 'ask', 'room', 'north', 'tower', 'facing', 'north', 'west', 'best', 'views', 'high', 'floor', 'stunning', 'view', 'needle', 'city', 'even', 'cruise_ships', 'ordered', 'room', 'service', 'dinner', 'could', 'enjoy', 'perfect', 'views', 'room', 'service', 'dinners', 'delicious', 'perfect', 'spot', 'walk', 'everywhere', 'enjoy', 'city', 'almost', 'forgot', 'heavenly', 'beds', 'heavenly']\n"
     ]
    }
   ],
   "source": [
    "# Show another example after removing stop words and applying trigram \n",
    "print(words_trigrams[0])"
   ]
  },
  {
   "cell_type": "code",
   "execution_count": 23,
   "metadata": {},
   "outputs": [],
   "source": [
    "# Initialize spacy 'en' model, keeping only tagger component (for efficiency)\n",
    "nlp = spacy.load('en', disable=['parser', 'ner'])\n",
    "\n",
    "# Do lemmatization keeping only noun, adj, vb, adv\n",
    "data_lemmatized = lemmatization(words_trigrams, allowed_postags=['NOUN', 'ADJ', 'VERB', 'ADV'])"
   ]
  },
  {
   "cell_type": "code",
   "execution_count": 24,
   "metadata": {},
   "outputs": [
    {
     "name": "stdout",
     "output_type": "stream",
     "text": [
      "['stay', 'husband', 'son', 'way', 'alaska_cruise', 'love', 'hotel', 'great', 'experience', 'ask', 'room', 'north', 'tower', 'face', 'north', 'west', 'good', 'view', 'high', 'floor', 'stunning', 'view', 'needle', 'city', 'even', 'cruise_ship', 'order', 'room', 'service', 'dinner', 'could', 'enjoy', 'perfect', 'view', 'room', 'service', 'dinner', 'delicious', 'perfect', 'spot', 'walk', 'everywhere', 'enjoy', 'city', 'almost', 'forget', 'heavenly', 'bed', 'heavenly']\n"
     ]
    }
   ],
   "source": [
    "# Show example after removing stop words, applying trigram, and lemmatizing\n",
    "print(data_lemmatized[0])"
   ]
  },
  {
   "cell_type": "markdown",
   "metadata": {},
   "source": [
    "# 3. Topic Modeling"
   ]
  },
  {
   "cell_type": "code",
   "execution_count": 25,
   "metadata": {},
   "outputs": [],
   "source": [
    "# Create dictionary\n",
    "id2word = corpora.Dictionary(data_lemmatized)"
   ]
  },
  {
   "cell_type": "code",
   "execution_count": 26,
   "metadata": {},
   "outputs": [],
   "source": [
    "# Filter the extreme cases that are less than no_below documents (absolute number) or\n",
    "# more than no_above documents (fraction of total corpus size, not absolute number).\n",
    "# after (1) and (2), keep only the first keep_n most frequent tokens (or keep all if None).\n",
    "id2word.filter_extremes(no_below=30, no_above=0.5, keep_n=20000)"
   ]
  },
  {
   "cell_type": "code",
   "execution_count": 27,
   "metadata": {},
   "outputs": [
    {
     "name": "stdout",
     "output_type": "stream",
     "text": [
      "0 almost\n",
      "1 ask\n",
      "2 bed\n",
      "3 city\n",
      "4 could\n",
      "5 cruise_ship\n",
      "6 delicious\n",
      "7 dinner\n",
      "8 enjoy\n",
      "9 even\n"
     ]
    }
   ],
   "source": [
    "# Show 10 examples of dictionary \n",
    "for i in range(10):\n",
    "    print(i, id2word[i])"
   ]
  },
  {
   "cell_type": "code",
   "execution_count": 28,
   "metadata": {},
   "outputs": [
    {
     "name": "stdout",
     "output_type": "stream",
     "text": [
      "[(0, 1), (1, 1), (2, 1), (3, 2), (4, 1), (5, 1), (6, 1), (7, 2), (8, 2), (9, 1), (10, 1), (11, 1), (12, 1), (13, 1), (14, 1), (15, 1), (16, 1), (17, 2), (18, 1), (19, 1), (20, 1), (21, 1), (22, 2), (23, 1), (24, 2), (25, 2), (26, 1), (27, 1), (28, 1), (29, 1), (30, 3), (31, 1), (32, 1), (33, 1)]\n"
     ]
    }
   ],
   "source": [
    "# Create corpus\n",
    "texts = data_lemmatized\n",
    "\n",
    "# Convert document (a list of words) into the bag-of-words format = list of (token_id, token_count) 2-tuples. \n",
    "# The author of Gensim dictates the standard procedure for LDA to be using the Bag of Words model.\n",
    "corpus = [id2word.doc2bow(text) for text in texts] \n",
    "\n",
    "# Show example\n",
    "print(corpus[0])"
   ]
  },
  {
   "cell_type": "code",
   "execution_count": 29,
   "metadata": {},
   "outputs": [
    {
     "name": "stdout",
     "output_type": "stream",
     "text": [
      "[('almost', 1), ('ask', 1), ('bed', 1), ('city', 2), ('could', 1), ('cruise_ship', 1), ('delicious', 1), ('dinner', 2), ('enjoy', 2), ('even', 1), ('everywhere', 1), ('experience', 1), ('face', 1), ('floor', 1), ('forget', 1), ('good', 1), ('great', 1), ('heavenly', 2), ('high', 1), ('husband', 1), ('love', 1), ('needle', 1), ('north', 2), ('order', 1), ('perfect', 2), ('service', 2), ('son', 1), ('spot', 1), ('stunning', 1), ('tower', 1), ('view', 3), ('walk', 1), ('way', 1), ('west', 1)]\n"
     ]
    }
   ],
   "source": [
    "# Human readable format of corpus (term document count)\n",
    "print([(id2word[id], freq) for id, freq in corpus[0]])"
   ]
  },
  {
   "cell_type": "code",
   "execution_count": 30,
   "metadata": {},
   "outputs": [],
   "source": [
    "# Build LDA model by using Gensim’s inbuilt version of the LDA algorithm\n",
    "lda_model = LdaModel(corpus=corpus,\n",
    "                    id2word=id2word, # Mapping from word IDs to words.\n",
    "                    num_topics=10, # The number of requested latent topics to be extracted from the training corpus.\n",
    "                    random_state=100,\n",
    "                    update_every=1, # Number of documents to be iterated through for each update. Set to 0 for batch learning, > 1 for online iterative learning.\n",
    "                    chunksize=100, #  Number of documents to be used in each training chunk.\n",
    "                    passes=10, # Number of passes through the corpus during training.\n",
    "                    alpha='auto', # alpha and eta are hyperparameters that affect sparsity of the document-topic (theta) and topic-word (lambda) \n",
    "                                  # distributions. According to the Gensim docs, both defaults to 1.0/num_topics prior.\n",
    "                                  # Alpha is the per document topic distribution. High alpha: Every document has a mixture of all topics(documents appear similar to each other).\n",
    "                                  # Low alpha: Every document has a mixture of very few topics\n",
    "                                  # Eta is the per topic word distribution. High eta: Each topic has a mixture of most words(topics appear similar to each other).\n",
    "                                  # Low eta: Each topic has a mixture of few words.\n",
    "                                  # Can be set to an 1D array of length equal to the number of expected topics that expresses our a-priori \n",
    "                                  # belief for the each topics’ probability. Alternatively default prior selecting strategies can be employed by supplying a string:\n",
    "                                  # ’asymmetric’: Uses a fixed normalized asymmetric prior of 1.0 / topicno.\n",
    "                                  # ’auto’: Learns an asymmetric prior from the corpus (not available if distributed==True). \n",
    "                    per_word_topics=True)"
   ]
  },
  {
   "cell_type": "code",
   "execution_count": 31,
   "metadata": {},
   "outputs": [
    {
     "name": "stdout",
     "output_type": "stream",
     "text": [
      "[(0, '0.047*\"bed\" + 0.039*\"night\" + 0.031*\"bathroom\" + 0.030*\"floor\" + 0.027*\"small\" + 0.023*\"walk\" + 0.022*\"look\" + 0.020*\"old\" + 0.016*\"lobby\" + 0.016*\"view\"'), (1, '0.074*\"service\" + 0.062*\"make\" + 0.034*\"guest\" + 0.031*\"feel\" + 0.028*\"experience\" + 0.019*\"return\" + 0.019*\"trip\" + 0.018*\"travel\" + 0.018*\"year\" + 0.016*\"ever\"'), (2, '0.055*\"staff\" + 0.052*\"location\" + 0.052*\"clean\" + 0.051*\"nice\" + 0.046*\"place\" + 0.043*\"great\" + 0.037*\"would\" + 0.029*\"price\" + 0.029*\"really\" + 0.023*\"bar\"'), (3, '0.124*\"good\" + 0.062*\"breakfast\" + 0.048*\"area\" + 0.041*\"well\" + 0.037*\"free\" + 0.020*\"coffee\" + 0.019*\"overall\" + 0.015*\"food\" + 0.014*\"find\" + 0.014*\"include\"'), (4, '0.051*\"pay\" + 0.045*\"parking\" + 0.040*\"minute\" + 0.038*\"use\" + 0.037*\"charge\" + 0.025*\"car\" + 0.022*\"rate\" + 0.021*\"available\" + 0.019*\"park\" + 0.017*\"airport\"'), (5, '0.039*\"pool\" + 0.036*\"water\" + 0.025*\"hot\" + 0.024*\"full\" + 0.023*\"not\" + 0.022*\"family\" + 0.022*\"suite\" + 0.020*\"do\" + 0.017*\"kid\" + 0.017*\"sit\"'), (6, '0.037*\"get\" + 0.026*\"go\" + 0.020*\"check\" + 0.019*\"desk\" + 0.018*\"day\" + 0.018*\"would\" + 0.017*\"could\" + 0.016*\"say\" + 0.016*\"front\" + 0.016*\"time\"'), (7, '0.041*\"however\" + 0.031*\"review\" + 0.026*\"new\" + 0.025*\"property\" + 0.020*\"star\" + 0.019*\"high\" + 0.018*\"probably\" + 0.018*\"hallway\" + 0.016*\"point\" + 0.016*\"tub\"'), (8, '0.049*\"help\" + 0.035*\"husband\" + 0.030*\"enjoy\" + 0.029*\"friend\" + 0.027*\"concierge\" + 0.024*\"especially\" + 0.022*\"lounge\" + 0.021*\"special\" + 0.018*\"wrong\" + 0.018*\"beautiful\"'), (9, '0.046*\"reservation\" + 0.035*\"finally\" + 0.031*\"poor\" + 0.024*\"management\" + 0.021*\"already\" + 0.021*\"send\" + 0.019*\"number\" + 0.018*\"positive\" + 0.017*\"unfortunately\" + 0.016*\"group\"')]\n"
     ]
    }
   ],
   "source": [
    "# Print the top 10 keyword in the topics\n",
    "print(lda_model.print_topics())"
   ]
  },
  {
   "cell_type": "code",
   "execution_count": 32,
   "metadata": {},
   "outputs": [],
   "source": [
    "# Apply LDA model to the corpus\n",
    "doc_lda = lda_model[corpus]\n",
    "#for i, row in enumerate(doc_lda):\n",
    "#    print(i, row)"
   ]
  },
  {
   "cell_type": "code",
   "execution_count": 33,
   "metadata": {},
   "outputs": [
    {
     "name": "stdout",
     "output_type": "stream",
     "text": [
      "\n",
      "Perplexity:  -7.067060033801801\n",
      "\n",
      "Coherence Score:  0.3390575829165753\n"
     ]
    },
    {
     "data": {
      "text/plain": [
       "0.3390575829165753"
      ]
     },
     "execution_count": 33,
     "metadata": {},
     "output_type": "execute_result"
    }
   ],
   "source": [
    "# Compute Perplexity: a measure of how good the model is. Lower the better.\n",
    "# Perplexity is a statistical measure of how well a probability model predicts a sample. As applied to LDA, for a given value of k, \n",
    "# you estimate the LDA model. Then given the theoretical word distributions represented by the topics, compare that to the actual \n",
    "# topic mixtures, or distribution of words in your documents.It captures how surprised a model is of new data it has not seen before, \n",
    "# and is measured as the normalized log-likelihood of a held-out test set. Focussing on the log-likelihood part, you can think of the \n",
    "# perplexity metric as measuring how probable some new unseen data is given the model that was learned earlier. That is to say, how well \n",
    "# does the model represent or reproduce the statistics of the held-out data. However, recent studies have shown that predictive likelihood \n",
    "# (or equivalently, perplexity) and human judgment are often not correlated, and even sometimes slightly anti-correlated. Optimizing for \n",
    "# perplexity may not yield human interpretable topics.\n",
    "print('\\nPerplexity: ', lda_model.log_perplexity(corpus))  \n",
    "\n",
    "# Compute Coherence Score\n",
    "# Topic Coherence measures score a single topic by measuring the degree of semantic similarity between high scoring words in the topic. \n",
    "# These measurements help distinguish between topics that are semantically interpretable topics and topics that are artifacts of \n",
    "# statistical inference.\n",
    "# C_v measure is based on a sliding window, one-set segmentation of the top words and an indirect confirmation measure that uses normalized pointwise mutual information (NPMI) and the cosine similarity\n",
    "# C_p is based on a sliding window, one-preceding segmentation of the top words and the confirmation measure of Fitelson’s coherence\n",
    "# C_uci measure is based on a sliding window and the pointwise mutual information (PMI) of all word pairs of the given top words\n",
    "# C_umass is based on document cooccurrence counts, a one-preceding segmentation and a logarithmic conditional probability as confirmation measure\n",
    "# C_npmi is an enhanced version of the C_uci coherence using the normalized pointwise mutual information (NPMI)\n",
    "# C_a is baseed on a context window, a pairwise comparison of the top words and an indirect confirmation measure that uses normalized pointwise mutual information (NPMI) and the cosine similarity\n",
    "def coherence(model, texts, dictionary, coherence='c_v'):\n",
    "    coherence_model_lda = CoherenceModel(model=model, texts=texts, dictionary=dictionary, coherence=coherence)\n",
    "    coherence_lda = coherence_model_lda.get_coherence()\n",
    "    print('\\nCoherence Score: ', coherence_lda)\n",
    "    return coherence_lda\n",
    "coherence(model=lda_model, texts=data_lemmatized, dictionary=id2word, coherence='c_v')"
   ]
  },
  {
   "cell_type": "code",
   "execution_count": 34,
   "metadata": {},
   "outputs": [
    {
     "data": {
      "text/html": [
       "\n",
       "<link rel=\"stylesheet\" type=\"text/css\" href=\"https://cdn.rawgit.com/bmabey/pyLDAvis/files/ldavis.v1.0.0.css\">\n",
       "\n",
       "\n",
       "<div id=\"ldavis_el813211132635689602211821699\"></div>\n",
       "<script type=\"text/javascript\">\n",
       "\n",
       "var ldavis_el813211132635689602211821699_data = {\"mdsDat\": {\"x\": [-0.19261172283526085, -0.17260638875514997, -0.1822547698857938, -0.061723946134102564, -0.13975568274731118, 0.0003282441474841918, 0.12707584260436988, 0.14320450741802873, 0.23675595955350542, 0.24158795663423066], \"y\": [0.13228412004232315, 0.1642379250737883, -0.10380746477093182, -0.25646975375480563, -0.15535525573831457, 0.1589337955820574, 0.24371730515456944, -0.10560627210068518, -0.06105802671157392, -0.016876372776427385], \"topics\": [1, 2, 3, 4, 5, 6, 7, 8, 9, 10], \"cluster\": [1, 1, 1, 1, 1, 1, 1, 1, 1, 1], \"Freq\": [27.143400192260742, 15.994244575500488, 14.181986808776855, 8.996253967285156, 8.563652992248535, 6.979739665985107, 5.912543773651123, 5.830428600311279, 3.615354299545288, 2.782391309738159]}, \"tinfo\": {\"Term\": [\"good\", \"service\", \"location\", \"clean\", \"nice\", \"staff\", \"bed\", \"make\", \"breakfast\", \"get\", \"place\", \"great\", \"would\", \"night\", \"area\", \"pay\", \"bathroom\", \"go\", \"floor\", \"well\", \"parking\", \"small\", \"really\", \"free\", \"use\", \"minute\", \"price\", \"guest\", \"check\", \"however\", \"go\", \"check\", \"desk\", \"could\", \"say\", \"front\", \"call\", \"tell\", \"ask\", \"come\", \"back\", \"give\", \"work\", \"bad\", \"people\", \"never\", \"leave\", \"think\", \"thing\", \"try\", \"know\", \"wait\", \"problem\", \"arrive\", \"still\", \"put\", \"smell\", \"towel\", \"get\", \"carpet\", \"even\", \"next\", \"book\", \"first\", \"day\", \"door\", \"time\", \"take\", \"would\", \"night\", \"find\", \"see\", \"bathroom\", \"floor\", \"small\", \"old\", \"view\", \"street\", \"noise\", \"bed\", \"window\", \"away\", \"dirty\", \"side\", \"block\", \"city\", \"size\", \"change\", \"cheap\", \"decent\", \"stop\", \"king\", \"low\", \"noisy\", \"building\", \"nyc\", \"safe\", \"double\", \"dark\", \"space\", \"short\", \"corner\", \"wall\", \"walk\", \"large\", \"shower\", \"bit\", \"fine\", \"look\", \"night\", \"lobby\", \"sleep\", \"much\", \"enough\", \"quite\", \"also\", \"location\", \"nice\", \"place\", \"great\", \"close\", \"friendly\", \"helpful\", \"everything\", \"recommend\", \"definitely\", \"tiny\", \"clean\", \"access\", \"shop\", \"town\", \"anyone\", \"min\", \"continental\", \"train\", \"disappointed\", \"station\", \"shopping\", \"road\", \"booking\", \"awful\", \"boston\", \"negative\", \"perfect\", \"super\", \"fantastic\", \"really\", \"bar\", \"little\", \"easy\", \"excellent\", \"eat\", \"price\", \"staff\", \"spend\", \"restaurant\", \"need\", \"big\", \"would\", \"right\", \"comfortable\", \"worth\", \"lot\", \"also\", \"want\", \"time\", \"service\", \"guest\", \"experience\", \"return\", \"travel\", \"year\", \"ever\", \"customer\", \"evening\", \"dinner\", \"receive\", \"home\", \"wife\", \"member\", \"love\", \"entire\", \"bottle\", \"wonderful\", \"treat\", \"month\", \"warm\", \"everyone\", \"attitude\", \"welcome\", \"touch\", \"lovely\", \"follow\", \"arrival\", \"absolutely\", \"simply\", \"make\", \"level\", \"extremely\", \"feel\", \"trip\", \"name\", \"always\", \"start\", \"order\", \"weekend\", \"offer\", \"upgrade\", \"business\", \"last\", \"manager\", \"week\", \"many\", \"good\", \"breakfast\", \"well\", \"free\", \"coffee\", \"include\", \"average\", \"choice\", \"pleasant\", \"value\", \"amenity\", \"wifi\", \"buffet\", \"ok\", \"nearby\", \"serve\", \"spacious\", \"adequate\", \"often\", \"compare\", \"cleanliness\", \"thin\", \"roll\", \"connection\", \"impossible\", \"true\", \"union_square\", \"somewhat\", \"dingy\", \"machine\", \"option\", \"site\", \"complimentary\", \"area\", \"convenient\", \"far\", \"overall\", \"dining\", \"date\", \"reasonable\", \"twice\", \"provide\", \"pretty\", \"food\", \"money\", \"reception\", \"business\", \"several\", \"internet\", \"find\", \"restaurant\", \"lobby\", \"pay\", \"parking\", \"charge\", \"car\", \"rate\", \"available\", \"park\", \"airport\", \"downtown\", \"valet\", \"cost\", \"extra\", \"less\", \"shuttle\", \"drive\", \"man\", \"bill\", \"flight\", \"center\", \"hall\", \"pick\", \"basic\", \"fee\", \"taxi\", \"garage\", \"avoid\", \"queen\", \"dollar\", \"tip\", \"computer\", \"minute\", \"use\", \"take\", \"internet\", \"website\", \"however\", \"review\", \"property\", \"star\", \"probably\", \"hallway\", \"point\", \"tub\", \"due\", \"marriott\", \"read\", \"instead\", \"quality\", \"kind\", \"new\", \"guess\", \"state\", \"lack\", \"note\", \"conference\", \"renovation\", \"club\", \"write\", \"credit_card\", \"child\", \"elsewhere\", \"employee\", \"facility\", \"single\", \"westin\", \"rather\", \"high\", \"reason\", \"pool\", \"water\", \"hot\", \"full\", \"not\", \"family\", \"suite\", \"kid\", \"sit\", \"hilton\", \"sink\", \"motel\", \"party\", \"table\", \"chair\", \"live\", \"security\", \"whole\", \"item\", \"bedroom\", \"fridge\", \"glass\", \"resort\", \"can\", \"uncomfortable\", \"apparently\", \"construction\", \"sheraton\", \"microwave\", \"ground\", \"do\", \"cold\", \"drink\", \"plan\", \"help\", \"husband\", \"enjoy\", \"friend\", \"concierge\", \"especially\", \"lounge\", \"special\", \"wrong\", \"beautiful\", \"chicago\", \"job\", \"spot\", \"meet\", \"understand\", \"hyatt\", \"tower\", \"design\", \"menu\", \"meeting\", \"list\", \"wedding\", \"word\", \"fun\", \"amazing\", \"air_conditioner\", \"driver\", \"blanket\", \"thank\", \"handle\", \"reservation\", \"finally\", \"poor\", \"management\", \"already\", \"send\", \"number\", \"positive\", \"unfortunately\", \"group\", \"air\", \"none\", \"situation\", \"online\", \"inn\", \"girl\", \"cancel\", \"tea\", \"non_smok\", \"require\", \"temperature\", \"comment\", \"apology\", \"advance\", \"become\", \"contact\", \"nearly\", \"promise\", \"stick\", \"strange\"], \"Freq\": [25754.0, 16127.0, 17889.0, 17872.0, 17401.0, 19941.0, 18027.0, 13626.0, 12954.0, 24293.0, 15780.0, 14785.0, 24365.0, 23675.0, 10283.0, 8572.0, 12161.0, 17061.0, 11765.0, 8410.0, 7571.0, 10624.0, 9842.0, 7670.0, 8438.0, 6830.0, 10286.0, 7396.0, 13066.0, 5875.0, 17060.798828125, 13066.0986328125, 12343.490234375, 11335.94140625, 10692.9443359375, 10661.044921875, 9404.220703125, 9308.2626953125, 8122.71923828125, 8021.6025390625, 7907.88671875, 7509.62353515625, 7438.8359375, 6771.150390625, 6706.0986328125, 6396.97119140625, 6230.7607421875, 5671.53955078125, 5589.09130859375, 5559.2509765625, 5184.97802734375, 4795.14404296875, 4770.98193359375, 4463.83056640625, 4250.5791015625, 3435.84521484375, 3422.736572265625, 3376.9365234375, 24287.041015625, 3135.11328125, 8823.4599609375, 6682.32177734375, 6258.509765625, 6942.8125, 11897.8798828125, 6983.712890625, 10648.3740234375, 7423.56201171875, 11779.216796875, 8105.07861328125, 6078.189453125, 5768.0712890625, 12161.2001953125, 11764.923828125, 10623.5341796875, 7896.88623046875, 6084.1416015625, 5789.1962890625, 5453.39013671875, 18024.794921875, 4604.74560546875, 4583.28759765625, 4323.91845703125, 3956.344970703125, 3839.6328125, 3343.43701171875, 3243.837646484375, 2952.165283203125, 2576.83935546875, 2430.9287109375, 2393.882080078125, 2308.3291015625, 2308.176025390625, 2300.069580078125, 2285.4775390625, 2275.20166015625, 2148.279296875, 2097.8876953125, 2017.090087890625, 1942.1199951171875, 1881.0009765625, 1863.714599609375, 4286.03857421875, 8908.8955078125, 4058.260498046875, 6080.439453125, 4009.33984375, 3136.923095703125, 8577.9287109375, 15080.6552734375, 6262.228515625, 5007.12255859375, 4781.1689453125, 3177.2060546875, 3045.421630859375, 4059.319091796875, 17888.947265625, 17401.0703125, 15780.1357421875, 14784.951171875, 7637.05859375, 6989.17431640625, 4723.353515625, 4149.42236328125, 4014.600341796875, 2894.40087890625, 2823.140625, 17867.4140625, 2532.37890625, 1936.4847412109375, 1917.498046875, 1882.7774658203125, 1615.2454833984375, 1590.520751953125, 1530.3599853515625, 1442.1041259765625, 1414.6400146484375, 1255.725341796875, 1234.2830810546875, 1180.8558349609375, 1157.2025146484375, 1125.005615234375, 1115.3310546875, 1084.7103271484375, 1053.133056640625, 1030.04052734375, 9823.96484375, 7757.9169921875, 6661.09912109375, 2374.421875, 2360.60546875, 3229.70751953125, 9893.921875, 18729.6015625, 3399.8173828125, 6395.4130859375, 7258.91162109375, 3894.60107421875, 12586.0029296875, 4174.0927734375, 3211.73291015625, 2084.649169921875, 3415.0654296875, 4178.06494140625, 3159.593994140625, 3416.015869140625, 16127.0234375, 7395.5517578125, 6152.4609375, 4250.6142578125, 3925.09716796875, 3874.58837890625, 3397.979248046875, 3074.884033203125, 2275.406494140625, 2155.3818359375, 2082.370361328125, 1900.6553955078125, 1820.062744140625, 1639.3114013671875, 1493.413330078125, 1363.9296875, 1347.8428955078125, 1335.8192138671875, 1282.1138916015625, 1222.2432861328125, 1216.2833251953125, 1085.1658935546875, 1047.7188720703125, 1046.139404296875, 1037.5184326171875, 1034.0841064453125, 1030.6173095703125, 985.0478515625, 972.8038940429688, 969.553466796875, 13416.01953125, 2006.2196044921875, 2137.521240234375, 6845.36572265625, 4204.50146484375, 1638.0673828125, 2871.5126953125, 2529.0986328125, 2171.086181640625, 2585.33251953125, 3109.508544921875, 1738.5518798828125, 2456.972900390625, 2021.9298095703125, 2084.572021484375, 1753.02099609375, 1754.6959228515625, 25754.119140625, 12954.0009765625, 8409.9150390625, 7670.1513671875, 4066.009521484375, 2936.853515625, 2490.305908203125, 2030.7747802734375, 1822.246826171875, 1813.2294921875, 1744.9444580078125, 1709.2235107421875, 1704.577880859375, 1693.5355224609375, 1665.383056640625, 1541.7247314453125, 1403.8258056640625, 1129.0919189453125, 956.0838623046875, 886.9459838867188, 840.6104736328125, 788.9180297851562, 757.845458984375, 750.9671020507812, 731.4567260742188, 704.2186279296875, 695.0557250976562, 652.5894775390625, 636.4169921875, 635.8196411132812, 1871.2476806640625, 1308.9307861328125, 1288.8365478515625, 10029.751953125, 2095.04736328125, 2591.860595703125, 3870.212646484375, 983.0715942382812, 1627.3714599609375, 1351.64794921875, 1283.435791015625, 2076.797607421875, 2831.105224609375, 3144.900634765625, 2425.816162109375, 1795.8880615234375, 2644.165771484375, 1831.192138671875, 2082.132568359375, 2946.561767578125, 1847.74755859375, 1806.0723876953125, 8571.380859375, 7571.14990234375, 6230.26611328125, 4293.0576171875, 3721.567626953125, 3574.861083984375, 3191.455810546875, 2872.324462890625, 2683.397705078125, 2383.697265625, 2311.134765625, 2300.839599609375, 2289.234375, 2262.728759765625, 1528.2655029296875, 1483.6805419921875, 1441.1673583984375, 1437.59326171875, 1415.2960205078125, 1402.46875, 1393.921875, 1357.908203125, 1259.8140869140625, 1251.8902587890625, 1179.39794921875, 1160.4398193359375, 1136.2952880859375, 1092.723388671875, 994.5094604492188, 986.3652954101562, 6770.97314453125, 6344.9150390625, 2580.5419921875, 1619.3897705078125, 1282.0074462890625, 5874.73486328125, 4371.59619140625, 3542.79150390625, 2895.8408203125, 2627.882568359375, 2508.310302734375, 2343.021484375, 2229.7060546875, 2172.761474609375, 2039.5030517578125, 1887.1021728515625, 1742.1751708984375, 1724.929931640625, 1720.085205078125, 3686.06298828125, 1597.09765625, 1483.15234375, 1470.8297119140625, 1453.227783203125, 1399.21923828125, 1344.1610107421875, 1302.4058837890625, 1275.9267578125, 1216.12841796875, 1187.3917236328125, 1139.6319580078125, 1123.9130859375, 1100.4136962890625, 1048.4241943359375, 1001.9181518554688, 1707.8218994140625, 2698.2724609375, 1229.734130859375, 5503.70849609375, 5108.1884765625, 3495.699462890625, 3386.63330078125, 3299.34765625, 3163.99365234375, 3109.818115234375, 2411.425048828125, 2351.648193359375, 2238.316162109375, 2020.4854736328125, 1838.4288330078125, 1769.597900390625, 1701.0550537109375, 1663.4486083984375, 1357.4320068359375, 1344.484130859375, 1336.5472412109375, 1333.0001220703125, 1304.3851318359375, 1304.649169921875, 1205.206787109375, 1111.0303955078125, 1078.1666259765625, 1041.2725830078125, 1022.5673217773438, 1012.4782104492188, 991.0572509765625, 953.0844116210938, 938.9695434570312, 2791.224365234375, 1686.2572021484375, 1290.2811279296875, 1018.5699462890625, 4265.10693359375, 3058.0673828125, 2609.410888671875, 2565.087158203125, 2398.275634765625, 2116.71533203125, 1907.9241943359375, 1825.8046875, 1612.5355224609375, 1610.75244140625, 1484.53662109375, 1311.2335205078125, 1203.37451171875, 1200.1558837890625, 1172.2723388671875, 1165.5272216796875, 1154.4122314453125, 1095.1861572265625, 1077.4107666015625, 1077.00341796875, 1070.027099609375, 1053.3665771484375, 941.5455322265625, 896.4902954101562, 886.3529052734375, 880.5669555664062, 840.1878662109375, 835.4699096679688, 814.3777465820312, 792.3281860351562, 3127.300537109375, 2347.4765625, 2070.556396484375, 1596.592529296875, 1439.351318359375, 1429.0865478515625, 1301.060546875, 1198.900146484375, 1168.202880859375, 1075.6090087890625, 1016.7450561523438, 919.6627807617188, 892.7017211914062, 859.210205078125, 832.1005859375, 807.5204467773438, 789.6766357421875, 713.6570434570312, 689.74267578125, 672.4915161132812, 634.7246704101562, 631.619140625, 610.5861206054688, 608.4129638671875, 600.0936889648438, 584.9432373046875, 575.8757934570312, 568.0211791992188, 563.2887573242188, 553.6514892578125], \"Total\": [25754.0, 16127.0, 17889.0, 17872.0, 17401.0, 19941.0, 18027.0, 13626.0, 12954.0, 24293.0, 15780.0, 14785.0, 24365.0, 23675.0, 10283.0, 8572.0, 12161.0, 17061.0, 11765.0, 8410.0, 7571.0, 10624.0, 9842.0, 7670.0, 8438.0, 6830.0, 10286.0, 7396.0, 13066.0, 5875.0, 17061.5859375, 13066.8896484375, 12344.28125, 11336.7333984375, 10693.7353515625, 10661.8359375, 9405.01171875, 9309.0537109375, 8123.51123046875, 8022.39453125, 7908.6787109375, 7510.41552734375, 7439.6279296875, 6771.9423828125, 6706.890625, 6397.76318359375, 6231.552734375, 5672.33154296875, 5589.88330078125, 5560.04296875, 5185.77001953125, 4795.93603515625, 4771.77392578125, 4464.62255859375, 4251.37109375, 3436.63671875, 3423.528076171875, 3377.72802734375, 24293.0546875, 3135.90478515625, 8839.0771484375, 6912.8408203125, 6533.2314453125, 7320.2548828125, 13212.927734375, 7762.82763671875, 14320.2353515625, 10004.8125, 24365.908203125, 23675.404296875, 9303.998046875, 6783.40087890625, 12161.9765625, 11765.7001953125, 10624.310546875, 7897.6640625, 6084.92138671875, 5789.97412109375, 5454.16796875, 18027.6171875, 4605.5234375, 4584.0654296875, 4324.6962890625, 3957.12255859375, 3840.41015625, 3344.21435546875, 3244.614990234375, 2952.94287109375, 2577.616455078125, 2431.7060546875, 2394.65966796875, 2309.1064453125, 2308.95361328125, 2300.846923828125, 2286.2548828125, 2275.97900390625, 2149.056884765625, 2098.664794921875, 2017.8671875, 1942.8970947265625, 1881.7781982421875, 1864.4918212890625, 4290.0771484375, 8991.4375, 4070.55517578125, 6390.16162109375, 4196.2314453125, 3226.083984375, 11298.064453125, 23675.404296875, 8068.984375, 6099.44921875, 7614.3544921875, 3900.883056640625, 4554.63720703125, 10985.3427734375, 17889.70703125, 17401.830078125, 15780.8994140625, 14785.71484375, 7637.8232421875, 6989.93896484375, 4724.1181640625, 4150.18701171875, 4015.364013671875, 2895.164794921875, 2823.904541015625, 17872.7578125, 2533.142822265625, 1937.2484130859375, 1918.26171875, 1883.541259765625, 1616.00927734375, 1591.2847900390625, 1531.123779296875, 1442.8677978515625, 1415.40380859375, 1256.489013671875, 1235.0467529296875, 1181.619873046875, 1157.9661865234375, 1125.769287109375, 1116.0947265625, 1085.4739990234375, 1053.896728515625, 1030.80419921875, 9842.03515625, 7849.4873046875, 6804.705078125, 2395.672607421875, 2381.781982421875, 3280.2587890625, 10286.505859375, 19941.798828125, 3565.45947265625, 8243.8310546875, 9864.9599609375, 5075.1015625, 24365.908203125, 5806.408203125, 5294.19482421875, 2292.30712890625, 6890.23974609375, 10985.3427734375, 7701.3359375, 14320.2353515625, 16127.79296875, 7396.322265625, 6153.2314453125, 4251.384765625, 3925.8671875, 3875.3583984375, 3398.7490234375, 3075.653564453125, 2276.17626953125, 2156.15185546875, 2083.139892578125, 1901.42529296875, 1820.83251953125, 1640.081298828125, 1494.18310546875, 1364.699462890625, 1348.6129150390625, 1336.5889892578125, 1282.8837890625, 1223.0130615234375, 1217.0531005859375, 1085.935791015625, 1048.4886474609375, 1046.9091796875, 1038.2884521484375, 1034.8538818359375, 1031.3870849609375, 985.8178100585938, 973.5737915039062, 970.3233642578125, 13626.9853515625, 2007.9984130859375, 2141.5087890625, 6955.73095703125, 4285.99609375, 1661.20849609375, 2970.51416015625, 2967.215087890625, 2685.507568359375, 3408.802978515625, 5113.02392578125, 2109.47998046875, 5101.81494140625, 3576.860107421875, 4068.478759765625, 2820.958984375, 5421.73828125, 25754.88671875, 12954.7705078125, 8410.6845703125, 7670.921875, 4066.779052734375, 2937.623046875, 2491.075439453125, 2031.5443115234375, 1823.016357421875, 1813.9990234375, 1745.7152099609375, 1709.9930419921875, 1705.3475341796875, 1694.30517578125, 1666.1527099609375, 1542.4942626953125, 1404.5953369140625, 1129.861572265625, 956.8536376953125, 887.7156982421875, 841.3802490234375, 789.6876831054688, 758.615234375, 751.7367553710938, 732.2265014648438, 704.9884033203125, 695.8253173828125, 653.359130859375, 637.186767578125, 636.58935546875, 1875.21044921875, 1312.113037109375, 1293.9881591796875, 10283.8154296875, 2124.85595703125, 2712.186767578125, 4127.0654296875, 993.9832763671875, 1692.7486572265625, 1419.658203125, 1354.92529296875, 2391.380126953125, 3949.714111328125, 4907.9560546875, 3539.770751953125, 2372.55712890625, 5101.81494140625, 2700.82177734375, 3702.209228515625, 9303.998046875, 8243.8310546875, 8068.984375, 8572.162109375, 7571.931640625, 6231.0478515625, 4293.83935546875, 3722.348388671875, 3575.64208984375, 3192.236572265625, 2873.105224609375, 2684.178466796875, 2384.47802734375, 2311.915771484375, 2301.620361328125, 2290.015380859375, 2263.509521484375, 1529.04638671875, 1484.461669921875, 1441.9483642578125, 1438.3741455078125, 1416.076904296875, 1403.25048828125, 1394.7027587890625, 1358.689208984375, 1260.594970703125, 1252.671142578125, 1180.1788330078125, 1161.2208251953125, 1137.076171875, 1093.5042724609375, 995.29052734375, 987.1463012695312, 6830.77734375, 8438.216796875, 10004.8125, 3702.209228515625, 1747.0179443359375, 5875.52001953125, 4372.38134765625, 3543.576171875, 2896.62548828125, 2628.667236328125, 2509.09521484375, 2343.80615234375, 2230.490966796875, 2173.546142578125, 2040.287841796875, 1887.886962890625, 1742.9600830078125, 1725.7147216796875, 1720.8699951171875, 3687.809814453125, 1597.882568359375, 1483.937255859375, 1471.614501953125, 1454.0125732421875, 1400.0040283203125, 1344.94580078125, 1303.1907958984375, 1276.7115478515625, 1216.9132080078125, 1188.176513671875, 1140.416748046875, 1124.697998046875, 1101.198486328125, 1049.2091064453125, 1002.702880859375, 1709.5638427734375, 3164.022705078125, 1585.5335693359375, 5504.490234375, 5108.97021484375, 3496.48095703125, 3387.414794921875, 3300.129150390625, 3164.775146484375, 3110.599609375, 2412.20654296875, 2352.4296875, 2239.09765625, 2021.266845703125, 1839.210205078125, 1770.37939453125, 1701.83642578125, 1664.22998046875, 1358.2135009765625, 1345.265625, 1337.32861328125, 1333.7816162109375, 1305.16650390625, 1305.4305419921875, 1205.98828125, 1111.811767578125, 1078.947998046875, 1042.053955078125, 1023.348876953125, 1013.2596435546875, 991.8386840820312, 953.8657836914062, 939.7509765625, 2796.880615234375, 1693.68994140625, 2045.6131591796875, 1327.21923828125, 4265.87255859375, 3058.832763671875, 2610.17626953125, 2565.8525390625, 2399.041015625, 2117.480712890625, 1908.6895751953125, 1826.570068359375, 1613.3009033203125, 1611.517822265625, 1485.3018798828125, 1311.9989013671875, 1204.139892578125, 1200.921142578125, 1173.03759765625, 1166.29248046875, 1155.1776123046875, 1095.9515380859375, 1078.1761474609375, 1077.768798828125, 1070.79248046875, 1054.1318359375, 942.3109130859375, 897.255615234375, 887.1182250976562, 881.3323974609375, 840.9531860351562, 836.2352294921875, 815.1431274414062, 793.0935668945312, 3128.090087890625, 2348.266357421875, 2071.34619140625, 1597.3822021484375, 1440.1409912109375, 1429.876220703125, 1301.8502197265625, 1199.68994140625, 1168.9925537109375, 1076.398681640625, 1017.5347290039062, 920.4525146484375, 893.4913940429688, 859.9998779296875, 832.8902587890625, 808.3101806640625, 790.4662475585938, 714.4467163085938, 690.5323486328125, 673.28125, 635.514404296875, 632.4088745117188, 611.3757934570312, 609.20263671875, 600.8833618164062, 585.7328491210938, 576.66552734375, 568.8108520507812, 564.0784912109375, 554.4412231445312], \"Category\": [\"Default\", \"Default\", \"Default\", \"Default\", \"Default\", \"Default\", \"Default\", \"Default\", \"Default\", \"Default\", \"Default\", \"Default\", \"Default\", \"Default\", \"Default\", \"Default\", \"Default\", \"Default\", \"Default\", \"Default\", \"Default\", \"Default\", \"Default\", \"Default\", \"Default\", \"Default\", \"Default\", \"Default\", \"Default\", \"Default\", \"Topic1\", \"Topic1\", \"Topic1\", \"Topic1\", \"Topic1\", \"Topic1\", \"Topic1\", \"Topic1\", \"Topic1\", \"Topic1\", \"Topic1\", \"Topic1\", \"Topic1\", \"Topic1\", \"Topic1\", \"Topic1\", \"Topic1\", \"Topic1\", \"Topic1\", \"Topic1\", \"Topic1\", \"Topic1\", \"Topic1\", \"Topic1\", \"Topic1\", \"Topic1\", \"Topic1\", \"Topic1\", \"Topic1\", \"Topic1\", \"Topic1\", \"Topic1\", \"Topic1\", \"Topic1\", \"Topic1\", \"Topic1\", \"Topic1\", \"Topic1\", \"Topic1\", \"Topic1\", \"Topic1\", \"Topic1\", \"Topic2\", \"Topic2\", \"Topic2\", \"Topic2\", \"Topic2\", \"Topic2\", \"Topic2\", \"Topic2\", \"Topic2\", \"Topic2\", \"Topic2\", \"Topic2\", \"Topic2\", \"Topic2\", \"Topic2\", \"Topic2\", \"Topic2\", \"Topic2\", \"Topic2\", \"Topic2\", \"Topic2\", \"Topic2\", \"Topic2\", \"Topic2\", \"Topic2\", \"Topic2\", \"Topic2\", \"Topic2\", \"Topic2\", \"Topic2\", \"Topic2\", \"Topic2\", \"Topic2\", \"Topic2\", \"Topic2\", \"Topic2\", \"Topic2\", \"Topic2\", \"Topic2\", \"Topic2\", \"Topic2\", \"Topic2\", \"Topic2\", \"Topic2\", \"Topic3\", \"Topic3\", \"Topic3\", \"Topic3\", \"Topic3\", \"Topic3\", \"Topic3\", \"Topic3\", \"Topic3\", \"Topic3\", \"Topic3\", \"Topic3\", \"Topic3\", \"Topic3\", \"Topic3\", \"Topic3\", \"Topic3\", \"Topic3\", \"Topic3\", \"Topic3\", \"Topic3\", \"Topic3\", \"Topic3\", \"Topic3\", \"Topic3\", \"Topic3\", \"Topic3\", \"Topic3\", \"Topic3\", \"Topic3\", \"Topic3\", \"Topic3\", \"Topic3\", \"Topic3\", \"Topic3\", \"Topic3\", \"Topic3\", \"Topic3\", \"Topic3\", \"Topic3\", \"Topic3\", \"Topic3\", \"Topic3\", \"Topic3\", \"Topic3\", \"Topic3\", \"Topic3\", \"Topic3\", \"Topic3\", \"Topic3\", \"Topic4\", \"Topic4\", \"Topic4\", \"Topic4\", \"Topic4\", \"Topic4\", \"Topic4\", \"Topic4\", \"Topic4\", \"Topic4\", \"Topic4\", \"Topic4\", \"Topic4\", \"Topic4\", \"Topic4\", \"Topic4\", \"Topic4\", \"Topic4\", \"Topic4\", \"Topic4\", \"Topic4\", \"Topic4\", \"Topic4\", \"Topic4\", \"Topic4\", \"Topic4\", \"Topic4\", \"Topic4\", \"Topic4\", \"Topic4\", \"Topic4\", \"Topic4\", \"Topic4\", \"Topic4\", \"Topic4\", \"Topic4\", \"Topic4\", \"Topic4\", \"Topic4\", \"Topic4\", \"Topic4\", \"Topic4\", \"Topic4\", \"Topic4\", \"Topic4\", \"Topic4\", \"Topic4\", \"Topic5\", \"Topic5\", \"Topic5\", \"Topic5\", \"Topic5\", \"Topic5\", \"Topic5\", \"Topic5\", \"Topic5\", \"Topic5\", \"Topic5\", \"Topic5\", \"Topic5\", \"Topic5\", \"Topic5\", \"Topic5\", \"Topic5\", \"Topic5\", \"Topic5\", \"Topic5\", \"Topic5\", \"Topic5\", \"Topic5\", \"Topic5\", \"Topic5\", \"Topic5\", \"Topic5\", \"Topic5\", \"Topic5\", \"Topic5\", \"Topic5\", \"Topic5\", \"Topic5\", \"Topic5\", \"Topic5\", \"Topic5\", \"Topic5\", \"Topic5\", \"Topic5\", \"Topic5\", \"Topic5\", \"Topic5\", \"Topic5\", \"Topic5\", \"Topic5\", \"Topic5\", \"Topic5\", \"Topic5\", \"Topic5\", \"Topic5\", \"Topic5\", \"Topic5\", \"Topic6\", \"Topic6\", \"Topic6\", \"Topic6\", \"Topic6\", \"Topic6\", \"Topic6\", \"Topic6\", \"Topic6\", \"Topic6\", \"Topic6\", \"Topic6\", \"Topic6\", \"Topic6\", \"Topic6\", \"Topic6\", \"Topic6\", \"Topic6\", \"Topic6\", \"Topic6\", \"Topic6\", \"Topic6\", \"Topic6\", \"Topic6\", \"Topic6\", \"Topic6\", \"Topic6\", \"Topic6\", \"Topic6\", \"Topic6\", \"Topic6\", \"Topic6\", \"Topic6\", \"Topic6\", \"Topic6\", \"Topic7\", \"Topic7\", \"Topic7\", \"Topic7\", \"Topic7\", \"Topic7\", \"Topic7\", \"Topic7\", \"Topic7\", \"Topic7\", \"Topic7\", \"Topic7\", \"Topic7\", \"Topic7\", \"Topic7\", \"Topic7\", \"Topic7\", \"Topic7\", \"Topic7\", \"Topic7\", \"Topic7\", \"Topic7\", \"Topic7\", \"Topic7\", \"Topic7\", \"Topic7\", \"Topic7\", \"Topic7\", \"Topic7\", \"Topic7\", \"Topic7\", \"Topic7\", \"Topic7\", \"Topic8\", \"Topic8\", \"Topic8\", \"Topic8\", \"Topic8\", \"Topic8\", \"Topic8\", \"Topic8\", \"Topic8\", \"Topic8\", \"Topic8\", \"Topic8\", \"Topic8\", \"Topic8\", \"Topic8\", \"Topic8\", \"Topic8\", \"Topic8\", \"Topic8\", \"Topic8\", \"Topic8\", \"Topic8\", \"Topic8\", \"Topic8\", \"Topic8\", \"Topic8\", \"Topic8\", \"Topic8\", \"Topic8\", \"Topic8\", \"Topic8\", \"Topic8\", \"Topic8\", \"Topic8\", \"Topic9\", \"Topic9\", \"Topic9\", \"Topic9\", \"Topic9\", \"Topic9\", \"Topic9\", \"Topic9\", \"Topic9\", \"Topic9\", \"Topic9\", \"Topic9\", \"Topic9\", \"Topic9\", \"Topic9\", \"Topic9\", \"Topic9\", \"Topic9\", \"Topic9\", \"Topic9\", \"Topic9\", \"Topic9\", \"Topic9\", \"Topic9\", \"Topic9\", \"Topic9\", \"Topic9\", \"Topic9\", \"Topic9\", \"Topic9\", \"Topic10\", \"Topic10\", \"Topic10\", \"Topic10\", \"Topic10\", \"Topic10\", \"Topic10\", \"Topic10\", \"Topic10\", \"Topic10\", \"Topic10\", \"Topic10\", \"Topic10\", \"Topic10\", \"Topic10\", \"Topic10\", \"Topic10\", \"Topic10\", \"Topic10\", \"Topic10\", \"Topic10\", \"Topic10\", \"Topic10\", \"Topic10\", \"Topic10\", \"Topic10\", \"Topic10\", \"Topic10\", \"Topic10\", \"Topic10\"], \"logprob\": [30.0, 29.0, 28.0, 27.0, 26.0, 25.0, 24.0, 23.0, 22.0, 21.0, 20.0, 19.0, 18.0, 17.0, 16.0, 15.0, 14.0, 13.0, 12.0, 11.0, 10.0, 9.0, 8.0, 7.0, 6.0, 5.0, 4.0, 3.0, 2.0, 1.0, -3.6519999504089355, -3.918800115585327, -3.9756999015808105, -4.060800075531006, -4.119200229644775, -4.122200012207031, -4.247600078582764, -4.257900238037109, -4.394100189208984, -4.406700134277344, -4.420899868011475, -4.472599983215332, -4.482100009918213, -4.576099872589111, -4.5858001708984375, -4.632999897003174, -4.659299850463867, -4.753300189971924, -4.76800012588501, -4.7733001708984375, -4.8429999351501465, -4.921199798583984, -4.926199913024902, -4.992800235748291, -5.0416998863220215, -5.254499912261963, -5.258399963378906, -5.2718000411987305, -3.2988998889923096, -5.346099853515625, -4.311399936676025, -4.589300155639648, -4.654900074005127, -4.55109977722168, -4.012400150299072, -4.545199871063232, -4.1234002113342285, -4.484099864959717, -4.022500038146973, -4.396299839019775, -4.684100151062012, -4.736499786376953, -3.4616000652313232, -3.494800090789795, -3.5968000888824463, -3.893399953842163, -4.154200077056885, -4.20389986038208, -4.263700008392334, -3.0680999755859375, -4.432799816131592, -4.4375, -4.495699882507324, -4.58459997177124, -4.614500045776367, -4.752900123596191, -4.783100128173828, -4.877399921417236, -5.013299942016602, -5.071599960327148, -5.086999893188477, -5.1234002113342285, -5.1234002113342285, -5.126999855041504, -5.133299827575684, -5.137800216674805, -5.195199966430664, -5.218999862670898, -5.258200168609619, -5.29610013961792, -5.328100204467773, -5.337299823760986, -4.504499912261963, -3.7727999687194824, -4.559100151062012, -4.154799938201904, -4.571300029754639, -4.816699981689453, -3.810699939727783, -3.246500015258789, -4.125400066375732, -4.348999977111816, -4.395199775695801, -4.803899765014648, -4.84630012512207, -4.558899879455566, -2.9554998874664307, -2.983099937438965, -3.080899953842163, -3.1459999084472656, -3.8066000938415527, -3.8952999114990234, -4.287099838256836, -4.4166998863220215, -4.449699878692627, -4.776899814605713, -4.801799774169922, -2.956700086593628, -4.9105000495910645, -5.178800106048584, -5.188600063323975, -5.206900119781494, -5.360199928283691, -5.3755998611450195, -5.414100170135498, -5.473499774932861, -5.492800235748291, -5.6118998527526855, -5.629199981689453, -5.673399925231934, -5.693600177764893, -5.72189998626709, -5.730500221252441, -5.758299827575684, -5.787899971008301, -5.809999942779541, -3.554800033569336, -3.7908999919891357, -3.9433999061584473, -4.974899768829346, -4.9807000160217285, -4.667200088500977, -3.5476999282836914, -2.9094998836517334, -4.615900039672852, -3.984100103378296, -3.8573999404907227, -4.480000019073486, -3.3071000576019287, -4.410699844360352, -4.672800064086914, -5.105000019073486, -4.611400127410889, -4.409800052642822, -4.689199924468994, -4.611199855804443, -2.6040000915527344, -3.3835999965667725, -3.5676000118255615, -3.9374001026153564, -4.017099857330322, -4.03000020980835, -4.161300182342529, -4.261199951171875, -4.562300205230713, -4.616499900817871, -4.651000022888184, -4.742300033569336, -4.785600185394287, -4.890200138092041, -4.983399868011475, -5.074100017547607, -5.085999965667725, -5.094900131225586, -5.136000156402588, -5.183800220489502, -5.188700199127197, -5.302700042724609, -5.337900161743164, -5.339399814605713, -5.347599983215332, -5.35099983215332, -5.354300022125244, -5.399499893188477, -5.4120001792907715, -5.41540002822876, -2.7880001068115234, -4.688199996948242, -4.624800205230713, -3.460900068283081, -3.9482998847961426, -4.890999794006348, -4.329599857330322, -4.456600189208984, -4.6092000007629395, -4.434599876403809, -4.25, -4.831399917602539, -4.485499858856201, -4.6803998947143555, -4.649899959564209, -4.8231000900268555, -4.822199821472168, -2.0866000652313232, -2.7737998962402344, -3.2058000564575195, -3.2978999614715576, -3.932499885559082, -4.257900238037109, -4.422800064086914, -4.626800060272217, -4.735099792480469, -4.740099906921387, -4.778500080108643, -4.799200057983398, -4.8018999099731445, -4.8084001541137695, -4.825099945068359, -4.902299880981445, -4.995999813079834, -5.213799953460693, -5.380099773406982, -5.4552001953125, -5.508800029754639, -5.572299957275391, -5.612500190734863, -5.621600151062012, -5.647900104522705, -5.6859002113342285, -5.698999881744385, -5.76200008392334, -5.787099838256836, -5.788000106811523, -4.708600044250488, -5.065999984741211, -5.081500053405762, -3.029599905014038, -4.595600128173828, -4.382800102233887, -3.9818999767303467, -5.35230016708374, -4.848199844360352, -5.033899784088135, -5.085700035095215, -4.604400157928467, -4.29449987411499, -4.1894001960754395, -4.448999881744385, -4.74970006942749, -4.362800121307373, -4.730199813842773, -4.601799964904785, -4.2546000480651855, -4.721199989318848, -4.74399995803833, -2.982300043106079, -3.106300115585327, -3.301300048828125, -3.6737000942230225, -3.816499948501587, -3.856800079345703, -3.9702000617980957, -4.0756001472473145, -4.143599987030029, -4.26200008392334, -4.292900085449219, -4.297399997711182, -4.302499771118164, -4.3140997886657715, -4.706500053405762, -4.736199855804443, -4.765200138092041, -4.7677001953125, -4.783299922943115, -4.792399883270264, -4.798600196838379, -4.824699878692627, -4.899700164794922, -4.906000137329102, -4.965700149536133, -4.981900215148926, -5.002900123596191, -5.041999816894531, -5.136199951171875, -5.144400119781494, -3.2179999351501465, -3.2829999923706055, -4.182700157165527, -4.648600101470947, -4.882299900054932, -3.1940999031066895, -3.4895999431610107, -3.6998000144958496, -3.9014999866485596, -3.9986000061035156, -4.045100212097168, -4.11329984664917, -4.162899971008301, -4.188700199127197, -4.251999855041504, -4.329699993133545, -4.409599781036377, -4.419600009918213, -4.422399997711182, -3.6602001190185547, -4.496600151062012, -4.5706000328063965, -4.57889986038208, -4.591000080108643, -4.628799915313721, -4.669000148773193, -4.700500011444092, -4.721099853515625, -4.769100189208984, -4.793000221252441, -4.834000110626221, -4.847899913787842, -4.869100093841553, -4.917500019073486, -4.962800025939941, -4.429500102996826, -3.972100019454956, -4.757900238037109, -3.245300054550171, -3.3199000358581543, -3.699199914932251, -3.7309000492095947, -3.756999969482422, -3.7988998889923096, -3.816200017929077, -4.070499897003174, -4.095600128173828, -4.144999980926514, -4.247399806976318, -4.341800212860107, -4.380000114440918, -4.41949987411499, -4.44189977645874, -4.645199775695801, -4.654699802398682, -4.660699844360352, -4.663300037384033, -4.684999942779541, -4.684800148010254, -4.764100074768066, -4.8454999923706055, -4.875500202178955, -4.910299777984619, -4.928400039672852, -4.938399791717529, -4.959700107574463, -4.998799800872803, -5.013700008392334, -3.924299955368042, -4.428199768066406, -4.695899963378906, -4.932400226593018, -3.02239990234375, -3.35509991645813, -3.513700008392334, -3.530900001525879, -3.598099946975708, -3.7230000495910645, -3.8268001079559326, -3.870800018310547, -3.994999885559082, -3.9962000846862793, -4.0777997970581055, -4.201900005340576, -4.287700176239014, -4.29040002822876, -4.313899993896484, -4.319699764251709, -4.3292999267578125, -4.381899833679199, -4.3983001708984375, -4.39870023727417, -4.405200004577637, -4.420899868011475, -4.533100128173828, -4.582099914550781, -4.593500137329102, -4.599999904632568, -4.646999835968018, -4.652599811553955, -4.678199768066406, -4.705599784851074, -3.0708000659942627, -3.357599973678589, -3.4832000732421875, -3.7430999279022217, -3.8468000888824463, -3.8538999557495117, -3.9477999210357666, -4.029600143432617, -4.055500030517578, -4.1381001472473145, -4.194399833679199, -4.2947001457214355, -4.32450008392334, -4.36269998550415, -4.394800186157227, -4.424799919128418, -4.4471001625061035, -4.548299789428711, -4.582399845123291, -4.607699871063232, -4.665500164031982, -4.670400142669678, -4.7042999267578125, -4.707900047302246, -4.72160005569458, -4.747200012207031, -4.762800216674805, -4.776599884033203, -4.784900188446045, -4.802199840545654], \"loglift\": [30.0, 29.0, 28.0, 27.0, 26.0, 25.0, 24.0, 23.0, 22.0, 21.0, 20.0, 19.0, 18.0, 17.0, 16.0, 15.0, 14.0, 13.0, 12.0, 11.0, 10.0, 9.0, 8.0, 7.0, 6.0, 5.0, 4.0, 3.0, 2.0, 1.0, 1.3040000200271606, 1.3040000200271606, 1.3040000200271606, 1.3040000200271606, 1.3040000200271606, 1.3040000200271606, 1.3040000200271606, 1.3040000200271606, 1.3039000034332275, 1.3039000034332275, 1.3039000034332275, 1.3039000034332275, 1.3039000034332275, 1.3039000034332275, 1.3039000034332275, 1.3039000034332275, 1.3039000034332275, 1.3039000034332275, 1.3039000034332275, 1.3039000034332275, 1.3039000034332275, 1.3039000034332275, 1.3039000034332275, 1.3039000034332275, 1.3037999868392944, 1.3037999868392944, 1.3037999868392944, 1.3037999868392944, 1.3037999868392944, 1.3037999868392944, 1.302299976348877, 1.2700999975204468, 1.2611000537872314, 1.251099944114685, 1.1992000341415405, 1.1983000040054321, 1.0077999830245972, 1.0055999755859375, 0.5771999955177307, 0.2320999950170517, 0.8783000111579895, 1.1418999433517456, 1.832900047302246, 1.832900047302246, 1.832900047302246, 1.832800030708313, 1.832800030708313, 1.832800030708313, 1.832800030708313, 1.832800030708313, 1.832800030708313, 1.832800030708313, 1.832800030708313, 1.8327000141143799, 1.8327000141143799, 1.8327000141143799, 1.8327000141143799, 1.8327000141143799, 1.8325999975204468, 1.8325999975204468, 1.8325999975204468, 1.8325999975204468, 1.8325999975204468, 1.8325999975204468, 1.8325999975204468, 1.8325999975204468, 1.8325999975204468, 1.8325999975204468, 1.8325999975204468, 1.8324999809265137, 1.8324999809265137, 1.8324999809265137, 1.8320000171661377, 1.823699951171875, 1.8299000263214111, 1.7833000421524048, 1.7874000072479248, 1.804900050163269, 1.5575000047683716, 1.3818999528884888, 1.5793999433517456, 1.635599970817566, 1.3675999641418457, 1.6276999711990356, 1.430400013923645, 0.8374000191688538, 1.9531999826431274, 1.9531999826431274, 1.9530999660491943, 1.9530999660491943, 1.9530999660491943, 1.9530999660491943, 1.9529999494552612, 1.9529999494552612, 1.9529999494552612, 1.9529000520706177, 1.9529000520706177, 1.9529000520706177, 1.9529000520706177, 1.9528000354766846, 1.9528000354766846, 1.9528000354766846, 1.9527000188827515, 1.9527000188827515, 1.9527000188827515, 1.9527000188827515, 1.9527000188827515, 1.9526000022888184, 1.9526000022888184, 1.9526000022888184, 1.9524999856948853, 1.9524999856948853, 1.9524999856948853, 1.9524999856948853, 1.9524999856948853, 1.9524999856948853, 1.9514000415802002, 1.941499948501587, 1.9319000244140625, 1.9443000555038452, 1.9443000555038452, 1.9377000331878662, 1.9142999649047852, 1.8904999494552612, 1.9055999517440796, 1.6993000507354736, 1.646399974822998, 1.6884000301361084, 1.2926000356674194, 1.6231000423431396, 1.4534000158309937, 1.858199954032898, 1.2512999773025513, 0.9865000247955322, 1.0621999502182007, 0.5199999809265137, 2.4082999229431152, 2.4082999229431152, 2.4082000255584717, 2.4082000255584717, 2.4082000255584717, 2.4082000255584717, 2.408099889755249, 2.408099889755249, 2.4079999923706055, 2.4079999923706055, 2.4079999923706055, 2.4079999923706055, 2.407900094985962, 2.407900094985962, 2.4077999591827393, 2.4077999591827393, 2.4077999591827393, 2.4077999591827393, 2.4077999591827393, 2.4077000617980957, 2.4077000617980957, 2.4077000617980957, 2.407599925994873, 2.407599925994873, 2.407599925994873, 2.407599925994873, 2.407599925994873, 2.407599925994873, 2.407599925994873, 2.407599925994873, 2.3928000926971436, 2.4075000286102295, 2.4065001010894775, 2.392400026321411, 2.38919997215271, 2.3942999839782715, 2.374500036239624, 2.2486000061035156, 2.19569993019104, 2.1319000720977783, 1.9110000133514404, 2.2149999141693115, 1.6777000427246094, 1.8379000425338745, 1.7396999597549438, 1.9326000213623047, 1.2802000045776367, 2.4576001167297363, 2.4576001167297363, 2.4576001167297363, 2.4574999809265137, 2.4574999809265137, 2.45740008354187, 2.4572999477386475, 2.4572999477386475, 2.457200050354004, 2.457200050354004, 2.457200050354004, 2.457200050354004, 2.457200050354004, 2.457200050354004, 2.457200050354004, 2.4570999145507812, 2.4570999145507812, 2.4570000171661377, 2.4567999839782715, 2.4567999839782715, 2.456700086593628, 2.456700086593628, 2.4565999507904053, 2.4565999507904053, 2.4565999507904053, 2.4565999507904053, 2.4565000534057617, 2.4565000534057617, 2.456399917602539, 2.456399917602539, 2.4554998874664307, 2.455199956893921, 2.453700065612793, 2.4326000213623047, 2.44350004196167, 2.4123001098632812, 2.393399953842163, 2.4465999603271484, 2.418299913406372, 2.408600091934204, 2.40339994430542, 2.3166000843048096, 2.1247000694274902, 2.0125999450683594, 2.079699993133545, 2.1791999340057373, 1.8004000186920166, 2.0690999031066895, 1.882099986076355, 1.307800054550171, 0.9621000289916992, 0.9607999920845032, 2.662100076675415, 2.662100076675415, 2.6619999408721924, 2.6619999408721924, 2.661900043487549, 2.661900043487549, 2.661900043487549, 2.661900043487549, 2.661900043487549, 2.661799907684326, 2.661799907684326, 2.661799907684326, 2.661799907684326, 2.661799907684326, 2.661600112915039, 2.661600112915039, 2.661600112915039, 2.661600112915039, 2.661600112915039, 2.661600112915039, 2.661600112915039, 2.661600112915039, 2.6614999771118164, 2.6614999771118164, 2.6614999771118164, 2.6614999771118164, 2.6614999771118164, 2.661400079727173, 2.661400079727173, 2.661400079727173, 2.65339994430542, 2.377000093460083, 1.3071000576019287, 1.8352999687194824, 2.3526999950408936, 2.828000068664551, 2.827899932861328, 2.827899932861328, 2.8278000354766846, 2.8278000354766846, 2.8278000354766846, 2.8278000354766846, 2.827699899673462, 2.827699899673462, 2.827699899673462, 2.827699899673462, 2.8276000022888184, 2.8276000022888184, 2.8276000022888184, 2.8276000022888184, 2.8276000022888184, 2.8276000022888184, 2.8276000022888184, 2.8276000022888184, 2.827500104904175, 2.827500104904175, 2.827500104904175, 2.827500104904175, 2.827399969100952, 2.827399969100952, 2.827399969100952, 2.827399969100952, 2.827399969100952, 2.8273000717163086, 2.8273000717163086, 2.8271000385284424, 2.6689000129699707, 2.5739998817443848, 2.841900110244751, 2.841900110244751, 2.841900110244751, 2.8417999744415283, 2.8417999744415283, 2.8417999744415283, 2.8417999744415283, 2.8417999744415283, 2.8417000770568848, 2.8417000770568848, 2.8417000770568848, 2.8417000770568848, 2.841599941253662, 2.841599941253662, 2.841599941253662, 2.8415000438690186, 2.8415000438690186, 2.8415000438690186, 2.8415000438690186, 2.8415000438690186, 2.8415000438690186, 2.841399908065796, 2.841399908065796, 2.841399908065796, 2.8413000106811523, 2.8413000106811523, 2.8413000106811523, 2.8413000106811523, 2.8413000106811523, 2.841200113296509, 2.840100049972534, 2.8376998901367188, 2.381200075149536, 2.577399969100952, 3.3197999000549316, 3.319700002670288, 3.319700002670288, 3.319700002670288, 3.319700002670288, 3.3196001052856445, 3.3196001052856445, 3.3196001052856445, 3.319499969482422, 3.319499969482422, 3.319499969482422, 3.3194000720977783, 3.3192999362945557, 3.3192999362945557, 3.3192999362945557, 3.3192999362945557, 3.3192999362945557, 3.3192999362945557, 3.3192999362945557, 3.3192999362945557, 3.3192999362945557, 3.3192999362945557, 3.319200038909912, 3.3190999031066895, 3.3190999031066895, 3.3190999031066895, 3.3190999031066895, 3.3190999031066895, 3.319000005722046, 3.319000005722046, 3.5815999507904053, 3.5815000534057617, 3.5815000534057617, 3.581399917602539, 3.5813000202178955, 3.5813000202178955, 3.5813000202178955, 3.581199884414673, 3.581199884414673, 3.5810999870300293, 3.5810999870300293, 3.5810000896453857, 3.5810000896453857, 3.580899953842163, 3.580899953842163, 3.580899953842163, 3.580899953842163, 3.5808000564575195, 3.580699920654297, 3.580699920654297, 3.5806000232696533, 3.5806000232696533, 3.5806000232696533, 3.5806000232696533, 3.5804998874664307, 3.5804998874664307, 3.5804998874664307, 3.5804998874664307, 3.5804998874664307, 3.580399990081787]}, \"token.table\": {\"Topic\": [4, 3, 5, 10, 10, 9, 6, 10, 1, 2, 3, 5, 6, 8, 3, 4, 9, 5, 3, 10, 8, 5, 8, 4, 1, 1, 4, 6, 5, 6, 2, 3, 1, 1, 2, 3, 4, 8, 6, 2, 9, 10, 1, 2, 8, 1, 2, 3, 6, 2, 5, 9, 2, 1, 2, 3, 3, 4, 5, 5, 2, 4, 5, 1, 8, 10, 6, 1, 6, 8, 2, 6, 2, 1, 9, 7, 5, 2, 3, 5, 5, 3, 7, 5, 1, 8, 1, 2, 3, 5, 10, 5, 4, 5, 6, 9, 7, 5, 8, 10, 3, 3, 5, 2, 6, 1, 7, 4, 2, 2, 5, 1, 2, 3, 4, 5, 6, 2, 3, 9, 1, 5, 4, 5, 4, 2, 3, 1, 8, 6, 1, 2, 2, 6, 3, 8, 9, 6, 9, 7, 2, 3, 3, 5, 7, 7, 9, 1, 2, 3, 8, 4, 9, 1, 4, 4, 4, 4, 3, 3, 4, 5, 4, 6, 2, 4, 7, 8, 3, 1, 3, 5, 6, 2, 4, 10, 1, 2, 3, 5, 1, 2, 1, 4, 6, 2, 4, 3, 4, 5, 5, 8, 9, 3, 1, 8, 9, 6, 1, 3, 6, 10, 1, 8, 1, 5, 3, 8, 10, 7, 4, 6, 7, 9, 9, 3, 2, 7, 8, 4, 8, 7, 9, 9, 5, 5, 10, 7, 5, 6, 8, 9, 8, 7, 2, 1, 7, 2, 8, 1, 3, 4, 1, 6, 4, 6, 9, 1, 2, 3, 8, 2, 5, 3, 1, 2, 3, 2, 3, 6, 9, 4, 4, 2, 5, 1, 4, 6, 10, 1, 4, 2, 3, 4, 5, 7, 9, 9, 4, 9, 8, 3, 1, 2, 6, 1, 5, 4, 8, 1, 2, 3, 1, 4, 5, 10, 1, 3, 3, 1, 1, 7, 1, 2, 3, 3, 1, 2, 3, 6, 2, 2, 10, 10, 8, 7, 10, 2, 4, 5, 6, 5, 5, 2, 10, 5, 6, 1, 4, 8, 3, 5, 6, 6, 8, 6, 1, 3, 6, 3, 2, 8, 5, 7, 8, 10, 10, 1, 3, 5, 3, 5, 7, 1, 10, 7, 4, 5, 1, 7, 6, 2, 5, 6, 2, 7, 7, 1, 3, 1, 7, 3, 5, 4, 4, 5, 3, 7, 10, 10, 8, 3, 5, 4, 7, 2, 3, 3, 5, 2, 1, 8, 1, 2, 10, 5, 4, 1, 2, 4, 5, 8, 8, 3, 3, 2, 1, 2, 6, 2, 4, 7, 8, 8, 2, 5, 10, 2, 1, 2, 2, 1, 5, 2, 5, 9, 2, 3, 4, 9, 3, 4, 7, 2, 4, 7, 3, 10, 1, 2, 10, 2, 8, 3, 8, 1, 6, 6, 10, 1, 10, 9, 5, 1, 1, 1, 3, 4, 3, 6, 4, 1, 9, 3, 3, 4, 4, 3, 4, 5, 1, 7, 5, 6, 8, 9, 10, 5, 1, 2, 4, 1, 2, 5, 6, 6, 5, 2, 1, 2, 3, 1, 2, 1, 2, 3, 4, 8, 2, 6, 9, 1, 3, 4, 3, 4, 4, 5, 7, 8, 4, 5, 2, 4, 9, 1, 2, 3, 6, 1, 3, 7, 9, 4], \"Freq\": [0.9994106292724609, 0.9995488524436951, 0.9992374777793884, 0.9980258941650391, 0.9994744658470154, 0.9996228218078613, 0.9996153116226196, 0.9992077350616455, 0.09521778672933578, 0.3694923520088196, 0.38032495975494385, 0.13381466269493103, 0.0017295773141086102, 0.019389472901821136, 0.032990921288728714, 0.9668359756469727, 0.99873948097229, 0.999590277671814, 0.9997126460075378, 0.9993853569030762, 0.9996590614318848, 0.975318968296051, 0.024601763114333153, 0.9991704225540161, 0.9998605847358704, 0.9999370574951172, 0.9995339512825012, 0.9998204112052917, 0.9995682835578918, 0.9989486932754517, 0.9997676014900208, 0.9991655945777893, 0.9999141693115234, 0.9998608231544495, 0.00955476425588131, 0.9883447885513306, 0.0015287622809410095, 0.0005095874075777829, 0.9994927644729614, 0.9999197125434875, 0.9996786713600159, 0.9985299110412598, 0.00011094089859398082, 0.9998548030853271, 0.999106228351593, 0.04965417832136154, 0.18285349011421204, 0.7674723267555237, 0.9993423223495483, 0.9553810358047485, 0.044325485825538635, 0.9985228776931763, 0.9998931884765625, 0.9580251574516296, 0.04193942993879318, 0.9994754195213318, 0.9993166327476501, 0.9995455145835876, 0.9999405145645142, 0.9997962117195129, 0.9994511008262634, 0.4815933108329773, 0.5182469487190247, 0.9998924136161804, 0.999121367931366, 0.9994101524353027, 0.9998044967651367, 0.9997114539146423, 0.9992395043373108, 0.9992609024047852, 0.9996806979179382, 0.9998318552970886, 0.9997608661651611, 0.9999319314956665, 0.9997967481613159, 0.9990097880363464, 0.9997320771217346, 0.9996368885040283, 0.999677836894989, 0.00027975536067970097, 0.999548077583313, 0.9998922348022461, 0.9990862607955933, 0.9998084306716919, 0.004132987931370735, 0.9954596757888794, 0.9999508261680603, 0.11635386198759079, 0.6067022681236267, 0.2769070863723755, 0.9993534684181213, 0.9991937875747681, 0.003091218415647745, 0.9961451292037964, 0.9988387823104858, 0.9995660781860352, 0.9992828369140625, 0.9990199208259583, 0.9987568259239197, 0.9987488389015198, 0.9998210072517395, 0.013647983781993389, 0.9859491586685181, 0.9997361898422241, 0.9996038675308228, 0.9999353289604187, 0.9992495775222778, 0.9997875094413757, 0.9995702505111694, 0.03839908540248871, 0.9611586332321167, 0.9004817008972168, 0.00015136691217776388, 0.019602013751864433, 0.004465323872864246, 0.000529784185346216, 0.07469956576824188, 0.9997096657752991, 0.9995976686477661, 0.9991317987442017, 0.999896228313446, 0.9981374740600586, 0.010060531087219715, 0.988950252532959, 0.9994657635688782, 0.9998390078544617, 0.9993985891342163, 0.001787705929018557, 0.9978974461555481, 0.9995388388633728, 0.8996721506118774, 0.10022120922803879, 0.9996832013130188, 0.9995609521865845, 0.3177531361579895, 0.6306177377700806, 0.0513293519616127, 0.9993156790733337, 0.9988665580749512, 0.999748706817627, 0.008765805512666702, 0.9909534454345703, 0.9846783876419067, 0.015242699533700943, 0.9996345639228821, 0.9993793964385986, 0.9995493292808533, 0.17431950569152832, 0.8144309520721436, 0.009228679351508617, 0.0017944654682651162, 0.9994874596595764, 0.9997729659080505, 0.9981811046600342, 0.0016970097785815597, 0.9994832277297974, 0.9997796416282654, 0.9991382360458374, 0.9997139573097229, 0.9912745952606201, 0.008397074416279793, 0.00041985372081398964, 0.9997998476028442, 0.9997304677963257, 0.0014008814468979836, 0.9983615279197693, 0.9989116787910461, 0.9997550845146179, 0.9992198348045349, 0.042032502591609955, 0.002212237101048231, 0.9556863903999329, 0.9995280504226685, 0.015814296901226044, 0.9840806126594543, 0.9994606971740723, 0.6532675623893738, 0.029557185247540474, 0.00032244203612208366, 0.3167455494403839, 0.02727765403687954, 0.972386360168457, 0.9484642148017883, 0.05150093883275986, 0.9997398853302002, 0.9999405145645142, 0.9996246695518494, 0.22290338575839996, 0.13630929589271545, 0.6407963037490845, 0.9998798370361328, 0.9996702075004578, 0.999667763710022, 0.9998656511306763, 0.9999216198921204, 0.9998775720596313, 0.9986006021499634, 0.999001145362854, 0.9997507929801941, 4.1164028516504914e-05, 0.00020582014985848218, 0.999616265296936, 0.9999446868896484, 0.9991804957389832, 0.9999656677246094, 0.9999655485153198, 0.9999516606330872, 0.9992008805274963, 0.9996296167373657, 0.9994476437568665, 0.9999564290046692, 0.9991088509559631, 0.9995635151863098, 0.9986211657524109, 0.9997954368591309, 0.9997633099555969, 0.14696481823921204, 0.8527119755744934, 0.9995097517967224, 0.999776303768158, 0.9998624324798584, 0.9999114871025085, 0.999727725982666, 0.9997492432594299, 0.998324990272522, 0.9997879266738892, 0.9989311099052429, 0.9994491934776306, 0.5623669028282166, 0.4373064637184143, 0.9994139671325684, 0.9992386698722839, 0.9994997978210449, 0.9994944334030151, 0.9995208382606506, 0.9998515248298645, 0.9995824098587036, 0.9969156384468079, 0.002948000794276595, 0.4341796934604645, 0.0002795748005155474, 0.5653002858161926, 0.9999113082885742, 0.9995566010475159, 0.9990047812461853, 0.0004980083904229105, 0.999259889125824, 0.019692257046699524, 0.001322614261880517, 0.9788815379142761, 0.9991065263748169, 0.77605801820755, 0.22381998598575592, 0.9999604821205139, 0.238801971077919, 0.7592450976371765, 0.0019472362473607063, 0.39447104930877686, 0.49562862515449524, 0.10972042381763458, 0.9996387362480164, 0.9992082118988037, 0.9991748929023743, 0.9995869994163513, 0.9990742206573486, 0.015410598367452621, 0.9845170974731445, 0.999688982963562, 0.9997607469558716, 0.48740577697753906, 0.5124765634536743, 0.06953489780426025, 0.29639941453933716, 0.32369691133499146, 0.3104170560836792, 0.9998589158058167, 0.9992329478263855, 0.9992866516113281, 0.9993407130241394, 0.9989091157913208, 0.9990923404693604, 0.9993754625320435, 0.008198188617825508, 0.0005855849012732506, 0.9912488460540771, 0.31442713737487793, 0.6853551268577576, 0.9991716742515564, 0.9993420243263245, 0.16573959589004517, 0.6278930306434631, 0.2063208371400833, 0.013243370689451694, 0.9860291481018066, 0.999308168888092, 0.9988458752632141, 0.2640659511089325, 0.7358367443084717, 0.9990191459655762, 0.9998807311058044, 0.00027116364799439907, 0.9995092153549194, 0.9666069746017456, 0.021120116114616394, 0.012151299975812435, 0.9999523162841797, 0.3423384130001068, 0.6369901895523071, 0.008489822968840599, 0.012206761166453362, 0.999785840511322, 0.9996318817138672, 0.9992290735244751, 0.9995083808898926, 0.9996578693389893, 0.9993035793304443, 0.999346911907196, 0.999569833278656, 0.608250617980957, 0.23136992752552032, 0.16037476062774658, 0.9991078972816467, 0.9998198747634888, 0.9999158978462219, 0.9988373517990112, 0.997754693031311, 0.0015998204471543431, 0.07149486243724823, 0.8084132671356201, 0.1199028491973877, 0.06202954798936844, 0.9377123117446899, 0.9996126294136047, 0.9998769760131836, 0.9997857213020325, 0.9998644590377808, 0.9998672008514404, 0.9995633363723755, 0.9994961023330688, 0.9999430179595947, 0.2320641428232193, 0.7677706480026245, 0.999442458152771, 0.9996560215950012, 0.9999109506607056, 0.9998328685760498, 0.9994248747825623, 0.1473524421453476, 0.13570602238178253, 0.7167607545852661, 0.9618426561355591, 0.03810817748308182, 0.9997461438179016, 0.9998378157615662, 0.9985744953155518, 0.9998373985290527, 0.13130493462085724, 0.868536114692688, 0.9998147487640381, 0.9995858669281006, 0.9990535378456116, 0.6685494184494019, 0.3313106894493103, 0.9999064207077026, 0.0005849445005878806, 0.9990852475166321, 0.9995301961898804, 0.001727284980006516, 0.9981675148010254, 0.22389939427375793, 0.7757641077041626, 0.0471944585442543, 0.9523419141769409, 0.9994528293609619, 0.2427760362625122, 0.7569891214370728, 0.9999093413352966, 0.9992967844009399, 0.9980970025062561, 0.9996514916419983, 0.9992698431015015, 0.7757315635681152, 0.2241676151752472, 0.999909520149231, 0.9999127984046936, 0.2810687720775604, 0.718860924243927, 0.9991524815559387, 0.999189019203186, 0.9995082020759583, 0.9999312162399292, 0.9990592002868652, 0.8503109216690063, 0.14962996542453766, 0.9993872046470642, 0.9996795654296875, 0.9999508261680603, 0.0799756571650505, 0.010367214679718018, 0.19697707891464233, 0.6779417991638184, 0.034433964639902115, 0.9991543889045715, 0.9993555545806885, 0.9996107816696167, 0.9995864629745483, 0.048355583101511, 0.9514626264572144, 0.9997748732566833, 0.9997163414955139, 0.9996667504310608, 0.9988476037979126, 0.9993732571601868, 0.9998173713684082, 0.0015242588706314564, 0.9976274371147156, 0.9994500279426575, 0.9998104572296143, 0.179032564163208, 0.8208937644958496, 0.9999707937240601, 0.9998457431793213, 0.9994503259658813, 0.999538242816925, 0.9995761513710022, 0.999687910079956, 0.04459453374147415, 0.9535937905311584, 0.0016828125808387995, 0.9990533590316772, 0.9392332434654236, 0.06077686324715614, 0.9997840523719788, 0.1472761482000351, 0.8523143529891968, 0.9993683695793152, 0.999714732170105, 0.9980880618095398, 0.9999127388000488, 0.9997245073318481, 0.9992042183876038, 0.9998317360877991, 0.9998072385787964, 0.9991491436958313, 0.9995085000991821, 0.7420428991317749, 0.25797584652900696, 0.999464213848114, 0.9993747472763062, 0.9998868107795715, 0.9991905689239502, 0.9985976219177246, 0.9991291761398315, 0.9998419880867004, 0.9999415278434753, 0.743563175201416, 0.2385435700416565, 0.017806969583034515, 0.999679684638977, 0.9997081160545349, 0.9997221827507019, 0.9997844696044922, 0.9989805817604065, 0.9993422627449036, 0.9992660284042358, 0.9997791051864624, 0.999311089515686, 0.01889875717461109, 0.9811021685600281, 0.9985979795455933, 0.9998124241828918, 0.9997798800468445, 0.9469156861305237, 0.05240141227841377, 0.9989885687828064, 0.9991154670715332, 0.9991509318351746, 0.9988139271736145, 0.01327341329306364, 0.16212525963783264, 0.8243737816810608, 0.22836577892303467, 0.010902777314186096, 0.008769625797867775, 0.751936137676239, 0.9997995495796204, 0.9994492530822754, 0.9998486042022705, 0.9998048543930054, 0.9908315539360046, 0.009119787253439426, 0.0006992880953475833, 0.9990496039390564, 0.5892484188079834, 0.0003895428089890629, 0.41031843423843384, 0.9991347193717957, 0.9998100996017456, 0.2655954360961914, 0.7338218688964844, 0.9989262819290161, 0.24140726029872894, 0.13683290779590607, 0.6214199066162109, 0.24143372476100922, 0.7583307027816772, 0.9991315603256226, 0.9999185800552368, 0.9992989897727966, 0.9997542500495911, 0.999542772769928, 0.9994192719459534, 0.9998863339424133, 0.9995593428611755, 0.9996700286865234, 0.999915599822998, 0.0034899336751550436, 0.9095639586448669, 0.0868121013045311, 0.48342132568359375, 0.5165413618087769, 0.9994426965713501, 0.9998134970664978, 0.9999074935913086], \"Term\": [\"absolutely\", \"access\", \"adequate\", \"advance\", \"air\", \"air_conditioner\", \"airport\", \"already\", \"also\", \"also\", \"also\", \"also\", \"also\", \"also\", \"always\", \"always\", \"amazing\", \"amenity\", \"anyone\", \"apology\", \"apparently\", \"area\", \"area\", \"arrival\", \"arrive\", \"ask\", \"attitude\", \"available\", \"average\", \"avoid\", \"away\", \"awful\", \"back\", \"bad\", \"bar\", \"bar\", \"bar\", \"bar\", \"basic\", \"bathroom\", \"beautiful\", \"become\", \"bed\", \"bed\", \"bedroom\", \"big\", \"big\", \"big\", \"bill\", \"bit\", \"bit\", \"blanket\", \"block\", \"book\", \"book\", \"booking\", \"boston\", \"bottle\", \"breakfast\", \"buffet\", \"building\", \"business\", \"business\", \"call\", \"can\", \"cancel\", \"car\", \"carpet\", \"center\", \"chair\", \"change\", \"charge\", \"cheap\", \"check\", \"chicago\", \"child\", \"choice\", \"city\", \"clean\", \"clean\", \"cleanliness\", \"close\", \"club\", \"coffee\", \"cold\", \"cold\", \"come\", \"comfortable\", \"comfortable\", \"comfortable\", \"comment\", \"compare\", \"complimentary\", \"complimentary\", \"computer\", \"concierge\", \"conference\", \"connection\", \"construction\", \"contact\", \"continental\", \"convenient\", \"convenient\", \"corner\", \"cost\", \"could\", \"credit_card\", \"customer\", \"dark\", \"date\", \"date\", \"day\", \"day\", \"day\", \"day\", \"day\", \"day\", \"decent\", \"definitely\", \"design\", \"desk\", \"dingy\", \"dining\", \"dining\", \"dinner\", \"dirty\", \"disappointed\", \"do\", \"do\", \"dollar\", \"door\", \"door\", \"double\", \"downtown\", \"drink\", \"drink\", \"drink\", \"drive\", \"driver\", \"due\", \"easy\", \"easy\", \"eat\", \"eat\", \"elsewhere\", \"employee\", \"enjoy\", \"enough\", \"enough\", \"enough\", \"enough\", \"entire\", \"especially\", \"even\", \"even\", \"evening\", \"ever\", \"everyone\", \"everything\", \"excellent\", \"excellent\", \"excellent\", \"experience\", \"extra\", \"extremely\", \"extremely\", \"facility\", \"family\", \"fantastic\", \"far\", \"far\", \"far\", \"fee\", \"feel\", \"feel\", \"finally\", \"find\", \"find\", \"find\", \"find\", \"fine\", \"fine\", \"first\", \"first\", \"flight\", \"floor\", \"follow\", \"food\", \"food\", \"food\", \"free\", \"fridge\", \"friend\", \"friendly\", \"front\", \"full\", \"fun\", \"garage\", \"get\", \"get\", \"get\", \"girl\", \"give\", \"glass\", \"go\", \"good\", \"great\", \"ground\", \"group\", \"guess\", \"guest\", \"hall\", \"hallway\", \"handle\", \"help\", \"helpful\", \"high\", \"high\", \"hilton\", \"home\", \"hot\", \"however\", \"husband\", \"hyatt\", \"impossible\", \"include\", \"inn\", \"instead\", \"internet\", \"internet\", \"item\", \"job\", \"kid\", \"kind\", \"king\", \"know\", \"lack\", \"large\", \"large\", \"last\", \"last\", \"last\", \"leave\", \"less\", \"level\", \"level\", \"list\", \"little\", \"little\", \"little\", \"live\", \"lobby\", \"lobby\", \"location\", \"look\", \"look\", \"look\", \"lot\", \"lot\", \"lot\", \"lounge\", \"love\", \"lovely\", \"low\", \"machine\", \"make\", \"make\", \"man\", \"management\", \"manager\", \"manager\", \"many\", \"many\", \"many\", \"many\", \"marriott\", \"meet\", \"meeting\", \"member\", \"menu\", \"microwave\", \"min\", \"minute\", \"minute\", \"minute\", \"money\", \"money\", \"month\", \"motel\", \"much\", \"much\", \"much\", \"name\", \"name\", \"nearby\", \"nearly\", \"need\", \"need\", \"negative\", \"never\", \"new\", \"new\", \"next\", \"next\", \"next\", \"nice\", \"night\", \"night\", \"night\", \"night\", \"noise\", \"noisy\", \"non_smok\", \"none\", \"not\", \"note\", \"number\", \"nyc\", \"offer\", \"offer\", \"offer\", \"often\", \"ok\", \"old\", \"online\", \"option\", \"option\", \"order\", \"order\", \"order\", \"overall\", \"overall\", \"park\", \"parking\", \"party\", \"pay\", \"people\", \"perfect\", \"pick\", \"place\", \"plan\", \"plan\", \"pleasant\", \"point\", \"pool\", \"poor\", \"positive\", \"pretty\", \"pretty\", \"pretty\", \"price\", \"price\", \"probably\", \"problem\", \"promise\", \"property\", \"provide\", \"provide\", \"put\", \"quality\", \"queen\", \"quite\", \"quite\", \"rate\", \"rather\", \"rather\", \"read\", \"really\", \"really\", \"reason\", \"reason\", \"reasonable\", \"reasonable\", \"receive\", \"reception\", \"reception\", \"recommend\", \"renovation\", \"require\", \"reservation\", \"resort\", \"restaurant\", \"restaurant\", \"return\", \"review\", \"right\", \"right\", \"road\", \"roll\", \"safe\", \"say\", \"security\", \"see\", \"see\", \"send\", \"serve\", \"service\", \"several\", \"several\", \"several\", \"several\", \"several\", \"sheraton\", \"shop\", \"shopping\", \"short\", \"shower\", \"shower\", \"shuttle\", \"side\", \"simply\", \"single\", \"sink\", \"sit\", \"site\", \"site\", \"situation\", \"size\", \"sleep\", \"sleep\", \"small\", \"smell\", \"somewhat\", \"space\", \"spacious\", \"special\", \"spend\", \"spend\", \"spend\", \"spot\", \"staff\", \"staff\", \"star\", \"start\", \"start\", \"state\", \"station\", \"stick\", \"still\", \"stop\", \"strange\", \"street\", \"suite\", \"super\", \"table\", \"take\", \"take\", \"taxi\", \"tea\", \"tell\", \"temperature\", \"thank\", \"thin\", \"thing\", \"think\", \"time\", \"time\", \"time\", \"tiny\", \"tip\", \"touch\", \"towel\", \"tower\", \"town\", \"train\", \"travel\", \"treat\", \"trip\", \"trip\", \"true\", \"try\", \"tub\", \"twice\", \"twice\", \"uncomfortable\", \"understand\", \"unfortunately\", \"union_square\", \"upgrade\", \"upgrade\", \"upgrade\", \"use\", \"use\", \"use\", \"use\", \"valet\", \"value\", \"view\", \"wait\", \"walk\", \"walk\", \"wall\", \"wall\", \"want\", \"want\", \"want\", \"warm\", \"water\", \"website\", \"website\", \"wedding\", \"week\", \"week\", \"week\", \"weekend\", \"weekend\", \"welcome\", \"well\", \"westin\", \"whole\", \"wife\", \"wifi\", \"window\", \"wonderful\", \"word\", \"work\", \"worth\", \"worth\", \"worth\", \"would\", \"would\", \"write\", \"wrong\", \"year\"]}, \"R\": 30, \"lambda.step\": 0.01, \"plot.opts\": {\"xlab\": \"PC1\", \"ylab\": \"PC2\"}, \"topic.order\": [7, 1, 3, 2, 4, 5, 8, 6, 9, 10]};\n",
       "\n",
       "function LDAvis_load_lib(url, callback){\n",
       "  var s = document.createElement('script');\n",
       "  s.src = url;\n",
       "  s.async = true;\n",
       "  s.onreadystatechange = s.onload = callback;\n",
       "  s.onerror = function(){console.warn(\"failed to load library \" + url);};\n",
       "  document.getElementsByTagName(\"head\")[0].appendChild(s);\n",
       "}\n",
       "\n",
       "if(typeof(LDAvis) !== \"undefined\"){\n",
       "   // already loaded: just create the visualization\n",
       "   !function(LDAvis){\n",
       "       new LDAvis(\"#\" + \"ldavis_el813211132635689602211821699\", ldavis_el813211132635689602211821699_data);\n",
       "   }(LDAvis);\n",
       "}else if(typeof define === \"function\" && define.amd){\n",
       "   // require.js is available: use it to load d3/LDAvis\n",
       "   require.config({paths: {d3: \"https://cdnjs.cloudflare.com/ajax/libs/d3/3.5.5/d3.min\"}});\n",
       "   require([\"d3\"], function(d3){\n",
       "      window.d3 = d3;\n",
       "      LDAvis_load_lib(\"https://cdn.rawgit.com/bmabey/pyLDAvis/files/ldavis.v1.0.0.js\", function(){\n",
       "        new LDAvis(\"#\" + \"ldavis_el813211132635689602211821699\", ldavis_el813211132635689602211821699_data);\n",
       "      });\n",
       "    });\n",
       "}else{\n",
       "    // require.js not available: dynamically load d3 & LDAvis\n",
       "    LDAvis_load_lib(\"https://cdnjs.cloudflare.com/ajax/libs/d3/3.5.5/d3.min.js\", function(){\n",
       "         LDAvis_load_lib(\"https://cdn.rawgit.com/bmabey/pyLDAvis/files/ldavis.v1.0.0.js\", function(){\n",
       "                 new LDAvis(\"#\" + \"ldavis_el813211132635689602211821699\", ldavis_el813211132635689602211821699_data);\n",
       "            })\n",
       "         });\n",
       "}\n",
       "</script>"
      ],
      "text/plain": [
       "PreparedData(topic_coordinates=              x         y  topics  cluster       Freq\n",
       "topic                                                \n",
       "6     -0.192612  0.132284       1        1  27.143400\n",
       "0     -0.172606  0.164238       2        1  15.994245\n",
       "2     -0.182255 -0.103807       3        1  14.181987\n",
       "1     -0.061724 -0.256470       4        1   8.996254\n",
       "3     -0.139756 -0.155355       5        1   8.563653\n",
       "4      0.000328  0.158934       6        1   6.979740\n",
       "7      0.127076  0.243717       7        1   5.912544\n",
       "5      0.143205 -0.105606       8        1   5.830429\n",
       "8      0.236756 -0.061058       9        1   3.615354\n",
       "9      0.241588 -0.016876      10        1   2.782391, topic_info=          Term          Freq         Total Category  logprob  loglift\n",
       "15        good  25754.000000  25754.000000  Default  30.0000  30.0000\n",
       "25     service  16127.000000  16127.000000  Default  29.0000  29.0000\n",
       "45    location  17889.000000  17889.000000  Default  28.0000  28.0000\n",
       "37       clean  17872.000000  17872.000000  Default  27.0000  27.0000\n",
       "50        nice  17401.000000  17401.000000  Default  26.0000  26.0000\n",
       "...        ...           ...           ...      ...      ...      ...\n",
       "1681   contact    584.943237    585.732849  Topic10  -4.7472   3.5805\n",
       "2539    nearly    575.875793    576.665527  Topic10  -4.7628   3.5805\n",
       "3118   promise    568.021179    568.810852  Topic10  -4.7766   3.5805\n",
       "1118     stick    563.288757    564.078491  Topic10  -4.7849   3.5805\n",
       "2124   strange    553.651489    554.441223  Topic10  -4.8022   3.5804\n",
       "\n",
       "[427 rows x 6 columns], token_table=      Topic      Freq        Term\n",
       "term                             \n",
       "374       4  0.999411  absolutely\n",
       "172       3  0.999549      access\n",
       "1763      5  0.999237    adequate\n",
       "1036     10  0.998026     advance\n",
       "2002     10  0.999474         air\n",
       "...     ...       ...         ...\n",
       "66        1  0.483421       would\n",
       "66        3  0.516541       would\n",
       "580       7  0.999443       write\n",
       "941       9  0.999813       wrong\n",
       "1383      4  0.999907        year\n",
       "\n",
       "[524 rows x 3 columns], R=30, lambda_step=0.01, plot_opts={'xlab': 'PC1', 'ylab': 'PC2'}, topic_order=[7, 1, 3, 2, 4, 5, 8, 6, 9, 10])"
      ]
     },
     "execution_count": 34,
     "metadata": {},
     "output_type": "execute_result"
    }
   ],
   "source": [
    "# Visualize the topics\n",
    "pyLDAvis.enable_notebook()\n",
    "vis = pyLDAvis.gensim.prepare(lda_model, corpus, id2word)\n",
    "vis"
   ]
  },
  {
   "cell_type": "code",
   "execution_count": 35,
   "metadata": {},
   "outputs": [],
   "source": [
    "# Build LDA Mallet Model. Mallet’s version of LDA model often gives a better quality of topics. \n",
    "# Mallet (MAchine Learning for LanguagE Toolkit), a Java-based package put out by UMASS Amherst. The difference between Mallet and \n",
    "# Gensim’s standard LDA is that Gensim uses a Variational Bayes sampling method which is faster but less precise that Mallet’s Gibbs \n",
    "# Sampling\n",
    "\n",
    "from gensim.models.wrappers import LdaMallet\n",
    "\n",
    "# Download File: http://mallet.cs.umass.edu/dist/mallet-2.0.8.zip\n",
    "mallet_path = './mallet-2.0.8/bin/mallet' # update this path\n",
    "ldamallet = LdaMallet(mallet_path, corpus=corpus, num_topics=10, id2word=id2word)"
   ]
  },
  {
   "cell_type": "code",
   "execution_count": 36,
   "metadata": {},
   "outputs": [
    {
     "name": "stdout",
     "output_type": "stream",
     "text": [
      "[(0, [('bathroom', 0.02706129459778859), ('shower', 0.02129593745664021), ('bed', 0.01959742975115666), ('door', 0.018401297564196416), ('bad', 0.018372590391709367), ('work', 0.016702789858712867), ('water', 0.014602381738410676), ('place', 0.013353619735224179), ('open', 0.01253068079059553), ('towel', 0.012449343801882234)]), (1, [('bed', 0.0664417604491257), ('nice', 0.04387216399268626), ('area', 0.04311503695501017), ('small', 0.04090546213077181), ('large', 0.03243800056655765), ('pool', 0.029100460971903892), ('bathroom', 0.02447529036079421), ('suite', 0.022420231258530557), ('size', 0.020164301717699777), ('bar', 0.01900028327882362)]), (2, [('walk', 0.059920532535218535), ('location', 0.030471128541204397), ('street', 0.029862221992878888), ('block', 0.029248155219567574), ('city', 0.027519479849321432), ('nyc', 0.01792662160070179), ('close', 0.017451880902007326), ('new_york', 0.017209350327674285), ('easy', 0.015826410031477372), ('times_square', 0.014040972186387326)]), (3, [('view', 0.04027647908874533), ('great', 0.026006247874872494), ('love', 0.025384648078884735), ('enjoy', 0.021766618497109827), ('wonderful', 0.020890003400204013), ('make', 0.019758373002380144), ('beautiful', 0.017287912274736483), ('staff', 0.01578969738184291), ('visit', 0.015253102686161169), ('perfect', 0.015093718123087385)]), (4, [('breakfast', 0.07392798261968228), ('free', 0.047292543001391865), ('good', 0.04448313585306852), ('food', 0.02713363430455617), ('restaurant', 0.023800352331499772), ('coffee', 0.023312429700620946), ('include', 0.01994319553371032), ('area', 0.015880597628182412), ('eat', 0.014041899713923257), ('internet', 0.013538568999964048)]), (5, [('night', 0.06112371477334221), ('parking', 0.038738916871331644), ('day', 0.03749531698788661), ('pay', 0.028878574699246557), ('price', 0.024081088956416766), ('book', 0.02375848145527203), ('car', 0.021869666569537528), ('rate', 0.021240061607626023), ('airport', 0.01924717978603838), ('find', 0.019028639220746785)]), (6, [('check', 0.04716249559393726), ('desk', 0.046990659146986254), ('front', 0.04420602749383151), ('call', 0.029820232640112795), ('give', 0.019364645752555518), ('arrive', 0.017166020444131125), ('back', 0.016734226295382446), ('leave', 0.015553401480437082), ('wait', 0.014835213253436728), ('day', 0.013940782516743038)]), (7, [('service', 0.08027660853878532), ('make', 0.026038318784083605), ('business', 0.024151408961784894), ('time', 0.02391813714309412), ('staff', 0.02033093495344931), ('experience', 0.019511891678935037), ('year', 0.018547701495013166), ('property', 0.016619321127169427), ('travel', 0.015883218943745205), ('guest', 0.015344101851659858)]), (8, [('great', 0.1189321078584713), ('staff', 0.10123817703030889), ('good', 0.09088117026782616), ('clean', 0.08049572581516638), ('location', 0.07475699993743708), ('friendly', 0.06004333903982983), ('nice', 0.04824169761635281), ('helpful', 0.04600649516843644), ('place', 0.03804394191886158), ('comfortable', 0.03218577774238865)]), (9, [('night', 0.0522282586905096), ('floor', 0.0425504189888136), ('people', 0.02746982879595846), ('noise', 0.023560603023134598), ('time', 0.021966841746521793), ('review', 0.021961829918607914), ('elevator', 0.02036305681408123), ('sleep', 0.018062627801611802), ('hear', 0.017230664367908263), ('door', 0.01603283749649172)])]\n",
      "\n",
      "Coherence Score:  0.4249902737256545\n"
     ]
    }
   ],
   "source": [
    "# Show Topics\n",
    "print(ldamallet.show_topics(formatted=False))\n",
    "\n",
    "# Compute Coherence Score\n",
    "coherence_ldamallet = coherence(model=ldamallet, texts=data_lemmatized, dictionary=id2word, coherence='c_v')"
   ]
  },
  {
   "cell_type": "code",
   "execution_count": 37,
   "metadata": {},
   "outputs": [],
   "source": [
    "def compute_coherence_values(dictionary, corpus, texts, number_topics):\n",
    "    \"\"\"\n",
    "    Compute c_v coherence for various number of topics\n",
    "\n",
    "    Parameters:\n",
    "    ----------\n",
    "    dictionary : Gensim dictionary\n",
    "    corpus : Gensim corpus\n",
    "    texts : List of input texts\n",
    "    number_topics : a list of k num of topics\n",
    "\n",
    "    Returns:\n",
    "    -------\n",
    "    model_list : List of LDA topic models\n",
    "    coherence_values : Coherence values corresponding to the LDA model with respective number of topics\n",
    "    \"\"\"\n",
    "    coherence_values = []\n",
    "    model_list = []\n",
    "    for num_topics in number_topics:\n",
    "        print(\"Num of topics: \", num_topics)\n",
    "        \n",
    "        # Use Gensim inbuilt LDA model\n",
    "        #model = LdaModel(corpus=corpus,\n",
    "        #            id2word=dictionary,\n",
    "        #            num_topics=num_topics, \n",
    "        #            random_state=100,\n",
    "        #            update_every=1, # determines how often the model parameters should be updated\n",
    "        #            chunksize=100, # the number of documents to be used in each training chunk\n",
    "        #            passes=10, # the total number of training passes\n",
    "        #            alpha='auto', # alpha and eta are hyperparameters that affect sparsity of the topics. \n",
    "        #                         # According to the Gensim docs, both defaults to 1.0/num_topics prior.\n",
    "        #           per_word_topics=True)\n",
    "        \n",
    "        # Use Mallet model\n",
    "        model = LdaMallet(mallet_path, corpus=corpus, num_topics=num_topics, id2word=id2word)\n",
    "        model_list.append(model)\n",
    "        coherence_val = coherence(model=model, texts=texts, dictionary=dictionary, coherence='c_v')\n",
    "        coherence_values.append(coherence_val)   \n",
    "    return model_list, coherence_values"
   ]
  },
  {
   "cell_type": "code",
   "execution_count": 38,
   "metadata": {},
   "outputs": [
    {
     "name": "stdout",
     "output_type": "stream",
     "text": [
      "Num of topics:  4\n",
      "\n",
      "Coherence Score:  0.3896166591874429\n",
      "Num of topics:  6\n",
      "\n",
      "Coherence Score:  0.4056995209140352\n",
      "Num of topics:  8\n",
      "\n",
      "Coherence Score:  0.41585897780373104\n",
      "Num of topics:  10\n",
      "\n",
      "Coherence Score:  0.4260071275598694\n",
      "Num of topics:  11\n",
      "\n",
      "Coherence Score:  0.43351425003988203\n",
      "Num of topics:  12\n",
      "\n",
      "Coherence Score:  0.4311855558129081\n",
      "Num of topics:  13\n",
      "\n",
      "Coherence Score:  0.4330403803026007\n",
      "Num of topics:  14\n",
      "\n",
      "Coherence Score:  0.4377301362426617\n",
      "Num of topics:  15\n",
      "\n",
      "Coherence Score:  0.43129591120593624\n",
      "Num of topics:  16\n",
      "\n",
      "Coherence Score:  0.43620137691800387\n",
      "Num of topics:  17\n",
      "\n",
      "Coherence Score:  0.44439106940267153\n",
      "Num of topics:  18\n",
      "\n",
      "Coherence Score:  0.45083522559973704\n",
      "Num of topics:  19\n",
      "\n",
      "Coherence Score:  0.4473062148592828\n",
      "Num of topics:  20\n",
      "\n",
      "Coherence Score:  0.4555531480514592\n"
     ]
    }
   ],
   "source": [
    "# Can take a long time to run.\n",
    "number_topics = [4, 6, 8, 10, 11, 12, 13, 14, 15, 16, 17, 18, 19, 20]\n",
    "model_list, coherence_values = compute_coherence_values(dictionary=id2word, corpus=corpus, texts=data_lemmatized, number_topics=number_topics)"
   ]
  },
  {
   "cell_type": "code",
   "execution_count": 39,
   "metadata": {},
   "outputs": [],
   "source": [
    "# Save traning results\n",
    "import pickle\n",
    "pickle.dump([model_list, coherence_values],open('LdaMalletmodellist.p','wb'))"
   ]
  },
  {
   "cell_type": "code",
   "execution_count": 40,
   "metadata": {},
   "outputs": [],
   "source": [
    "# Load training results\n",
    "#reader = pickle.load(open('LdaMalletmodellist.p', \"rb\"))"
   ]
  },
  {
   "cell_type": "code",
   "execution_count": 41,
   "metadata": {},
   "outputs": [
    {
     "data": {
      "image/png": "[encoded data removed]",
      "text/plain": [
       "<Figure size 720x360 with 1 Axes>"
      ]
     },
     "metadata": {},
     "output_type": "display_data"
    }
   ],
   "source": [
    "# Show graph\n",
    "plt.figure(figsize = (10,5))\n",
    "plt.plot(number_topics, coherence_values)\n",
    "plt.xlabel(\"Number of Topics\")\n",
    "plt.ylabel(\"Coherence Score\")\n",
    "plt.show()"
   ]
  },
  {
   "cell_type": "code",
   "execution_count": 42,
   "metadata": {},
   "outputs": [
    {
     "name": "stdout",
     "output_type": "stream",
     "text": [
      "Num Topics = 4  has Coherence Value of 0.3896\n",
      "Num Topics = 6  has Coherence Value of 0.4057\n",
      "Num Topics = 8  has Coherence Value of 0.4159\n",
      "Num Topics = 10  has Coherence Value of 0.426\n",
      "Num Topics = 11  has Coherence Value of 0.4335\n",
      "Num Topics = 12  has Coherence Value of 0.4312\n",
      "Num Topics = 13  has Coherence Value of 0.433\n",
      "Num Topics = 14  has Coherence Value of 0.4377\n",
      "Num Topics = 15  has Coherence Value of 0.4313\n",
      "Num Topics = 16  has Coherence Value of 0.4362\n",
      "Num Topics = 17  has Coherence Value of 0.4444\n",
      "Num Topics = 18  has Coherence Value of 0.4508\n",
      "Num Topics = 19  has Coherence Value of 0.4473\n",
      "Num Topics = 20  has Coherence Value of 0.4556\n"
     ]
    }
   ],
   "source": [
    "# Print the coherence scores\n",
    "for m, cv in zip(number_topics, coherence_values):\n",
    "    print(\"Num Topics =\", m, \" has Coherence Value of\", round(cv, 4))"
   ]
  },
  {
   "cell_type": "code",
   "execution_count": 43,
   "metadata": {},
   "outputs": [],
   "source": [
    "# Compute perplexity for mallet model. Need further research on this.\n",
    "#LL_token = [-7.55907, -7.62512, -7.69531, -7.76047, -7.79609, -7.82976, -7.84297, -7.85761, -7.89299, -7.86362, -7.92078,\n",
    "#          -7.93118, -7.96718, -7.9107] # displayed in the console\n",
    "#perplexity = [2**(-i) for i in LL_token] \n",
    "\n",
    "# Show graph\n",
    "#plt.figure(figsize = (10,5))\n",
    "#plt.plot(number_topics, LL_token)\n",
    "#plt.xlabel(\"Number of Topics\")\n",
    "#plt.ylabel(\"Perplexity Score\")\n",
    "#plt.show()    "
   ]
  },
  {
   "cell_type": "code",
   "execution_count": 44,
   "metadata": {},
   "outputs": [],
   "source": [
    "# Convert Mallet model to gensim LDA model for pyLDAvis plot\n",
    "def mallet_to_lda(mallet_model):\n",
    "    #model_gensim = LdaModel(\n",
    "    #    id2word=mallet_model.id2word, num_topics=mallet_model.num_topics,\n",
    "    #    alpha=mallet_model.alpha, eta=0, iterations=1000,\n",
    "    #    gamma_threshold=0.001,\n",
    "    #    dtype=np.float32\n",
    "    #)\n",
    "    #model_gensim.sync_state()\n",
    "    #model_gensim.state.sstats = mallet_model.wordtopics\n",
    "    \n",
    "    model_gensim = gensim.models.wrappers.ldamallet.malletmodel2ldamodel(\n",
    "        mallet_model, iterations=1000)\n",
    "\n",
    "    return model_gensim\n",
    "\n",
    "lda_list = []\n",
    "for mallet_model in model_list:\n",
    "    lda_list.append(mallet_to_lda(mallet_model))"
   ]
  },
  {
   "cell_type": "code",
   "execution_count": 45,
   "metadata": {},
   "outputs": [
    {
     "name": "stderr",
     "output_type": "stream",
     "text": [
      "/Users/ll/anaconda3/lib/python3.6/site-packages/pyLDAvis/_prepare.py:223: RuntimeWarning: divide by zero encountered in log\n",
      "  kernel = (topic_given_term * np.log((topic_given_term.T / topic_proportion).T))\n",
      "/Users/ll/anaconda3/lib/python3.6/site-packages/pyLDAvis/_prepare.py:240: RuntimeWarning: divide by zero encountered in log\n",
      "  log_lift = np.log(topic_term_dists / term_proportion)\n",
      "/Users/ll/anaconda3/lib/python3.6/site-packages/pyLDAvis/_prepare.py:241: RuntimeWarning: divide by zero encountered in log\n",
      "  log_ttd = np.log(topic_term_dists)\n"
     ]
    },
    {
     "data": {
      "text/html": [
       "\n",
       "<link rel=\"stylesheet\" type=\"text/css\" href=\"https://cdn.rawgit.com/bmabey/pyLDAvis/files/ldavis.v1.0.0.css\">\n",
       "\n",
       "\n",
       "<div id=\"ldavis_el813211137441576961546409009\"></div>\n",
       "<script type=\"text/javascript\">\n",
       "\n",
       "var ldavis_el813211137441576961546409009_data = {\"mdsDat\": {\"x\": [-0.3021887618773252, -0.14393892310432282, -0.21366687659479738, -0.22043448199371607, -0.11943388198975588, 0.05716575898995931, 0.17907834468289416, 0.09608943431301088, 0.01576377427016139, -0.02137867030910031, 0.06336853698784156, 0.12709264955131302, 0.2330472849655088, 0.24943581210832866], \"y\": [0.13375876573785134, -0.12582293845885265, 0.15879085787706382, -0.08480103669135963, -0.10334509364419349, -0.11391628808805584, -0.0454210477173682, -0.02251938626100913, -0.21465198121794013, 0.28318127241193203, 0.031139090584510618, -0.20313723267195857, 0.07441545476509026, 0.23232956337428906], \"topics\": [1, 2, 3, 4, 5, 6, 7, 8, 9, 10, 11, 12, 13, 14], \"cluster\": [1, 1, 1, 1, 1, 1, 1, 1, 1, 1, 1, 1, 1, 1], \"Freq\": [8.0992751446808, 7.801184549488307, 7.562610065551356, 7.433609166859415, 7.304919427803432, 7.038716421910325, 7.020983249330957, 7.019047193872674, 6.98161866171125, 6.973103875815056, 6.852430398015503, 6.8132530068448345, 6.753296242206422, 6.34595259590966]}, \"tinfo\": {\"Term\": [\"staff\", \"great\", \"bed\", \"breakfast\", \"nice\", \"location\", \"friendly\", \"service\", \"check\", \"good\", \"walk\", \"night\", \"clean\", \"restaurant\", \"helpful\", \"bathroom\", \"parking\", \"bar\", \"desk\", \"front\", \"make\", \"comfortable\", \"time\", \"free\", \"view\", \"food\", \"small\", \"area\", \"floor\", \"pool\", \"apologize\", \"assure\", \"rudeness\", \"cancellation\", \"eventually\", \"argue\", \"send\", \"key_card\", \"valid\", \"receptionist\", \"unfriendly\", \"receipt\", \"automatically\", \"confused\", \"fax\", \"ring\", \"confirmation\", \"potentially\", \"remedi\", \"resolve\", \"consume\", \"apply\", \"convince\", \"reply\", \"frustrated\", \"payment\", \"witness\", \"discussion\", \"nerve\", \"overbook\", \"manager\", \"reservation\", \"phone\", \"key\", \"happen\", \"finally\", \"card\", \"speak\", \"management\", \"rude\", \"bill\", \"clerk\", \"answer\", \"company\", \"credit_card\", \"email\", \"explain\", \"inform\", \"situation\", \"lose\", \"advise\", \"report\", \"advance\", \"cancel\", \"mistake\", \"contact\", \"promise\", \"confirm\", \"call\", \"security\", \"follow\", \"reserve\", \"receive\", \"guest\", \"customer\", \"charge\", \"issue\", \"desk\", \"front\", \"person\", \"give\", \"request\", \"problem\", \"make\", \"check\", \"leave\", \"point\", \"day\", \"work\", \"back\", \"book\", \"toilet\", \"function\", \"liquor\", \"cord\", \"water_pressure\", \"label\", \"humid\", \"wide\", \"air\", \"plasma\", \"similarly\", \"drape\", \"ceiling_fan\", \"bizarre\", \"thermostat\", \"suitcase\", \"towel_rack\", \"clothe\", \"shampoo\", \"tile\", \"gal\", \"usable\", \"shower\", \"bench\", \"reset\", \"slot\", \"cabin\", \"practical\", \"flow\", \"light_bulb\", \"light\", \"bath\", \"sink\", \"closet\", \"channel\", \"temperature\", \"mirror\", \"soap\", \"television\", \"bathtub\", \"odd\", \"heat\", \"marble\", \"iron\", \"lamp\", \"lighting\", \"drain\", \"degree\", \"wet\", \"drawer\", \"plug\", \"outlet\", \"tv\", \"water\", \"chair\", \"elevator\", \"tub\", \"tiny\", \"bathroom\", \"towel\", \"open\", \"window\", \"floor\", \"foot\", \"work\", \"space\", \"door\", \"building\", \"dark\", \"build\", \"small\", \"lobby\", \"hot\", \"turn\", \"low\", \"side\", \"put\", \"thing\", \"cool\", \"wall\", \"curb\", \"pm\", \"painless\", \"suprise\", \"luggage\", \"waiting\", \"limo\", \"toothbrush\", \"aid\", \"ink\", \"quicker\", \"freshen\", \"jean\", \"nap\", \"weary\", \"checkin\", \"certificate\", \"official\", \"retrieve\", \"til\", \"young_man\", \"interrupt\", \"thankful\", \"baggage\", \"bellboy\", \"departure\", \"marathon\", \"arrive\", \"bellman\", \"noon\", \"wait\", \"early\", \"late\", \"bag\", \"ready\", \"flight\", \"carry\", \"earlier\", \"cart\", \"bell_hop\", \"process\", \"tuesday\", \"race\", \"snow\", \"smooth\", \"sunday\", \"understaffed\", \"delay\", \"friday\", \"hour\", \"bellhop\", \"check\", \"collect\", \"arrival\", \"saturday\", \"driver\", \"front\", \"back\", \"desk\", \"leave\", \"minute\", \"morning\", \"quickly\", \"long\", \"time\", \"pick\", \"day\", \"bring\", \"return\", \"give\", \"start\", \"find\", \"request\", \"people\", \"husband\", \"service\", \"cigarette\", \"bang\", \"temporary\", \"filthy\", \"occupant\", \"ac_unit\", \"constantly\", \"stain\", \"shut\", \"blood\", \"light_sleeper\", \"drug\", \"fake\", \"upside\", \"dirty\", \"rubbish\", \"facelift\", \"sub_par\", \"unlucky\", \"fire\", \"thin_wall\", \"fade\", \"greasy\", \"chemical\", \"neighboring\", \"horn\", \"hole\", \"paper_thin_wall\", \"non_smok\", \"thin\", \"noise\", \"hear\", \"smell\", \"carpet\", \"hallway\", \"loud\", \"sound\", \"construction\", \"motel\", \"renovation\", \"wear\", \"bug\", \"worn\", \"awful\", \"smoke\", \"air_conditioner\", \"neighbor\", \"mold\", \"outdated\", \"disgusting\", \"heavy\", \"rip\", \"wake\", \"paint\", \"smoking\", \"bad\", \"sheet\", \"noisy\", \"terrible\", \"sleep\", \"door\", \"wall\", \"break\", \"night\", \"people\", \"move\", \"hall\", \"floor\", \"change\", \"place\", \"run\", \"window\", \"thing\", \"open\", \"problem\", \"start\", \"reluctant\", \"star\", \"favour\", \"non_refundable\", \"criterion\", \"factor\", \"rely\", \"sole\", \"justice\", \"confidence\", \"naturally\", \"saver\", \"carefully\", \"becuase\", \"substantially\", \"hotwire\", \"travel_agent\", \"honest\", \"economy\", \"suburb\", \"capacity\", \"suitable\", \"supris\", \"increase\", \"bear\", \"negative_comment\", \"admittedly\", \"reader\", \"precious\", \"reviewer\", \"review\", \"read\", \"previous\", \"tripadvisor\", \"trip_advisor\", \"rating\", \"expedia\", \"reading\", \"opt\", \"advertise\", \"similar\", \"lucky\", \"describe\", \"nervous\", \"hostel\", \"afraid\", \"boyfriend\", \"rank\", \"sum\", \"research\", \"reality\", \"advertised\", \"money\", \"rat\", \"student\", \"website\", \"book\", \"expect\", \"disappointed\", \"budget\", \"base\", \"pay\", \"price\", \"opinion\", \"cheap\", \"worth\", \"high\", \"find\", \"deal\", \"save\", \"night\", \"rate\", \"thing\", \"reason\", \"place\", \"decide\", \"choose\", \"spend\", \"end\", \"upgrade\", \"give\", \"people\", \"good\", \"time\", \"fine\", \"extra\", \"stock\", \"donut\", \"instant\", \"homemade\", \"microwave\", \"tvs\", \"oatmeal\", \"unusually\", \"newspaper\", \"parlor\", \"bacon\", \"bedroom\", \"omelette\", \"partake\", \"flat_screen\", \"medical_center\", \"modest\", \"muffin\", \"sugar\", \"egg\", \"freebie\", \"refridgerator\", \"bacon_sausage\", \"northwest\", \"refill\", \"supper\", \"stove\", \"residence_inn\", \"refreshment\", \"danish\", \"breakfast\", \"coffee\", \"buffet\", \"complimentary\", \"fridge\", \"kitchen\", \"continental\", \"tea\", \"fruit\", \"juice\", \"cereal\", \"living\", \"pastry\", \"bagel\", \"waffle\", \"variety\", \"cookie\", \"laundry\", \"kitchenette\", \"bread\", \"cook\", \"cup\", \"milk\", \"plate\", \"cheese\", \"include\", \"suite\", \"fresh\", \"full\", \"refrigerator\", \"provide\", \"free\", \"hot\", \"area\", \"offer\", \"morning\", \"snack\", \"large\", \"item\", \"day\", \"serve\", \"clean\", \"evening\", \"reception\", \"choice\", \"good\", \"make\", \"eat\", \"nice\", \"find\", \"night\", \"lincoln_memorial\", \"orange_line\", \"pike_market\", \"pioneer_square\", \"space_needle\", \"prudential_center\", \"tourism\", \"pi\", \"leisurely\", \"liquor_store\", \"stopover\", \"art_museum\", \"ride\", \"seatac\", \"universal_studio\", \"union\", \"tenderloin\", \"north_beach\", \"readily_available\", \"mccormick\", \"cruise\", \"museum\", \"independence\", \"transit\", \"universal\", \"route\", \"streetcar\", \"china_town\", \"congress\", \"bldg\", \"shuttle\", \"bus\", \"train\", \"san_francisco\", \"airport\", \"union_square\", \"tour\", \"neighborhood\", \"market\", \"metro\", \"cable_car\", \"seattle\", \"transportation\", \"fisherman_wharf\", \"district\", \"washington\", \"trolley\", \"chinatown\", \"hollywood\", \"bart\", \"sf\", \"map\", \"public_transportation\", \"pier\", \"san_fran\", \"wharf\", \"terminal\", \"stop\", \"walk\", \"block\", \"station\", \"street\", \"easy\", \"short\", \"shop\", \"locate\", \"attraction\", \"within_walking_distance\", \"close\", \"walking_distance\", \"convenient\", \"restaurant\", \"minute\", \"line\", \"downtown\", \"city\", \"area\", \"place\", \"shopping\", \"safe\", \"location\", \"technology\", \"aim\", \"lover\", \"outfit\", \"crab\", \"high_tech\", \"contemporary\", \"lively\", \"piano\", \"lemon\", \"brunch\", \"conrad\", \"french\", \"hip\", \"element\", \"resteraunt\", \"soup\", \"architecture\", \"flair\", \"tune\", \"bean\", \"affair\", \"sophisticated\", \"era\", \"executive_lounge\", \"japanese\", \"peninsula\", \"pasta\", \"trendy\", \"greek\", \"bar\", \"food\", \"drink\", \"dinner\", \"lounge\", \"club\", \"menu\", \"atmosphere\", \"lunch\", \"cocktail\", \"elegant\", \"server\", \"waiter\", \"executive\", \"ritz\", \"bartender\", \"chic\", \"burger\", \"mix\", \"appetizer\", \"steak\", \"salad\", \"stunning\", \"dessert\", \"portion\", \"sandwich\", \"art\", \"pricey\", \"gold\", \"order\", \"taste\", \"restaurant\", \"style\", \"delicious\", \"meal\", \"service\", \"decor\", \"modern\", \"eat\", \"quality\", \"wine\", \"lobby\", \"excellent\", \"good\", \"dining\", \"concierge\", \"evening\", \"level\", \"efficient\", \"enjoy\", \"lovely\", \"high\", \"place\", \"amenity\", \"connection\", \"driveway\", \"speed\", \"campus\", \"parking\", \"lax\", \"vehicle\", \"tier\", \"gym\", \"interstate\", \"usd\", \"con\", \"connected\", \"charlotte\", \"high_speed_internet\", \"cardio_machine\", \"printer\", \"ethernet\", \"car\", \"usage\", \"detroit\", \"fee\", \"westwood\", \"boarding_pass\", \"housing\", \"hilton_honor\", \"ramp\", \"wireless_internet\", \"exorbitant\", \"core\", \"internet\", \"valet\", \"center\", \"conference\", \"garage\", \"sheraton\", \"convention_center\", \"marriott\", \"riverwalk\", \"wireless\", \"pro\", \"freeway\", \"equipment\", \"exercise\", \"tax\", \"weight\", \"steep\", \"treadmill\", \"denver\", \"westin\", \"convention\", \"connect\", \"computer\", \"hilton\", \"park\", \"overnight\", \"wifi\", \"access\", \"business\", \"free\", \"downtown\", \"cost\", \"rate\", \"charge\", \"lot\", \"expensive\", \"hyatt\", \"drive\", \"option\", \"day\", \"lobby\", \"good\", \"nice\", \"night\", \"pay\", \"convenient\", \"area\", \"price\", \"st_regis\", \"engage\", \"thanksgiv\", \"frequently\", \"peter\", \"phenomenal\", \"delightful\", \"competition\", \"knowledge\", \"moment\", \"pristine\", \"hospital\", \"pleasurable\", \"four_season\", \"opportunity\", \"fairmont\", \"genuine\", \"adolphus\", \"granddaughter\", \"weeks_ago\", \"exemplary\", \"commend\", \"fulfil\", \"occassion\", \"respectful\", \"professionally\", \"observe\", \"tremendously\", \"homey\", \"mary\", \"home\", \"special\", \"boston\", \"smile\", \"wedding\", \"detail\", \"event\", \"exceptional\", \"recent\", \"houston\", \"attention\", \"dalla\", \"pleasure\", \"champagne\", \"assist\", \"ensure\", \"mother\", \"crowne_plaza\", \"memorable\", \"birthday\", \"enjoyable\", \"look_forward\", \"hospitality\", \"treat\", \"meet\", \"anniversary\", \"experience\", \"team\", \"future\", \"member\", \"make\", \"personal\", \"year\", \"encounter\", \"feel\", \"travel\", \"world\", \"service\", \"trip\", \"meeting\", \"staff\", \"job\", \"guest\", \"return\", \"group\", \"visit\", \"wonderful\", \"business\", \"time\", \"professional\", \"week\", \"provide\", \"friend\", \"wife\", \"mission_beach\", \"dad\", \"older\", \"plant\", \"wild\", \"heated\", \"la_jolla\", \"health_club\", \"adult\", \"resort\", \"lake\", \"swimming_pool\", \"waterfall\", \"newly_remodel\", \"boat\", \"sunset\", \"fire_pit\", \"landscaping\", \"infant\", \"horton_plaza\", \"basketball\", \"bummer\", \"ice_cream\", \"toy\", \"young_children\", \"parade\", \"dock\", \"baltimore\", \"spirit\", \"scenery\", \"pool\", \"property\", \"kid\", \"san_diego\", \"child\", \"vacation\", \"spa\", \"ground\", \"son\", \"river\", \"bay\", \"balcony\", \"beach\", \"tower\", \"game\", \"omni\", \"outdoor\", \"harbor\", \"getaway\", \"phoenix\", \"jacuzzi\", \"zoo\", \"patio\", \"marina\", \"parent\", \"baby\", \"play\", \"activity\", \"family\", \"summer\", \"relax\", \"austin\", \"weekend\", \"overlook\", \"view\", \"enjoy\", \"beautiful\", \"husband\", \"area\", \"nice\", \"place\", \"love\", \"great\", \"town\", \"suite\", \"time\", \"year\", \"day\", \"back\", \"lot\", \"visit\", \"matress\", \"crown_plaza\", \"feather\", \"sharing\", \"ottoman\", \"centrally_located\", \"swanky\", \"bunk\", \"recliner\", \"configuration\", \"toliet\", \"nicely_furnish\", \"feather_pillow\", \"recently_remodel\", \"redone\", \"pet\", \"rollaway\", \"mattress\", \"firm\", \"dated\", \"queen\", \"twin\", \"linen\", \"pillow\", \"bedding\", \"comforter\", \"king\", \"flat_panel_tv\", \"bed\", \"floral\", \"double\", \"bite\", \"size\", \"dog\", \"fluffy\", \"aveda\", \"sore\", \"comfy\", \"soft\", \"fold\", \"sized\", \"travelzoo\", \"nice\", \"comfortable\", \"update\", \"small\", \"clean\", \"big\", \"decent\", \"sofa\", \"pretty\", \"bit\", \"bathroom\", \"good\", \"large\", \"complaint\", \"night\", \"sleep\", \"fine\", \"price\", \"quiet\", \"close\", \"lot\", \"location\", \"plenty\", \"feel\", \"lobby\", \"seventh\", \"port_authority_bus\", \"madison_avenue\", \"niggle\", \"stone_throw\", \"barclay\", \"upper_floor\", \"new_yorker\", \"doorstep\", \"madison_square\", \"hudson_river\", \"madison\", \"yotel\", \"definatly\", \"ideally_locat\", \"cosy\", \"junior\", \"posh\", \"reccomend\", \"grand_central_terminal\", \"madness\", \"theatre\", \"nyc\", \"helpfull\", \"pleasent\", \"times_square\", \"kingsize\", \"duane_reade\", \"empire_state\", \"broadway\", \"new_york\", \"subway\", \"central_park\", \"central\", \"manhattan\", \"avenue\", \"square\", \"ideal\", \"ave\", \"midtown\", \"lift\", \"diner\", \"macy\", \"deli\", \"empire_state_build\", \"sofitel\", \"december\", \"penn_station\", \"brilliant\", \"massive\", \"theater\", \"jfk\", \"chelsea\", \"queue\", \"grand_central\", \"london\", \"east\", \"tidy\", \"soho\", \"city\", \"christma\", \"min\", \"corner\", \"location\", \"reception\", \"fantastic\", \"view\", \"holiday\", \"recommend\", \"standard\", \"time\", \"good\", \"floor\", \"excellent\", \"walk\", \"great\", \"trip\", \"visit\", \"street\", \"perfect\", \"small\", \"clean\", \"spend\", \"big\", \"block\", \"close\", \"loved\", \"chicago\", \"millenium_park\", \"jame\", \"beautifully_appoint\", \"magnificent_mile\", \"millennium_park\", \"knowledgeable\", \"definetly\", \"immaculate\", \"goldfish\", \"definitley\", \"defiantly\", \"monaco\", \"accomodating\", \"navy_pier\", \"navy_pi\", \"lake_michigan\", \"world_charm\", \"warwick\", \"conceirge\", \"niece\", \"michigan_avenue\", \"accommodating\", \"palomar\", \"extremly\", \"swissotel\", \"michigan_ave\", \"hesitate\", \"cheerful\", \"friendly\", \"kimpton\", \"heartbeat\", \"immaculately\", \"art_institute\", \"alex\", \"spotles\", \"wine_tasting\", \"helpful\", \"highly_recommend\", \"amazingly\", \"honeymoon\", \"staff\", \"accomodat\", \"great\", \"perfect\", \"amazing\", \"extremely\", \"suggestion\", \"love\", \"super\", \"wonderful\", \"location\", \"spacious\", \"fabulous\", \"courteous\", \"recommend\", \"recommendation\", \"comfortable\", \"clean\", \"pleased\", \"fantastic\", \"excellent\", \"beautiful\", \"awesome\", \"quiet\", \"friend\", \"lovely\", \"attentive\", \"concierge\", \"visit\", \"modern\"], \"Freq\": [29758.0, 31384.0, 21112.0, 17869.0, 23988.0, 23058.0, 13204.0, 19641.0, 16131.0, 33201.0, 14241.0, 27623.0, 22254.0, 14411.0, 10394.0, 12881.0, 9171.0, 9082.0, 14292.0, 12426.0, 15380.0, 12391.0, 19616.0, 11381.0, 10213.0, 7672.0, 13504.0, 14150.0, 12466.0, 7019.0, 343.2727994205792, 344.49441080641753, 47.64284404769604, 89.17763116620029, 338.38635387722576, 193.01459896246087, 1399.9666481707607, 58.63734652024128, 37.86995296098916, 502.082279579566, 182.02009648991563, 164.9175370881786, 122.16113858383599, 83.06957423700848, 92.84246532371536, 310.28929200294345, 194.23621034829924, 36.6483415751508, 39.09156434682752, 293.1867326012064, 51.307678205211126, 109.9450247254524, 48.8644554335344, 211.33876975003628, 45.19962127601932, 84.29118562284684, 63.52379206359472, 59.858957906079645, 39.09156434682752, 114.83147026880586, 3306.90202146444, 3082.125526470182, 1911.8218188370336, 1883.7247569627511, 1457.3823833051636, 1584.429967432353, 1332.7780219496508, 1325.4483536346206, 1282.691955130278, 1259.4813387993493, 1236.2707224684202, 1348.6589699655494, 831.9173537559233, 773.2800072356819, 753.7342250622681, 706.0913810145721, 686.5455988411584, 685.32398745532, 665.7782052819063, 627.9082523209171, 612.0273043050184, 605.9192473758266, 579.0437968873827, 571.7141285723525, 524.0712845246564, 693.8752671561884, 470.3203835477686, 469.09877216193024, 7636.292772875589, 950.4136581822441, 886.8898661186494, 671.886262211098, 1497.6955590378295, 3104.1145314152727, 1669.942764441038, 2804.8197418848745, 1928.9243782387705, 5367.760429373754, 4849.7972017782895, 1641.845702566756, 3688.044773846009, 1970.459165357275, 2758.3985092230173, 2925.7592690828724, 2908.656709681135, 1910.600207451195, 1314.4538511620756, 2288.0781256752484, 1790.8822916390359, 1726.1368881896028, 1541.6735689280106, 1491.621809365719, 311.16613903986854, 48.156664375217744, 83.96546609012324, 586.5234763648316, 50.626236907280195, 59.26974076949877, 217.32238282149547, 1014.9943106776664, 46.921878109186515, 44.45230557712408, 145.70477939168447, 50.626236907280195, 55.56538197140509, 242.01810814211998, 467.98399482583403, 49.39145064124897, 585.2886900988003, 382.78374246967957, 591.4626214289564, 72.85238969584223, 39.51316051299918, 6244.314147319901, 117.3046952729663, 55.56538197140509, 43.21751931109285, 70.38281716377978, 80.26110729202958, 146.9395656577157, 79.02632102599836, 2758.512518313755, 1863.2924754411176, 1674.3701767383402, 1511.3783896222185, 800.1415003882335, 591.4626214289564, 560.5929647781758, 553.1842471819884, 503.7927965407395, 612.4539879514872, 581.5843313007066, 740.8717596187346, 454.40134589949054, 442.0534832391783, 430.94040684489727, 408.7142540563352, 402.5403227261791, 402.5403227261791, 365.4967347452424, 467.98399482583403, 351.9140858188989, 322.27921543414953, 3501.853850464552, 3931.5594710434184, 1636.0918024913722, 4067.3859603068527, 1857.1185441109615, 1405.1867707435333, 7807.5535601154315, 2438.7028754116677, 3043.748145766968, 2854.8258470641904, 6102.31372672631, 976.7159364306983, 3919.211608383106, 1779.3270093509943, 3485.8016290061464, 1582.9959930520297, 1071.7944789151027, 931.0288445875431, 3669.7847826447987, 2825.190976679441, 1750.926925232276, 1421.2389922019393, 1131.0642196846015, 1454.5782213847822, 1282.942930406442, 1569.413344125686, 1075.4988377131963, 1076.7336239792276, 62.48245186262517, 3199.1015353664084, 57.48385571361515, 47.48666341559513, 2021.9321422745504, 64.98174993713017, 114.9677114272303, 64.98174993713017, 42.48806726658511, 72.4796441606452, 47.48666341559513, 99.97192298020026, 54.98455763911015, 84.97613453317022, 58.73350475086766, 299.9157689406008, 48.73631245284763, 66.23139897438267, 162.45437484282544, 73.7292931978977, 43.737716303837615, 53.73490860185765, 63.73210089987768, 128.71385083700787, 88.72508164492774, 331.15699487191335, 182.4487594388655, 5850.856792416221, 768.5341579102895, 293.66752375433833, 5113.563860437244, 3800.182722284863, 3204.1001315154185, 2259.365459352526, 2240.6207237937388, 1843.2323299474426, 472.36733608144624, 296.1668218288433, 288.6689276053283, 174.95086521535046, 467.36873993243626, 141.21034120953288, 119.96630757624033, 118.71665853898782, 281.1710333818133, 761.0362636867746, 89.97473068218025, 272.42349012104575, 701.0531098986544, 5248.525956460514, 213.68998537017808, 13222.536463168739, 137.46139409777538, 922.2409894923475, 834.7655568846723, 766.0348598357846, 7576.622112861928, 6488.177801414997, 7992.755242267012, 3991.3790249844956, 4913.620014476844, 4040.1153374373434, 969.7276529079426, 2665.5013964595896, 7809.0568337908935, 1255.8972824387658, 5787.124691516344, 1513.3249841127815, 2185.6361661546284, 2598.020348447955, 1340.8734169719362, 2638.0091176400347, 1247.1497391779985, 1524.5718254480541, 1193.4148305761407, 1324.6279794876534, 107.57948610046348, 276.9862630632623, 48.22528687262156, 461.2315898330216, 48.22528687262156, 69.24656576581557, 314.0826375806635, 1209.3418092672791, 485.9625061779558, 102.63330283147666, 279.4593546977557, 74.1927490348024, 69.24656576581557, 82.84856975552935, 2094.708614415921, 59.35419922784192, 61.82729086233533, 61.82729086233533, 38.33292033464791, 416.7159404121402, 129.8373108109042, 80.37547812103594, 55.6445617761018, 55.6445617761018, 71.71965740030899, 138.49313153163115, 357.36174118429824, 61.82729086233533, 485.9625061779558, 660.3154664097414, 5813.001886876768, 4251.244519694178, 2432.285622524272, 2175.084092536957, 1847.39945096658, 2001.967678122418, 1370.092765509351, 1013.9675701422995, 1546.9188173756302, 1057.2466737459342, 749.3467652515043, 735.7447612617905, 607.143996268133, 591.0689006439259, 733.271669627297, 510.6934225228899, 490.90868944694256, 400.64084478793296, 395.6946615189462, 370.963745174012, 343.75973719458443, 332.63082483936415, 964.5057374524313, 576.2303508369654, 424.13521531562037, 4659.304639385591, 1386.1678611335583, 1696.5408612624815, 881.6571676969019, 3893.8827785098797, 5218.223348781102, 2110.7837100401284, 1073.3217693701415, 8716.411465772035, 3268.190594983046, 1491.2742555995283, 931.1190003867702, 3402.974089062937, 1198.2128969120588, 2506.4783715590743, 1221.7072674397464, 1290.953833205562, 1507.3493512237353, 1274.8787375813547, 1258.8036419571474, 1093.1065024460886, 41.22623519213226, 3196.9071471717107, 42.4755150464393, 42.4755150464393, 41.22623519213226, 168.65278033145015, 91.19742936441378, 38.72767548351818, 46.22335460936041, 42.4755150464393, 38.72767548351818, 41.22623519213226, 77.45535096703637, 41.22623519213226, 38.72767548351818, 652.1240839482739, 174.89917960298533, 274.8415679475484, 93.69598907302786, 61.214712861044866, 97.44382863594898, 116.18302645055455, 64.96255242396599, 89.94814951010676, 163.655660914222, 58.71615315243079, 49.97119417228153, 54.968313589509684, 39.976955337825224, 567.1730538553953, 5474.3443215734405, 2377.3795627462937, 991.9282043197883, 622.1413674449051, 454.7378669677619, 449.7407475505338, 483.4713036168238, 374.78395629211144, 361.04187789473406, 361.04187789473406, 464.7321058022182, 519.7004193917279, 416.0101914842437, 226.1196536295739, 218.6239745037317, 201.13405654343316, 534.6917776434124, 148.66430266253755, 144.91646309961644, 309.82140386814547, 117.43230630486158, 104.9395077617912, 3185.6636284829474, 442.2450684246915, 163.655660914222, 1310.494567168083, 6503.750921522441, 4338.748934008344, 1035.6529992205346, 852.0088606374, 1234.2884960553538, 4947.148223055871, 6396.312854052036, 478.47418419959564, 1801.461549910749, 1795.215150639214, 2444.840674878874, 5258.218906778324, 1992.6013676197258, 828.2725434055664, 8797.428734030163, 2497.3104287597694, 3206.901386006167, 1031.9051596576135, 5014.609335188452, 1344.225123234373, 1470.4023885193837, 1975.1114496594273, 1928.888095050067, 1554.1041387579553, 2767.1548772900896, 1992.6013676197258, 3186.912908337254, 2061.311759606613, 1184.317301883072, 1114.357630041878, 604.5801419118302, 115.4537026648875, 47.17463119640565, 62.071883153165324, 1474.8279437192082, 259.46047158023106, 233.39028065590162, 62.071883153165324, 319.04947940726976, 53.38181951172218, 202.35433907931895, 2328.937055906763, 93.10782472974797, 62.071883153165324, 52.14038184865886, 74.48625978379839, 89.38351174055806, 559.8883860415513, 103.03932603425443, 746.1040355010472, 38.484567554962496, 70.76194679460846, 64.55475847929193, 40.96744288108911, 134.0752676108371, 40.96744288108911, 129.10951695858387, 65.79619614235524, 73.24482212073508, 142.76533125228022, 17865.529409144045, 5634.8855526443485, 2047.1307063913923, 2405.906191016688, 1769.0486698652117, 1631.2490892651847, 1630.0076516021213, 1515.795386600297, 1029.151822679481, 810.658793980339, 916.1809953407201, 758.5184121316802, 681.5492770217552, 679.0664016956287, 675.3420887064387, 609.5458925640835, 793.2786666974528, 548.7154470739814, 497.81650288838586, 487.8850015838794, 485.4021262577528, 691.4807783262617, 466.78056131180324, 410.9158664739544, 608.3044549010201, 4086.812786804405, 3749.1417424511856, 1227.7818487696102, 2346.317183189649, 854.1091121875548, 2206.0347272634954, 5102.30879519019, 2290.4524883518, 5037.754036710898, 2346.317183189649, 2643.0207846617795, 1000.598756429025, 2482.875326126613, 993.1501304506452, 3404.022072119586, 1159.5027773011282, 2685.229665205932, 1327.0968618146746, 1241.4376630633064, 1226.5404111065468, 2183.688849328356, 1725.598351657996, 1308.4752968687249, 1484.7594450237143, 1341.9941137714343, 1323.3725488254845, 38.833922152545156, 47.32884262341441, 103.15260571769807, 58.25088322881773, 315.5256174894294, 82.52208457415846, 50.96952282521551, 71.60004396875513, 47.32884262341441, 52.18308289248255, 54.610203027016624, 67.95936376695401, 957.4988930736914, 61.89156343061884, 161.4034889465158, 94.65768524682882, 92.23056511229474, 123.78312686123768, 50.96952282521551, 48.54240269068145, 408.96974266899116, 839.7835665487889, 42.47460235434626, 155.33568861018063, 128.63736713030582, 236.64421311707204, 61.89156343061884, 199.0238510317939, 59.46444329608477, 37.62036208527812, 3093.364611463675, 2360.374330834385, 1702.6247743756517, 1680.780693164845, 4441.629846197352, 1448.9907203168411, 1440.4957998459718, 1501.1738032093238, 1200.2109065270988, 1422.2923988369662, 805.803884665312, 1482.9704022003182, 512.1223483866893, 503.62742791581996, 472.07486616687703, 463.5799456960078, 661.3902366605347, 558.2376309428365, 703.8648390148809, 413.8239829380593, 467.22062589780893, 462.3663856287407, 354.35953964197455, 354.35953964197455, 326.4476580948327, 316.7391775566964, 411.3968628035252, 2655.2694271802748, 11344.359508812253, 5677.033994675195, 1817.91298076602, 6028.966414182635, 3507.188594401734, 2334.8895694217777, 2344.5980499599136, 2561.8253020007132, 1231.7634682760415, 1344.624554531876, 4408.863724381142, 1393.1669572225574, 1890.726584802042, 4939.189473776837, 3200.1578973831743, 1543.64840556367, 2152.855559331722, 2560.611741933446, 3168.605335634231, 3015.696767158585, 1496.3195629402553, 1541.2212854291358, 1467.1941213258465, 67.03033062247064, 67.03033062247064, 67.03033062247064, 39.72167740590854, 83.16726206862099, 42.20428224377782, 301.6364878011179, 176.2649434887191, 64.54772578460137, 78.20205239288242, 201.09099186741193, 153.92149994789557, 269.3626249088172, 456.79929016794813, 93.09768142009811, 43.445584662712456, 119.1650322177256, 204.81489912421586, 39.72167740590854, 53.37600401418959, 57.099911270993516, 38.48037498697389, 93.09768142009811, 73.23684271714386, 130.33675398813736, 172.5410362319152, 96.82158867690205, 68.2716330414053, 530.036132885092, 44.6868870816471, 9082.609799344773, 7671.248949016085, 3191.3885190809638, 3116.910373944885, 2203.311793608989, 1849.540604212616, 1082.4157093110075, 968.2158867690204, 966.9745843500858, 645.4772578460137, 513.8992014389416, 397.2167740590853, 391.0102619644121, 490.3144554791835, 374.8733305182618, 450.5927780732749, 320.25602408513754, 389.76895954547746, 283.0169515170983, 265.63871765201327, 265.63871765201327, 258.1909031384055, 255.70829830053617, 253.2256934626669, 251.98439104373222, 394.73416922121606, 394.73416922121606, 934.7007214577851, 304.1190926389872, 2192.140071838577, 537.4839473986998, 9472.37875889025, 1175.5133907311056, 903.668160984419, 1139.515620582001, 10585.827028674625, 1676.9995679807007, 1781.2689711712105, 2468.9505112610022, 1516.8715559381321, 1365.4326608281058, 3561.296639923487, 2881.0629143473034, 8147.909077886988, 1037.7288222293605, 1641.0017978315961, 1612.4518421960993, 1101.0352455950272, 841.603040037687, 1443.6347132209883, 1048.9005439997723, 1156.893854447086, 1163.100366541759, 995.5245399855825, 688.5397252094543, 88.68490199477766, 227.87092873658148, 131.79561824223902, 9171.496947959922, 285.76246198317244, 357.2030774789656, 44.34245099738883, 1558.1444586582465, 176.13806923962787, 241.42001098578365, 711.9426854580763, 97.30704524426994, 328.87317823063387, 176.13806923962787, 55.428063746736036, 321.482769731069, 43.11071624746136, 5176.981153945147, 65.28194174615578, 172.44286498984545, 1321.6513866721727, 57.891533246590974, 67.74541124601072, 39.41551199767896, 75.13581974557552, 103.46571899390727, 485.30349147142215, 56.659798496663505, 54.196328996808575, 4180.507741253825, 3415.6004615488678, 2218.354284619369, 2040.9844806298136, 1330.273529921665, 1024.803311939653, 876.9951419483568, 1957.2265176347457, 799.3958527029264, 545.6584942178681, 620.7943139634436, 511.16992121989904, 479.1448177217849, 389.2281809770798, 793.2371789532891, 300.54327898230207, 277.1403187336802, 266.054705984333, 507.4747169701166, 1409.104553917023, 736.5773804566256, 792.0054442033617, 1284.6993441743487, 2061.9239713785805, 3818.377724775149, 715.6378897078587, 1896.8715148883, 2703.6577760907912, 4350.487136743815, 6252.2855906318255, 3190.1930023121413, 1692.4035464003405, 2755.390635587745, 2396.955823358852, 3070.7147315691764, 1627.1216046541847, 933.6549404450204, 1281.0041399245663, 1194.7827074296436, 2728.2924710893403, 2079.168257877565, 3134.7649385654045, 2744.3050228383977, 2815.745638334191, 1723.196915148527, 1354.9082249202145, 1400.4824106675305, 1364.7621029196341, 140.5465783000943, 78.2172261844003, 39.10861309220015, 281.0931566001886, 39.10861309220015, 135.65800166356928, 271.31600332713856, 78.2172261844003, 135.65800166356928, 824.947307413597, 39.10861309220015, 338.5339320793576, 39.10861309220015, 513.300546835127, 340.9782203976201, 381.3089776489515, 141.76872245922556, 73.32864954787529, 54.99648716090647, 86.77223529831909, 51.3300546835127, 70.88436122961278, 40.33075725133141, 47.66362220611894, 73.32864954787529, 59.88506379743149, 59.88506379743149, 41.55290141046266, 47.66362220611894, 70.88436122961278, 2941.7009910289303, 2264.633126870215, 1983.5399702700267, 1095.0411665816043, 1024.1568053519916, 872.6109296197159, 927.6074167806224, 697.8443148639465, 601.2949262925774, 543.8541508134084, 732.0643513196216, 637.959251066515, 636.7371069073837, 454.6376271968268, 416.7511582637579, 339.75607623848884, 329.9789229654388, 326.31249048804506, 322.6460580106513, 956.9388765997726, 658.7357017717463, 294.53674235063244, 359.3103827845889, 1509.3480365270998, 1535.0130638688563, 607.4056470882336, 5880.957693739599, 465.6369246290081, 669.7349992039276, 1521.5694781184125, 9455.729359198518, 633.07067442999, 2891.5930805045487, 741.8415045926718, 4596.48418249265, 2852.4844674123487, 789.5051267987907, 7731.283950664318, 3078.581136851631, 986.2703364189227, 7518.63086697548, 980.1596156232664, 2441.8440299442473, 2257.3002619154277, 988.7146247371851, 2172.9723149353713, 1873.5469959482136, 1905.3227440856265, 3077.3589926924997, 931.2738492580162, 1227.03273576778, 1189.146266834711, 1081.5975808311605, 1036.3782469433042, 48.45695225317025, 118.0361657449019, 42.244522477122786, 96.9139045063405, 59.6393258500557, 283.28679778776456, 77.0341292229886, 103.12633428238796, 859.8002810049696, 1185.331601269857, 414.9903090399709, 396.3530197118285, 93.18644664071202, 41.00203652191329, 214.9500702512424, 187.61537923663354, 100.64136237196898, 45.971980342751266, 43.487008432332274, 41.00203652191329, 70.82169944694114, 54.669382029217715, 127.97605338657785, 91.94396068550253, 111.82373596885442, 114.30870787927341, 89.45898877508353, 291.984199474231, 67.09424158131266, 38.5170646114943, 7017.56067502322, 4002.0472617297787, 3179.521559381094, 1610.2617979515037, 1483.5282305201354, 1281.003019820988, 1384.129354103376, 1073.5078653010025, 1042.4457164207652, 1128.1772473302203, 1120.7223315989634, 1049.9006321520221, 873.467626512274, 1181.6041434042284, 754.1889748121625, 649.8201545745651, 643.6077247985177, 546.6938202921772, 458.4773174723032, 417.47528095038984, 408.77787926392335, 402.5654494878759, 375.2307584732671, 367.7758427420101, 361.5634129659626, 361.5634129659626, 751.7040029017436, 571.5435393963671, 4366.095646606161, 577.7559691724146, 1207.6963484636278, 577.7559691724146, 3665.333567868006, 1151.7844804792005, 6224.854635599563, 3318.679986364557, 2593.068188522213, 1989.2200142903991, 4543.771138201118, 5701.768048456366, 4031.8669246548066, 2222.807373869784, 5048.220436016172, 1412.7065310731941, 1653.7488063838362, 2544.611236269043, 1505.8929777139062, 2081.1639749759015, 1443.7686799534317, 1180.3616574490188, 1130.6622192406392, 48.44015911529687, 72.03921099197996, 111.784982573762, 64.58687882039582, 95.63826286866305, 48.44015911529687, 53.40838056301963, 95.63826286866305, 43.47193766757411, 39.745771581782044, 45.95604839143549, 65.8289341823265, 44.7139930295048, 75.76537707777203, 125.44759155499958, 484.40159115296865, 175.12980603222715, 922.8471339145019, 288.1568439679198, 387.521272922375, 1778.6232782847464, 350.2596120644543, 1137.722711528511, 2435.670564746081, 376.3427746649988, 437.20348739960247, 3329.950425336177, 69.55510026811858, 21112.45704209785, 38.503716219851356, 2460.5116719846947, 784.9789887401953, 4732.230928955924, 870.680808713413, 233.50640804296953, 55.892491286881, 53.40838056301963, 1733.9092852552417, 803.6098191691557, 191.2765257373261, 731.5706081771758, 79.49154316356409, 14057.582586331537, 6996.49785375557, 930.2994660860859, 6915.764255230076, 10018.418549332937, 3315.0457609930086, 1419.6692786867775, 648.3528989278195, 2121.4305581776166, 2757.362903486129, 5072.554098124933, 10280.492230700313, 3246.732716086821, 1166.2899848529169, 5133.414810859537, 1912.765257373261, 1430.8477769441536, 2135.093167158854, 1412.216946515193, 1759.9924478557862, 1641.997188472371, 2051.875457909498, 1085.556386327422, 1301.6740193033618, 1121.575991823412, 38.94162120182867, 43.809323852057254, 40.15854686438582, 36.50776987671438, 60.8462831278573, 76.66631674110019, 99.78790432968596, 64.49706011552874, 86.40172204155735, 158.20033613242896, 102.22175565480025, 130.2110458936146, 63.28013445297159, 46.243175177171544, 62.063208790414436, 141.16337685662893, 46.243175177171544, 107.08945830502884, 122.90949191827174, 52.327803489957276, 48.67702650228584, 413.7547252694296, 4227.599751723525, 195.92503167170048, 53.54472915251442, 3311.254727817994, 42.5923981895001, 38.94162120182867, 188.6234776963576, 758.144687773102, 4057.230158965525, 3007.0233121787073, 1220.5764395448173, 1448.1415384430036, 966.2389760703738, 854.2818151151165, 961.3712734201454, 787.3509036744733, 660.7906347685301, 653.4890807931873, 743.5415798224161, 539.0980685128156, 514.7595552616727, 440.5270898456868, 531.7965145374728, 386.9823606931724, 356.55921912924373, 345.6068881662294, 340.7391855160008, 282.32675371325786, 451.47942080870115, 250.68668648677203, 237.30050419864344, 231.2158758858577, 225.131247573072, 225.131247573072, 604.8120542909015, 320.0514492525294, 287.19445636348644, 5213.309538394813, 406.45317129408676, 1258.3011350840889, 1812.0023115475901, 8575.675144040208, 1790.0976496215615, 1650.1511984274898, 3987.865396199767, 640.1028985050588, 2309.724907533463, 1411.6337685662893, 4124.161070406167, 5297.277409111256, 2960.780137001536, 2113.7998758617623, 2895.06615122345, 4326.170730390653, 1848.5100814243046, 1769.40991335809, 2146.656868750805, 1415.2845455539607, 2054.1705183964623, 2157.6091997138196, 1316.7135668868318, 1349.570559775875, 1204.7564059315746, 1249.7826554461888, 63.535615550912134, 2433.5339541198423, 88.71010473146222, 148.64936468515293, 64.73440074998595, 239.75703981476275, 76.72225274072409, 371.62341171288233, 93.50524552775748, 351.2440633286275, 51.547763560174, 47.95140796295256, 38.361126370362044, 176.22142426385065, 155.8420758795958, 65.93318594905976, 189.4080614536626, 86.3125343333146, 53.945333958321626, 123.47487550460282, 109.08945311571705, 61.13804515276451, 279.3169513841986, 285.31087737956767, 281.71452178234625, 40.75869676850967, 57.54168955554306, 286.5096625786415, 407.58696768509674, 203.79348384254837, 12912.11537922405, 661.7294298887452, 141.45665349071004, 85.11374913424079, 82.71617873609316, 74.32468234257647, 69.52954154628121, 64.73440074998595, 9744.924883271033, 1868.9061253560758, 206.191054240696, 339.2562113378893, 21531.380960564773, 472.3213684350826, 21705.204814430475, 3198.3589111289352, 2103.8680243745434, 2525.8404144485257, 414.77967887953963, 3581.9701748325556, 1341.4406377635976, 2874.6869073790053, 10759.097161687478, 2379.5886201615203, 811.577579772972, 859.5289877359246, 2799.1634398373553, 565.8266139628402, 4638.099935216585, 6337.977347503253, 480.7128648285994, 1243.140251439545, 2065.506898004181, 1396.5847569209932, 734.8553270322479, 1238.3451106432497, 981.8050780414535, 896.6913289072127, 569.4229695600616, 828.3605725600054, 660.5306446896714, 622.1695183193093], \"Total\": [29758.0, 31384.0, 21112.0, 17869.0, 23988.0, 23058.0, 13204.0, 19641.0, 16131.0, 33201.0, 14241.0, 27623.0, 22254.0, 14411.0, 10394.0, 12881.0, 9171.0, 9082.0, 14292.0, 12426.0, 15380.0, 12391.0, 19616.0, 11381.0, 10213.0, 7672.0, 13504.0, 14150.0, 12466.0, 7019.0, 343.2727994205792, 344.49441080641753, 47.64284404769604, 89.17763116620029, 338.38635387722576, 193.01459896246087, 1399.9666481707607, 58.63734652024128, 37.86995296098916, 502.082279579566, 182.02009648991563, 164.9175370881786, 122.16113858383599, 83.06957423700848, 92.84246532371536, 310.28929200294345, 194.23621034829924, 36.6483415751508, 39.09156434682752, 293.1867326012064, 51.307678205211126, 109.9450247254524, 48.8644554335344, 211.33876975003628, 45.19962127601932, 84.29118562284684, 63.52379206359472, 59.858957906079645, 39.09156434682752, 114.83147026880586, 3308.118947126997, 3082.125526470182, 1911.8218188370336, 1883.7247569627511, 1457.3823833051636, 1586.9125722702222, 1332.7780219496508, 1325.4483536346206, 1282.691955130278, 1259.4813387993493, 1236.2707224684202, 1349.8725300328165, 831.9173537559233, 773.2800072356819, 753.7342250622681, 706.0913810145721, 686.5455988411584, 685.32398745532, 665.7782052819063, 627.9082523209171, 612.0273043050184, 605.9192473758266, 579.0437968873827, 571.7141285723525, 524.0712845246564, 696.3387366560434, 470.3203835477686, 469.09877216193024, 8282.348221915126, 1011.0044032273328, 938.028475452315, 700.4634391809163, 2023.217547464269, 5821.5905576773985, 2482.6686302633225, 5201.775565243726, 3171.031080130286, 14292.83916506763, 12426.419314640218, 2549.6169818781436, 9058.137961633029, 3524.5413317940543, 5974.399757894445, 15380.73568140632, 16131.193172849875, 6429.961310650055, 2645.9785883498985, 17813.145509717157, 8582.436680851879, 10635.27467659142, 8045.424490450451, 1491.621809365719, 311.16613903986854, 48.156664375217744, 83.96546609012324, 586.5234763648316, 50.626236907280195, 59.26974076949877, 217.32238282149547, 1014.9943106776664, 46.921878109186515, 44.45230557712408, 145.70477939168447, 50.626236907280195, 55.56538197140509, 242.01810814211998, 467.98399482583403, 49.39145064124897, 585.2886900988003, 382.78374246967957, 591.4626214289564, 72.85238969584223, 39.51316051299918, 6244.314147319901, 117.3046952729663, 55.56538197140509, 43.21751931109285, 70.38281716377978, 80.26110729202958, 146.9395656577157, 79.02632102599836, 2758.512518313755, 1863.2924754411176, 1674.3701767383402, 1511.3783896222185, 800.1415003882335, 591.4626214289564, 560.5929647781758, 553.1842471819884, 503.7927965407395, 613.6761321106185, 582.8257689637699, 744.5124398205357, 454.40134589949054, 442.0534832391783, 430.94040684489727, 408.7142540563352, 402.5403227261791, 402.5403227261791, 365.4967347452424, 469.2260501877647, 351.9140858188989, 322.27921543414953, 3703.025931145139, 4745.387771705637, 1852.284358697824, 5028.3267602940105, 2247.2591340467425, 1668.7497297935593, 12881.321218307632, 3315.426593876643, 4324.795078923389, 4151.986192364426, 12466.067952790781, 1207.5212096911628, 8582.436680851879, 2987.05059335468, 8706.509949697667, 2698.5832391595904, 1547.8646185550847, 1247.584675318902, 13504.982040043196, 9587.231866303906, 4221.539877089453, 2873.980903601914, 2003.254915126707, 3917.8425584318265, 3246.41014642543, 7588.347818942688, 1985.4161180981832, 3191.2447918849844, 62.48245186262517, 3199.1015353664084, 57.48385571361515, 47.48666341559513, 2021.9321422745504, 64.98174993713017, 114.9677114272303, 64.98174993713017, 42.48806726658511, 72.4796441606452, 47.48666341559513, 99.97192298020026, 54.98455763911015, 84.97613453317022, 58.73350475086766, 299.9157689406008, 48.73631245284763, 66.23139897438267, 162.45437484282544, 73.7292931978977, 43.737716303837615, 53.73490860185765, 63.73210089987768, 128.71385083700787, 88.72508164492774, 331.15699487191335, 182.4487594388655, 5850.856792416221, 768.5341579102895, 293.66752375433833, 5113.563860437244, 3800.182722284863, 3205.3415691784817, 2259.365459352526, 2241.862161456802, 1843.2323299474426, 472.36733608144624, 297.4082594919066, 289.88585326788547, 174.95086521535046, 472.2551854757897, 141.21034120953288, 119.96630757624033, 118.71665853898782, 283.6536382196826, 775.714688045749, 89.97473068218025, 277.3917115687685, 733.3577447341012, 5916.419419188573, 218.6375655938944, 16131.193172849875, 138.6601792968492, 1109.214724634664, 1007.4507628627136, 939.5739494549707, 12426.419314640218, 10635.27467659142, 14292.83916506763, 6429.961310650055, 8261.592184883522, 6962.595476796879, 1263.013914614695, 4414.7350326856995, 19616.499892765216, 1914.8603989647663, 17813.145509717157, 2844.9141405992386, 5494.36020051943, 9058.137961633029, 2697.683978444268, 12041.311105809627, 3524.5413317940543, 7496.033257374125, 3431.982166273893, 19641.738958826594, 107.57948610046348, 276.9862630632623, 48.22528687262156, 461.2315898330216, 48.22528687262156, 69.24656576581557, 314.0826375806635, 1209.3418092672791, 485.9625061779558, 102.63330283147666, 279.4593546977557, 74.1927490348024, 69.24656576581557, 82.84856975552935, 2094.708614415921, 59.35419922784192, 61.82729086233533, 61.82729086233533, 38.33292033464791, 416.7159404121402, 129.8373108109042, 80.37547812103594, 55.6445617761018, 55.6445617761018, 71.71965740030899, 138.49313153163115, 357.36174118429824, 61.82729086233533, 485.9625061779558, 660.3154664097414, 5813.001886876768, 4251.244519694178, 2432.285622524272, 2175.084092536957, 1847.39945096658, 2005.6593948136117, 1370.092765509351, 1013.9675701422995, 1554.36744335401, 1058.4891597011438, 749.3467652515043, 735.7447612617905, 607.143996268133, 591.0689006439259, 735.7526842315315, 510.6934225228899, 490.90868944694256, 400.64084478793296, 395.6946615189462, 370.963745174012, 343.75973719458443, 332.63082483936415, 988.2490691602288, 583.5823740515563, 427.8613814014124, 5583.7717315728, 1557.564231984094, 2113.1063833476283, 998.9318607373845, 5806.64803588314, 8706.509949697667, 3191.2447918849844, 1442.186697619945, 27623.808731632613, 7496.033257374125, 2643.2382225812526, 1274.3895823434505, 12466.067952790781, 2572.7359419271534, 16156.258272189863, 3197.870751250551, 4151.986192364426, 7588.347818942688, 4324.795078923389, 5974.399757894445, 2697.683978444268, 41.22623519213226, 3196.9071471717107, 42.4755150464393, 42.4755150464393, 41.22623519213226, 168.65278033145015, 91.19742936441378, 38.72767548351818, 46.22335460936041, 42.4755150464393, 38.72767548351818, 41.22623519213226, 77.45535096703637, 41.22623519213226, 38.72767548351818, 652.1240839482739, 174.89917960298533, 274.8415679475484, 93.69598907302786, 61.214712861044866, 97.44382863594898, 116.18302645055455, 64.96255242396599, 89.94814951010676, 163.655660914222, 58.71615315243079, 49.97119417228153, 54.968313589509684, 39.976955337825224, 567.1730538553953, 5474.3443215734405, 2379.8491352783562, 991.9282043197883, 622.1413674449051, 454.7378669677619, 449.7407475505338, 484.706089882855, 374.78395629211144, 361.04187789473406, 361.04187789473406, 465.96384055214565, 522.1640012139225, 417.2526774394532, 226.1196536295739, 218.6239745037317, 201.13405654343316, 540.9400228296748, 148.66430266253755, 144.91646309961644, 312.2485240026795, 117.43230630486158, 104.9395077617912, 3367.683724972863, 450.79634812556003, 164.90530995147452, 1472.968881484585, 8045.424490450451, 5433.580277357712, 1208.7728067628268, 978.2650791331309, 1527.567580731626, 7428.9658088100205, 10054.368460262953, 535.4980050673568, 2613.3883501825376, 2742.8733229727777, 4215.92280723482, 12041.311105809627, 3370.907534102234, 1081.976952339771, 27623.808731632613, 5262.698256645534, 7588.347818942688, 1521.792199948167, 16156.258272189863, 2339.4140948032236, 2699.130903410836, 4352.4140591821915, 4239.086426119349, 3092.7452398100263, 9058.137961633029, 7496.033257374125, 33201.893467743204, 19616.499892765216, 3660.420708252398, 3392.044426792534, 604.5801419118302, 115.4537026648875, 47.17463119640565, 62.071883153165324, 1474.8279437192082, 259.46047158023106, 233.39028065590162, 62.071883153165324, 319.04947940726976, 53.38181951172218, 202.35433907931895, 2328.937055906763, 93.10782472974797, 62.071883153165324, 52.14038184865886, 74.48625978379839, 89.38351174055806, 559.8883860415513, 103.03932603425443, 746.1040355010472, 38.484567554962496, 70.76194679460846, 64.55475847929193, 40.96744288108911, 134.0752676108371, 40.96744288108911, 129.10951695858387, 65.79619614235524, 73.24482212073508, 142.76533125228022, 17869.170089345847, 5634.8855526443485, 2047.1307063913923, 2410.8714006924265, 1770.2899722841462, 1631.2490892651847, 1630.0076516021213, 1515.795386600297, 1029.151822679481, 810.658793980339, 917.4230507026508, 758.5184121316802, 681.5492770217552, 679.0664016956287, 675.3420887064387, 609.5458925640835, 795.6762370956004, 548.7154470739814, 497.81650288838586, 487.8850015838794, 485.4021262577528, 693.9648444466, 466.78056131180324, 410.9158664739544, 610.7476776726968, 4828.31710626074, 5405.353388756595, 1490.9379615837543, 3447.3952878864766, 1003.5259500665113, 3509.732325841461, 11381.292707301891, 4221.539877089453, 14150.612921213778, 5517.368964620152, 6962.595476796879, 1370.4643600516874, 7817.991355576334, 1418.2708927223946, 17813.145509717157, 1961.3841399329067, 22254.724273823515, 3476.8427802731076, 3031.5353126848677, 2946.5423891659975, 33201.893467743204, 15380.73568140632, 4784.77153737467, 23988.415102650015, 12041.311105809627, 27623.808731632613, 38.833922152545156, 47.32884262341441, 103.15260571769807, 58.25088322881773, 315.5256174894294, 82.52208457415846, 50.96952282521551, 71.60004396875513, 47.32884262341441, 52.18308289248255, 54.610203027016624, 67.95936376695401, 957.4988930736914, 61.89156343061884, 161.4034889465158, 94.65768524682882, 92.23056511229474, 123.78312686123768, 50.96952282521551, 48.54240269068145, 408.96974266899116, 839.7835665487889, 42.47460235434626, 155.33568861018063, 128.63736713030582, 236.64421311707204, 61.89156343061884, 199.0238510317939, 59.46444329608477, 37.62036208527812, 3093.364611463675, 2360.374330834385, 1703.859560641683, 1682.0219955837795, 4491.287352719884, 1448.9907203168411, 1440.4957998459718, 1502.395947368455, 1200.2109065270988, 1424.7765095608277, 805.803884665312, 1497.7512191994479, 512.1223483866893, 503.62742791581996, 472.07486616687703, 463.5799456960078, 663.8598091925971, 559.469365692764, 707.5600432646632, 413.8239829380593, 468.4523606477364, 463.6084409906714, 354.35953964197455, 354.35953964197455, 326.4476580948327, 316.7391775566964, 413.8809735273866, 2922.354525949486, 14241.898751670196, 6881.790400606769, 2176.906051220378, 8827.21096564507, 4830.835550194885, 3063.592375136496, 3260.9430738654446, 3682.494690615108, 1543.2964378906709, 1825.3374193604752, 9699.33737397454, 2001.7488170609433, 3245.6348097222563, 14411.568232667087, 8261.592184883522, 2679.666805360206, 5344.289999306926, 7773.921280328259, 14150.612921213778, 16156.258272189863, 2609.1943122491325, 3016.453128819333, 23058.309853450988, 67.03033062247064, 67.03033062247064, 67.03033062247064, 39.72167740590854, 83.16726206862099, 42.20428224377782, 301.6364878011179, 176.2649434887191, 64.54772578460137, 78.20205239288242, 201.09099186741193, 153.92149994789557, 269.3626249088172, 456.79929016794813, 93.09768142009811, 43.445584662712456, 119.1650322177256, 204.81489912421586, 39.72167740590854, 53.37600401418959, 57.099911270993516, 38.48037498697389, 93.09768142009811, 73.23684271714386, 130.33675398813736, 172.5410362319152, 96.82158867690205, 68.2716330414053, 530.036132885092, 44.6868870816471, 9082.609799344773, 7672.490386679148, 3191.3885190809638, 3116.910373944885, 2203.311793608989, 1853.1369598098374, 1082.4157093110075, 968.2158867690204, 968.2160220131491, 645.4772578460137, 513.8992014389416, 397.2167740590853, 391.0102619644121, 491.5492417452147, 374.8733305182618, 451.8424271105274, 320.25602408513754, 391.0006942954049, 283.0169515170983, 265.63871765201327, 265.63871765201327, 258.1909031384055, 255.70829830053617, 253.2256934626669, 251.98439104373222, 397.2127704003934, 398.4820087841372, 975.3479682053916, 307.8022252383167, 2597.7150519369125, 577.3589542503565, 14411.568232667087, 1441.7851073293118, 1068.0633106987534, 1411.3904687928652, 19641.738958826594, 2372.6646865888215, 2991.2135845056214, 4784.77153737467, 2535.903063567543, 2333.7154510096207, 9587.231866303906, 7060.369688213246, 33201.893467743204, 1646.0332771303806, 3510.320018422937, 3476.8427802731076, 2095.8924120582933, 1354.0070214228572, 5257.29421309382, 2882.6246330759873, 4215.92280723482, 16156.258272189863, 2571.5125125651193, 688.5397252094543, 88.68490199477766, 227.87092873658148, 131.79561824223902, 9171.496947959922, 285.76246198317244, 357.2030774789656, 44.34245099738883, 1558.1444586582465, 176.13806923962787, 241.42001098578365, 711.9426854580763, 97.30704524426994, 328.87317823063387, 176.13806923962787, 55.428063746736036, 321.482769731069, 43.11071624746136, 5176.981153945147, 65.28194174615578, 172.44286498984545, 1321.6513866721727, 57.891533246590974, 67.74541124601072, 39.41551199767896, 75.13581974557552, 103.46571899390727, 485.30349147142215, 56.659798496663505, 54.196328996808575, 4180.507741253825, 3415.6004615488678, 2218.354284619369, 2043.4116007643477, 1330.273529921665, 1026.0380982056843, 876.9951419483568, 1974.4767754687368, 799.3958527029264, 545.6584942178681, 622.0112396260008, 511.16992121989904, 479.1448177217849, 389.2281809770798, 799.4244130775094, 300.54327898230207, 277.1403187336802, 266.054705984333, 511.1395511276317, 1437.2138695770418, 746.5716192910819, 806.9018261735735, 1361.216568027706, 2304.2450979939517, 4447.052519043618, 751.1375451020753, 2171.2292384252905, 3267.963207369963, 6255.809880829442, 11381.292707301891, 5344.289999306926, 2458.212097090555, 5262.698256645534, 5201.775565243726, 7952.16397141505, 3000.864914390146, 1156.100689822105, 2294.0823898168537, 2147.844855478195, 17813.145509717157, 9587.231866303906, 33201.893467743204, 23988.415102650015, 27623.808731632613, 7428.9658088100205, 3245.6348097222563, 14150.612921213778, 10054.368460262953, 140.5465783000943, 78.2172261844003, 39.10861309220015, 281.0931566001886, 39.10861309220015, 135.65800166356928, 271.31600332713856, 78.2172261844003, 135.65800166356928, 824.947307413597, 39.10861309220015, 338.5339320793576, 39.10861309220015, 513.300546835127, 340.9782203976201, 381.3089776489515, 141.76872245922556, 73.32864954787529, 54.99648716090647, 86.77223529831909, 51.3300546835127, 70.88436122961278, 40.33075725133141, 47.66362220611894, 73.32864954787529, 59.88506379743149, 59.88506379743149, 41.55290141046266, 47.66362220611894, 70.88436122961278, 2941.7009910289303, 2265.8827759074675, 1983.5399702700267, 1095.0411665816043, 1024.1568053519916, 872.6109296197159, 930.0506395522991, 697.8443148639465, 601.2949262925774, 543.8541508134084, 734.4619217177692, 639.1940373325463, 637.9795928625932, 454.6376271968268, 416.7511582637579, 339.75607623848884, 329.9789229654388, 326.31249048804506, 322.6460580106513, 967.8005052453702, 663.7199717566702, 294.53674235063244, 360.55966263889593, 1539.8883211730588, 1599.9872201306646, 619.8305066403286, 6550.1724713113745, 478.061784181103, 707.1998070349437, 1731.50335329479, 15380.73568140632, 690.4864095643929, 4397.486058218455, 861.8744769343715, 8279.12420624645, 4561.987331018914, 933.1723100441001, 19641.738958826594, 6266.48444186019, 1286.665521801106, 29758.287692847887, 1326.5462695811498, 5821.5905576773985, 5494.36020051943, 1358.9754393896142, 5733.575092223772, 4750.677126098895, 6255.809880829442, 19616.499892765216, 1420.3782104801323, 3435.5273559662182, 3509.732325841461, 3138.1629051092805, 2404.5746368913765, 48.45695225317025, 118.0361657449019, 42.244522477122786, 96.9139045063405, 59.6393258500557, 283.28679778776456, 77.0341292229886, 103.12633428238796, 859.8002810049696, 1185.331601269857, 414.9903090399709, 396.3530197118285, 93.18644664071202, 41.00203652191329, 214.9500702512424, 187.61537923663354, 100.64136237196898, 45.971980342751266, 43.487008432332274, 41.00203652191329, 70.82169944694114, 54.669382029217715, 127.97605338657785, 91.94396068550253, 111.82373596885442, 114.30870787927341, 89.45898877508353, 291.984199474231, 67.09424158131266, 38.5170646114943, 7019.958245421368, 4002.0472617297787, 3179.521559381094, 1610.2617979515037, 1483.5282305201354, 1281.003019820988, 1385.3509654892143, 1073.5078653010025, 1042.4457164207652, 1129.4089820801478, 1121.9716114532705, 1051.099417351096, 873.467626512274, 1186.471846054457, 754.1889748121625, 649.8201545745651, 643.6077247985177, 546.6938202921772, 458.4773174723032, 417.47528095038984, 408.77787926392335, 402.5654494878759, 375.2307584732671, 367.7758427420101, 361.5634129659626, 361.5634129659626, 757.8673967678727, 575.1398949935885, 4693.64943951314, 583.9299005025707, 1251.7807766788726, 596.0881315593833, 4650.488098902333, 1316.835184977647, 10213.933591866597, 5257.29421309382, 3992.1260370776995, 3431.982166273893, 14150.612921213778, 23988.415102650015, 16156.258272189863, 5806.026828556647, 31384.95637589522, 2673.3916113867367, 5405.353388756595, 19616.499892765216, 4397.486058218455, 17813.145509717157, 10635.27467659142, 7952.16397141505, 5733.575092223772, 48.44015911529687, 72.03921099197996, 111.784982573762, 64.58687882039582, 95.63826286866305, 48.44015911529687, 53.40838056301963, 95.63826286866305, 43.47193766757411, 39.745771581782044, 45.95604839143549, 65.8289341823265, 44.7139930295048, 75.76537707777203, 125.44759155499958, 484.40159115296865, 175.12980603222715, 922.8471339145019, 288.1568439679198, 387.521272922375, 1778.6232782847464, 350.2596120644543, 1137.722711528511, 2435.670564746081, 376.3427746649988, 437.20348739960247, 3329.950425336177, 69.55510026811858, 21112.45704209785, 38.503716219851356, 2477.934725238873, 789.9775848892053, 4861.225049186982, 879.3318183668207, 235.97598057503197, 55.892491286881, 53.40838056301963, 1813.0291083941133, 837.128636071865, 199.82780543819462, 869.3701887772029, 80.73402911877358, 23988.415102650015, 12391.874763440772, 1303.159112391214, 13504.982040043196, 22254.724273823515, 6079.383298942032, 2260.9728158942594, 925.1934977909368, 3963.60527466535, 5717.597220336442, 12881.321218307632, 33201.893467743204, 7817.991355576334, 2405.892233960688, 27623.808731632613, 5806.64803588314, 3660.420708252398, 10054.368460262953, 4867.042460893782, 9699.33737397454, 7952.16397141505, 23058.309853450988, 2582.2740108314633, 8279.12420624645, 9587.231866303906, 38.94162120182867, 43.809323852057254, 40.15854686438582, 36.50776987671438, 60.8462831278573, 76.66631674110019, 99.78790432968596, 64.49706011552874, 86.40172204155735, 158.20033613242896, 102.22175565480025, 130.2110458936146, 63.28013445297159, 46.243175177171544, 62.063208790414436, 141.16337685662893, 46.243175177171544, 107.08945830502884, 122.90949191827174, 52.327803489957276, 48.67702650228584, 413.7547252694296, 4227.599751723525, 195.92503167170048, 53.54472915251442, 3311.254727817994, 42.5923981895001, 38.94162120182867, 188.6234776963576, 758.144687773102, 4058.479808002777, 3007.0233121787073, 1221.8081742947447, 1453.0301150795285, 966.2389760703738, 854.2818151151165, 962.61257583908, 787.3509036744733, 660.7906347685301, 653.4890807931873, 744.7781256396628, 539.0980685128156, 514.7595552616727, 440.5270898456868, 533.0378169564075, 386.9823606931724, 356.55921912924373, 345.6068881662294, 340.7391855160008, 282.32675371325786, 453.97871888320617, 250.68668648677203, 237.30050419864344, 231.2158758858577, 225.131247573072, 225.131247573072, 614.6659322903213, 321.2502344516032, 288.42924262951766, 7773.921280328259, 446.2198849428336, 1766.8150085432621, 3026.826649892514, 23058.309853450988, 3031.5353126848677, 2898.289307650154, 10213.933591866597, 838.5671344586353, 6216.187229334673, 3084.180546366658, 19616.499892765216, 33201.893467743204, 12466.067952790781, 7060.369688213246, 14241.898751670196, 31384.95637589522, 6266.48444186019, 5733.575092223772, 8827.21096564507, 4613.643456682896, 13504.982040043196, 22254.724273823515, 4352.4140591821915, 6079.383298942032, 6881.790400606769, 9699.33737397454, 63.535615550912134, 2433.5339541198423, 88.71010473146222, 148.64936468515293, 64.73440074998595, 239.75703981476275, 76.72225274072409, 371.62341171288233, 93.50524552775748, 351.2440633286275, 51.547763560174, 47.95140796295256, 38.361126370362044, 176.22142426385065, 155.8420758795958, 65.93318594905976, 189.4080614536626, 86.3125343333146, 53.945333958321626, 123.47487550460282, 109.08945311571705, 61.13804515276451, 279.3169513841986, 285.31087737956767, 281.71452178234625, 40.75869676850967, 57.54168955554306, 286.5096625786415, 407.58696768509674, 203.79348384254837, 13204.177538237764, 665.395862366139, 141.45665349071004, 85.11374913424079, 82.71617873609316, 74.32468234257647, 69.52954154628121, 64.73440074998595, 10394.763187076549, 1943.1385907720617, 208.6720688449305, 363.5947245890322, 29758.287692847887, 529.5164857693046, 31384.95637589522, 4613.643456682896, 2921.7174587110662, 3615.0780986406326, 497.9469409481606, 5806.026828556647, 1904.0813961061963, 4750.677126098895, 23058.309853450988, 3946.5048552052413, 1149.2118377231945, 1250.6161251568583, 6216.187229334673, 774.3511505387961, 12391.874763440772, 22254.724273823515, 637.3914793371047, 2898.289307650154, 7060.369688213246, 3992.1260370776995, 1511.4162121202244, 4867.042460893782, 3138.1629051092805, 2882.6246330759873, 1035.0502243109552, 3510.320018422937, 5733.575092223772, 2991.2135845056214], \"Category\": [\"Default\", \"Default\", \"Default\", \"Default\", \"Default\", \"Default\", \"Default\", \"Default\", \"Default\", \"Default\", \"Default\", \"Default\", \"Default\", \"Default\", \"Default\", \"Default\", \"Default\", \"Default\", \"Default\", \"Default\", \"Default\", \"Default\", \"Default\", \"Default\", \"Default\", \"Default\", \"Default\", \"Default\", \"Default\", \"Default\", \"Topic1\", \"Topic1\", \"Topic1\", \"Topic1\", \"Topic1\", \"Topic1\", \"Topic1\", \"Topic1\", \"Topic1\", \"Topic1\", \"Topic1\", \"Topic1\", \"Topic1\", \"Topic1\", \"Topic1\", \"Topic1\", \"Topic1\", \"Topic1\", \"Topic1\", \"Topic1\", \"Topic1\", \"Topic1\", \"Topic1\", \"Topic1\", \"Topic1\", \"Topic1\", \"Topic1\", \"Topic1\", \"Topic1\", \"Topic1\", \"Topic1\", \"Topic1\", \"Topic1\", \"Topic1\", \"Topic1\", \"Topic1\", \"Topic1\", \"Topic1\", \"Topic1\", \"Topic1\", \"Topic1\", \"Topic1\", \"Topic1\", \"Topic1\", \"Topic1\", \"Topic1\", \"Topic1\", \"Topic1\", \"Topic1\", \"Topic1\", \"Topic1\", \"Topic1\", \"Topic1\", \"Topic1\", \"Topic1\", \"Topic1\", \"Topic1\", \"Topic1\", \"Topic1\", \"Topic1\", \"Topic1\", \"Topic1\", \"Topic1\", \"Topic1\", \"Topic1\", \"Topic1\", \"Topic1\", \"Topic1\", \"Topic1\", \"Topic1\", \"Topic1\", \"Topic1\", \"Topic1\", \"Topic1\", \"Topic1\", \"Topic1\", \"Topic1\", \"Topic1\", \"Topic1\", \"Topic1\", \"Topic1\", \"Topic2\", \"Topic2\", \"Topic2\", \"Topic2\", \"Topic2\", \"Topic2\", \"Topic2\", \"Topic2\", \"Topic2\", \"Topic2\", \"Topic2\", \"Topic2\", \"Topic2\", \"Topic2\", \"Topic2\", \"Topic2\", \"Topic2\", \"Topic2\", \"Topic2\", \"Topic2\", \"Topic2\", \"Topic2\", \"Topic2\", \"Topic2\", \"Topic2\", \"Topic2\", \"Topic2\", \"Topic2\", \"Topic2\", \"Topic2\", \"Topic2\", \"Topic2\", \"Topic2\", \"Topic2\", \"Topic2\", \"Topic2\", \"Topic2\", \"Topic2\", \"Topic2\", \"Topic2\", \"Topic2\", \"Topic2\", \"Topic2\", \"Topic2\", \"Topic2\", \"Topic2\", \"Topic2\", \"Topic2\", \"Topic2\", \"Topic2\", \"Topic2\", \"Topic2\", \"Topic2\", \"Topic2\", \"Topic2\", \"Topic2\", \"Topic2\", \"Topic2\", \"Topic2\", \"Topic2\", \"Topic2\", \"Topic2\", \"Topic2\", \"Topic2\", \"Topic2\", \"Topic2\", \"Topic2\", \"Topic2\", \"Topic2\", \"Topic2\", \"Topic2\", \"Topic2\", \"Topic2\", \"Topic2\", \"Topic2\", \"Topic2\", \"Topic2\", \"Topic2\", \"Topic2\", \"Topic2\", \"Topic3\", \"Topic3\", \"Topic3\", \"Topic3\", \"Topic3\", \"Topic3\", \"Topic3\", \"Topic3\", \"Topic3\", \"Topic3\", \"Topic3\", \"Topic3\", \"Topic3\", \"Topic3\", \"Topic3\", \"Topic3\", \"Topic3\", \"Topic3\", \"Topic3\", \"Topic3\", \"Topic3\", \"Topic3\", \"Topic3\", \"Topic3\", \"Topic3\", \"Topic3\", \"Topic3\", \"Topic3\", \"Topic3\", \"Topic3\", \"Topic3\", \"Topic3\", \"Topic3\", \"Topic3\", \"Topic3\", \"Topic3\", \"Topic3\", \"Topic3\", \"Topic3\", \"Topic3\", \"Topic3\", \"Topic3\", \"Topic3\", \"Topic3\", \"Topic3\", \"Topic3\", \"Topic3\", \"Topic3\", \"Topic3\", \"Topic3\", \"Topic3\", \"Topic3\", \"Topic3\", \"Topic3\", \"Topic3\", \"Topic3\", \"Topic3\", \"Topic3\", \"Topic3\", \"Topic3\", \"Topic3\", \"Topic3\", \"Topic3\", \"Topic3\", \"Topic3\", \"Topic3\", \"Topic3\", \"Topic3\", \"Topic3\", \"Topic3\", \"Topic3\", \"Topic3\", \"Topic3\", \"Topic3\", \"Topic3\", \"Topic3\", \"Topic4\", \"Topic4\", \"Topic4\", \"Topic4\", \"Topic4\", \"Topic4\", \"Topic4\", \"Topic4\", \"Topic4\", \"Topic4\", \"Topic4\", \"Topic4\", \"Topic4\", \"Topic4\", \"Topic4\", \"Topic4\", \"Topic4\", \"Topic4\", \"Topic4\", \"Topic4\", \"Topic4\", \"Topic4\", \"Topic4\", \"Topic4\", \"Topic4\", \"Topic4\", \"Topic4\", \"Topic4\", \"Topic4\", \"Topic4\", \"Topic4\", \"Topic4\", \"Topic4\", \"Topic4\", \"Topic4\", \"Topic4\", \"Topic4\", \"Topic4\", \"Topic4\", \"Topic4\", \"Topic4\", \"Topic4\", \"Topic4\", \"Topic4\", \"Topic4\", \"Topic4\", \"Topic4\", \"Topic4\", \"Topic4\", \"Topic4\", \"Topic4\", \"Topic4\", \"Topic4\", \"Topic4\", \"Topic4\", \"Topic4\", \"Topic4\", \"Topic4\", \"Topic4\", \"Topic4\", \"Topic4\", \"Topic4\", \"Topic4\", \"Topic4\", \"Topic4\", \"Topic4\", \"Topic4\", \"Topic4\", \"Topic4\", \"Topic4\", \"Topic4\", \"Topic4\", \"Topic4\", \"Topic4\", \"Topic4\", \"Topic4\", \"Topic5\", \"Topic5\", \"Topic5\", \"Topic5\", \"Topic5\", \"Topic5\", \"Topic5\", \"Topic5\", \"Topic5\", \"Topic5\", \"Topic5\", \"Topic5\", \"Topic5\", \"Topic5\", \"Topic5\", \"Topic5\", \"Topic5\", \"Topic5\", \"Topic5\", \"Topic5\", \"Topic5\", \"Topic5\", \"Topic5\", \"Topic5\", \"Topic5\", \"Topic5\", \"Topic5\", \"Topic5\", \"Topic5\", \"Topic5\", \"Topic5\", \"Topic5\", \"Topic5\", \"Topic5\", \"Topic5\", \"Topic5\", \"Topic5\", \"Topic5\", \"Topic5\", \"Topic5\", \"Topic5\", \"Topic5\", \"Topic5\", \"Topic5\", \"Topic5\", \"Topic5\", \"Topic5\", \"Topic5\", \"Topic5\", \"Topic5\", \"Topic5\", \"Topic5\", \"Topic5\", \"Topic5\", \"Topic5\", \"Topic5\", \"Topic5\", \"Topic5\", \"Topic5\", \"Topic5\", \"Topic5\", \"Topic5\", \"Topic5\", \"Topic5\", \"Topic5\", \"Topic5\", \"Topic5\", \"Topic5\", \"Topic5\", \"Topic5\", \"Topic5\", \"Topic5\", \"Topic5\", \"Topic5\", \"Topic5\", \"Topic5\", \"Topic5\", \"Topic5\", \"Topic5\", \"Topic5\", \"Topic5\", \"Topic5\", \"Topic5\", \"Topic5\", \"Topic5\", \"Topic5\", \"Topic6\", \"Topic6\", \"Topic6\", \"Topic6\", \"Topic6\", \"Topic6\", \"Topic6\", \"Topic6\", \"Topic6\", \"Topic6\", \"Topic6\", \"Topic6\", \"Topic6\", \"Topic6\", \"Topic6\", \"Topic6\", \"Topic6\", \"Topic6\", \"Topic6\", \"Topic6\", \"Topic6\", \"Topic6\", \"Topic6\", \"Topic6\", \"Topic6\", \"Topic6\", \"Topic6\", \"Topic6\", \"Topic6\", \"Topic6\", \"Topic6\", \"Topic6\", \"Topic6\", \"Topic6\", \"Topic6\", \"Topic6\", \"Topic6\", \"Topic6\", \"Topic6\", \"Topic6\", \"Topic6\", \"Topic6\", \"Topic6\", \"Topic6\", \"Topic6\", \"Topic6\", \"Topic6\", \"Topic6\", \"Topic6\", \"Topic6\", \"Topic6\", \"Topic6\", \"Topic6\", \"Topic6\", \"Topic6\", \"Topic6\", \"Topic6\", \"Topic6\", \"Topic6\", \"Topic6\", \"Topic6\", \"Topic6\", \"Topic6\", \"Topic6\", \"Topic6\", \"Topic6\", \"Topic6\", \"Topic6\", \"Topic6\", \"Topic6\", \"Topic6\", \"Topic6\", \"Topic6\", \"Topic6\", \"Topic6\", \"Topic6\", \"Topic6\", \"Topic6\", \"Topic6\", \"Topic6\", \"Topic6\", \"Topic7\", \"Topic7\", \"Topic7\", \"Topic7\", \"Topic7\", \"Topic7\", \"Topic7\", \"Topic7\", \"Topic7\", \"Topic7\", \"Topic7\", \"Topic7\", \"Topic7\", \"Topic7\", \"Topic7\", \"Topic7\", \"Topic7\", \"Topic7\", \"Topic7\", \"Topic7\", \"Topic7\", \"Topic7\", \"Topic7\", \"Topic7\", \"Topic7\", \"Topic7\", \"Topic7\", \"Topic7\", \"Topic7\", \"Topic7\", \"Topic7\", \"Topic7\", \"Topic7\", \"Topic7\", \"Topic7\", \"Topic7\", \"Topic7\", \"Topic7\", \"Topic7\", \"Topic7\", \"Topic7\", \"Topic7\", \"Topic7\", \"Topic7\", \"Topic7\", \"Topic7\", \"Topic7\", \"Topic7\", \"Topic7\", \"Topic7\", \"Topic7\", \"Topic7\", \"Topic7\", \"Topic7\", \"Topic7\", \"Topic7\", \"Topic7\", \"Topic7\", \"Topic7\", \"Topic7\", \"Topic7\", \"Topic7\", \"Topic7\", \"Topic7\", \"Topic7\", \"Topic7\", \"Topic7\", \"Topic7\", \"Topic7\", \"Topic7\", \"Topic7\", \"Topic7\", \"Topic7\", \"Topic7\", \"Topic7\", \"Topic7\", \"Topic7\", \"Topic7\", \"Topic7\", \"Topic7\", \"Topic7\", \"Topic8\", \"Topic8\", \"Topic8\", \"Topic8\", \"Topic8\", \"Topic8\", \"Topic8\", \"Topic8\", \"Topic8\", \"Topic8\", \"Topic8\", \"Topic8\", \"Topic8\", \"Topic8\", \"Topic8\", \"Topic8\", \"Topic8\", \"Topic8\", \"Topic8\", \"Topic8\", \"Topic8\", \"Topic8\", \"Topic8\", \"Topic8\", \"Topic8\", \"Topic8\", \"Topic8\", \"Topic8\", \"Topic8\", \"Topic8\", \"Topic8\", \"Topic8\", \"Topic8\", \"Topic8\", \"Topic8\", \"Topic8\", \"Topic8\", \"Topic8\", \"Topic8\", \"Topic8\", \"Topic8\", \"Topic8\", \"Topic8\", \"Topic8\", \"Topic8\", \"Topic8\", \"Topic8\", \"Topic8\", \"Topic8\", \"Topic8\", \"Topic8\", \"Topic8\", \"Topic8\", \"Topic8\", \"Topic8\", \"Topic8\", \"Topic8\", \"Topic8\", \"Topic8\", \"Topic8\", \"Topic8\", \"Topic8\", \"Topic8\", \"Topic8\", \"Topic8\", \"Topic8\", \"Topic8\", \"Topic8\", \"Topic8\", \"Topic8\", \"Topic8\", \"Topic8\", \"Topic8\", \"Topic8\", \"Topic8\", \"Topic8\", \"Topic8\", \"Topic8\", \"Topic8\", \"Topic8\", \"Topic8\", \"Topic8\", \"Topic8\", \"Topic8\", \"Topic9\", \"Topic9\", \"Topic9\", \"Topic9\", \"Topic9\", \"Topic9\", \"Topic9\", \"Topic9\", \"Topic9\", \"Topic9\", \"Topic9\", \"Topic9\", \"Topic9\", \"Topic9\", \"Topic9\", \"Topic9\", \"Topic9\", \"Topic9\", \"Topic9\", \"Topic9\", \"Topic9\", \"Topic9\", \"Topic9\", \"Topic9\", \"Topic9\", \"Topic9\", \"Topic9\", \"Topic9\", \"Topic9\", \"Topic9\", \"Topic9\", \"Topic9\", \"Topic9\", \"Topic9\", \"Topic9\", \"Topic9\", \"Topic9\", \"Topic9\", \"Topic9\", \"Topic9\", \"Topic9\", \"Topic9\", \"Topic9\", \"Topic9\", \"Topic9\", \"Topic9\", \"Topic9\", \"Topic9\", \"Topic9\", \"Topic9\", \"Topic9\", \"Topic9\", \"Topic9\", \"Topic9\", \"Topic9\", \"Topic9\", \"Topic9\", \"Topic9\", \"Topic9\", \"Topic9\", \"Topic9\", \"Topic9\", \"Topic9\", \"Topic9\", \"Topic9\", \"Topic9\", \"Topic9\", \"Topic9\", \"Topic9\", \"Topic9\", \"Topic9\", \"Topic9\", \"Topic9\", \"Topic9\", \"Topic9\", \"Topic9\", \"Topic9\", \"Topic9\", \"Topic10\", \"Topic10\", \"Topic10\", \"Topic10\", \"Topic10\", \"Topic10\", \"Topic10\", \"Topic10\", \"Topic10\", \"Topic10\", \"Topic10\", \"Topic10\", \"Topic10\", \"Topic10\", \"Topic10\", \"Topic10\", \"Topic10\", \"Topic10\", \"Topic10\", \"Topic10\", \"Topic10\", \"Topic10\", \"Topic10\", \"Topic10\", \"Topic10\", \"Topic10\", \"Topic10\", \"Topic10\", \"Topic10\", \"Topic10\", \"Topic10\", \"Topic10\", \"Topic10\", \"Topic10\", \"Topic10\", \"Topic10\", \"Topic10\", \"Topic10\", \"Topic10\", \"Topic10\", \"Topic10\", \"Topic10\", \"Topic10\", \"Topic10\", \"Topic10\", \"Topic10\", \"Topic10\", \"Topic10\", \"Topic10\", \"Topic10\", \"Topic10\", \"Topic10\", \"Topic10\", \"Topic10\", \"Topic10\", \"Topic10\", \"Topic10\", \"Topic10\", \"Topic10\", \"Topic10\", \"Topic10\", \"Topic10\", \"Topic10\", \"Topic10\", \"Topic10\", \"Topic10\", \"Topic10\", \"Topic10\", \"Topic10\", \"Topic10\", \"Topic10\", \"Topic10\", \"Topic10\", \"Topic10\", \"Topic10\", \"Topic10\", \"Topic10\", \"Topic10\", \"Topic10\", \"Topic10\", \"Topic10\", \"Topic10\", \"Topic10\", \"Topic10\", \"Topic11\", \"Topic11\", \"Topic11\", \"Topic11\", \"Topic11\", \"Topic11\", \"Topic11\", \"Topic11\", \"Topic11\", \"Topic11\", \"Topic11\", \"Topic11\", \"Topic11\", \"Topic11\", \"Topic11\", \"Topic11\", \"Topic11\", \"Topic11\", \"Topic11\", \"Topic11\", \"Topic11\", \"Topic11\", \"Topic11\", \"Topic11\", \"Topic11\", \"Topic11\", \"Topic11\", \"Topic11\", \"Topic11\", \"Topic11\", \"Topic11\", \"Topic11\", \"Topic11\", \"Topic11\", \"Topic11\", \"Topic11\", \"Topic11\", \"Topic11\", \"Topic11\", \"Topic11\", \"Topic11\", \"Topic11\", \"Topic11\", \"Topic11\", \"Topic11\", \"Topic11\", \"Topic11\", \"Topic11\", \"Topic11\", \"Topic11\", \"Topic11\", \"Topic11\", \"Topic11\", \"Topic11\", \"Topic11\", \"Topic11\", \"Topic11\", \"Topic11\", \"Topic11\", \"Topic11\", \"Topic11\", \"Topic11\", \"Topic11\", \"Topic11\", \"Topic11\", \"Topic11\", \"Topic11\", \"Topic11\", \"Topic11\", \"Topic11\", \"Topic11\", \"Topic11\", \"Topic11\", \"Topic11\", \"Topic11\", \"Topic11\", \"Topic11\", \"Topic11\", \"Topic11\", \"Topic11\", \"Topic11\", \"Topic12\", \"Topic12\", \"Topic12\", \"Topic12\", \"Topic12\", \"Topic12\", \"Topic12\", \"Topic12\", \"Topic12\", \"Topic12\", \"Topic12\", \"Topic12\", \"Topic12\", \"Topic12\", \"Topic12\", \"Topic12\", \"Topic12\", \"Topic12\", \"Topic12\", \"Topic12\", \"Topic12\", \"Topic12\", \"Topic12\", \"Topic12\", \"Topic12\", \"Topic12\", \"Topic12\", \"Topic12\", \"Topic12\", \"Topic12\", \"Topic12\", \"Topic12\", \"Topic12\", \"Topic12\", \"Topic12\", \"Topic12\", \"Topic12\", \"Topic12\", \"Topic12\", \"Topic12\", \"Topic12\", \"Topic12\", \"Topic12\", \"Topic12\", \"Topic12\", \"Topic12\", \"Topic12\", \"Topic12\", \"Topic12\", \"Topic12\", \"Topic12\", \"Topic12\", \"Topic12\", \"Topic12\", \"Topic12\", \"Topic12\", \"Topic12\", \"Topic12\", \"Topic12\", \"Topic12\", \"Topic12\", \"Topic12\", \"Topic12\", \"Topic12\", \"Topic12\", \"Topic12\", \"Topic12\", \"Topic13\", \"Topic13\", \"Topic13\", \"Topic13\", \"Topic13\", \"Topic13\", \"Topic13\", \"Topic13\", \"Topic13\", \"Topic13\", \"Topic13\", \"Topic13\", \"Topic13\", \"Topic13\", \"Topic13\", \"Topic13\", \"Topic13\", \"Topic13\", \"Topic13\", \"Topic13\", \"Topic13\", \"Topic13\", \"Topic13\", \"Topic13\", \"Topic13\", \"Topic13\", \"Topic13\", \"Topic13\", \"Topic13\", \"Topic13\", \"Topic13\", \"Topic13\", \"Topic13\", \"Topic13\", \"Topic13\", \"Topic13\", \"Topic13\", \"Topic13\", \"Topic13\", \"Topic13\", \"Topic13\", \"Topic13\", \"Topic13\", \"Topic13\", \"Topic13\", \"Topic13\", \"Topic13\", \"Topic13\", \"Topic13\", \"Topic13\", \"Topic13\", \"Topic13\", \"Topic13\", \"Topic13\", \"Topic13\", \"Topic13\", \"Topic13\", \"Topic13\", \"Topic13\", \"Topic13\", \"Topic13\", \"Topic13\", \"Topic13\", \"Topic13\", \"Topic13\", \"Topic13\", \"Topic13\", \"Topic13\", \"Topic13\", \"Topic13\", \"Topic13\", \"Topic13\", \"Topic13\", \"Topic13\", \"Topic13\", \"Topic13\", \"Topic13\", \"Topic13\", \"Topic13\", \"Topic13\", \"Topic13\", \"Topic13\", \"Topic13\", \"Topic13\", \"Topic13\", \"Topic13\", \"Topic14\", \"Topic14\", \"Topic14\", \"Topic14\", \"Topic14\", \"Topic14\", \"Topic14\", \"Topic14\", \"Topic14\", \"Topic14\", \"Topic14\", \"Topic14\", \"Topic14\", \"Topic14\", \"Topic14\", \"Topic14\", \"Topic14\", \"Topic14\", \"Topic14\", \"Topic14\", \"Topic14\", \"Topic14\", \"Topic14\", \"Topic14\", \"Topic14\", \"Topic14\", \"Topic14\", \"Topic14\", \"Topic14\", \"Topic14\", \"Topic14\", \"Topic14\", \"Topic14\", \"Topic14\", \"Topic14\", \"Topic14\", \"Topic14\", \"Topic14\", \"Topic14\", \"Topic14\", \"Topic14\", \"Topic14\", \"Topic14\", \"Topic14\", \"Topic14\", \"Topic14\", \"Topic14\", \"Topic14\", \"Topic14\", \"Topic14\", \"Topic14\", \"Topic14\", \"Topic14\", \"Topic14\", \"Topic14\", \"Topic14\", \"Topic14\", \"Topic14\", \"Topic14\", \"Topic14\", \"Topic14\", \"Topic14\", \"Topic14\", \"Topic14\", \"Topic14\", \"Topic14\", \"Topic14\", \"Topic14\", \"Topic14\", \"Topic14\", \"Topic14\", \"Topic14\"], \"logprob\": [30.0, 29.0, 28.0, 27.0, 26.0, 25.0, 24.0, 23.0, 22.0, 21.0, 20.0, 19.0, 18.0, 17.0, 16.0, 15.0, 14.0, 13.0, 12.0, 11.0, 10.0, 9.0, 8.0, 7.0, 6.0, 5.0, 4.0, 3.0, 2.0, 1.0, -6.3487, -6.3451, -8.3235, -7.6966, -6.363, -6.9244, -4.943, -8.1158, -8.553, -5.9684, -6.9831, -7.0818, -7.3819, -7.7675, -7.6563, -6.4497, -6.9181, -8.5858, -8.5213, -6.5064, -8.2494, -7.4872, -8.2981, -6.8337, -8.3761, -7.7529, -8.0358, -8.0952, -8.5213, -7.4437, -4.0834, -4.1538, -4.6314, -4.6462, -4.9028, -4.8192, -4.9922, -4.9977, -5.0305, -5.0487, -5.0673, -4.9803, -5.4635, -5.5366, -5.5622, -5.6275, -5.6555, -5.6573, -5.6862, -5.7448, -5.7704, -5.7805, -5.8258, -5.8386, -5.9256, -5.6449, -6.0338, -6.0364, -3.2465, -5.3303, -5.3995, -5.6771, -4.8755, -4.1467, -4.7667, -4.2481, -4.6225, -3.599, -3.7005, -4.7836, -3.9743, -4.6012, -4.2648, -4.2059, -4.2118, -4.632, -5.006, -4.4517, -4.6967, -4.7336, -4.8466, -4.8421, -6.4094, -8.2752, -7.7193, -5.7755, -8.2252, -8.0676, -6.7683, -5.2271, -8.3012, -8.3553, -7.1681, -8.2252, -8.1321, -6.6607, -6.0013, -8.2499, -5.7776, -6.2022, -5.7671, -7.8613, -8.4731, -3.4103, -7.3849, -8.1321, -8.3835, -7.8957, -7.7644, -7.1597, -7.7799, -4.2273, -4.6196, -4.7265, -4.8289, -5.4649, -5.7671, -5.8207, -5.834, -5.9275, -5.7322, -5.7839, -5.5419, -6.0307, -6.0583, -6.0837, -6.1367, -6.1519, -6.1519, -6.2484, -6.0013, -6.2863, -6.3743, -3.9887, -3.8729, -4.7496, -3.8389, -4.6229, -4.9018, -3.1869, -4.3505, -4.1289, -4.1929, -3.4333, -5.2655, -3.8761, -4.6657, -3.9932, -4.7826, -5.1726, -5.3134, -3.9418, -4.2034, -4.6818, -4.8904, -5.1188, -4.8672, -4.9928, -4.7912, -5.1692, -5.168, -7.9838, -4.048, -8.0671, -8.2582, -4.5068, -7.9445, -7.374, -7.9445, -8.3694, -7.8353, -8.2582, -7.5138, -8.1116, -7.6763, -8.0456, -6.4151, -8.2322, -7.9255, -7.0282, -7.8182, -8.3404, -8.1346, -7.964, -7.261, -7.6331, -6.316, -6.9122, -3.4443, -5.4742, -6.4362, -3.579, -3.8758, -4.0465, -4.3958, -4.4041, -4.5994, -5.9609, -6.4277, -6.4534, -6.9541, -5.9715, -7.1684, -7.3314, -7.3419, -6.4797, -5.484, -7.6191, -6.5113, -5.5661, -3.5529, -6.7541, -2.629, -7.1953, -5.2918, -5.3915, -5.4774, -3.1858, -3.3409, -3.1323, -3.8267, -3.6189, -3.8146, -5.2416, -4.2305, -3.1556, -4.983, -3.4552, -4.7966, -4.429, -4.2561, -4.9176, -4.2409, -4.99, -4.7892, -5.0341, -4.9298, -7.4232, -6.4775, -8.2256, -5.9675, -8.2256, -7.8638, -6.3518, -5.0036, -5.9153, -7.4703, -6.4686, -7.7948, -7.8638, -7.6844, -4.4543, -8.0179, -7.9771, -7.9771, -8.4551, -6.069, -7.2352, -7.7147, -8.0825, -8.0825, -7.8287, -7.1706, -6.2227, -7.9771, -5.9153, -5.6087, -3.4336, -3.7465, -4.3048, -4.4166, -4.5799, -4.4995, -4.8788, -5.1798, -4.7574, -5.138, -5.4822, -5.5006, -5.6927, -5.7195, -5.5039, -5.8657, -5.9052, -6.1084, -6.1208, -6.1853, -6.2615, -6.2944, -5.2298, -5.7449, -6.0514, -3.6548, -4.8671, -4.6651, -5.3196, -3.8343, -3.5415, -4.4466, -5.1229, -3.0285, -4.0094, -4.794, -5.265, -3.969, -5.0128, -4.2748, -4.9934, -4.9383, -4.7833, -4.9508, -4.9635, -5.1047, -8.3649, -4.014, -8.335, -8.335, -8.3649, -6.9561, -7.5709, -8.4274, -8.2505, -8.335, -8.4274, -8.3649, -7.7343, -8.3649, -8.4274, -5.6037, -6.9198, -6.4678, -7.5439, -7.9696, -7.5047, -7.3288, -7.9102, -7.5847, -6.9862, -8.0113, -8.1725, -8.0772, -8.3957, -5.7433, -3.4761, -4.3102, -5.1843, -5.6508, -5.9643, -5.9753, -5.903, -6.1576, -6.195, -6.195, -5.9425, -5.8307, -6.0533, -6.6629, -6.6966, -6.78, -5.8023, -7.0823, -7.1078, -6.348, -7.3181, -7.4306, -4.0176, -5.9921, -6.9862, -4.9058, -3.3038, -3.7086, -5.1412, -5.3364, -4.9657, -3.5774, -3.3205, -5.9134, -4.5876, -4.5911, -4.2822, -3.5164, -4.4868, -5.3646, -3.0018, -4.261, -4.0109, -5.1448, -3.5639, -4.8804, -4.7907, -4.4956, -4.5193, -4.7353, -4.1584, -4.4868, -4.0172, -4.4529, -5.007, -5.0679, -5.6423, -7.298, -8.193, -7.9186, -4.7506, -6.4882, -6.5941, -7.9186, -6.2815, -8.0694, -6.7368, -4.2937, -7.5131, -7.9186, -8.0929, -7.7362, -7.5539, -5.7191, -7.4117, -5.432, -8.3966, -7.7875, -7.8793, -8.3341, -7.1484, -8.3341, -7.1862, -7.8603, -7.753, -7.0856, -2.2562, -3.4101, -4.4227, -4.2612, -4.5687, -4.6497, -4.6505, -4.7232, -5.1104, -5.349, -5.2266, -5.4155, -5.5225, -5.5261, -5.5316, -5.6341, -5.3707, -5.7393, -5.8366, -5.8568, -5.8619, -5.508, -5.901, -6.0285, -5.6362, -3.7313, -3.8176, -4.9339, -4.2862, -5.2968, -4.3479, -3.5094, -4.3103, -3.5221, -4.2862, -4.1672, -5.1385, -4.2297, -5.146, -3.9141, -4.9911, -4.1513, -4.8561, -4.9228, -4.9349, -4.3581, -4.5935, -4.8702, -4.7438, -4.8449, -4.8589, -8.385, -8.1872, -7.4081, -7.9796, -6.2901, -7.6313, -8.1131, -7.7732, -8.1872, -8.0896, -8.0441, -7.8254, -5.18, -7.9189, -6.9604, -7.4941, -7.52, -7.2258, -8.1131, -8.1619, -6.0307, -5.3112, -8.2954, -6.9987, -7.1873, -6.5778, -7.9189, -6.7509, -7.9589, -8.4168, -4.0073, -4.2778, -4.6044, -4.6173, -3.6455, -4.7657, -4.7716, -4.7303, -4.9541, -4.7843, -5.3525, -4.7425, -5.8058, -5.8225, -5.8872, -5.9053, -5.55, -5.7195, -5.4877, -6.0189, -5.8975, -5.908, -6.174, -6.174, -6.2561, -6.2862, -6.0248, -4.16, -2.7079, -3.4001, -4.5389, -3.34, -3.8818, -4.2886, -4.2845, -4.1959, -4.9281, -4.8405, -3.653, -4.805, -4.4996, -3.5394, -3.9734, -4.7024, -4.3698, -4.1963, -3.9833, -4.0327, -4.7336, -4.704, -4.7532, -7.8389, -7.8389, -7.8389, -8.3622, -7.6232, -8.3015, -6.3348, -6.8721, -7.8766, -7.6848, -6.7403, -7.0076, -6.448, -5.9198, -7.5104, -8.2725, -7.2635, -6.7219, -8.3622, -8.0667, -7.9992, -8.3939, -7.5104, -7.7504, -7.1739, -6.8934, -7.4712, -7.8206, -5.7711, -8.2444, -2.9299, -3.0988, -3.9758, -3.9995, -4.3463, -4.5214, -5.0571, -5.1686, -5.1699, -5.5741, -5.802, -6.0596, -6.0753, -5.849, -6.1175, -5.9335, -6.2749, -6.0785, -6.3985, -6.4619, -6.4619, -6.4904, -6.5, -6.5098, -6.5147, -6.0658, -6.0658, -5.2038, -6.3266, -4.3514, -5.7572, -2.8879, -4.9746, -5.2376, -5.0057, -2.7768, -4.6193, -4.559, -4.2325, -4.7196, -4.8248, -3.8662, -4.0781, -3.0385, -5.0993, -4.641, -4.6585, -5.04, -5.3087, -4.7691, -5.0886, -4.9906, -4.9852, -5.1408, -5.5041, -7.5536, -6.6099, -7.1575, -2.9148, -6.3835, -6.1604, -8.2468, -4.6875, -6.8674, -6.5522, -5.4707, -7.4608, -6.243, -6.8674, -8.0236, -6.2658, -8.2749, -3.4867, -7.86, -6.8886, -4.8521, -7.9801, -7.8229, -8.3645, -7.7194, -7.3995, -5.8539, -8.0016, -8.0461, -3.7005, -3.9026, -4.3342, -4.4175, -4.8456, -5.1064, -5.2622, -4.4594, -5.3548, -5.7367, -5.6077, -5.802, -5.8667, -6.0745, -5.3626, -6.3331, -6.4142, -6.455, -5.8093, -4.788, -5.4367, -5.3641, -4.8804, -4.4073, -3.7911, -5.4655, -4.4907, -4.1363, -3.6607, -3.298, -3.9709, -4.6048, -4.1174, -4.2567, -4.009, -4.6441, -5.1996, -4.8833, -4.953, -4.1273, -4.399, -3.9884, -4.1214, -4.0957, -4.5868, -4.8272, -4.7941, -4.82, -7.0919, -7.678, -8.3711, -6.3988, -8.3711, -7.1273, -6.4342, -7.678, -7.1273, -5.3222, -8.3711, -6.2129, -8.3711, -5.7966, -6.2057, -6.0939, -7.0833, -7.7425, -8.0302, -7.5742, -8.0992, -7.7764, -8.3404, -8.1733, -7.7425, -7.9451, -7.9451, -8.3105, -8.1733, -7.7764, -4.0507, -4.3123, -4.4448, -5.0389, -5.1059, -5.266, -5.2049, -5.4895, -5.6384, -5.7388, -5.4416, -5.5792, -5.5811, -5.918, -6.005, -6.2093, -6.2385, -6.2496, -6.2609, -5.1737, -5.5472, -6.3521, -6.1533, -4.7181, -4.7012, -5.6283, -3.358, -5.8941, -5.5306, -4.71, -2.8831, -5.5869, -4.0679, -5.4283, -3.6044, -4.0815, -5.3661, -3.0845, -4.0053, -5.1436, -3.1123, -5.1498, -4.237, -4.3156, -5.1411, -4.3536, -4.5019, -4.4851, -4.0057, -5.2009, -4.9251, -4.9565, -5.0513, -5.094, -8.1394, -7.249, -8.2766, -7.4462, -7.9317, -6.3736, -7.6758, -7.3841, -5.2633, -4.9422, -5.9918, -6.0377, -7.4854, -8.3064, -6.6496, -6.7856, -7.4085, -8.192, -8.2476, -8.3064, -7.7599, -8.0187, -7.1682, -7.4988, -7.3031, -7.2811, -7.5262, -6.3433, -7.8139, -8.3689, -3.1639, -3.7255, -3.9555, -4.6359, -4.7178, -4.8646, -4.7872, -5.0413, -5.0707, -4.9917, -4.9983, -5.0636, -5.2476, -4.9454, -5.3944, -5.5433, -5.5529, -5.7161, -5.8921, -5.9858, -6.0069, -6.0222, -6.0925, -6.1126, -6.1296, -6.1296, -5.3977, -5.6717, -3.6384, -5.6609, -4.9236, -5.6609, -3.8134, -4.971, -3.2837, -3.9127, -4.1594, -4.4245, -3.5985, -3.3715, -3.718, -4.3135, -3.4932, -4.7668, -4.6092, -4.1783, -4.7029, -4.3793, -4.745, -4.9465, -4.9895, -8.134, -7.7371, -7.2977, -7.8463, -7.4537, -8.134, -8.0363, -7.4537, -8.2422, -8.3318, -8.1866, -7.8272, -8.214, -7.6867, -7.1824, -5.8314, -6.8488, -5.1868, -6.3508, -6.0545, -4.5307, -6.1556, -4.9775, -4.2163, -6.0838, -5.9339, -3.9036, -7.7722, -2.0567, -8.3635, -4.2062, -5.3486, -3.5521, -5.245, -6.5611, -7.9909, -8.0363, -4.5562, -5.3252, -6.7606, -5.4191, -7.6386, -2.4634, -3.1611, -5.1788, -3.1727, -2.8021, -3.9081, -4.7561, -5.5399, -4.3544, -4.0923, -3.4827, -2.7763, -3.9289, -4.9527, -3.4708, -4.458, -4.7483, -4.348, -4.7614, -4.5412, -4.6106, -4.3878, -5.0244, -4.8429, -4.9918, -8.3434, -8.2256, -8.3126, -8.4079, -7.8971, -7.666, -7.4024, -7.8388, -7.5464, -6.9416, -7.3783, -7.1363, -7.8579, -8.1715, -7.8773, -7.0555, -8.1715, -7.3318, -7.194, -8.0479, -8.1202, -5.9802, -3.6561, -6.7277, -8.0249, -3.9004, -8.2538, -8.3434, -6.7657, -5.3746, -3.6972, -3.9967, -4.8984, -4.7274, -5.132, -5.2552, -5.1371, -5.3368, -5.512, -5.5231, -5.394, -5.7156, -5.7618, -5.9175, -5.7292, -6.0471, -6.129, -6.1602, -6.1743, -6.3624, -5.8929, -6.4812, -6.5361, -6.5621, -6.5888, -6.5888, -5.6005, -6.237, -6.3453, -3.4465, -5.998, -4.8679, -4.5033, -2.9488, -4.5154, -4.5968, -3.7144, -5.5438, -4.2606, -4.753, -3.6808, -3.4305, -4.0122, -4.3492, -4.0347, -3.633, -4.4833, -4.5271, -4.3338, -4.7504, -4.3778, -4.3287, -4.8226, -4.7979, -4.9114, -4.8747, -7.7916, -4.1461, -7.4579, -6.9417, -7.7729, -6.4636, -7.603, -6.0254, -7.4052, -6.0818, -8.0007, -8.0731, -8.2962, -6.7715, -6.8944, -7.7546, -6.6993, -7.4853, -7.9553, -7.1272, -7.2511, -7.8301, -6.3109, -6.2897, -6.3023, -8.2356, -7.8907, -6.2855, -5.933, -6.6261, -2.4773, -5.4484, -6.9912, -7.4993, -7.5278, -7.6348, -7.7015, -7.7729, -2.7587, -4.4101, -6.6144, -6.1165, -1.966, -5.7856, -1.9579, -3.8728, -4.2917, -4.1089, -5.9155, -3.7596, -4.7417, -3.9795, -2.6597, -4.1686, -5.2443, -5.1869, -4.0062, -5.605, -3.5012, -3.1889, -5.768, -4.8178, -4.3101, -4.7015, -5.3436, -4.8217, -5.0538, -5.1445, -5.5986, -5.2238, -5.4502, -5.51], \"loglift\": [30.0, 29.0, 28.0, 27.0, 26.0, 25.0, 24.0, 23.0, 22.0, 21.0, 20.0, 19.0, 18.0, 17.0, 16.0, 15.0, 14.0, 13.0, 12.0, 11.0, 10.0, 9.0, 8.0, 7.0, 6.0, 5.0, 4.0, 3.0, 2.0, 1.0, 2.5134, 2.5134, 2.5134, 2.5134, 2.5134, 2.5134, 2.5134, 2.5134, 2.5134, 2.5134, 2.5134, 2.5134, 2.5134, 2.5134, 2.5134, 2.5134, 2.5134, 2.5134, 2.5134, 2.5134, 2.5134, 2.5134, 2.5134, 2.5134, 2.5134, 2.5134, 2.5134, 2.5134, 2.5134, 2.5134, 2.513, 2.5134, 2.5134, 2.5134, 2.5134, 2.5118, 2.5134, 2.5134, 2.5134, 2.5134, 2.5134, 2.5125, 2.5134, 2.5134, 2.5134, 2.5134, 2.5134, 2.5134, 2.5134, 2.5134, 2.5134, 2.5134, 2.5134, 2.5134, 2.5134, 2.5099, 2.5134, 2.5134, 2.4322, 2.4516, 2.4573, 2.4717, 2.2126, 1.8846, 2.1169, 1.8957, 2.0163, 1.534, 1.5725, 2.0733, 1.6148, 1.9319, 1.7406, 0.8538, 0.8003, 1.2998, 1.8138, 0.4612, 0.9464, 0.6951, 0.8612, 2.5509, 2.5509, 2.5509, 2.5509, 2.5509, 2.5509, 2.5509, 2.5509, 2.5509, 2.5509, 2.5509, 2.5509, 2.5509, 2.5509, 2.5509, 2.5509, 2.5509, 2.5509, 2.5509, 2.5509, 2.5509, 2.5509, 2.5509, 2.5509, 2.5509, 2.5509, 2.5509, 2.5509, 2.5509, 2.5509, 2.5509, 2.5509, 2.5509, 2.5509, 2.5509, 2.5509, 2.5509, 2.5509, 2.5509, 2.5489, 2.5488, 2.546, 2.5509, 2.5509, 2.5509, 2.5509, 2.5509, 2.5509, 2.5509, 2.5482, 2.5509, 2.5509, 2.495, 2.3628, 2.4268, 2.3388, 2.3602, 2.379, 2.0502, 2.2438, 2.1996, 2.1763, 1.8366, 2.3388, 1.7671, 2.0328, 1.6355, 2.0175, 2.1834, 2.2582, 1.248, 1.329, 1.6708, 1.8467, 1.9793, 1.5601, 1.6225, 0.975, 1.9379, 1.4644, 2.582, 2.582, 2.582, 2.582, 2.582, 2.582, 2.582, 2.582, 2.582, 2.582, 2.582, 2.582, 2.582, 2.582, 2.582, 2.582, 2.582, 2.582, 2.582, 2.582, 2.582, 2.582, 2.582, 2.582, 2.582, 2.582, 2.582, 2.582, 2.582, 2.582, 2.582, 2.582, 2.5816, 2.582, 2.5814, 2.582, 2.582, 2.5778, 2.5777, 2.582, 2.5716, 2.582, 2.582, 2.582, 2.5732, 2.5629, 2.582, 2.5639, 2.5369, 2.4622, 2.5591, 2.3831, 2.5733, 2.3974, 2.3939, 2.3778, 2.0872, 2.0878, 2.0007, 2.1051, 2.0623, 2.0377, 2.3177, 2.0774, 1.6609, 2.1602, 1.4577, 1.9507, 1.6601, 1.333, 1.8829, 1.0636, 1.5431, 0.9893, 1.5256, -0.1146, 2.5992, 2.5992, 2.5992, 2.5992, 2.5992, 2.5992, 2.5992, 2.5992, 2.5992, 2.5992, 2.5992, 2.5992, 2.5992, 2.5992, 2.5992, 2.5992, 2.5992, 2.5992, 2.5992, 2.5992, 2.5992, 2.5992, 2.5992, 2.5992, 2.5992, 2.5992, 2.5992, 2.5992, 2.5992, 2.5992, 2.5992, 2.5992, 2.5992, 2.5992, 2.5992, 2.5973, 2.5992, 2.5992, 2.5944, 2.598, 2.5992, 2.5992, 2.5992, 2.5992, 2.5958, 2.5992, 2.5992, 2.5992, 2.5992, 2.5992, 2.5992, 2.5992, 2.5748, 2.5865, 2.5904, 2.4182, 2.4826, 2.3796, 2.4743, 2.1996, 2.0872, 2.1858, 2.3038, 1.4457, 1.769, 2.0268, 2.2853, 1.3008, 1.835, 0.7357, 1.6369, 1.431, 0.9829, 1.3776, 1.0418, 1.6958, 2.6166, 2.6166, 2.6166, 2.6166, 2.6166, 2.6166, 2.6166, 2.6166, 2.6166, 2.6166, 2.6166, 2.6166, 2.6166, 2.6166, 2.6166, 2.6166, 2.6166, 2.6166, 2.6166, 2.6166, 2.6166, 2.6166, 2.6166, 2.6166, 2.6166, 2.6166, 2.6166, 2.6166, 2.6166, 2.6166, 2.6166, 2.6156, 2.6166, 2.6166, 2.6166, 2.6166, 2.6141, 2.6166, 2.6166, 2.6166, 2.614, 2.6119, 2.6136, 2.6166, 2.6166, 2.6166, 2.605, 2.6166, 2.6166, 2.6088, 2.6166, 2.6166, 2.5611, 2.5975, 2.609, 2.4997, 2.4039, 2.3916, 2.462, 2.4784, 2.4034, 2.21, 2.1643, 2.504, 2.2446, 2.1927, 2.0717, 1.7881, 2.0909, 2.3494, 1.4724, 1.8712, 1.7553, 2.2281, 1.4467, 2.0625, 2.0092, 1.8265, 1.8292, 1.9285, 1.4308, 1.2917, 0.2731, 0.3636, 1.4882, 1.5035, 2.6537, 2.6537, 2.6537, 2.6537, 2.6537, 2.6537, 2.6537, 2.6537, 2.6537, 2.6537, 2.6537, 2.6537, 2.6537, 2.6537, 2.6537, 2.6537, 2.6537, 2.6537, 2.6537, 2.6537, 2.6537, 2.6537, 2.6537, 2.6537, 2.6537, 2.6537, 2.6537, 2.6537, 2.6537, 2.6537, 2.6535, 2.6537, 2.6537, 2.6517, 2.653, 2.6537, 2.6537, 2.6537, 2.6537, 2.6537, 2.6524, 2.6537, 2.6537, 2.6537, 2.6537, 2.6537, 2.6507, 2.6537, 2.6537, 2.6537, 2.6537, 2.6502, 2.6537, 2.6537, 2.6497, 2.487, 2.2879, 2.4595, 2.269, 2.4925, 2.1894, 1.8515, 2.0423, 1.6209, 1.7987, 1.6851, 2.3392, 1.5067, 2.2974, 0.9988, 2.1281, 0.539, 1.6906, 1.7609, 1.7773, -0.0678, 0.4662, 1.3572, -0.1286, 0.4596, -0.3848, 2.6563, 2.6563, 2.6563, 2.6563, 2.6563, 2.6563, 2.6563, 2.6563, 2.6563, 2.6563, 2.6563, 2.6563, 2.6563, 2.6563, 2.6563, 2.6563, 2.6563, 2.6563, 2.6563, 2.6563, 2.6563, 2.6563, 2.6563, 2.6563, 2.6563, 2.6563, 2.6563, 2.6563, 2.6563, 2.6563, 2.6563, 2.6563, 2.6555, 2.6555, 2.6451, 2.6563, 2.6563, 2.6555, 2.6563, 2.6545, 2.6563, 2.6463, 2.6563, 2.6563, 2.6563, 2.6563, 2.6525, 2.6541, 2.651, 2.6563, 2.6536, 2.6536, 2.6563, 2.6563, 2.6563, 2.6563, 2.6502, 2.5604, 2.4288, 2.4638, 2.4761, 2.275, 2.3361, 2.3846, 2.3264, 2.2934, 2.4308, 2.3506, 1.8678, 2.2938, 2.1159, 1.5854, 1.7078, 2.1047, 1.747, 1.5457, 1.1598, 0.9778, 2.1002, 1.9848, -0.0984, 2.6565, 2.6565, 2.6565, 2.6565, 2.6565, 2.6565, 2.6565, 2.6565, 2.6565, 2.6565, 2.6565, 2.6565, 2.6565, 2.6565, 2.6565, 2.6565, 2.6565, 2.6565, 2.6565, 2.6565, 2.6565, 2.6565, 2.6565, 2.6565, 2.6565, 2.6565, 2.6565, 2.6565, 2.6565, 2.6565, 2.6565, 2.6564, 2.6565, 2.6565, 2.6565, 2.6546, 2.6565, 2.6565, 2.6553, 2.6565, 2.6565, 2.6565, 2.6565, 2.654, 2.6565, 2.6538, 2.6565, 2.6534, 2.6565, 2.6565, 2.6565, 2.6565, 2.6565, 2.6565, 2.6565, 2.6503, 2.6471, 2.614, 2.6445, 2.4868, 2.585, 2.2369, 2.4524, 2.4894, 2.4426, 2.0384, 2.3095, 2.1382, 1.9949, 2.1426, 2.1206, 1.6662, 1.7602, 1.2517, 2.1952, 1.8961, 1.8882, 2.0128, 2.181, 1.3641, 1.6456, 1.3634, 0.0253, 1.7076, 2.6619, 2.6619, 2.6619, 2.6619, 2.6619, 2.6619, 2.6619, 2.6619, 2.6619, 2.6619, 2.6619, 2.6619, 2.6619, 2.6619, 2.6619, 2.6619, 2.6619, 2.6619, 2.6619, 2.6619, 2.6619, 2.6619, 2.6619, 2.6619, 2.6619, 2.6619, 2.6619, 2.6619, 2.6619, 2.6619, 2.6619, 2.6619, 2.6619, 2.6607, 2.6619, 2.6607, 2.6619, 2.6531, 2.6619, 2.6619, 2.6599, 2.6619, 2.6619, 2.6619, 2.6541, 2.6619, 2.6619, 2.6619, 2.6547, 2.6421, 2.6484, 2.6433, 2.604, 2.5508, 2.5095, 2.6135, 2.5268, 2.4723, 2.2987, 2.0629, 2.1459, 2.2886, 2.0148, 1.8871, 1.7104, 2.0498, 2.4482, 2.0792, 2.0754, 0.7856, 1.1334, 0.3018, 0.4938, 0.3784, 1.2007, 1.7883, 0.3489, 0.6649, 2.6631, 2.6631, 2.6631, 2.6631, 2.6631, 2.6631, 2.6631, 2.6631, 2.6631, 2.6631, 2.6631, 2.6631, 2.6631, 2.6631, 2.6631, 2.6631, 2.6631, 2.6631, 2.6631, 2.6631, 2.6631, 2.6631, 2.6631, 2.6631, 2.6631, 2.6631, 2.6631, 2.6631, 2.6631, 2.6631, 2.6631, 2.6626, 2.6631, 2.6631, 2.6631, 2.6631, 2.6605, 2.6631, 2.6631, 2.6631, 2.6598, 2.6612, 2.6612, 2.6631, 2.6631, 2.6631, 2.6631, 2.6631, 2.6631, 2.6518, 2.6556, 2.6631, 2.6596, 2.6431, 2.6217, 2.6429, 2.5553, 2.6368, 2.6087, 2.5339, 2.1766, 2.5763, 2.2439, 2.5131, 2.0747, 2.1935, 2.4959, 1.7307, 1.9524, 2.3972, 1.2874, 2.3605, 1.7943, 1.7736, 2.345, 1.6929, 1.7327, 1.4743, 0.8108, 2.241, 1.6335, 1.5808, 1.5979, 1.8215, 2.6806, 2.6806, 2.6806, 2.6806, 2.6806, 2.6806, 2.6806, 2.6806, 2.6806, 2.6806, 2.6806, 2.6806, 2.6806, 2.6806, 2.6806, 2.6806, 2.6806, 2.6806, 2.6806, 2.6806, 2.6806, 2.6806, 2.6806, 2.6806, 2.6806, 2.6806, 2.6806, 2.6806, 2.6806, 2.6806, 2.6802, 2.6806, 2.6806, 2.6806, 2.6806, 2.6806, 2.6797, 2.6806, 2.6806, 2.6795, 2.6795, 2.6794, 2.6806, 2.6765, 2.6806, 2.6806, 2.6806, 2.6806, 2.6806, 2.6806, 2.6806, 2.6806, 2.6806, 2.6806, 2.6806, 2.6806, 2.6724, 2.6743, 2.6082, 2.6699, 2.6447, 2.6493, 2.4425, 2.5466, 2.1854, 2.2205, 2.2491, 2.1352, 1.5446, 1.2438, 1.2925, 1.7204, 0.8533, 2.0427, 1.4962, 0.6382, 1.6089, 0.5336, 0.6836, 0.7729, 1.057, 2.6863, 2.6863, 2.6863, 2.6863, 2.6863, 2.6863, 2.6863, 2.6863, 2.6863, 2.6863, 2.6863, 2.6863, 2.6863, 2.6863, 2.6863, 2.6863, 2.6863, 2.6863, 2.6863, 2.6863, 2.6863, 2.6863, 2.6863, 2.6863, 2.6863, 2.6863, 2.6863, 2.6863, 2.6863, 2.6863, 2.6792, 2.68, 2.6594, 2.6764, 2.6758, 2.6863, 2.6863, 2.6417, 2.6454, 2.6426, 2.5137, 2.6708, 2.1519, 2.1147, 2.3493, 2.017, 1.8882, 2.0799, 2.2209, 2.3307, 2.0612, 1.957, 1.7544, 1.5139, 1.8075, 1.9622, 1.0034, 1.5758, 1.747, 1.1368, 1.449, 0.9796, 1.1088, 0.267, 1.8197, 0.8362, 0.5406, 2.6951, 2.6951, 2.6951, 2.6951, 2.6951, 2.6951, 2.6951, 2.6951, 2.6951, 2.6951, 2.6951, 2.6951, 2.6951, 2.6951, 2.6951, 2.6951, 2.6951, 2.6951, 2.6951, 2.6951, 2.6951, 2.6951, 2.6951, 2.6951, 2.6951, 2.6951, 2.6951, 2.6951, 2.6951, 2.6951, 2.6948, 2.6951, 2.6941, 2.6918, 2.6951, 2.6951, 2.6938, 2.6951, 2.6951, 2.6951, 2.6935, 2.6951, 2.6951, 2.6951, 2.6928, 2.6951, 2.6951, 2.6951, 2.6951, 2.6951, 2.6896, 2.6951, 2.6951, 2.6951, 2.6951, 2.6951, 2.679, 2.6914, 2.6908, 2.2956, 2.6018, 2.3557, 2.1821, 1.706, 2.1683, 2.1319, 1.7546, 2.4251, 1.7051, 1.9136, 1.1356, 0.8597, 1.2576, 1.4891, 1.102, 0.7135, 1.4743, 1.5194, 1.2812, 1.5135, 0.812, 0.3616, 1.4995, 1.19, 0.9525, 0.6461, 2.7574, 2.7574, 2.7574, 2.7574, 2.7574, 2.7574, 2.7574, 2.7574, 2.7574, 2.7574, 2.7574, 2.7574, 2.7574, 2.7574, 2.7574, 2.7574, 2.7574, 2.7574, 2.7574, 2.7574, 2.7574, 2.7574, 2.7574, 2.7574, 2.7574, 2.7574, 2.7574, 2.7574, 2.7574, 2.7574, 2.735, 2.7518, 2.7574, 2.7574, 2.7574, 2.7574, 2.7574, 2.7574, 2.6928, 2.7184, 2.7454, 2.6881, 2.4338, 2.643, 2.3886, 2.391, 2.429, 2.3988, 2.5746, 2.2744, 2.4071, 2.255, 1.9951, 2.2515, 2.4095, 2.3823, 1.9595, 2.4436, 1.7746, 1.5014, 2.4752, 1.9109, 1.5282, 1.7071, 2.0362, 1.3886, 1.5954, 1.5896, 2.1598, 1.3133, 0.5963, 1.1871]}, \"token.table\": {\"Topic\": [4, 7, 9, 14, 5, 11, 14, 14, 11, 14, 5, 10, 11, 1, 5, 5, 1, 8, 5, 3, 8, 2, 4, 6, 7, 14, 12, 13, 14, 5, 9, 14, 6, 8, 9, 10, 12, 10, 11, 1, 1, 8, 1, 8, 6, 7, 9, 11, 1, 1, 2, 3, 5, 3, 5, 8, 14, 7, 10, 1, 8, 10, 14, 3, 8, 10, 14, 7, 13, 10, 11, 1, 13, 12, 13, 3, 11, 14, 4, 11, 1, 3, 11, 13, 6, 6, 4, 5, 3, 6, 3, 11, 14, 11, 4, 8, 13, 7, 3, 8, 5, 13, 11, 2, 2, 7, 12, 2, 10, 5, 11, 11, 8, 5, 4, 11, 14, 14, 5, 12, 12, 6, 3, 3, 3, 9, 12, 3, 2, 2, 5, 6, 9, 11, 12, 13, 1, 10, 13, 14, 5, 8, 9, 10, 12, 13, 3, 12, 2, 7, 7, 13, 4, 9, 11, 1, 5, 10, 3, 5, 6, 1, 2, 4, 6, 6, 7, 13, 1, 2, 3, 11, 13, 8, 4, 5, 7, 6, 4, 2, 9, 2, 7, 9, 11, 12, 8, 9, 7, 9, 10, 2, 7, 1, 3, 4, 9, 1, 1, 5, 9, 1, 9, 5, 4, 3, 3, 13, 2, 9, 10, 13, 9, 13, 12, 6, 12, 3, 2, 11, 10, 1, 3, 4, 5, 6, 2, 1, 9, 9, 4, 5, 7, 9, 1, 3, 3, 14, 1, 6, 13, 4, 8, 14, 11, 7, 7, 9, 6, 8, 9, 13, 5, 6, 10, 12, 3, 11, 13, 4, 7, 13, 4, 6, 7, 12, 13, 14, 1, 7, 4, 7, 9, 11, 12, 13, 2, 2, 8, 14, 8, 6, 3, 14, 6, 12, 14, 12, 12, 14, 10, 1, 10, 4, 9, 11, 12, 6, 8, 1, 2, 9, 9, 14, 3, 8, 14, 7, 9, 5, 12, 1, 1, 1, 7, 8, 9, 12, 9, 9, 8, 4, 4, 1, 1, 9, 8, 6, 7, 9, 5, 9, 9, 1, 6, 6, 14, 2, 8, 11, 2, 9, 2, 6, 7, 8, 13, 5, 9, 13, 7, 9, 10, 14, 8, 1, 5, 12, 10, 7, 2, 5, 6, 3, 1, 10, 11, 2, 10, 6, 2, 4, 12, 1, 3, 5, 6, 7, 9, 11, 13, 1, 5, 9, 12, 13, 8, 9, 12, 1, 3, 5, 8, 12, 14, 14, 13, 14, 14, 2, 3, 12, 13, 6, 8, 14, 10, 1, 9, 3, 5, 11, 1, 2, 3, 6, 8, 10, 9, 13, 6, 8, 8, 4, 3, 5, 8, 10, 1, 4, 7, 11, 4, 9, 12, 6, 2, 4, 11, 13, 5, 6, 8, 9, 12, 6, 7, 9, 2, 2, 2, 12, 8, 7, 9, 11, 3, 7, 9, 4, 13, 3, 6, 3, 9, 13, 5, 7, 9, 13, 6, 7, 8, 9, 5, 8, 10, 13, 6, 8, 8, 2, 3, 4, 1, 13, 8, 13, 1, 8, 10, 2, 3, 4, 5, 9, 11, 10, 6, 8, 11, 13, 14, 3, 10, 11, 10, 9, 8, 9, 3, 6, 8, 10, 1, 10, 1, 8, 13, 14, 10, 2, 8, 8, 10, 9, 9, 5, 9, 10, 12, 2, 5, 8, 9, 13, 14, 1, 10, 14, 1, 3, 5, 6, 9, 11, 12, 5, 10, 12, 14, 14, 8, 14, 4, 5, 4, 10, 4, 8, 10, 11, 3, 5, 13, 14, 5, 1, 12, 12, 9, 4, 5, 10, 11, 12, 4, 1, 8, 1, 3, 4, 5, 6, 7, 9, 12, 13, 2, 3, 5, 7, 9, 12, 13, 4, 11, 12, 7, 8, 12, 6, 3, 2, 4, 13, 12, 2, 2, 12, 1, 12, 1, 2, 3, 4, 6, 8, 2, 7, 13, 10, 6, 7, 9, 6, 9, 8, 10, 6, 8, 3, 3, 11, 6, 8, 1, 3, 5, 6, 10, 13, 14, 13, 14, 1, 3, 6, 1, 10, 1, 2, 6, 9, 11, 2, 5, 10, 11, 2, 11, 9, 10, 11, 1, 3, 5, 12, 13, 2, 7, 8, 14, 5, 6, 7, 8, 9, 12, 13, 13, 13, 10, 4, 8, 11, 13, 14, 8, 11, 10, 11, 1, 4, 10, 13, 9, 2, 4, 4, 1, 11, 11, 4, 14, 2, 7, 11, 4, 13, 14, 13, 14, 2, 3, 5, 8, 13, 9, 8, 13, 14, 9, 10, 11, 14, 9, 8, 4, 3, 5, 10, 13, 7, 9, 10, 6, 10, 5, 13, 14, 4, 11, 10, 5, 10, 5, 2, 6, 11, 5, 3, 6, 9, 10, 13, 2, 3, 11, 14, 5, 9, 11, 11, 13, 13, 14, 14, 6, 9, 5, 7, 11, 1, 3, 6, 9, 3, 9, 2, 1, 2, 4, 9, 1, 6, 11, 14, 8, 3, 13, 1, 2, 3, 6, 8, 10, 6, 13, 5, 1, 1, 11, 10, 14, 12, 13, 6, 6, 10, 14, 11, 2, 11, 14, 2, 11, 2, 6, 8, 11, 12, 13, 14, 3, 6, 6, 9, 1, 3, 4, 7, 7, 8, 1, 8, 9, 4, 13, 2, 2, 4, 2, 3, 7, 1, 7, 9, 13, 12, 2, 7, 8, 6, 2, 8, 9, 12, 7, 9, 13, 7, 9, 12, 13, 14, 13, 3, 4, 6, 8, 9, 11, 13, 10, 1, 5, 6, 7, 9, 11, 12, 2, 4, 10, 8, 5, 11, 14, 14, 8, 13, 14, 8, 2, 5, 9, 11, 5, 6, 10, 3, 6, 8, 13, 13, 13, 13, 13, 14, 1, 3, 4, 5, 6, 10, 1, 1, 13, 13, 7, 12, 3, 2, 11, 7, 9, 10, 11, 12, 10, 13, 12, 12, 7, 6, 8, 6, 3, 10, 12, 8, 10, 3, 10, 11, 10, 8, 7, 12, 14, 14, 6, 13, 6, 14, 14, 1, 7, 13, 2, 3, 7, 9, 2, 11, 1, 8, 8, 13, 14, 6, 4, 10, 14, 1, 5, 3, 4, 6, 4, 6, 10, 1, 4, 7, 10, 6, 7, 3, 5, 14, 14, 5, 4, 7, 10, 4, 1, 5, 3, 13, 13, 11, 6, 6, 9, 11, 12, 12, 14, 13, 4, 5, 6, 9, 11, 12, 4, 4, 12, 13, 5, 4, 3, 7, 6, 13, 6, 10, 10, 4, 2, 6, 1, 3, 6, 9, 3, 11, 6, 11, 2, 4, 8, 10, 2, 5, 6, 11, 10, 5, 5, 6, 8, 9, 7, 1, 8, 12, 4, 11, 8, 2, 1, 8, 11, 14, 8, 9, 10, 3, 4, 8, 10, 14, 4, 11, 11, 2, 9, 11, 9, 6, 6, 8, 6, 11, 1, 5, 9, 1, 8, 13, 3, 4, 5, 6, 11, 13, 14, 1, 2, 3, 1, 10, 12, 10, 10, 11, 1, 7, 8, 3, 7, 7, 7, 12, 7, 4, 5, 7, 8, 11, 12, 13, 11, 2, 6, 1, 5, 11, 6, 10, 14, 13, 10, 10, 11, 6, 7, 11, 12, 13, 2, 3, 1, 3, 4, 5, 9, 11, 14, 13, 8, 13, 1, 2, 5, 4, 5, 9, 12, 5, 5, 9, 12, 13, 8, 9, 9, 10, 9, 13, 1, 2, 3, 4, 1, 3, 10, 14, 10, 1, 11, 6, 9, 10, 7, 7, 1, 2, 4, 5, 8, 10, 12, 12, 13, 3, 1, 2, 3, 6, 7, 8, 12, 13, 14, 3, 9, 5, 1, 5, 3, 5, 9, 5, 2, 5, 5, 7, 5, 3, 6, 5, 1, 5, 11, 13, 1, 1, 10, 10, 12, 6, 13, 1, 12, 6, 7, 10, 13, 14, 4, 8, 14, 12, 6, 6, 6, 2, 6, 11, 3, 10, 11, 12, 5, 5, 1, 4, 11, 1, 1, 1, 3, 5, 8, 11, 5, 7, 1, 1, 11, 2, 6, 1, 11, 10, 7, 8, 8, 3, 3, 10, 13, 5, 5, 7, 1, 4, 8, 9, 11, 9, 12, 7, 4, 1, 1, 1, 3, 4, 9, 11, 2, 6, 7, 12, 13, 14, 8, 11, 7, 7, 8, 4, 8, 12, 3, 10, 11, 5, 9, 14, 5, 11, 7, 7, 9, 1, 4, 1, 6, 8, 8, 3, 8, 10, 13, 7, 9, 2, 12, 2, 4, 12, 2, 9, 7, 13, 7, 13, 14, 7, 11, 13, 2, 4, 7, 2, 4, 9, 11, 12, 13, 5, 9, 2, 2, 1, 12, 13, 6, 12, 4, 12, 2, 2, 4, 6, 12, 13, 4, 10, 4, 5, 9, 4, 12, 3, 8, 6, 8, 14, 3, 2, 6, 12, 13, 6, 12, 2, 13, 5, 11, 8, 12, 4, 8, 1, 11, 2, 6, 12, 13, 7, 6, 7, 13, 14, 1, 3, 10, 9, 3, 5, 10, 11, 13, 14, 11, 14, 8, 13, 10, 10, 12, 13, 14, 4, 8, 10, 12, 13, 5, 1, 3, 4, 13, 7, 13, 8, 9, 6, 13, 2, 4, 7, 7, 6, 7, 9, 13, 7, 3, 5, 8, 2, 7, 8, 13, 4, 5, 5, 13, 6, 8, 14, 5, 2, 5, 6, 7, 11, 5, 2, 11, 3, 7, 11, 11, 9, 12, 14, 6, 5, 3, 12, 11, 14, 5, 6, 8, 2, 6, 9, 6, 10, 11, 8, 2, 2, 4, 7, 7, 12, 1, 4, 3, 10, 3, 13, 13, 2, 4, 4, 2, 3, 4, 5, 11, 12, 13, 14, 9, 3, 2, 3, 5, 10, 11, 13, 13, 2, 5, 9, 2, 12, 3, 7, 7, 2, 4, 5, 2, 11, 13, 1, 7, 9, 11, 11, 2, 7, 7, 7, 3, 5, 10, 11, 5, 11, 12, 9, 1, 10, 10, 8, 7, 10, 11, 13, 5, 5, 2, 7, 2, 11, 3, 8, 1, 2, 4, 6, 1, 2, 12, 6, 12, 3, 1, 7, 7, 7, 7, 4, 6, 4, 11, 12, 5, 11, 12, 13, 13, 4, 2, 9, 9, 11, 9, 1, 6, 9, 7, 11, 13, 10, 11, 13, 14, 6, 3, 8, 3, 3, 4, 4, 7, 13, 2, 3, 7, 13, 2, 4, 11, 14, 7, 2, 11, 2, 11, 4, 3, 1, 5, 10, 1, 4, 5, 6, 10, 3, 7, 10, 11, 12, 14, 10, 9, 9, 10, 9, 2, 7, 2, 3, 6, 10, 11, 6, 9, 11, 2, 4, 8, 6, 8, 10, 14, 9, 9, 7, 14, 1, 1, 10, 14, 1, 2, 3, 4, 9, 10, 5, 10, 14, 4, 5, 8, 11, 10, 11, 13, 11, 3, 11], \"Freq\": [0.9964393069448464, 0.17258456237452677, 0.8274266962069511, 0.9989103907203857, 0.013219607298590704, 0.09442576641850503, 0.8913792349906875, 1.0010133599640074, 0.9945406412928048, 0.006954829659390244, 1.000576448655983, 0.9955181290000341, 1.000232285333516, 0.9999243634287802, 0.999884008207086, 1.000576448655983, 0.9999553871129173, 0.9875163641950863, 0.9993334965458512, 0.9885128390631938, 0.9995475089830382, 1.0000056052750974, 1.0006003160870873, 0.011132665552944511, 0.9890260077235903, 0.9956315677061364, 0.001369057773904197, 0.2786032569895041, 0.7201243890736077, 0.004792208202733282, 0.004792208202733282, 0.987194889763056, 0.09410803906942752, 0.3873206897237596, 0.4129865185608762, 0.08555276279038866, 0.020221562114091866, 0.9792999755531978, 0.019360131312419065, 1.0000993442962858, 0.9992052984651284, 1.0013600515436158, 1.0005000251233276, 1.000903747122771, 0.3560269811668244, 0.2239478966490009, 0.09893564383357566, 0.321116832556977, 0.9999243634287803, 0.1640800432575797, 0.003606154796869883, 0.831218680678508, 0.0009015386992174707, 1.0000244763440398, 0.010038094347609182, 0.9912618168264068, 1.0034312666305871, 1.0005979489917731, 1.0005970990873279, 0.9985648219799556, 0.9997770262066854, 0.9966479927073534, 0.0027230819472878506, 0.0019322733844451103, 0.22510984928785535, 0.2222114392111877, 0.5497317778746339, 0.798291222445805, 0.20216466022978177, 0.030196877017013395, 0.9696552731018746, 0.998680934168558, 1.000316840494483, 1.0019234911639059, 0.9996701145803056, 0.0006616311191985916, 0.5127641173789085, 0.4862988726109648, 0.9998834304361965, 1.0012074978230125, 0.16229011967119017, 0.6100453629355052, 0.13577458447578136, 0.09186410597841993, 0.9982489178095655, 1.0068971138796978, 0.8343822462612891, 0.1654795440106098, 0.999838246906443, 0.9999022161964385, 1.0022231419628218, 0.9989540310526794, 0.0009513847914787424, 1.0000541143178208, 1.0000495942888494, 1.0000429612923871, 1.004352410198949, 1.0004253428249639, 0.002213160916284174, 0.9981355732441626, 0.807820233661268, 0.19180820783043073, 1.0025175977765464, 0.9998430329940293, 0.6061490019286878, 7.763178815685039e-05, 0.393826061319702, 0.9972687024589766, 0.0016295240236257787, 0.0008912881482845339, 0.9991340142269625, 0.9994646321190618, 0.9982502377189459, 1.0021040462875188, 0.0005009861866645955, 0.649528591010648, 0.3499388513852199, 1.0041029073713037, 0.9945123489671588, 0.9999783520176293, 0.999089195573626, 1.0000270269619684, 1.0002808490520414, 1.0030985415845821, 0.9787887978843105, 0.009147558858731874, 0.009147558858731874, 1.0006061436370988, 0.9974025313116642, 0.02862132414488168, 0.1271510549654801, 0.00016449036864874528, 0.04342545732326875, 0.03339154483569529, 0.5452855720705906, 0.22206199767580612, 0.99978101684081, 0.9888401533303272, 0.00516635398814173, 0.0061996247857700765, 0.1145586117312156, 0.1486638472847836, 0.06891006568259381, 0.0001748986438644513, 0.48219556113429224, 0.18539256249631839, 0.006329293508626896, 0.9936990808544227, 1.007821741040466, 1.010091288166268, 0.8249306749446275, 0.17509978215752617, 1.0035728867570934, 1.0037580221199747, 1.000232285333516, 0.19166173293034855, 0.8084097995972679, 1.0002319235996593, 0.011091802689351409, 0.989019073133834, 1.0002357080372368, 0.1837487479515184, 0.06517880116016125, 0.7440090813282236, 0.006933915017038431, 0.9998225944836835, 0.00022384923194530024, 1.0007654373053814, 0.09736673456923874, 0.17329169726582924, 0.5318262433330622, 0.19754550479390676, 0.9998091554614371, 0.9995475089830382, 0.0020444356470050613, 0.8709295856241561, 0.1267550101143138, 0.9999361514186739, 1.0003469120701203, 0.7462419332475544, 0.25409096975238965, 0.5866041028599095, 0.2834820838204869, 0.1300682502235175, 1.0060475893180132, 1.0037823473627256, 0.9974406840959498, 0.0025575402156306406, 0.9998414103943196, 0.695353612540291, 0.304516926871093, 0.9945609286583547, 1.0002433784924845, 0.9219607526033635, 0.07787646482833545, 0.00012073870516021, 1.0015507477447796, 1.0005000251233276, 0.9980081197058348, 0.995445287380824, 1.0000036403560866, 1.0001665529043047, 0.9922771297101056, 0.9941211167291701, 0.9999613382594054, 0.9992223507990762, 0.9969441307400854, 0.003449633670380918, 1.0073827942891418, 0.9998402939414026, 0.003441084908089696, 0.996538189382776, 0.0008184590846899699, 0.9993385424064533, 0.9909133429093573, 0.9984488609681641, 0.0010900096735460307, 1.0054104944317954, 0.8832337175001174, 0.11661276465771721, 1.0007970585395833, 0.33699533087354405, 0.11699607219485209, 0.4656521411609063, 0.07268526744331341, 0.007385134125256444, 0.999823155794113, 0.5392389511654322, 0.4608041946322784, 1.0003856251520675, 0.19170514782657794, 0.6891436551610117, 0.1071406015797242, 0.011861995174898035, 0.18033383946428008, 0.8197161771179702, 1.0002808490520412, 1.0010133599640074, 0.0032746747521352204, 0.9955011246491071, 0.9987336554565772, 1.0063876542927659, 0.9992005643426415, 1.0001915099147758, 1.0003180050572407, 0.999880159932238, 0.99737364405834, 0.001787407964262258, 0.41642027771651896, 0.21618558834997764, 0.1761386504766694, 0.19175016863067093, 0.5446197508028942, 0.3893845973427495, 0.06520617424578869, 0.00037048962639652666, 0.002241047595017225, 0.08740085620567177, 0.9098653235769933, 1.0039088669669218, 0.3294347739898725, 0.6705753521316693, 0.008043236024745706, 0.12064854037118558, 0.03936242881383932, 0.4501516117089524, 0.096968175091627, 0.28479346326725297, 0.9993536204245927, 0.0007408106897143016, 0.008660385422347563, 0.4545671348467905, 0.1185648004249964, 0.10784241847351846, 0.18145569456347274, 0.12887478307064826, 0.9997496393855988, 0.9995067560612668, 0.998307216423896, 0.0021585020895651804, 0.9992606124534793, 1.0000203105022423, 0.988026993003557, 0.007211875861339832, 0.06108841595408512, 0.5645634848279781, 0.37427750752317934, 0.9995345705021413, 0.9564104580405147, 0.04357348684267628, 1.0016313721162364, 0.9996378967087448, 0.9972227833305136, 0.05237142305105376, 0.22694283322123296, 0.23608704994443283, 0.48464348632959275, 0.9979794025135362, 0.0020739389079666173, 0.0029385478357758167, 0.05362849800290865, 0.9440084922429811, 1.000080504432582, 0.9991800021618757, 0.2965541587480917, 0.4674787459227844, 0.23587593030107584, 0.0009787553321376323, 0.9988198164464538, 0.988804961024736, 1.0063963638923161, 0.9997894427191207, 0.9987839015810921, 0.9991624582448204, 0.9921895628657916, 0.017350313936442183, 0.9815320455473007, 0.0012393081383172987, 0.9968445733451348, 1.0006684796442291, 1.0005100005660743, 0.9997368922354318, 1.000031983131074, 0.9940032717134357, 0.9966413807922356, 0.0028721653625136474, 1.001205133376045, 0.9999953057876054, 0.5826287031232024, 0.4174838142421678, 0.01339456221158748, 0.9871792349939973, 1.0000055394282257, 1.0027738888167896, 0.9991715605762731, 0.9966365250452002, 0.002513585182963935, 0.5414482083633607, 0.4356769304505182, 0.022665273838466265, 1.0004112870622273, 0.996377448427916, 0.10902507416859128, 0.00033037901263209475, 0.26793737924462885, 0.02411766792214292, 0.5986467708893557, 0.3116085877645009, 0.6883051311978271, 0.9988426399235627, 0.0007996058741642846, 0.0007996058741642846, 0.3110466850499067, 0.6876610517812848, 0.9979888472403603, 1.0003526109454695, 0.9945123489671588, 0.9994556993137484, 0.9990423581776545, 1.000073984277691, 0.001440995185854763, 0.001440995185854763, 0.9957276734256413, 0.9922786022596249, 0.6726632703386084, 0.3274702028654423, 0.9996936045433731, 0.0015644701633531373, 0.9981319642193016, 1.0016437376333691, 0.6925670288921655, 0.307520434470775, 1.0012353568979964, 0.12844446808969728, 0.3248724374279188, 0.04412471674759706, 0.1910948292733084, 0.00011227663294553959, 0.15314532733771602, 0.11682383657983395, 0.04131780092395857, 0.061704451366802665, 0.5912354402597967, 0.06615429160960094, 0.2812299033448506, 1.0012362066302274, 0.0017691499746837606, 0.37063691969624785, 0.628048241012735, 0.22398770750506036, 0.20133246228031187, 0.5745028223030556, 0.7068002526775167, 0.17870203168471502, 0.11463903919396812, 0.9905861374643824, 0.9947413823501551, 1.0052911948356484, 1.0010133599640074, 1.0011419409382587, 0.9805628238195147, 0.01802505190844696, 1.0010735098140704, 0.0692842823629878, 0.8463917737316348, 0.08426466773876895, 0.9988352941836699, 0.00782565150979913, 0.9919013288670395, 0.9995259201093606, 0.996997796521905, 0.0023966293185622716, 0.37557268629452184, 0.06443786216044237, 0.5592310882176067, 0.0007696161604395939, 0.9991087260554776, 1.0004458692494875, 0.9974318160982101, 0.9998180878052741, 0.3693728483180847, 0.6306069351219933, 1.0000287547745563, 1.0001391055453124, 0.0926559560021402, 0.8570675930197968, 0.04136426607238402, 0.009100138535924484, 1.0023562403832966, 1.0000977314534363, 0.9998414103943196, 0.9948692827700355, 0.007960589909052842, 0.001137227129864692, 0.9905248301121465, 0.9960702631928193, 0.40039005527364624, 0.5993216604755841, 0.000229713169979143, 0.9953505320025435, 0.004035618815195384, 0.0004035618815195384, 0.0016142475260781536, 0.0008071237630390768, 0.993165790419584, 0.00018711559442501904, 0.402859874797066, 0.5968987462158107, 1.0011419409382587, 1.0020261559678967, 0.9973870798791454, 0.002131168974100738, 0.9998782601746415, 0.17348984577305177, 0.5583931970735662, 0.26808104309152475, 0.8152631311716787, 0.18519031961341004, 1.003553006184084, 0.9974020502365806, 1.0014991363063384, 0.9952648944776702, 0.0033623814002623994, 0.9999519175002319, 0.01626899991469962, 0.984274494839327, 0.00020700352756981307, 0.7259613711873344, 0.1188200248250727, 0.15483863862222016, 0.2733672840558819, 0.20920539093267415, 0.5160120981146578, 0.001253978367228816, 1.0032446525190655, 0.6218579273800109, 0.013293874932114248, 0.3648430120258021, 0.9998605616695568, 1.0001961446150842, 0.9989507642015559, 0.8088177626233263, 0.1903217602238808, 0.0007954932506745279, 0.999870581886383, 1.0019961582102124, 0.00187603950074293, 0.9980530143952387, 0.11602617628925868, 0.023205235257851734, 0.8609142280662994, 0.13800143266612647, 0.16725301839364728, 0.0009435995395974459, 0.45505087797086824, 0.06652376754161993, 0.17244281586143323, 0.9972227833305136, 0.03899344257535119, 0.27466600526247376, 0.6313133458906859, 0.00038042383000342625, 0.05478103152049338, 0.0030133189976287622, 0.9928886097186772, 0.0030133189976287622, 1.0007179378930076, 0.9996977579294848, 0.9967660714422303, 0.9974318160982101, 0.15387523503664882, 0.3816681063432392, 0.4636390259422017, 0.000575234523501491, 0.002150420541576903, 0.997795131291683, 0.9988582462832827, 0.4080522872349888, 0.29941774912001606, 0.2926192382601482, 1.000223094367522, 0.002034384177767344, 0.9968482471059985, 0.9974162776206011, 0.9935699526223433, 0.9994137603898388, 1.0060042836784273, 0.7985526629800722, 0.06772698317046937, 0.00073616286054858, 0.13306143704415585, 0.002063105912784555, 0.99648015587494, 0.30824446497551994, 0.5421770210974821, 0.14795734318824957, 0.0016661862971649726, 0.10030270239105102, 0.8978389539752984, 0.0018320128290602927, 1.0006618659556024, 0.08755781547379045, 0.32841550989159113, 0.1677454444598881, 0.2806567014513418, 0.00029480745950771195, 0.13502181645453207, 0.0011064767871831341, 0.14882112787613153, 0.15158731984408935, 0.6987400911061491, 1.0059202881991252, 0.2941146174317537, 0.7065712111082367, 1.0027934126702918, 1.0020587841354733, 0.9953284493005378, 0.9991896921733745, 0.9964393069448464, 0.0002130538321804722, 0.06945554929083393, 0.9301930312999416, 0.0006900622359268682, 0.0006900622359268682, 0.5693013446396662, 0.42887367962854855, 0.988804961024736, 1.0016967954883076, 1.0019234911639059, 1.0063963638923161, 1.000263771015067, 0.12175200841164845, 0.11559193655748766, 0.5551311812102542, 0.050246860614331104, 0.1572630108650459, 0.9994978881799804, 0.9981646296581699, 0.0012603088758310224, 0.07017508247854413, 0.21907913322887504, 0.0068098896606397855, 0.43666341262980474, 0.1114496576168121, 8.304743488585104e-05, 0.07382916961352157, 0.06444480947142041, 0.017356913891142866, 0.09752977279227644, 0.0002731926408747239, 0.3234600867956731, 0.09206591997478196, 0.0947978463835292, 0.3909386690917299, 0.0005463852817494478, 1.0006816623995205, 1.0035635211962404, 0.9994556993137484, 1.0007397771914883, 1.0070068187515682, 1.0063963638923161, 0.9973076175570342, 0.999873955147342, 0.4894887484255967, 0.2729810244005745, 0.23752477615342377, 1.0128892436593633, 1.0004112870622273, 0.008475438877831344, 0.9916263487062673, 0.045038777162488726, 0.955822937559483, 0.9456002916886833, 0.004264262871200376, 0.04477476014760395, 0.0053303285890004696, 0.0001303357775118472, 0.99980574929338, 0.8090955191171166, 0.12256513493278737, 0.06873585269879291, 0.9994144817554159, 0.44827948205977625, 0.0023723139975723164, 0.5493224856600786, 0.9874087826433167, 0.9996675836882313, 0.9986537667987904, 0.9996685917177234, 0.8236425871775057, 0.1763990231495798, 1.0002808490520414, 0.9558772714047857, 0.04363491110549664, 0.9992713214759491, 0.000564879209426766, 0.0650061855195169, 0.19183197883700576, 0.03823893265853935, 0.0003186577721544946, 0.34478770947116316, 0.046842692506710706, 0.3129219322557137, 0.022114213411202774, 0.9778723409775693, 0.3902974684176286, 0.6097492614846127, 0.9998524778597916, 0.9955835630834095, 0.9917988831880786, 0.12647229678941233, 0.08876266701275269, 0.6805137804311039, 0.09398400036644403, 0.010152592632177595, 0.9994660760956151, 0.04949096373024124, 0.9473984485503323, 0.002828055070299499, 1.0020261559678967, 0.9997494330751658, 0.999794380692758, 1.0016313721162364, 0.9989589071168564, 0.40714769587535804, 0.28681391374299897, 0.3054711698717776, 0.00022079593051809005, 0.00022079593051809005, 0.00649767882104002, 0.00324883941052001, 0.9876471807980829, 1.0087731534521005, 0.09598850147195014, 0.06577938098987735, 0.029245320028008653, 0.24540769061608084, 0.09442232573409591, 0.309620895868104, 0.15953909391180415, 0.9994170175198386, 0.993735577110165, 1.0000638738813128, 1.0063876542927659, 0.009718031669282517, 0.16084138972635456, 0.13783673770923333, 0.6915733684648427, 1.0070068187515684, 1.0004584360440243, 0.7277541384001839, 0.27226393448742975, 0.5331876175844257, 0.04603552883783057, 0.41947299038053076, 0.0012024205293463207, 0.99990728801977, 0.2691484650786802, 0.730545833784989, 0.9997837766129188, 0.9997376232143712, 1.0005600570126423, 0.9987749561422204, 0.999942482796968, 0.9967717779302616, 0.9952822281634643, 0.00537264360682032, 0.9989876062350798, 1.0006989265449653, 0.06253148708650935, 0.9374912948585132, 1.000382637826621, 1.0010133599640074, 0.13330414850944816, 0.00023719599378905368, 0.5799442048142363, 0.2744357648139351, 0.012096995683241737, 0.9992161306171693, 0.9951596797074321, 0.038082718521172385, 0.9618459583252863, 0.8948700820911597, 0.04556806916565071, 0.05120983010996937, 0.008245650610927273, 0.9981923435980944, 1.0004393829771017, 0.9989877450700251, 0.06678058046736192, 0.02504271767526072, 0.1442937542241213, 0.7632066339127077, 0.9949685637303128, 0.005653230475740414, 1.0001016449231181, 0.9988419369686602, 1.0070573275448185, 1.000576448655983, 0.06600755835257781, 0.9323567617301616, 0.9964393069448464, 0.9999503312009344, 1.0013767243885412, 0.0027734660962380306, 0.995674328549453, 1.001719964597304, 0.41477755771129415, 0.5424560863271637, 0.04263846966763732, 0.9998097234079707, 0.8871920038285406, 0.11290612660648983, 0.989458160591611, 1.0002681770220443, 0.9978306413015532, 0.9954489294875138, 0.3476125289121888, 0.579548466057287, 0.07255282455920789, 0.006054835933950636, 0.8078881089014134, 0.18596996082848383, 1.0001871179239277, 0.999554323653106, 0.9989815416952113, 0.9993051460391542, 0.9986635633443736, 0.8464647018938555, 0.15367673325305622, 1.0005764486559827, 0.9888262084153991, 0.9888010592154187, 0.999527249211686, 0.9933823604378893, 0.9962981968914904, 1.000117750947168, 1.0049333181173996, 0.9992161306171693, 0.9998790118363361, 0.6083194870233641, 0.13560258134787276, 0.15546993628953784, 0.10059819406970097, 0.2996606658014432, 0.7001483320960779, 1.0005433775831427, 1.002358808028475, 1.0026600267281802, 1.0002808490520412, 1.0012498211118384, 0.12136779823807799, 0.030153490245485214, 0.04296872359981643, 0.030907327501622346, 0.03543035103844513, 0.7387605110143878, 1.000420899670977, 0.9947413823501551, 0.9951679273118965, 1.0001461163772634, 1.0061846843569828, 1.000150475664332, 0.006011459082080932, 0.9948964780843942, 1.0000148875080679, 1.0095698253168657, 0.9998473015146345, 1.000368603914393, 1.0025210332765986, 1.0010133599640074, 0.99955695970951, 1.0073827942891418, 1.0000233522562287, 0.996379038853063, 1.00013828630167, 1.0006094942406185, 0.08544394200737201, 0.3176007604854861, 0.12330532948369255, 0.05768745186425865, 0.4153240714040972, 0.0005116403713016288, 0.0001279100928254072, 0.9995814582784619, 0.0003119792316724288, 1.0005185801266139, 1.0008312428972619, 0.29720241035273076, 0.620688027063186, 0.08196005769538937, 0.0001555219311107958, 0.9930519614428153, 0.997416277620601, 0.23474487391116905, 0.52531322393536, 0.23999323491324803, 0.0013426817538997086, 0.9989552249013832, 1.0001767190407904, 0.9996669334260202, 0.9983562736761755, 1.0006991337855944, 1.0002808490520414, 1.0042766179218896, 0.2735414711014673, 0.5761910387185069, 0.045528048396151446, 0.10486378360097177, 1.000243722366337, 0.9967467768532081, 0.9964915278604797, 0.9984969019733861, 1.0006349059701352, 0.294662738879716, 0.3714315090798827, 0.21685091473661222, 0.11703065239753675, 0.6957240173432686, 0.1621183600132441, 0.14202328691277497, 0.06362131523618343, 0.008847135861064363, 0.08899177836717682, 0.3719266526690587, 0.4665996800450563, 0.9994170175198386, 0.6038867520386929, 0.16920607793432244, 0.0009060566422185941, 0.0020386274449918367, 0.0022651416055464854, 0.15244403005327845, 0.0695398472902771, 1.0015728348377537, 1.0001461163772634, 0.06991807538156969, 0.05872615324315295, 0.13027900376853632, 0.38618418974244695, 0.1483872822846263, 0.2064846758570817, 0.000997178287186625, 0.9981754654738115, 0.0004985891435933125, 0.9998584886578953, 0.00017223482245751104, 0.382878010323047, 0.6169451340428045, 1.007309041473215, 0.3639044737089596, 0.32505099319856545, 0.311174750159139, 0.9995475089830382, 0.564581168107836, 0.3544231912966963, 0.08036920253347621, 0.0004991875933756286, 0.995855705853158, 0.0019151071266406885, 0.0019151071266406885, 1.0000335608322508, 0.0010328273621425562, 0.9987440591918519, 1.0004671010685853, 0.9983792013022688, 0.9960519770568087, 0.9987336554565772, 1.0066350293130373, 1.0010133599640076, 0.19023797434717143, 0.04837219853530265, 0.028932296166948493, 0.005526393649866566, 0.11221829929023168, 0.6147950394486853, 1.000240154986932, 0.9996617572871831, 0.0003022865912570859, 0.9997526739488964, 0.9965306046041044, 0.0021569926506582347, 0.9975403535751863, 0.9991167589992586, 1.0006094942406185, 0.9998242754452973, 0.9911486548305498, 0.0045581695929866875, 0.0010129265762192639, 0.003038779728657792, 1.0016313721162364, 0.9988426399235627, 0.9909133429093573, 1.0001656461616233, 1.0094267544240532, 0.19271775317615422, 0.8077141125765287, 0.9934718190279684, 0.04000031949928536, 0.9593826629906723, 0.0006250049921763338, 0.23316082922627213, 0.7663219253903477, 0.12070435763367393, 0.8790049393227355, 0.0005775328116443729, 1.001096997717967, 0.9996159430176118, 0.9980512666076425, 0.0014037289263117336, 1.0017114167003842, 0.9988652626250291, 1.00011666193438, 0.9992515853629969, 1.0004701110251466, 1.003267894558521, 1.0036201655889136, 0.002829951056462044, 0.28525906649137406, 0.7120156858058503, 0.0002420840868494403, 0.5948006013890749, 0.3873345389591045, 0.017551096296584422, 1.0007260797894337, 0.9905699340977361, 0.9998639793349465, 0.9999401042340135, 0.5954105080377796, 0.1965757320192108, 0.2079423559795053, 0.9957093681699234, 1.000896451813986, 1.0000638738813128, 0.9987434883994631, 0.0540430797139261, 0.9460508349921349, 0.5802433896186354, 0.040071263788019625, 0.37959982147575577, 0.995260166194608, 0.00450343966603895, 1.0000638738813128, 0.4343157533787936, 0.5640808260346526, 0.0007566476539700237, 0.00037832382698501185, 1.0001993503727373, 1.0002577252756928, 1.0002808490520414, 1.0070317805827957, 0.9978455961666529, 1.0010133599640074, 1.0048342207779233, 1.0001860031305625, 0.9990708525466273, 0.0006656034993648416, 1.0039088669669218, 0.9976576955065, 0.9994708393204516, 0.0002463976777778059, 0.9996353787445587, 0.9922932903509339, 0.9999503312009344, 0.9998449161949373, 0.061904881737516335, 0.11438854914999652, 0.2376980711564432, 0.586032880448488, 1.0025986417644206, 0.9977420744739289, 1.013482886655303, 0.3155249185467724, 0.31845717169067883, 0.047893468017138584, 0.10194104757087093, 0.030299949153699917, 0.18581796774903428, 0.9999996754040674, 0.8030830881839354, 0.008991501871240289, 0.1883483023554545, 0.988804961024736, 1.0000771537342235, 1.0011321519022982, 1.0017520412051428, 1.0007947071289118, 1.0000946750638615, 0.998327776740296, 1.0019192799553038, 1.0070573275448185, 0.9953284493005378, 0.9985831632577983, 0.0017157786310271447, 0.22818847317866062, 0.1547839206470025, 0.42520266725745653, 0.19175806562591177, 0.9965062043386375, 0.9942117353260366, 0.9988419369686603, 1.000276761845826, 0.7038483776571839, 0.29481165621317657, 0.0009248993136099657, 0.00046244965680498283, 0.03734841177883442, 0.8926270415141426, 0.01680678530047549, 0.05415519707930991, 1.0000638738813128, 0.999884008207086, 0.16016054377605968, 0.13129439925828149, 0.15271121615856853, 0.5563716564313701, 0.9930519614428153, 0.1562911989508925, 0.8438184928580206, 1.0037823473627256, 1.00077165175765, 1.0006094942406185, 1.0070068187515682, 0.9991336225832206, 1.0014676266950135, 0.12454102219541154, 0.8748247412750859, 0.0007593964768012899, 0.005325256374258889, 0.9532208909923412, 0.04260205099407111, 0.9915827547124584, 0.9870071914631089, 0.001713554151845675, 0.010281324911074051, 1.0010133599640074, 1.0027934126702918, 0.9972993494109, 1.0012074978230125, 0.0008994721746304536, 0.858546190684768, 0.14054252728600838, 0.9999458160469614, 0.9928473867092834, 0.9988419369686602, 0.9960212898197329, 1.0006613211890039, 0.9993850225013375, 0.10216765287839942, 0.665906954926801, 0.2319299946106485, 0.9965454795694805, 1.001842681219509, 1.0011374537002327, 0.20344093304279315, 0.4359639142189167, 0.26587395380608964, 0.005069347839754846, 0.08964741442934884, 0.3066990358672737, 0.6931614959035627, 0.6440183022276708, 0.18630249303175614, 0.16943721471519718, 0.08255050238564374, 0.916745052808991, 0.9991709541002688, 0.9972227833305136, 1.0025210332765986, 0.9988615351085989, 1.000093199670184, 1.005585974659728, 1.0070068187515682, 0.6559224895345024, 0.34415041449302314, 0.9989853817895299, 0.998520583007707, 1.000135254438218, 0.9956930570849506, 0.1551101720324461, 0.31040603062359023, 0.1866768870111163, 0.07198448925528125, 0.2495627348901926, 0.025439058541634217, 0.0008046417543582598, 1.0008883709112542, 1.0016649352916287, 1.000204746355422, 0.005277968173666086, 0.002638984086833043, 0.9922580166492241, 0.1474760850235419, 0.09727146033467657, 0.754638264854507, 1.0085026267700188, 0.9972227833305136, 0.9984645388762392, 0.0015674482556926833, 0.30864269115397824, 0.1796865855651768, 0.0007745111446774862, 0.420559551559875, 0.09061780392726589, 1.0002441339649737, 0.9999682612867126, 0.4966026580054243, 0.13227620266506734, 0.09486093391123401, 0.23696336877427782, 0.03892699678429125, 0.9997210460015706, 0.00028490197948178133, 1.0043524101989487, 1.0000619441394887, 0.9991646394851113, 1.009595479897176, 0.9967467768532081, 1.000576448655983, 0.08956492269023254, 0.09889985829456664, 0.27626363477691446, 0.5351188761295302, 1.000072379916106, 0.6361413971726201, 0.13576188354293722, 0.2123455101569018, 0.01571456234416416, 0.9586322322692377, 0.042036279703784755, 0.9984983029371283, 0.9972227833305136, 0.9983742421976026, 0.0016076879906563649, 0.4616363336510312, 0.13557847362484962, 0.1919858138860525, 0.21073246702924156, 0.010587496238845062, 0.9888721487081287, 0.6554592242620315, 0.3442745012504118, 1.0019192799553038, 0.99931879723062, 0.9999881906117825, 0.6285379610740286, 0.03276603151564519, 0.3387722736704533, 1.0057913639519378, 0.9989853817895299, 0.3468446527743331, 0.3952057633299017, 0.25782324544592966, 0.23068705125384958, 0.5982089859010082, 0.03864501029551668, 0.13289151499580737, 1.0002118052315254, 0.9990663448821123, 0.9897515769567565, 0.043546630297243184, 0.1884381456498887, 0.7680042070604708, 0.1144432177190648, 0.1520430540612351, 0.00020546358656923662, 0.2901145842357621, 0.1886155724705592, 0.2543639201727149, 1.0002808490520412, 0.9954988087026709, 1.002258089746161, 0.01996466927343705, 0.9804870909843529, 0.0019001659438430435, 0.47447143617760795, 0.5234957175287585, 1.0005764486559827, 0.0008403894055099725, 0.9988028084486024, 1.000576448655983, 1.000597948991773, 1.000576448655983, 0.9996154261971923, 0.00044605775376938526, 0.9963186765340426, 0.3213316509419982, 0.6781477786751373, 0.0006571199405766834, 1.0007363799192046, 1.0005000251233276, 0.7404048081124383, 0.25998192861625, 0.9995095147494494, 1.003096703682833, 0.4093635310158776, 0.5904598876054963, 0.9998361233150175, 0.9891438547970193, 0.0014478328383560096, 0.11341357233788743, 0.06338290425691864, 0.3716104285113758, 0.45027601272871903, 0.005165615105261724, 0.2647377741446633, 0.7309345373945338, 0.9964320434577387, 0.9994386167398481, 0.9966574822131247, 1.0033641415502954, 0.14747999290919275, 0.8509994185435852, 0.0009964864385756265, 0.0007988619242525214, 0.031155615045848337, 0.9650252044970459, 0.0031954476970100856, 0.9945123489671588, 0.9978351433171995, 0.9976576955065, 0.9985931271118882, 0.0009447427881853247, 0.9983970297998944, 1.0001332729147048, 0.5589379764762852, 0.353804901860877, 0.001986074028088323, 0.0005674497223109495, 0.08426628376317599, 0.9927989283220432, 0.0064051543762712465, 0.9999592727586517, 0.9593648467731594, 0.041401161542294077, 1.007821741040466, 1.0030975021292083, 0.9993630932765964, 0.999720245988969, 0.9955181290000341, 0.3427107945688129, 0.6572497765045142, 0.9897438447158272, 0.9972030618241888, 0.3978625208797447, 0.4107848625917584, 0.19128705830037132, 0.999937102682401, 0.9996948835029821, 0.9994789622449693, 0.9990676700408317, 1.0011098645497276, 1.0003378994220877, 0.0008854188481467518, 0.9987524607095362, 0.9995048101618392, 0.9992588010278315, 1.0015034674976477, 0.9940324487155111, 0.9996178277640794, 1.0074965287955187, 0.021264148957054658, 0.2467266695164136, 0.3821292650811881, 0.1873121356658197, 0.16292090597978642, 0.10144364488095699, 0.14354607265834762, 0.5108648913776298, 0.05436848941332335, 0.1859800156150878, 0.0036466669728448587, 0.9992606124534793, 0.999837419013581, 0.9986286987094799, 0.9993924005830704, 0.0005945225464503691, 0.0025175424218914022, 0.9944292566471039, 0.0025175424218914022, 0.8288246242697881, 0.00099260434044286, 0.16973534221572906, 0.7652658388050255, 0.2338312285237578, 0.0009242341048369873, 0.9945123489671588, 1.0125382189265166, 1.0017520412051428, 0.9901510885049839, 0.010015014381372055, 0.939659606790441, 0.060336037909702, 1.0000238233027072, 0.5914190781820435, 0.40889491439827497, 0.9994542676109316, 0.06745838557255503, 0.5389543167328812, 0.39360058781994184, 1.0014991363063384, 0.9968996620153047, 0.002134688783758682, 1.0005649600709925, 1.0063963638923161, 0.0006420280971181239, 0.8898509426057197, 0.10914477651008106, 0.0009746226789714542, 0.9989882459457405, 0.7191171225262428, 0.28090033442816137, 0.5733570677265672, 0.31848911984009187, 0.10807934030674597, 0.7621771156471057, 0.03492631750502797, 0.2030296213843682, 0.999949690660577, 1.0000771537342235, 0.9998821311065874, 0.37137786378592635, 0.2095541073321275, 0.15237978328535948, 0.04875132095059239, 0.0816776057810972, 0.13604426212914003, 0.9979315121297748, 0.0021460892733973654, 0.9898249242361719, 0.9997789158314673, 1.0003331360449084, 0.9734171843764785, 0.0265365208758592, 0.1587356016820653, 0.8419888437048682, 0.6706106476466946, 0.3294499663451789, 0.9949668718945417, 0.2717515646535626, 0.00037023373931003076, 0.06368020316132529, 0.5121073082136345, 0.15209202010856063, 0.999882570319198, 0.9999624063616414, 0.9962586827197151, 0.0013591523638740997, 0.0013591523638740997, 0.9909751579150123, 0.00934882224448125, 0.9906447939947542, 0.007050852626297183, 0.7304093628252011, 0.26925180307941976, 0.000729679683142059, 1.0023867034710983, 0.9996669334260203, 0.29939682959444325, 0.7003940273545098, 1.0000455816818008, 0.040615024423894155, 0.9604258716709089, 0.0034670548342578514, 0.9950447374320034, 1.0070317805827957, 0.9995724320089342, 0.9989507642015559, 0.9923536239310279, 0.9999322925339902, 0.9986150952619719, 0.0007218387433301901, 0.999024820768983, 0.5955707626639328, 0.08637282561399363, 0.28690508353175403, 0.030799612234447344, 1.0015034674976477, 0.30634701954196, 0.0017737213703835565, 0.08868606851917783, 0.6030652659304092, 0.9996617343607609, 0.00044132909726519646, 0.9996104053056699, 1.000566422685571, 0.0004595151042168528, 0.45377116541414214, 0.04066708672319147, 0.20218664585541524, 0.30259069612679756, 0.0002297575521084264, 0.9985953849526945, 1.0067663103086282, 0.0010388395343041623, 0.9983247924663, 1.0032261311900283, 0.25266910776614065, 3.3604084022628094e-05, 0.023758087403998065, 0.7235295330912055, 0.9997173592571927, 0.25744277550008465, 0.00032423523362731067, 0.28435429989115146, 0.4578201498817627, 1.0000290445809072, 0.08192212348291769, 0.49709306602078107, 0.4051623573159685, 0.01593959868672154, 0.835130206460139, 0.1649129505606105, 1.0013600515436158, 0.9994936906534518, 1.0006944622541556, 1.002526314907678, 0.0020531389832144247, 0.08931154576982749, 0.908514000072383, 1.0071378048675361, 0.9991517514652386, 0.6830016891478492, 0.07386251473285747, 0.24322518271694016, 1.0017520412051428, 0.006064086112777464, 0.9945101224955041, 1.0011407596132096, 0.1643795589198494, 0.0034679231839630674, 0.8156555328681134, 0.016646031283022725, 1.0027934126702918, 1.0070317805827957, 0.9964924631512647, 0.9999922474233529, 0.9996183395624952, 0.16668442593894922, 0.8334221296947462, 0.9984246713470453, 1.000034200259716, 0.00018500178028693737, 0.6935716742957282, 0.00018500178028693737, 0.3059929445945944, 1.000576448655983, 0.010275205970504306, 0.9898448418252481, 0.9810307987298532, 0.012891337696844326, 0.006445668848422163, 1.0020500492280078, 0.0005251876322330429, 0.2946302616827371, 0.7042766148245106, 1.0007947071289118, 1.000576448655983, 0.9897515769567565, 0.9923536239310279, 0.9991093300813372, 1.0079648416304243, 0.04156859406668703, 0.02771239604445802, 0.9300972922421223, 0.005003600008412771, 0.0025018000042063854, 0.9919637016678318, 1.0001349874801784, 0.9747694030767085, 0.025101358019142705, 0.9995475089830382, 1.0004112870622273, 0.9992178348855948, 0.9953284493005378, 0.9975001225243062, 0.9930391254692554, 0.004832307179899053, 0.11712510592427572, 0.8829431061983862, 1.0042035190483236, 0.9972227833305136, 0.0044054928497970726, 0.9934386376292399, 1.0005928022463324, 0.9999251785651123, 0.999522248946467, 1.0012530234035173, 0.20676437578194914, 0.11886645440109504, 0.19859395430426854, 0.4226216399826073, 0.004216991730415788, 0.048758966882932554, 0.9961082224461643, 0.0031128381951442633, 0.9922771297101056, 1.0036716315912007, 0.9992178348855948, 0.3980832484229282, 0.10506461454727302, 0.1568577481620374, 0.12973772150548754, 0.2102311840819767, 0.9999230721164838, 0.8419477018724745, 0.15640451970727107, 0.0011985020667223836, 1.0002535432452828, 1.0009563835469524, 1.0002808490520412, 0.9996558130568484, 1.000597948991773, 0.7356519382768599, 0.2639177720345438, 0.00030162031089662155, 0.9920745263367087, 0.9962309716245455, 0.00421417500687202, 0.0014962267342213764, 0.4144548053793213, 0.05573444584974627, 0.5285420938637012, 1.0006094942406185, 0.0005869028311367367, 0.9994955214258626, 0.9978389472941853, 0.999761095396296, 0.08220101740533423, 0.10740932940963673, 0.6251661377067019, 0.18522629255335313, 1.000576448655983, 0.012386350723668563, 0.9785217071698166, 0.999794380692758, 0.020131330028131368, 0.9799411939500076, 1.0107597441902039, 0.999931829392658, 0.041650147290962204, 0.49134407474663844, 0.17202627884926153, 0.29506177142141427, 1.000576448655983, 0.9997727727936085, 0.003012684263010966, 0.9956921489251243, 0.8263399497929796, 0.1735447390518374, 0.9985104404696482, 0.9929555608155, 0.18197754875285793, 0.494436131506331, 0.32254911604952063, 0.0006958988480032808, 0.0005400988373261301, 0.9457130641580538, 0.05373983431394995, 0.9982252727075281, 0.9992588010278315, 1.0002808490520412, 0.9998895919170291, 1.003616344011356, 1.0000064042391912, 1.0028190321193906, 0.9975001225243061, 0.9913150281340033, 0.9988419369686602, 0.18033101082245434, 0.10589650848297319, 0.7136503832548193, 0.5024662167438839, 0.2447663616957015, 0.2444430243618895, 0.008406770679112602, 1.0021254647217894, 1.0018277955179853, 1.0123209452415394, 0.9956811678909293, 0.9982602478391553, 0.9999976426121241, 1.0001169745863516, 1.003434042792311, 1.0007449930209624, 0.9994314789211816, 9.790547304872872e-05, 0.6094615697283363, 0.39044702651833013, 0.37899564670342534, 0.19725912398599818, 0.30853350161912535, 0.11528583638792643, 0.9994934586305824, 1.0000852907237807, 0.9999737552555257, 1.0002808490520412, 0.0242853757711041, 0.9764744841298106, 0.00014043071326886474, 0.7965230056610008, 0.2032734574566817, 0.0019982527107836527, 0.0009991263553918263, 0.695891506530407, 0.30073703297293974, 0.33748586217475485, 0.661497358450239, 0.0012534293859786624, 0.9961540718088424, 1.0009061097398455, 0.8285940347055599, 0.17153498073507778, 1.0008124544956356, 0.9979992086034691, 0.9995372432796346, 1.0045373633033265, 0.10998195687387669, 0.8893602685480152, 0.9998468932187218, 0.1903637876334322, 0.05734199719233355, 0.18134042766915637, 0.21394095399170132, 0.3571504089085953, 0.0956888805080556, 0.0015052183450705375, 0.061713952147892034, 0.7880893192405029, 0.00021503119215293394, 0.05268264207746881, 1.0026248569130192, 1.001519651410088, 0.9803690528081636, 0.01948213873571936, 1.0018736203262575, 0.9986409324680051, 1.000823461263351, 0.9985165687155185, 0.19712426170010056, 0.004990487637977229, 0.43084543274536746, 0.36680084139132635, 0.12619579505972464, 0.8736986249207944, 1.0060475893180132, 0.6876227106078519, 0.3109355234307309, 0.001445091510909671, 0.4139322125077783, 0.5849042133262085, 0.000857002510368071, 1.0041029073713037, 1.0006258599210875, 0.9993746357140313, 0.7368500671351129, 0.2635129236371668, 1.0074965287955187, 0.0004209926178759987, 0.3944700829498108, 0.6051768881967482, 0.20868199400711782, 0.45663022585923774, 0.10183588093926353, 0.06023930256933552, 0.12059512216491734, 0.052083110732094734, 0.15431233701436642, 0.846574626676038, 1.0010133599640074, 0.9997628301209958, 0.6544232228904197, 0.1370825246834528, 0.20854043648652926, 0.6576484749951954, 0.3424683967298632, 0.995573105913993, 1.0015762666988222, 1.005996739618053, 1.0010794530744676], \"Term\": [\"ac_unit\", \"access\", \"access\", \"accommodating\", \"accomodat\", \"accomodat\", \"accomodat\", \"accomodating\", \"activity\", \"activity\", \"admittedly\", \"adolphus\", \"adult\", \"advance\", \"advertise\", \"advertised\", \"advise\", \"affair\", \"afraid\", \"aid\", \"aim\", \"air\", \"air_conditioner\", \"airport\", \"airport\", \"alex\", \"amazing\", \"amazing\", \"amazing\", \"amazingly\", \"amazingly\", \"amazingly\", \"amenity\", \"amenity\", \"amenity\", \"amenity\", \"amenity\", \"anniversary\", \"anniversary\", \"answer\", \"apologize\", \"appetizer\", \"apply\", \"architecture\", \"area\", \"area\", \"area\", \"area\", \"argue\", \"arrival\", \"arrival\", \"arrival\", \"arrival\", \"arrive\", \"art\", \"art\", \"art_institute\", \"art_museum\", \"assist\", \"assure\", \"atmosphere\", \"attention\", \"attention\", \"attentive\", \"attentive\", \"attentive\", \"attentive\", \"attraction\", \"attraction\", \"austin\", \"austin\", \"automatically\", \"ave\", \"aveda\", \"avenue\", \"awesome\", \"awesome\", \"awesome\", \"awful\", \"baby\", \"back\", \"back\", \"back\", \"back\", \"bacon\", \"bacon_sausage\", \"bad\", \"bad\", \"bag\", \"bagel\", \"baggage\", \"balcony\", \"balcony\", \"baltimore\", \"bang\", \"bar\", \"barclay\", \"bart\", \"bartender\", \"bartender\", \"base\", \"base\", \"basketball\", \"bath\", \"bathroom\", \"bathroom\", \"bathroom\", \"bathtub\", \"bathtub\", \"bay\", \"bay\", \"beach\", \"bean\", \"bear\", \"beautiful\", \"beautiful\", \"beautiful\", \"beautifully_appoint\", \"becuase\", \"bed\", \"bedding\", \"bedroom\", \"bell_hop\", \"bellboy\", \"bellhop\", \"bellhop\", \"bellhop\", \"bellman\", \"bench\", \"big\", \"big\", \"big\", \"big\", \"big\", \"big\", \"big\", \"bill\", \"birthday\", \"birthday\", \"birthday\", \"bit\", \"bit\", \"bit\", \"bit\", \"bit\", \"bit\", \"bite\", \"bite\", \"bizarre\", \"bldg\", \"block\", \"block\", \"blood\", \"boarding_pass\", \"boat\", \"book\", \"book\", \"boston\", \"boyfriend\", \"boyfriend\", \"bread\", \"break\", \"break\", \"break\", \"break\", \"breakfast\", \"breakfast\", \"brilliant\", \"bring\", \"bring\", \"bring\", \"bring\", \"broadway\", \"brunch\", \"budget\", \"budget\", \"budget\", \"buffet\", \"bug\", \"build\", \"build\", \"building\", \"building\", \"building\", \"bummer\", \"bunk\", \"burger\", \"burger\", \"bus\", \"business\", \"business\", \"cabin\", \"cable_car\", \"call\", \"call\", \"call\", \"campus\", \"cancel\", \"cancellation\", \"capacity\", \"car\", \"card\", \"cardio_machine\", \"carefully\", \"carpet\", \"carry\", \"cart\", \"cart\", \"ceiling_fan\", \"center\", \"central\", \"central\", \"central_park\", \"central_park\", \"centrally_located\", \"cereal\", \"cereal\", \"certificate\", \"chair\", \"chair\", \"champagne\", \"change\", \"change\", \"change\", \"change\", \"change\", \"channel\", \"charge\", \"charge\", \"charlotte\", \"cheap\", \"cheap\", \"cheap\", \"cheap\", \"check\", \"check\", \"checkin\", \"cheerful\", \"cheese\", \"cheese\", \"chelsea\", \"chemical\", \"chic\", \"chicago\", \"child\", \"china_town\", \"chinatown\", \"chinatown\", \"choice\", \"choice\", \"choice\", \"choice\", \"choose\", \"choose\", \"choose\", \"choose\", \"christma\", \"christma\", \"christma\", \"cigarette\", \"city\", \"city\", \"clean\", \"clean\", \"clean\", \"clean\", \"clean\", \"clean\", \"clerk\", \"clerk\", \"close\", \"close\", \"close\", \"close\", \"close\", \"close\", \"closet\", \"clothe\", \"club\", \"club\", \"cocktail\", \"coffee\", \"collect\", \"collect\", \"comfortable\", \"comfortable\", \"comfortable\", \"comforter\", \"comfy\", \"comfy\", \"commend\", \"company\", \"competition\", \"complaint\", \"complaint\", \"complaint\", \"complaint\", \"complimentary\", \"complimentary\", \"computer\", \"computer\", \"computer\", \"con\", \"conceirge\", \"concierge\", \"concierge\", \"concierge\", \"conference\", \"conference\", \"confidence\", \"configuration\", \"confirm\", \"confirmation\", \"confused\", \"congress\", \"connect\", \"connect\", \"connect\", \"connected\", \"connection\", \"conrad\", \"constantly\", \"construction\", \"consume\", \"contact\", \"contact\", \"contemporary\", \"continental\", \"convenient\", \"convenient\", \"convention\", \"convention\", \"convention_center\", \"convince\", \"cook\", \"cookie\", \"cookie\", \"cool\", \"cool\", \"cool\", \"cord\", \"core\", \"corner\", \"corner\", \"corner\", \"corner\", \"corner\", \"cost\", \"cost\", \"cosy\", \"courteous\", \"courteous\", \"courteous\", \"courteous\", \"crab\", \"credit_card\", \"criterion\", \"crown_plaza\", \"crowne_plaza\", \"cruise\", \"cup\", \"cup\", \"cup\", \"curb\", \"customer\", \"customer\", \"dad\", \"dalla\", \"dalla\", \"danish\", \"dark\", \"dark\", \"dated\", \"day\", \"day\", \"day\", \"day\", \"day\", \"day\", \"day\", \"day\", \"deal\", \"deal\", \"deal\", \"deal\", \"december\", \"decent\", \"decent\", \"decent\", \"decide\", \"decide\", \"decide\", \"decor\", \"decor\", \"decor\", \"defiantly\", \"definatly\", \"definetly\", \"definitley\", \"degree\", \"delay\", \"delay\", \"deli\", \"delicious\", \"delicious\", \"delicious\", \"delightful\", \"denver\", \"denver\", \"departure\", \"describe\", \"describe\", \"desk\", \"desk\", \"desk\", \"desk\", \"dessert\", \"detail\", \"detroit\", \"diner\", \"dining\", \"dining\", \"dinner\", \"dirty\", \"disappointed\", \"disappointed\", \"disappointed\", \"disappointed\", \"discussion\", \"disgusting\", \"district\", \"dock\", \"dog\", \"dog\", \"dog\", \"donut\", \"door\", \"door\", \"door\", \"doorstep\", \"double\", \"double\", \"double\", \"double\", \"double\", \"downtown\", \"downtown\", \"downtown\", \"drain\", \"drape\", \"drawer\", \"drawer\", \"drink\", \"drive\", \"drive\", \"drive\", \"driver\", \"driver\", \"driveway\", \"drug\", \"duane_reade\", \"earlier\", \"earlier\", \"early\", \"east\", \"east\", \"easy\", \"easy\", \"easy\", \"easy\", \"eat\", \"eat\", \"eat\", \"eat\", \"economy\", \"efficient\", \"efficient\", \"efficient\", \"egg\", \"elegant\", \"element\", \"elevator\", \"elevator\", \"elevator\", \"email\", \"empire_state\", \"empire_state_build\", \"empire_state_build\", \"encounter\", \"encounter\", \"encounter\", \"end\", \"end\", \"end\", \"end\", \"end\", \"end\", \"engage\", \"enjoy\", \"enjoy\", \"enjoy\", \"enjoy\", \"enjoy\", \"enjoyable\", \"enjoyable\", \"enjoyable\", \"ensure\", \"equipment\", \"era\", \"ethernet\", \"evening\", \"evening\", \"evening\", \"evening\", \"event\", \"event\", \"eventually\", \"excellent\", \"excellent\", \"excellent\", \"exceptional\", \"executive\", \"executive\", \"executive_lounge\", \"exemplary\", \"exercise\", \"exorbitant\", \"expect\", \"expect\", \"expect\", \"expect\", \"expedia\", \"expedia\", \"expensive\", \"expensive\", \"expensive\", \"expensive\", \"experience\", \"experience\", \"experience\", \"explain\", \"extra\", \"extra\", \"extra\", \"extra\", \"extra\", \"extra\", \"extremely\", \"extremely\", \"extremely\", \"extremely\", \"extremly\", \"fabulous\", \"fabulous\", \"facelift\", \"factor\", \"fade\", \"fairmont\", \"fake\", \"family\", \"family\", \"family\", \"fantastic\", \"fantastic\", \"fantastic\", \"fantastic\", \"favour\", \"fax\", \"feather\", \"feather_pillow\", \"fee\", \"feel\", \"feel\", \"feel\", \"feel\", \"feel\", \"filthy\", \"finally\", \"finally\", \"find\", \"find\", \"find\", \"find\", \"find\", \"find\", \"find\", \"find\", \"find\", \"fine\", \"fine\", \"fine\", \"fine\", \"fine\", \"fine\", \"fine\", \"fire\", \"fire_pit\", \"firm\", \"fisherman_wharf\", \"flair\", \"flat_panel_tv\", \"flat_screen\", \"flight\", \"floor\", \"floor\", \"floor\", \"floral\", \"flow\", \"fluffy\", \"fluffy\", \"fold\", \"fold\", \"follow\", \"follow\", \"follow\", \"follow\", \"food\", \"food\", \"foot\", \"foot\", \"foot\", \"four_season\", \"free\", \"free\", \"free\", \"freebie\", \"freeway\", \"french\", \"frequently\", \"fresh\", \"fresh\", \"freshen\", \"friday\", \"friday\", \"fridge\", \"fridge\", \"friend\", \"friend\", \"friend\", \"friend\", \"friend\", \"friend\", \"friend\", \"friendly\", \"friendly\", \"front\", \"front\", \"fruit\", \"frustrated\", \"fulfil\", \"full\", \"full\", \"full\", \"full\", \"full\", \"function\", \"future\", \"future\", \"future\", \"gal\", \"game\", \"garage\", \"genuine\", \"getaway\", \"give\", \"give\", \"give\", \"give\", \"give\", \"gold\", \"gold\", \"gold\", \"goldfish\", \"good\", \"good\", \"good\", \"good\", \"good\", \"good\", \"good\", \"grand_central\", \"grand_central_terminal\", \"granddaughter\", \"greasy\", \"great\", \"great\", \"great\", \"great\", \"greek\", \"ground\", \"group\", \"group\", \"guest\", \"guest\", \"guest\", \"guest\", \"gym\", \"hall\", \"hall\", \"hallway\", \"happen\", \"harbor\", \"health_club\", \"hear\", \"heartbeat\", \"heat\", \"heat\", \"heated\", \"heavy\", \"helpful\", \"helpful\", \"helpfull\", \"hesitate\", \"high\", \"high\", \"high\", \"high\", \"high\", \"high_speed_internet\", \"high_tech\", \"highly_recommend\", \"highly_recommend\", \"hilton\", \"hilton\", \"hilton\", \"hilton\", \"hilton_honor\", \"hip\", \"hole\", \"holiday\", \"holiday\", \"holiday\", \"holiday\", \"hollywood\", \"hollywood\", \"home\", \"homemade\", \"homey\", \"honest\", \"honeymoon\", \"honeymoon\", \"horn\", \"horton_plaza\", \"hospital\", \"hospitality\", \"hospitality\", \"hostel\", \"hot\", \"hot\", \"hot\", \"hotwire\", \"hour\", \"hour\", \"housing\", \"houston\", \"hudson_river\", \"humid\", \"husband\", \"husband\", \"husband\", \"hyatt\", \"hyatt\", \"hyatt\", \"ice_cream\", \"ideal\", \"ideally_locat\", \"immaculate\", \"immaculately\", \"include\", \"include\", \"increase\", \"independence\", \"infant\", \"inform\", \"ink\", \"instant\", \"internet\", \"interrupt\", \"interstate\", \"iron\", \"issue\", \"issue\", \"issue\", \"issue\", \"item\", \"item\", \"jacuzzi\", \"jame\", \"japanese\", \"jean\", \"jfk\", \"job\", \"job\", \"job\", \"job\", \"job\", \"job\", \"juice\", \"junior\", \"justice\", \"key\", \"key_card\", \"kid\", \"kimpton\", \"kimpton\", \"king\", \"kingsize\", \"kitchen\", \"kitchenette\", \"knowledge\", \"knowledgeable\", \"la_jolla\", \"label\", \"lake\", \"lake_michigan\", \"lamp\", \"landscaping\", \"large\", \"large\", \"large\", \"large\", \"large\", \"large\", \"large\", \"late\", \"late\", \"laundry\", \"lax\", \"leave\", \"leave\", \"leave\", \"leave\", \"leisurely\", \"lemon\", \"level\", \"level\", \"level\", \"lift\", \"lift\", \"light\", \"light_bulb\", \"light_sleeper\", \"lighting\", \"limo\", \"lincoln_memorial\", \"line\", \"line\", \"line\", \"line\", \"linen\", \"liquor\", \"liquor_store\", \"lively\", \"living\", \"lobby\", \"lobby\", \"lobby\", \"lobby\", \"locate\", \"locate\", \"locate\", \"location\", \"location\", \"location\", \"location\", \"location\", \"london\", \"long\", \"long\", \"long\", \"long\", \"long\", \"long\", \"long\", \"look_forward\", \"lose\", \"lot\", \"lot\", \"lot\", \"lot\", \"lot\", \"lot\", \"loud\", \"loud\", \"loud\", \"lounge\", \"love\", \"love\", \"love\", \"loved\", \"lovely\", \"lovely\", \"lovely\", \"lover\", \"low\", \"low\", \"low\", \"low\", \"lucky\", \"lucky\", \"lucky\", \"luggage\", \"lunch\", \"lunch\", \"macy\", \"madison\", \"madison_avenue\", \"madison_square\", \"madness\", \"magnificent_mile\", \"make\", \"make\", \"make\", \"make\", \"make\", \"make\", \"management\", \"manager\", \"manager\", \"manhattan\", \"map\", \"map\", \"marathon\", \"marble\", \"marina\", \"market\", \"marriott\", \"marriott\", \"marriott\", \"marriott\", \"mary\", \"massive\", \"matress\", \"mattress\", \"mccormick\", \"meal\", \"meal\", \"medical_center\", \"meet\", \"meet\", \"meet\", \"meeting\", \"meeting\", \"member\", \"member\", \"member\", \"memorable\", \"menu\", \"metro\", \"metro\", \"michigan_ave\", \"michigan_avenue\", \"microwave\", \"midtown\", \"milk\", \"millenium_park\", \"millennium_park\", \"min\", \"min\", \"min\", \"minute\", \"minute\", \"minute\", \"minute\", \"mirror\", \"mission_beach\", \"mistake\", \"mix\", \"modern\", \"modern\", \"modern\", \"modest\", \"mold\", \"moment\", \"monaco\", \"money\", \"money\", \"morning\", \"morning\", \"morning\", \"motel\", \"motel\", \"mother\", \"move\", \"move\", \"move\", \"move\", \"muffin\", \"museum\", \"nap\", \"naturally\", \"navy_pi\", \"navy_pier\", \"negative_comment\", \"neighbor\", \"neighborhood\", \"neighborhood\", \"neighboring\", \"nerve\", \"nervous\", \"new_york\", \"new_york\", \"new_yorker\", \"newly_remodel\", \"newspaper\", \"nice\", \"nice\", \"nice\", \"nice\", \"nicely_furnish\", \"niece\", \"niggle\", \"night\", \"night\", \"night\", \"night\", \"night\", \"night\", \"noise\", \"noisy\", \"noisy\", \"noisy\", \"non_refundable\", \"non_smok\", \"noon\", \"north_beach\", \"northwest\", \"nyc\", \"oatmeal\", \"observe\", \"occassion\", \"occupant\", \"odd\", \"odd\", \"offer\", \"offer\", \"offer\", \"offer\", \"official\", \"older\", \"omelette\", \"omni\", \"open\", \"open\", \"open\", \"open\", \"opinion\", \"opinion\", \"opinion\", \"opinion\", \"opportunity\", \"opt\", \"option\", \"option\", \"option\", \"option\", \"orange_line\", \"order\", \"order\", \"ottoman\", \"outdated\", \"outdoor\", \"outfit\", \"outlet\", \"overbook\", \"overlook\", \"overlook\", \"overlook\", \"overnight\", \"overnight\", \"overnight\", \"painless\", \"paint\", \"paint\", \"paint\", \"palomar\", \"paper_thin_wall\", \"parade\", \"parent\", \"park\", \"park\", \"park\", \"parking\", \"parlor\", \"partake\", \"pasta\", \"pastry\", \"patio\", \"pay\", \"pay\", \"pay\", \"payment\", \"peninsula\", \"penn_station\", \"people\", \"people\", \"people\", \"people\", \"people\", \"perfect\", \"perfect\", \"person\", \"person\", \"person\", \"personal\", \"personal\", \"pet\", \"peter\", \"phenomenal\", \"phoenix\", \"phone\", \"pi\", \"piano\", \"pick\", \"pick\", \"pier\", \"pike_market\", \"pillow\", \"pioneer_square\", \"place\", \"place\", \"place\", \"place\", \"place\", \"place\", \"place\", \"plant\", \"plasma\", \"plate\", \"play\", \"play\", \"play\", \"pleased\", \"pleased\", \"pleased\", \"pleasent\", \"pleasurable\", \"pleasure\", \"pleasure\", \"plenty\", \"plenty\", \"plenty\", \"plenty\", \"plenty\", \"plug\", \"pm\", \"point\", \"point\", \"point\", \"point\", \"point\", \"pool\", \"pool\", \"port_authority_bus\", \"portion\", \"posh\", \"potentially\", \"practical\", \"precious\", \"pretty\", \"pretty\", \"pretty\", \"pretty\", \"previous\", \"price\", \"price\", \"price\", \"price\", \"pricey\", \"pricey\", \"printer\", \"pristine\", \"pro\", \"pro\", \"problem\", \"problem\", \"problem\", \"problem\", \"process\", \"process\", \"professional\", \"professional\", \"professionally\", \"promise\", \"property\", \"provide\", \"provide\", \"provide\", \"prudential_center\", \"public_transportation\", \"put\", \"put\", \"put\", \"quality\", \"quality\", \"quality\", \"quality\", \"queen\", \"queue\", \"quicker\", \"quickly\", \"quickly\", \"quickly\", \"quiet\", \"quiet\", \"quiet\", \"quiet\", \"quiet\", \"quiet\", \"race\", \"ramp\", \"rank\", \"rat\", \"rat\", \"rate\", \"rate\", \"rate\", \"rating\", \"read\", \"read\", \"reader\", \"readily_available\", \"reading\", \"ready\", \"ready\", \"reality\", \"reason\", \"reason\", \"reason\", \"reccomend\", \"receipt\", \"receive\", \"receive\", \"recent\", \"recently_remodel\", \"reception\", \"reception\", \"receptionist\", \"recliner\", \"recommend\", \"recommend\", \"recommend\", \"recommend\", \"recommend\", \"recommendation\", \"recommendation\", \"recommendation\", \"redone\", \"refill\", \"refreshment\", \"refridgerator\", \"refrigerator\", \"refrigerator\", \"refrigerator\", \"relax\", \"relax\", \"relax\", \"relax\", \"reluctant\", \"rely\", \"remedi\", \"renovation\", \"renovation\", \"reply\", \"report\", \"request\", \"request\", \"request\", \"request\", \"request\", \"research\", \"research\", \"reservation\", \"reserve\", \"reserve\", \"reset\", \"residence_inn\", \"resolve\", \"resort\", \"respectful\", \"restaurant\", \"restaurant\", \"resteraunt\", \"retrieve\", \"return\", \"return\", \"return\", \"review\", \"reviewer\", \"ride\", \"ring\", \"rip\", \"ritz\", \"river\", \"river\", \"riverwalk\", \"rollaway\", \"route\", \"rubbish\", \"rude\", \"rudeness\", \"run\", \"run\", \"run\", \"run\", \"run\", \"safe\", \"safe\", \"safe\", \"safe\", \"safe\", \"safe\", \"salad\", \"san_diego\", \"san_fran\", \"san_francisco\", \"san_francisco\", \"sandwich\", \"sandwich\", \"sandwich\", \"saturday\", \"saturday\", \"saturday\", \"save\", \"save\", \"save\", \"saver\", \"scenery\", \"seatac\", \"seattle\", \"seattle\", \"security\", \"security\", \"send\", \"serve\", \"serve\", \"server\", \"service\", \"service\", \"service\", \"seventh\", \"sf\", \"sf\", \"shampoo\", \"sharing\", \"sheet\", \"sheet\", \"sheet\", \"sheraton\", \"sheraton\", \"shop\", \"shop\", \"shopping\", \"shopping\", \"shopping\", \"short\", \"short\", \"short\", \"shower\", \"shut\", \"shuttle\", \"side\", \"side\", \"side\", \"side\", \"side\", \"side\", \"similar\", \"similar\", \"similarly\", \"sink\", \"situation\", \"size\", \"size\", \"sized\", \"sized\", \"sleep\", \"sleep\", \"slot\", \"small\", \"small\", \"small\", \"small\", \"small\", \"smell\", \"smile\", \"smoke\", \"smoke\", \"smoke\", \"smoking\", \"smoking\", \"smooth\", \"smooth\", \"snack\", \"snack\", \"snack\", \"snow\", \"soap\", \"sofa\", \"sofa\", \"sofitel\", \"soft\", \"soft\", \"soho\", \"soho\", \"sole\", \"son\", \"sophisticated\", \"sore\", \"sound\", \"soup\", \"spa\", \"spa\", \"space\", \"space\", \"space\", \"space\", \"space_needle\", \"spacious\", \"spacious\", \"spacious\", \"spacious\", \"speak\", \"special\", \"special\", \"speed\", \"spend\", \"spend\", \"spend\", \"spend\", \"spend\", \"spend\", \"spirit\", \"spotles\", \"square\", \"square\", \"st_regis\", \"staff\", \"staff\", \"staff\", \"staff\", \"stain\", \"standard\", \"standard\", \"standard\", \"standard\", \"star\", \"start\", \"start\", \"start\", \"start\", \"station\", \"station\", \"steak\", \"steep\", \"stock\", \"stone_throw\", \"stop\", \"stop\", \"stop\", \"stopover\", \"stove\", \"street\", \"street\", \"street\", \"streetcar\", \"student\", \"student\", \"stunning\", \"style\", \"style\", \"style\", \"style\", \"sub_par\", \"substantially\", \"suburb\", \"subway\", \"sugar\", \"suggestion\", \"suggestion\", \"suitable\", \"suitcase\", \"suite\", \"suite\", \"suite\", \"suite\", \"sum\", \"summer\", \"summer\", \"sunday\", \"sunday\", \"sunday\", \"sunset\", \"super\", \"super\", \"super\", \"supper\", \"supris\", \"suprise\", \"swanky\", \"swimming_pool\", \"swissotel\", \"taste\", \"taste\", \"taste\", \"tax\", \"tax\", \"tax\", \"tea\", \"team\", \"team\", \"technology\", \"television\", \"temperature\", \"temporary\", \"tenderloin\", \"terminal\", \"terminal\", \"terrible\", \"terrible\", \"thankful\", \"thanksgiv\", \"theater\", \"theater\", \"theatre\", \"thermostat\", \"thin\", \"thin_wall\", \"thing\", \"thing\", \"thing\", \"thing\", \"thing\", \"thing\", \"tidy\", \"tidy\", \"tier\", \"til\", \"tile\", \"time\", \"time\", \"time\", \"time\", \"time\", \"times_square\", \"tiny\", \"tiny\", \"tiny\", \"toilet\", \"toliet\", \"toothbrush\", \"tour\", \"tourism\", \"towel\", \"towel\", \"towel\", \"towel_rack\", \"tower\", \"tower\", \"town\", \"town\", \"town\", \"town\", \"toy\", \"train\", \"train\", \"transit\", \"transportation\", \"travel\", \"travel\", \"travel\", \"travel\", \"travel_agent\", \"travelzoo\", \"travelzoo\", \"treadmill\", \"treat\", \"treat\", \"tremendously\", \"trendy\", \"trip\", \"trip\", \"trip\", \"trip\", \"trip_advisor\", \"tripadvisor\", \"trolley\", \"trolley\", \"tub\", \"tub\", \"tuesday\", \"tune\", \"turn\", \"turn\", \"turn\", \"turn\", \"tv\", \"tv\", \"tv\", \"tvs\", \"twin\", \"understaffed\", \"unfriendly\", \"union\", \"union_square\", \"universal\", \"universal_studio\", \"unlucky\", \"unusually\", \"update\", \"update\", \"update\", \"upgrade\", \"upgrade\", \"upgrade\", \"upgrade\", \"upper_floor\", \"upside\", \"usable\", \"usage\", \"usd\", \"vacation\", \"valet\", \"valid\", \"variety\", \"vehicle\", \"view\", \"view\", \"view\", \"visit\", \"visit\", \"visit\", \"visit\", \"waffle\", \"wait\", \"waiter\", \"waiting\", \"wake\", \"wake\", \"walk\", \"walk\", \"walk\", \"walking_distance\", \"walking_distance\", \"walking_distance\", \"walking_distance\", \"wall\", \"wall\", \"wall\", \"warwick\", \"washington\", \"water\", \"water\", \"water_pressure\", \"waterfall\", \"wear\", \"weary\", \"website\", \"website\", \"wedding\", \"week\", \"week\", \"week\", \"week\", \"week\", \"weekend\", \"weekend\", \"weekend\", \"weekend\", \"weekend\", \"weekend\", \"weeks_ago\", \"weight\", \"westin\", \"westin\", \"westwood\", \"wet\", \"wharf\", \"wide\", \"wife\", \"wife\", \"wife\", \"wife\", \"wifi\", \"wifi\", \"wild\", \"window\", \"window\", \"window\", \"wine\", \"wine\", \"wine\", \"wine_tasting\", \"wireless\", \"wireless_internet\", \"within_walking_distance\", \"within_walking_distance\", \"witness\", \"wonderful\", \"wonderful\", \"wonderful\", \"work\", \"work\", \"work\", \"work\", \"work\", \"work\", \"world\", \"world\", \"world_charm\", \"worn\", \"worth\", \"worth\", \"worth\", \"year\", \"year\", \"yotel\", \"young_children\", \"young_man\", \"zoo\"]}, \"R\": 30, \"lambda.step\": 0.01, \"plot.opts\": {\"xlab\": \"PC1\", \"ylab\": \"PC2\"}, \"topic.order\": [10, 13, 12, 9, 14, 8, 3, 6, 7, 5, 2, 4, 1, 11]};\n",
       "\n",
       "function LDAvis_load_lib(url, callback){\n",
       "  var s = document.createElement('script');\n",
       "  s.src = url;\n",
       "  s.async = true;\n",
       "  s.onreadystatechange = s.onload = callback;\n",
       "  s.onerror = function(){console.warn(\"failed to load library \" + url);};\n",
       "  document.getElementsByTagName(\"head\")[0].appendChild(s);\n",
       "}\n",
       "\n",
       "if(typeof(LDAvis) !== \"undefined\"){\n",
       "   // already loaded: just create the visualization\n",
       "   !function(LDAvis){\n",
       "       new LDAvis(\"#\" + \"ldavis_el813211137441576961546409009\", ldavis_el813211137441576961546409009_data);\n",
       "   }(LDAvis);\n",
       "}else if(typeof define === \"function\" && define.amd){\n",
       "   // require.js is available: use it to load d3/LDAvis\n",
       "   require.config({paths: {d3: \"https://cdnjs.cloudflare.com/ajax/libs/d3/3.5.5/d3.min\"}});\n",
       "   require([\"d3\"], function(d3){\n",
       "      window.d3 = d3;\n",
       "      LDAvis_load_lib(\"https://cdn.rawgit.com/bmabey/pyLDAvis/files/ldavis.v1.0.0.js\", function(){\n",
       "        new LDAvis(\"#\" + \"ldavis_el813211137441576961546409009\", ldavis_el813211137441576961546409009_data);\n",
       "      });\n",
       "    });\n",
       "}else{\n",
       "    // require.js not available: dynamically load d3 & LDAvis\n",
       "    LDAvis_load_lib(\"https://cdnjs.cloudflare.com/ajax/libs/d3/3.5.5/d3.min.js\", function(){\n",
       "         LDAvis_load_lib(\"https://cdn.rawgit.com/bmabey/pyLDAvis/files/ldavis.v1.0.0.js\", function(){\n",
       "                 new LDAvis(\"#\" + \"ldavis_el813211137441576961546409009\", ldavis_el813211137441576961546409009_data);\n",
       "            })\n",
       "         });\n",
       "}\n",
       "</script>"
      ],
      "text/plain": [
       "PreparedData(topic_coordinates=              x         y  topics  cluster      Freq\n",
       "topic                                               \n",
       "9     -0.302189  0.133759       1        1  8.099275\n",
       "12    -0.143939 -0.125823       2        1  7.801185\n",
       "11    -0.213667  0.158791       3        1  7.562610\n",
       "8     -0.220434 -0.084801       4        1  7.433609\n",
       "13    -0.119434 -0.103345       5        1  7.304919\n",
       "7      0.057166 -0.113916       6        1  7.038716\n",
       "2      0.179078 -0.045421       7        1  7.020983\n",
       "5      0.096089 -0.022519       8        1  7.019047\n",
       "6      0.015764 -0.214652       9        1  6.981619\n",
       "4     -0.021379  0.283181      10        1  6.973104\n",
       "1      0.063369  0.031139      11        1  6.852430\n",
       "3      0.127093 -0.203137      12        1  6.813253\n",
       "0      0.233047  0.074415      13        1  6.753296\n",
       "10     0.249436  0.232330      14        1  6.345953, topic_info=          Term          Freq         Total Category  logprob  loglift\n",
       "113      staff  29758.000000  29758.000000  Default  30.0000  30.0000\n",
       "16       great  31384.000000  31384.000000  Default  29.0000  29.0000\n",
       "2          bed  21112.000000  21112.000000  Default  28.0000  28.0000\n",
       "35   breakfast  17869.000000  17869.000000  Default  27.0000  27.0000\n",
       "50        nice  23988.000000  23988.000000  Default  26.0000  26.0000\n",
       "..         ...           ...           ...      ...      ...      ...\n",
       "458     lovely    896.691329   2882.624633  Topic14  -5.1445   1.5896\n",
       "773  attentive    569.422970   1035.050224  Topic14  -5.5986   2.1598\n",
       "704  concierge    828.360573   3510.320018  Topic14  -5.2238   1.3133\n",
       "62       visit    660.530645   5733.575092  Topic14  -5.4502   0.5963\n",
       "433     modern    622.169518   2991.213585  Topic14  -5.5100   1.1871\n",
       "\n",
       "[1143 rows x 6 columns], token_table=      Topic      Freq            Term\n",
       "term                                 \n",
       "3848      4  0.996439         ac_unit\n",
       "172       7  0.172585          access\n",
       "172       9  0.827427          access\n",
       "1545     14  0.998910   accommodating\n",
       "1259      5  0.013220       accomodat\n",
       "...     ...       ...             ...\n",
       "1383     11  0.342468            year\n",
       "3440     13  0.995573           yotel\n",
       "3779     11  1.001576  young_children\n",
       "1172      3  1.005997       young_man\n",
       "474      11  1.001079             zoo\n",
       "\n",
       "[1720 rows x 3 columns], R=30, lambda_step=0.01, plot_opts={'xlab': 'PC1', 'ylab': 'PC2'}, topic_order=[10, 13, 12, 9, 14, 8, 3, 6, 7, 5, 2, 4, 1, 11])"
      ]
     },
     "execution_count": 45,
     "metadata": {},
     "output_type": "execute_result"
    }
   ],
   "source": [
    "# Plot topics\n",
    "# https://www.objectorientedsubject.net/2018/08/experiments-on-topic-modeling-pyldavis/\n",
    "# Relevance is denoted by λ, the weight assigned to the probability of a term in a topic relative to its lift which is the ratio of a \n",
    "# term’s probability within a topic to its margin probability across the corpus. When λ = 1, the terms are ranked by their probabilities \n",
    "# within the topic (the ‘regular’ method) while when λ = 0, the terms are ranked only by their lift. The interface allows to adjust the \n",
    "# value of λ between 0 and 1. The authors of the paper conducted a study to determine whether there was an optimal value for λ regarding \n",
    "# the use of relevance to aid topic interpretation and found that value to be 0.6, as described in section 3 of their paper. In any case, \n",
    "# it is very handy to be able to adjust that any time.\n",
    "pyLDAvis.enable_notebook()\n",
    "vis = pyLDAvis.gensim.prepare(lda_list[7], corpus, id2word)\n",
    "vis"
   ]
  },
  {
   "cell_type": "markdown",
   "metadata": {},
   "source": [
    "By observing the coherence scores and topic plots given above, I decided to choose 14 as the number of topics, because it has a high coherence score and its topics are also easy to explain."
   ]
  },
  {
   "cell_type": "code",
   "execution_count": 46,
   "metadata": {},
   "outputs": [
    {
     "name": "stdout",
     "output_type": "stream",
     "text": [
      "[(0,\n",
      "  '0.052*\"location\" + 0.032*\"good\" + 0.032*\"city\" + 0.026*\"great\" + '\n",
      "  '0.026*\"nyc\" + 0.025*\"time\" + 0.025*\"new_york\" + 0.024*\"view\" + '\n",
      "  '0.020*\"times_square\" + 0.018*\"subway\" + 0.018*\"floor\" + 0.018*\"walk\" + '\n",
      "  '0.014*\"recommend\" + 0.013*\"clean\" + 0.013*\"street\"'),\n",
      " (1,\n",
      "  '0.042*\"pool\" + 0.037*\"view\" + 0.034*\"nice\" + 0.030*\"great\" + 0.027*\"area\" + '\n",
      "  '0.026*\"family\" + 0.024*\"place\" + 0.024*\"property\" + 0.022*\"weekend\" + '\n",
      "  '0.020*\"enjoy\" + 0.019*\"kid\" + 0.016*\"beautiful\" + 0.015*\"time\" + '\n",
      "  '0.013*\"love\" + 0.013*\"day\"'),\n",
      " (2,\n",
      "  '0.067*\"walk\" + 0.035*\"street\" + 0.033*\"block\" + 0.029*\"restaurant\" + '\n",
      "  '0.026*\"airport\" + 0.026*\"close\" + 0.021*\"easy\" + 0.019*\"minute\" + '\n",
      "  '0.019*\"area\" + 0.018*\"shuttle\" + 0.018*\"place\" + 0.016*\"stop\" + '\n",
      "  '0.015*\"locate\" + 0.015*\"city\" + 0.014*\"bus\"'),\n",
      " (3,\n",
      "  '0.128*\"bed\" + 0.085*\"nice\" + 0.062*\"good\" + 0.061*\"clean\" + '\n",
      "  '0.042*\"comfortable\" + 0.042*\"small\" + 0.031*\"night\" + 0.031*\"bathroom\" + '\n",
      "  '0.029*\"size\" + 0.020*\"king\" + 0.020*\"big\" + 0.020*\"large\" + 0.017*\"bit\" + '\n",
      "  '0.015*\"double\" + 0.015*\"pillow\"'),\n",
      " (4,\n",
      "  '0.056*\"make\" + 0.046*\"service\" + 0.044*\"staff\" + 0.035*\"experience\" + '\n",
      "  '0.027*\"feel\" + 0.018*\"trip\" + 0.018*\"time\" + 0.017*\"home\" + 0.017*\"year\" + '\n",
      "  '0.017*\"travel\" + 0.014*\"guest\" + 0.013*\"special\" + 0.013*\"return\" + '\n",
      "  '0.013*\"visit\" + 0.012*\"boston\"'),\n",
      " (5,\n",
      "  '0.062*\"service\" + 0.056*\"restaurant\" + 0.053*\"bar\" + 0.048*\"good\" + '\n",
      "  '0.045*\"food\" + 0.021*\"lobby\" + 0.019*\"drink\" + 0.018*\"dinner\" + '\n",
      "  '0.017*\"excellent\" + 0.015*\"eat\" + 0.013*\"lounge\" + 0.013*\"order\" + '\n",
      "  '0.011*\"club\" + 0.010*\"modern\" + 0.010*\"decor\"'),\n",
      " (6,\n",
      "  '0.054*\"parking\" + 0.037*\"free\" + 0.031*\"car\" + 0.026*\"business\" + '\n",
      "  '0.025*\"internet\" + 0.023*\"park\" + 0.020*\"valet\" + 0.019*\"downtown\" + '\n",
      "  '0.019*\"good\" + 0.018*\"lot\" + 0.017*\"night\" + 0.016*\"rate\" + 0.016*\"nice\" + '\n",
      "  '0.016*\"day\" + 0.016*\"access\"'),\n",
      " (7,\n",
      "  '0.105*\"breakfast\" + 0.033*\"coffee\" + 0.030*\"free\" + 0.030*\"area\" + '\n",
      "  '0.024*\"include\" + 0.022*\"suite\" + 0.020*\"day\" + 0.016*\"clean\" + '\n",
      "  '0.015*\"morning\" + 0.015*\"large\" + 0.014*\"complimentary\" + 0.014*\"full\" + '\n",
      "  '0.014*\"offer\" + 0.014*\"bedroom\" + 0.013*\"hot\"'),\n",
      " (8,\n",
      "  '0.048*\"night\" + 0.032*\"noise\" + 0.029*\"door\" + 0.026*\"bad\" + 0.024*\"hear\" + '\n",
      "  '0.022*\"sleep\" + 0.019*\"floor\" + 0.018*\"people\" + 0.014*\"place\" + '\n",
      "  '0.014*\"smell\" + 0.012*\"carpet\" + 0.012*\"wall\" + 0.012*\"dirty\" + '\n",
      "  '0.011*\"loud\" + 0.010*\"hallway\"'),\n",
      " (9,\n",
      "  '0.039*\"call\" + 0.027*\"desk\" + 0.025*\"front\" + 0.019*\"give\" + '\n",
      "  '0.017*\"manager\" + 0.016*\"guest\" + 0.016*\"reservation\" + 0.015*\"make\" + '\n",
      "  '0.015*\"check\" + 0.014*\"charge\" + 0.014*\"problem\" + 0.012*\"day\" + '\n",
      "  '0.010*\"request\" + 0.010*\"issue\" + 0.010*\"phone\"'),\n",
      " (10,\n",
      "  '0.141*\"great\" + 0.140*\"staff\" + 0.084*\"friendly\" + 0.070*\"location\" + '\n",
      "  '0.063*\"helpful\" + 0.041*\"clean\" + 0.030*\"comfortable\" + 0.023*\"love\" + '\n",
      "  '0.021*\"perfect\" + 0.019*\"wonderful\" + 0.018*\"recommend\" + 0.016*\"extremely\" '\n",
      "  '+ 0.016*\"chicago\" + 0.015*\"spacious\" + 0.014*\"amazing\"'),\n",
      " (11,\n",
      "  '0.072*\"check\" + 0.044*\"desk\" + 0.043*\"time\" + 0.041*\"front\" + 0.035*\"back\" '\n",
      "  '+ 0.032*\"arrive\" + 0.032*\"day\" + 0.029*\"hour\" + 0.028*\"wait\" + '\n",
      "  '0.027*\"minute\" + 0.022*\"morning\" + 0.022*\"leave\" + 0.021*\"early\" + '\n",
      "  '0.017*\"late\" + 0.017*\"pm\"'),\n",
      " (12,\n",
      "  '0.041*\"bathroom\" + 0.033*\"shower\" + 0.032*\"floor\" + 0.022*\"elevator\" + '\n",
      "  '0.021*\"water\" + 0.021*\"work\" + 0.019*\"small\" + 0.019*\"tv\" + 0.018*\"door\" + '\n",
      "  '0.016*\"open\" + 0.015*\"window\" + 0.015*\"lobby\" + 0.015*\"light\" + '\n",
      "  '0.013*\"towel\" + 0.010*\"bath\"'),\n",
      " (13,\n",
      "  '0.050*\"night\" + 0.037*\"book\" + 0.036*\"price\" + 0.031*\"review\" + '\n",
      "  '0.030*\"find\" + 0.028*\"place\" + 0.028*\"pay\" + 0.025*\"expect\" + 0.018*\"thing\" '\n",
      "  '+ 0.018*\"star\" + 0.018*\"good\" + 0.018*\"money\" + 0.016*\"give\" + 0.014*\"rate\" '\n",
      "  '+ 0.014*\"high\"')]\n"
     ]
    }
   ],
   "source": [
    "# Select the best model with 14 topics and print the topics\n",
    "optimal_model = model_list[7]\n",
    "model_topics = optimal_model.show_topics(formatted=False)\n",
    "#pprint(model_topics)\n",
    "pprint(optimal_model.print_topics(num_words=15))"
   ]
  },
  {
   "cell_type": "code",
   "execution_count": 48,
   "metadata": {},
   "outputs": [],
   "source": [
    "# Define the names of the topics\n",
    "name_topics={0: 'nyc', 1: 'family friendly', 2: 'transportation', 3: 'bedroom', 4: 'business service', 5:'bar/restaurant', 6: 'parking', 7:'breakfast', \n",
    "             8:'noise', 9:'customer service', 10:'staff', 11:'check in/out', 12:'bathroom', 13:'reservation' }"
   ]
  },
  {
   "cell_type": "markdown",
   "metadata": {},
   "source": [
    "# 4. Finding the dominant topics in each sentence"
   ]
  },
  {
   "cell_type": "code",
   "execution_count": 49,
   "metadata": {},
   "outputs": [],
   "source": [
    "# Find top_n topics in each document\n",
    "def find_sentences_topics(ldamodel=lda_model, corpus=corpus):\n",
    "    # Init output\n",
    "    sent_topics_df = pd.DataFrame()\n",
    "    top_n = 14\n",
    "    # Get main topics in each document\n",
    "    for i, row in enumerate(ldamodel[corpus]):\n",
    "        # For each document, sort the topics according to the Perc Contribution\n",
    "        row = sorted(row, key=lambda x: (x[1]), reverse=True)\n",
    "        # Get the Dominant/sorted topics, Perc Contributions, and Keywords. Also get scores (Perc Contribution list with original order from topic 0 to topic 14) for each document\n",
    "        topic_list = []\n",
    "        prop_topics_list = []\n",
    "        topic_keywords_list = []\n",
    "        score_list = np.zeros(len(name_topics)).tolist()\n",
    "        for j, (topic_num, prop_topic) in enumerate(row):            \n",
    "            if j < top_n:  # choose top_n dominant topics\n",
    "                topic_list.append(name_topics[int(topic_num)])\n",
    "                wp = ldamodel.show_topic(topic_num)\n",
    "                topic_keywords = \", \".join([word for word, prop in wp])\n",
    "                topic_keywords_list.append(topic_keywords)\n",
    "                prop_topics_list.append(round(prop_topic,4))\n",
    "                score_list[topic_num] = round(prop_topic,4)\n",
    "            else:\n",
    "                break\n",
    "        sent_topics_df = sent_topics_df.append(pd.Series([topic_list, prop_topics_list, topic_keywords_list, score_list]), ignore_index=True)\n",
    "\n",
    "    sent_topics_df.columns = ['Dominant_Topic', 'Perc_Contribution', 'Topic_Keywords', 'Score_List']\n",
    "    return(sent_topics_df)\n",
    "\n",
    "df_topic_sents_keywords = find_sentences_topics(ldamodel=optimal_model, corpus=corpus)"
   ]
  },
  {
   "cell_type": "code",
   "execution_count": 50,
   "metadata": {},
   "outputs": [
    {
     "data": {
      "text/html": [
       "<div>\n",
       "<style scoped>\n",
       "    .dataframe tbody tr th:only-of-type {\n",
       "        vertical-align: middle;\n",
       "    }\n",
       "\n",
       "    .dataframe tbody tr th {\n",
       "        vertical-align: top;\n",
       "    }\n",
       "\n",
       "    .dataframe thead th {\n",
       "        text-align: right;\n",
       "    }\n",
       "</style>\n",
       "<table border=\"1\" class=\"dataframe\">\n",
       "  <thead>\n",
       "    <tr style=\"text-align: right;\">\n",
       "      <th></th>\n",
       "      <th>Dominant_Topic</th>\n",
       "      <th>Perc_Contribution</th>\n",
       "      <th>Topic_Keywords</th>\n",
       "      <th>Score_List</th>\n",
       "    </tr>\n",
       "  </thead>\n",
       "  <tbody>\n",
       "    <tr>\n",
       "      <th>0</th>\n",
       "      <td>[bar/restaurant, family friendly, nyc, transpo...</td>\n",
       "      <td>[0.156, 0.119, 0.1011, 0.1011, 0.0666, 0.0615,...</td>\n",
       "      <td>[service, restaurant, bar, good, food, lobby, ...</td>\n",
       "      <td>[0.1011, 0.119, 0.1011, 0.0615, 0.0564, 0.156,...</td>\n",
       "    </tr>\n",
       "    <tr>\n",
       "      <th>1</th>\n",
       "      <td>[bedroom, family friendly, bathroom, noise, st...</td>\n",
       "      <td>[0.1387, 0.1127, 0.1003, 0.0839, 0.0756, 0.067...</td>\n",
       "      <td>[bed, nice, good, clean, comfortable, small, n...</td>\n",
       "      <td>[0.0619, 0.1127, 0.0455, 0.1387, 0.0537, 0.044...</td>\n",
       "    </tr>\n",
       "    <tr>\n",
       "      <th>2</th>\n",
       "      <td>[staff, bedroom, family friendly, transportati...</td>\n",
       "      <td>[0.1355, 0.0971, 0.089, 0.087, 0.085, 0.0799, ...</td>\n",
       "      <td>[great, staff, friendly, location, helpful, cl...</td>\n",
       "      <td>[0.0759, 0.089, 0.087, 0.0971, 0.0799, 0.0668,...</td>\n",
       "    </tr>\n",
       "    <tr>\n",
       "      <th>3</th>\n",
       "      <td>[business service, bar/restaurant, breakfast, ...</td>\n",
       "      <td>[0.1562, 0.1375, 0.1013, 0.0701, 0.0663, 0.063...</td>\n",
       "      <td>[make, service, staff, experience, feel, trip,...</td>\n",
       "      <td>[0.0439, 0.0501, 0.0638, 0.0451, 0.1562, 0.137...</td>\n",
       "    </tr>\n",
       "    <tr>\n",
       "      <th>4</th>\n",
       "      <td>[nyc, staff, bedroom, family friendly, transpo...</td>\n",
       "      <td>[0.0958, 0.0841, 0.0783, 0.0763, 0.0744, 0.070...</td>\n",
       "      <td>[location, good, city, great, nyc, time, new_y...</td>\n",
       "      <td>[0.0958, 0.0763, 0.0744, 0.0783, 0.0685, 0.062...</td>\n",
       "    </tr>\n",
       "  </tbody>\n",
       "</table>\n",
       "</div>"
      ],
      "text/plain": [
       "                                      Dominant_Topic  \\\n",
       "0  [bar/restaurant, family friendly, nyc, transpo...   \n",
       "1  [bedroom, family friendly, bathroom, noise, st...   \n",
       "2  [staff, bedroom, family friendly, transportati...   \n",
       "3  [business service, bar/restaurant, breakfast, ...   \n",
       "4  [nyc, staff, bedroom, family friendly, transpo...   \n",
       "\n",
       "                                   Perc_Contribution  \\\n",
       "0  [0.156, 0.119, 0.1011, 0.1011, 0.0666, 0.0615,...   \n",
       "1  [0.1387, 0.1127, 0.1003, 0.0839, 0.0756, 0.067...   \n",
       "2  [0.1355, 0.0971, 0.089, 0.087, 0.085, 0.0799, ...   \n",
       "3  [0.1562, 0.1375, 0.1013, 0.0701, 0.0663, 0.063...   \n",
       "4  [0.0958, 0.0841, 0.0783, 0.0763, 0.0744, 0.070...   \n",
       "\n",
       "                                      Topic_Keywords  \\\n",
       "0  [service, restaurant, bar, good, food, lobby, ...   \n",
       "1  [bed, nice, good, clean, comfortable, small, n...   \n",
       "2  [great, staff, friendly, location, helpful, cl...   \n",
       "3  [make, service, staff, experience, feel, trip,...   \n",
       "4  [location, good, city, great, nyc, time, new_y...   \n",
       "\n",
       "                                          Score_List  \n",
       "0  [0.1011, 0.119, 0.1011, 0.0615, 0.0564, 0.156,...  \n",
       "1  [0.0619, 0.1127, 0.0455, 0.1387, 0.0537, 0.044...  \n",
       "2  [0.0759, 0.089, 0.087, 0.0971, 0.0799, 0.0668,...  \n",
       "3  [0.0439, 0.0501, 0.0638, 0.0451, 0.1562, 0.137...  \n",
       "4  [0.0958, 0.0763, 0.0744, 0.0783, 0.0685, 0.062...  "
      ]
     },
     "execution_count": 50,
     "metadata": {},
     "output_type": "execute_result"
    }
   ],
   "source": [
    "df_topic_sents_keywords.head()"
   ]
  },
  {
   "cell_type": "code",
   "execution_count": 51,
   "metadata": {},
   "outputs": [],
   "source": [
    "# Combine original dataframe with the topics and scores\n",
    "df_new = pd.concat([df,df_topic_sents_keywords], axis=1)"
   ]
  },
  {
   "cell_type": "code",
   "execution_count": 52,
   "metadata": {},
   "outputs": [
    {
     "data": {
      "text/html": [
       "<div>\n",
       "<style scoped>\n",
       "    .dataframe tbody tr th:only-of-type {\n",
       "        vertical-align: middle;\n",
       "    }\n",
       "\n",
       "    .dataframe tbody tr th {\n",
       "        vertical-align: top;\n",
       "    }\n",
       "\n",
       "    .dataframe thead th {\n",
       "        text-align: right;\n",
       "    }\n",
       "</style>\n",
       "<table border=\"1\" class=\"dataframe\">\n",
       "  <thead>\n",
       "    <tr style=\"text-align: right;\">\n",
       "      <th></th>\n",
       "      <th>User_ID</th>\n",
       "      <th>Description</th>\n",
       "      <th>Is_Response</th>\n",
       "      <th>hotel_ID</th>\n",
       "      <th>Dominant_Topic</th>\n",
       "      <th>Perc_Contribution</th>\n",
       "      <th>Topic_Keywords</th>\n",
       "      <th>Score_List</th>\n",
       "    </tr>\n",
       "  </thead>\n",
       "  <tbody>\n",
       "    <tr>\n",
       "      <th>0</th>\n",
       "      <td>id10329</td>\n",
       "      <td>Stayed here with husband and sons on the way t...</td>\n",
       "      <td>happy</td>\n",
       "      <td>8</td>\n",
       "      <td>[bar/restaurant, family friendly, nyc, transpo...</td>\n",
       "      <td>[0.156, 0.119, 0.1011, 0.1011, 0.0666, 0.0615,...</td>\n",
       "      <td>[service, restaurant, bar, good, food, lobby, ...</td>\n",
       "      <td>[0.1011, 0.119, 0.1011, 0.0615, 0.0564, 0.156,...</td>\n",
       "    </tr>\n",
       "    <tr>\n",
       "      <th>1</th>\n",
       "      <td>id10331</td>\n",
       "      <td>We had - rooms. One was very nice and clearly ...</td>\n",
       "      <td>happy</td>\n",
       "      <td>3</td>\n",
       "      <td>[bedroom, family friendly, bathroom, noise, st...</td>\n",
       "      <td>[0.1387, 0.1127, 0.1003, 0.0839, 0.0756, 0.067...</td>\n",
       "      <td>[bed, nice, good, clean, comfortable, small, n...</td>\n",
       "      <td>[0.0619, 0.1127, 0.0455, 0.1387, 0.0537, 0.044...</td>\n",
       "    </tr>\n",
       "    <tr>\n",
       "      <th>2</th>\n",
       "      <td>id10333</td>\n",
       "      <td>My wife &amp; I stayed in this glorious city a whi...</td>\n",
       "      <td>happy</td>\n",
       "      <td>3</td>\n",
       "      <td>[staff, bedroom, family friendly, transportati...</td>\n",
       "      <td>[0.1355, 0.0971, 0.089, 0.087, 0.085, 0.0799, ...</td>\n",
       "      <td>[great, staff, friendly, location, helpful, cl...</td>\n",
       "      <td>[0.0759, 0.089, 0.087, 0.0971, 0.0799, 0.0668,...</td>\n",
       "    </tr>\n",
       "    <tr>\n",
       "      <th>3</th>\n",
       "      <td>id10334</td>\n",
       "      <td>My boyfriend and I stayed at the Fairmont on a...</td>\n",
       "      <td>happy</td>\n",
       "      <td>7</td>\n",
       "      <td>[business service, bar/restaurant, breakfast, ...</td>\n",
       "      <td>[0.1562, 0.1375, 0.1013, 0.0701, 0.0663, 0.063...</td>\n",
       "      <td>[make, service, staff, experience, feel, trip,...</td>\n",
       "      <td>[0.0439, 0.0501, 0.0638, 0.0451, 0.1562, 0.137...</td>\n",
       "    </tr>\n",
       "    <tr>\n",
       "      <th>4</th>\n",
       "      <td>id10336</td>\n",
       "      <td>Steps off Times Square, nice rooms, stayed - n...</td>\n",
       "      <td>happy</td>\n",
       "      <td>3</td>\n",
       "      <td>[nyc, staff, bedroom, family friendly, transpo...</td>\n",
       "      <td>[0.0958, 0.0841, 0.0783, 0.0763, 0.0744, 0.070...</td>\n",
       "      <td>[location, good, city, great, nyc, time, new_y...</td>\n",
       "      <td>[0.0958, 0.0763, 0.0744, 0.0783, 0.0685, 0.062...</td>\n",
       "    </tr>\n",
       "  </tbody>\n",
       "</table>\n",
       "</div>"
      ],
      "text/plain": [
       "   User_ID                                        Description Is_Response  \\\n",
       "0  id10329  Stayed here with husband and sons on the way t...       happy   \n",
       "1  id10331  We had - rooms. One was very nice and clearly ...       happy   \n",
       "2  id10333  My wife & I stayed in this glorious city a whi...       happy   \n",
       "3  id10334  My boyfriend and I stayed at the Fairmont on a...       happy   \n",
       "4  id10336  Steps off Times Square, nice rooms, stayed - n...       happy   \n",
       "\n",
       "   hotel_ID                                     Dominant_Topic  \\\n",
       "0         8  [bar/restaurant, family friendly, nyc, transpo...   \n",
       "1         3  [bedroom, family friendly, bathroom, noise, st...   \n",
       "2         3  [staff, bedroom, family friendly, transportati...   \n",
       "3         7  [business service, bar/restaurant, breakfast, ...   \n",
       "4         3  [nyc, staff, bedroom, family friendly, transpo...   \n",
       "\n",
       "                                   Perc_Contribution  \\\n",
       "0  [0.156, 0.119, 0.1011, 0.1011, 0.0666, 0.0615,...   \n",
       "1  [0.1387, 0.1127, 0.1003, 0.0839, 0.0756, 0.067...   \n",
       "2  [0.1355, 0.0971, 0.089, 0.087, 0.085, 0.0799, ...   \n",
       "3  [0.1562, 0.1375, 0.1013, 0.0701, 0.0663, 0.063...   \n",
       "4  [0.0958, 0.0841, 0.0783, 0.0763, 0.0744, 0.070...   \n",
       "\n",
       "                                      Topic_Keywords  \\\n",
       "0  [service, restaurant, bar, good, food, lobby, ...   \n",
       "1  [bed, nice, good, clean, comfortable, small, n...   \n",
       "2  [great, staff, friendly, location, helpful, cl...   \n",
       "3  [make, service, staff, experience, feel, trip,...   \n",
       "4  [location, good, city, great, nyc, time, new_y...   \n",
       "\n",
       "                                          Score_List  \n",
       "0  [0.1011, 0.119, 0.1011, 0.0615, 0.0564, 0.156,...  \n",
       "1  [0.0619, 0.1127, 0.0455, 0.1387, 0.0537, 0.044...  \n",
       "2  [0.0759, 0.089, 0.087, 0.0971, 0.0799, 0.0668,...  \n",
       "3  [0.0439, 0.0501, 0.0638, 0.0451, 0.1562, 0.137...  \n",
       "4  [0.0958, 0.0763, 0.0744, 0.0783, 0.0685, 0.062...  "
      ]
     },
     "execution_count": 52,
     "metadata": {},
     "output_type": "execute_result"
    }
   ],
   "source": [
    "df_new.head()"
   ]
  },
  {
   "cell_type": "code",
   "execution_count": 53,
   "metadata": {},
   "outputs": [],
   "source": [
    "# Define score as positive if it is a happy review, otherwise negative.\n",
    "df_new.Score_List = [[df_new.Score_List[i], (np.array(df_new.Score_List[i])*(-1)).tolist()][df_new.Is_Response[i]=='not happy'] for i in range(len(df_new))]"
   ]
  },
  {
   "cell_type": "code",
   "execution_count": 54,
   "metadata": {},
   "outputs": [
    {
     "data": {
      "text/html": [
       "<div>\n",
       "<style scoped>\n",
       "    .dataframe tbody tr th:only-of-type {\n",
       "        vertical-align: middle;\n",
       "    }\n",
       "\n",
       "    .dataframe tbody tr th {\n",
       "        vertical-align: top;\n",
       "    }\n",
       "\n",
       "    .dataframe thead th {\n",
       "        text-align: right;\n",
       "    }\n",
       "</style>\n",
       "<table border=\"1\" class=\"dataframe\">\n",
       "  <thead>\n",
       "    <tr style=\"text-align: right;\">\n",
       "      <th></th>\n",
       "      <th>User_ID</th>\n",
       "      <th>Description</th>\n",
       "      <th>Is_Response</th>\n",
       "      <th>hotel_ID</th>\n",
       "      <th>Dominant_Topic</th>\n",
       "      <th>Perc_Contribution</th>\n",
       "      <th>Topic_Keywords</th>\n",
       "      <th>Score_List</th>\n",
       "    </tr>\n",
       "  </thead>\n",
       "  <tbody>\n",
       "    <tr>\n",
       "      <th>0</th>\n",
       "      <td>id10329</td>\n",
       "      <td>Stayed here with husband and sons on the way t...</td>\n",
       "      <td>happy</td>\n",
       "      <td>8</td>\n",
       "      <td>[bar/restaurant, family friendly, nyc, transpo...</td>\n",
       "      <td>[0.156, 0.119, 0.1011, 0.1011, 0.0666, 0.0615,...</td>\n",
       "      <td>[service, restaurant, bar, good, food, lobby, ...</td>\n",
       "      <td>[0.1011, 0.119, 0.1011, 0.0615, 0.0564, 0.156,...</td>\n",
       "    </tr>\n",
       "    <tr>\n",
       "      <th>1</th>\n",
       "      <td>id10331</td>\n",
       "      <td>We had - rooms. One was very nice and clearly ...</td>\n",
       "      <td>happy</td>\n",
       "      <td>3</td>\n",
       "      <td>[bedroom, family friendly, bathroom, noise, st...</td>\n",
       "      <td>[0.1387, 0.1127, 0.1003, 0.0839, 0.0756, 0.067...</td>\n",
       "      <td>[bed, nice, good, clean, comfortable, small, n...</td>\n",
       "      <td>[0.0619, 0.1127, 0.0455, 0.1387, 0.0537, 0.044...</td>\n",
       "    </tr>\n",
       "    <tr>\n",
       "      <th>2</th>\n",
       "      <td>id10333</td>\n",
       "      <td>My wife &amp; I stayed in this glorious city a whi...</td>\n",
       "      <td>happy</td>\n",
       "      <td>3</td>\n",
       "      <td>[staff, bedroom, family friendly, transportati...</td>\n",
       "      <td>[0.1355, 0.0971, 0.089, 0.087, 0.085, 0.0799, ...</td>\n",
       "      <td>[great, staff, friendly, location, helpful, cl...</td>\n",
       "      <td>[0.0759, 0.089, 0.087, 0.0971, 0.0799, 0.0668,...</td>\n",
       "    </tr>\n",
       "    <tr>\n",
       "      <th>3</th>\n",
       "      <td>id10334</td>\n",
       "      <td>My boyfriend and I stayed at the Fairmont on a...</td>\n",
       "      <td>happy</td>\n",
       "      <td>7</td>\n",
       "      <td>[business service, bar/restaurant, breakfast, ...</td>\n",
       "      <td>[0.1562, 0.1375, 0.1013, 0.0701, 0.0663, 0.063...</td>\n",
       "      <td>[make, service, staff, experience, feel, trip,...</td>\n",
       "      <td>[0.0439, 0.0501, 0.0638, 0.0451, 0.1562, 0.137...</td>\n",
       "    </tr>\n",
       "    <tr>\n",
       "      <th>4</th>\n",
       "      <td>id10336</td>\n",
       "      <td>Steps off Times Square, nice rooms, stayed - n...</td>\n",
       "      <td>happy</td>\n",
       "      <td>3</td>\n",
       "      <td>[nyc, staff, bedroom, family friendly, transpo...</td>\n",
       "      <td>[0.0958, 0.0841, 0.0783, 0.0763, 0.0744, 0.070...</td>\n",
       "      <td>[location, good, city, great, nyc, time, new_y...</td>\n",
       "      <td>[0.0958, 0.0763, 0.0744, 0.0783, 0.0685, 0.062...</td>\n",
       "    </tr>\n",
       "  </tbody>\n",
       "</table>\n",
       "</div>"
      ],
      "text/plain": [
       "   User_ID                                        Description Is_Response  \\\n",
       "0  id10329  Stayed here with husband and sons on the way t...       happy   \n",
       "1  id10331  We had - rooms. One was very nice and clearly ...       happy   \n",
       "2  id10333  My wife & I stayed in this glorious city a whi...       happy   \n",
       "3  id10334  My boyfriend and I stayed at the Fairmont on a...       happy   \n",
       "4  id10336  Steps off Times Square, nice rooms, stayed - n...       happy   \n",
       "\n",
       "   hotel_ID                                     Dominant_Topic  \\\n",
       "0         8  [bar/restaurant, family friendly, nyc, transpo...   \n",
       "1         3  [bedroom, family friendly, bathroom, noise, st...   \n",
       "2         3  [staff, bedroom, family friendly, transportati...   \n",
       "3         7  [business service, bar/restaurant, breakfast, ...   \n",
       "4         3  [nyc, staff, bedroom, family friendly, transpo...   \n",
       "\n",
       "                                   Perc_Contribution  \\\n",
       "0  [0.156, 0.119, 0.1011, 0.1011, 0.0666, 0.0615,...   \n",
       "1  [0.1387, 0.1127, 0.1003, 0.0839, 0.0756, 0.067...   \n",
       "2  [0.1355, 0.0971, 0.089, 0.087, 0.085, 0.0799, ...   \n",
       "3  [0.1562, 0.1375, 0.1013, 0.0701, 0.0663, 0.063...   \n",
       "4  [0.0958, 0.0841, 0.0783, 0.0763, 0.0744, 0.070...   \n",
       "\n",
       "                                      Topic_Keywords  \\\n",
       "0  [service, restaurant, bar, good, food, lobby, ...   \n",
       "1  [bed, nice, good, clean, comfortable, small, n...   \n",
       "2  [great, staff, friendly, location, helpful, cl...   \n",
       "3  [make, service, staff, experience, feel, trip,...   \n",
       "4  [location, good, city, great, nyc, time, new_y...   \n",
       "\n",
       "                                          Score_List  \n",
       "0  [0.1011, 0.119, 0.1011, 0.0615, 0.0564, 0.156,...  \n",
       "1  [0.0619, 0.1127, 0.0455, 0.1387, 0.0537, 0.044...  \n",
       "2  [0.0759, 0.089, 0.087, 0.0971, 0.0799, 0.0668,...  \n",
       "3  [0.0439, 0.0501, 0.0638, 0.0451, 0.1562, 0.137...  \n",
       "4  [0.0958, 0.0763, 0.0744, 0.0783, 0.0685, 0.062...  "
      ]
     },
     "execution_count": 54,
     "metadata": {},
     "output_type": "execute_result"
    }
   ],
   "source": [
    "df_new.head()"
   ]
  },
  {
   "cell_type": "code",
   "execution_count": 55,
   "metadata": {},
   "outputs": [],
   "source": [
    "# Generate a report dataframe containing scores and top reviews of each topic for each hotel\n",
    "top_n = 2 # Number of top reviews to show\n",
    "df_hotel_scores = pd.DataFrame()\n",
    "hotels = sorted(df_new['hotel_ID'].unique())\n",
    "for h in hotels:\n",
    "    df_hotel = df_new[df_new['hotel_ID']==h]\n",
    "    for t in range(len(name_topics)):\n",
    "        s = np.array([df_hotel.Score_List.iloc[i][t] for i in range(len(df_hotel))]) # Perc_Contributions for topic t\n",
    "        hotels_score = sum(s) # Score of a topic for a hotel is defined as the sum of all Perc_Contributions from all customers about this topic for this hotel\n",
    "        ind = np.argsort(abs(s))[-top_n:][::-1] # Indexes for top n reviews with hightest Perc_Contribution for topic t\n",
    "        Top_Reviews = df_hotel.iloc[ind]['Description'] # Top n reviews\n",
    "        wp = optimal_model.show_topic(t)\n",
    "        topic_keywords = \", \".join([word for word, prop in wp])\n",
    "        df_hotel_scores = df_hotel_scores.append(pd.Series([int(h), name_topics[t], hotels_score, topic_keywords, Top_Reviews]), ignore_index=True)\n",
    "\n",
    "df_hotel_scores.columns = ['hotel_ID', 'Topic', 'Score', 'Key_Words', 'Top_Reviews']    "
   ]
  },
  {
   "cell_type": "code",
   "execution_count": 56,
   "metadata": {},
   "outputs": [
    {
     "data": {
      "text/html": [
       "<div>\n",
       "<style scoped>\n",
       "    .dataframe tbody tr th:only-of-type {\n",
       "        vertical-align: middle;\n",
       "    }\n",
       "\n",
       "    .dataframe tbody tr th {\n",
       "        vertical-align: top;\n",
       "    }\n",
       "\n",
       "    .dataframe thead th {\n",
       "        text-align: right;\n",
       "    }\n",
       "</style>\n",
       "<table border=\"1\" class=\"dataframe\">\n",
       "  <thead>\n",
       "    <tr style=\"text-align: right;\">\n",
       "      <th></th>\n",
       "      <th>hotel_ID</th>\n",
       "      <th>Topic</th>\n",
       "      <th>Score</th>\n",
       "      <th>Key_Words</th>\n",
       "      <th>Top_Reviews</th>\n",
       "    </tr>\n",
       "  </thead>\n",
       "  <tbody>\n",
       "    <tr>\n",
       "      <th>0</th>\n",
       "      <td>1.0</td>\n",
       "      <td>nyc</td>\n",
       "      <td>61.9264</td>\n",
       "      <td>location, good, city, great, nyc, time, new_yo...</td>\n",
       "      <td>34477    Like other reviews i have read, mysel...</td>\n",
       "    </tr>\n",
       "    <tr>\n",
       "      <th>1</th>\n",
       "      <td>1.0</td>\n",
       "      <td>family friendly</td>\n",
       "      <td>48.0492</td>\n",
       "      <td>pool, view, nice, great, area, family, place, ...</td>\n",
       "      <td>10762    My husband and I suffered a great dea...</td>\n",
       "    </tr>\n",
       "    <tr>\n",
       "      <th>2</th>\n",
       "      <td>1.0</td>\n",
       "      <td>transportation</td>\n",
       "      <td>54.6348</td>\n",
       "      <td>walk, street, block, restaurant, airport, clos...</td>\n",
       "      <td>13233    From our corner king room on the --th...</td>\n",
       "    </tr>\n",
       "    <tr>\n",
       "      <th>3</th>\n",
       "      <td>1.0</td>\n",
       "      <td>bedroom</td>\n",
       "      <td>36.6072</td>\n",
       "      <td>bed, nice, good, clean, comfortable, small, ni...</td>\n",
       "      <td>18857    We stayed at the Palomar in Westwood ...</td>\n",
       "    </tr>\n",
       "    <tr>\n",
       "      <th>4</th>\n",
       "      <td>1.0</td>\n",
       "      <td>business service</td>\n",
       "      <td>54.3979</td>\n",
       "      <td>make, service, staff, experience, feel, trip, ...</td>\n",
       "      <td>4652    My clients are in the entertainment fi...</td>\n",
       "    </tr>\n",
       "    <tr>\n",
       "      <th>...</th>\n",
       "      <td>...</td>\n",
       "      <td>...</td>\n",
       "      <td>...</td>\n",
       "      <td>...</td>\n",
       "      <td>...</td>\n",
       "    </tr>\n",
       "    <tr>\n",
       "      <th>135</th>\n",
       "      <td>10.0</td>\n",
       "      <td>customer service</td>\n",
       "      <td>-19.4559</td>\n",
       "      <td>call, desk, front, give, manager, guest, reser...</td>\n",
       "      <td>34043    I would never stay at this hotel agai...</td>\n",
       "    </tr>\n",
       "    <tr>\n",
       "      <th>136</th>\n",
       "      <td>10.0</td>\n",
       "      <td>staff</td>\n",
       "      <td>22.2022</td>\n",
       "      <td>great, staff, friendly, location, helpful, cle...</td>\n",
       "      <td>11030    I just returnd to Ireland after a - n...</td>\n",
       "    </tr>\n",
       "    <tr>\n",
       "      <th>137</th>\n",
       "      <td>10.0</td>\n",
       "      <td>check in/out</td>\n",
       "      <td>-3.0396</td>\n",
       "      <td>check, desk, time, front, back, arrive, day, h...</td>\n",
       "      <td>32742    “If you like bad service this is the ...</td>\n",
       "    </tr>\n",
       "    <tr>\n",
       "      <th>138</th>\n",
       "      <td>10.0</td>\n",
       "      <td>bathroom</td>\n",
       "      <td>-7.4660</td>\n",
       "      <td>bathroom, shower, floor, elevator, water, work...</td>\n",
       "      <td>33005    I've stayed at many, many Kimpton Hot...</td>\n",
       "    </tr>\n",
       "    <tr>\n",
       "      <th>139</th>\n",
       "      <td>10.0</td>\n",
       "      <td>reservation</td>\n",
       "      <td>-4.0271</td>\n",
       "      <td>night, book, price, review, find, place, pay, ...</td>\n",
       "      <td>30429    My wife and I pored over Trip Advisor...</td>\n",
       "    </tr>\n",
       "  </tbody>\n",
       "</table>\n",
       "<p>140 rows × 5 columns</p>\n",
       "</div>"
      ],
      "text/plain": [
       "     hotel_ID             Topic    Score  \\\n",
       "0         1.0               nyc  61.9264   \n",
       "1         1.0   family friendly  48.0492   \n",
       "2         1.0    transportation  54.6348   \n",
       "3         1.0           bedroom  36.6072   \n",
       "4         1.0  business service  54.3979   \n",
       "..        ...               ...      ...   \n",
       "135      10.0  customer service -19.4559   \n",
       "136      10.0             staff  22.2022   \n",
       "137      10.0      check in/out  -3.0396   \n",
       "138      10.0          bathroom  -7.4660   \n",
       "139      10.0       reservation  -4.0271   \n",
       "\n",
       "                                             Key_Words  \\\n",
       "0    location, good, city, great, nyc, time, new_yo...   \n",
       "1    pool, view, nice, great, area, family, place, ...   \n",
       "2    walk, street, block, restaurant, airport, clos...   \n",
       "3    bed, nice, good, clean, comfortable, small, ni...   \n",
       "4    make, service, staff, experience, feel, trip, ...   \n",
       "..                                                 ...   \n",
       "135  call, desk, front, give, manager, guest, reser...   \n",
       "136  great, staff, friendly, location, helpful, cle...   \n",
       "137  check, desk, time, front, back, arrive, day, h...   \n",
       "138  bathroom, shower, floor, elevator, water, work...   \n",
       "139  night, book, price, review, find, place, pay, ...   \n",
       "\n",
       "                                           Top_Reviews  \n",
       "0    34477    Like other reviews i have read, mysel...  \n",
       "1    10762    My husband and I suffered a great dea...  \n",
       "2    13233    From our corner king room on the --th...  \n",
       "3    18857    We stayed at the Palomar in Westwood ...  \n",
       "4    4652    My clients are in the entertainment fi...  \n",
       "..                                                 ...  \n",
       "135  34043    I would never stay at this hotel agai...  \n",
       "136  11030    I just returnd to Ireland after a - n...  \n",
       "137  32742    “If you like bad service this is the ...  \n",
       "138  33005    I've stayed at many, many Kimpton Hot...  \n",
       "139  30429    My wife and I pored over Trip Advisor...  \n",
       "\n",
       "[140 rows x 5 columns]"
      ]
     },
     "execution_count": 56,
     "metadata": {},
     "output_type": "execute_result"
    }
   ],
   "source": [
    "df_hotel_scores"
   ]
  },
  {
   "cell_type": "code",
   "execution_count": 57,
   "metadata": {},
   "outputs": [
    {
     "data": {
      "text/html": [
       "<div>\n",
       "<style scoped>\n",
       "    .dataframe tbody tr th:only-of-type {\n",
       "        vertical-align: middle;\n",
       "    }\n",
       "\n",
       "    .dataframe tbody tr th {\n",
       "        vertical-align: top;\n",
       "    }\n",
       "\n",
       "    .dataframe thead th {\n",
       "        text-align: right;\n",
       "    }\n",
       "</style>\n",
       "<table border=\"1\" class=\"dataframe\">\n",
       "  <thead>\n",
       "    <tr style=\"text-align: right;\">\n",
       "      <th></th>\n",
       "      <th></th>\n",
       "      <th>Score</th>\n",
       "      <th>Key_Words</th>\n",
       "      <th>Top_Reviews</th>\n",
       "    </tr>\n",
       "    <tr>\n",
       "      <th>hotel_ID</th>\n",
       "      <th>Topic</th>\n",
       "      <th></th>\n",
       "      <th></th>\n",
       "      <th></th>\n",
       "    </tr>\n",
       "  </thead>\n",
       "  <tbody>\n",
       "    <tr>\n",
       "      <th rowspan=\"5\" valign=\"top\">1.0</th>\n",
       "      <th>nyc</th>\n",
       "      <td>61.9264</td>\n",
       "      <td>location, good, city, great, nyc, time, new_yo...</td>\n",
       "      <td>34477    Like other reviews i have read, mysel...</td>\n",
       "    </tr>\n",
       "    <tr>\n",
       "      <th>family friendly</th>\n",
       "      <td>48.0492</td>\n",
       "      <td>pool, view, nice, great, area, family, place, ...</td>\n",
       "      <td>10762    My husband and I suffered a great dea...</td>\n",
       "    </tr>\n",
       "    <tr>\n",
       "      <th>transportation</th>\n",
       "      <td>54.6348</td>\n",
       "      <td>walk, street, block, restaurant, airport, clos...</td>\n",
       "      <td>13233    From our corner king room on the --th...</td>\n",
       "    </tr>\n",
       "    <tr>\n",
       "      <th>bedroom</th>\n",
       "      <td>36.6072</td>\n",
       "      <td>bed, nice, good, clean, comfortable, small, ni...</td>\n",
       "      <td>18857    We stayed at the Palomar in Westwood ...</td>\n",
       "    </tr>\n",
       "    <tr>\n",
       "      <th>business service</th>\n",
       "      <td>54.3979</td>\n",
       "      <td>make, service, staff, experience, feel, trip, ...</td>\n",
       "      <td>4652    My clients are in the entertainment fi...</td>\n",
       "    </tr>\n",
       "    <tr>\n",
       "      <th>...</th>\n",
       "      <th>...</th>\n",
       "      <td>...</td>\n",
       "      <td>...</td>\n",
       "      <td>...</td>\n",
       "    </tr>\n",
       "    <tr>\n",
       "      <th rowspan=\"5\" valign=\"top\">10.0</th>\n",
       "      <th>customer service</th>\n",
       "      <td>-19.4559</td>\n",
       "      <td>call, desk, front, give, manager, guest, reser...</td>\n",
       "      <td>34043    I would never stay at this hotel agai...</td>\n",
       "    </tr>\n",
       "    <tr>\n",
       "      <th>staff</th>\n",
       "      <td>22.2022</td>\n",
       "      <td>great, staff, friendly, location, helpful, cle...</td>\n",
       "      <td>11030    I just returnd to Ireland after a - n...</td>\n",
       "    </tr>\n",
       "    <tr>\n",
       "      <th>check in/out</th>\n",
       "      <td>-3.0396</td>\n",
       "      <td>check, desk, time, front, back, arrive, day, h...</td>\n",
       "      <td>32742    “If you like bad service this is the ...</td>\n",
       "    </tr>\n",
       "    <tr>\n",
       "      <th>bathroom</th>\n",
       "      <td>-7.4660</td>\n",
       "      <td>bathroom, shower, floor, elevator, water, work...</td>\n",
       "      <td>33005    I've stayed at many, many Kimpton Hot...</td>\n",
       "    </tr>\n",
       "    <tr>\n",
       "      <th>reservation</th>\n",
       "      <td>-4.0271</td>\n",
       "      <td>night, book, price, review, find, place, pay, ...</td>\n",
       "      <td>30429    My wife and I pored over Trip Advisor...</td>\n",
       "    </tr>\n",
       "  </tbody>\n",
       "</table>\n",
       "<p>140 rows × 3 columns</p>\n",
       "</div>"
      ],
      "text/plain": [
       "                             Score  \\\n",
       "hotel_ID Topic                       \n",
       "1.0      nyc               61.9264   \n",
       "         family friendly   48.0492   \n",
       "         transportation    54.6348   \n",
       "         bedroom           36.6072   \n",
       "         business service  54.3979   \n",
       "...                            ...   \n",
       "10.0     customer service -19.4559   \n",
       "         staff             22.2022   \n",
       "         check in/out      -3.0396   \n",
       "         bathroom          -7.4660   \n",
       "         reservation       -4.0271   \n",
       "\n",
       "                                                                   Key_Words  \\\n",
       "hotel_ID Topic                                                                 \n",
       "1.0      nyc               location, good, city, great, nyc, time, new_yo...   \n",
       "         family friendly   pool, view, nice, great, area, family, place, ...   \n",
       "         transportation    walk, street, block, restaurant, airport, clos...   \n",
       "         bedroom           bed, nice, good, clean, comfortable, small, ni...   \n",
       "         business service  make, service, staff, experience, feel, trip, ...   \n",
       "...                                                                      ...   \n",
       "10.0     customer service  call, desk, front, give, manager, guest, reser...   \n",
       "         staff             great, staff, friendly, location, helpful, cle...   \n",
       "         check in/out      check, desk, time, front, back, arrive, day, h...   \n",
       "         bathroom          bathroom, shower, floor, elevator, water, work...   \n",
       "         reservation       night, book, price, review, find, place, pay, ...   \n",
       "\n",
       "                                                                 Top_Reviews  \n",
       "hotel_ID Topic                                                                \n",
       "1.0      nyc               34477    Like other reviews i have read, mysel...  \n",
       "         family friendly   10762    My husband and I suffered a great dea...  \n",
       "         transportation    13233    From our corner king room on the --th...  \n",
       "         bedroom           18857    We stayed at the Palomar in Westwood ...  \n",
       "         business service  4652    My clients are in the entertainment fi...  \n",
       "...                                                                      ...  \n",
       "10.0     customer service  34043    I would never stay at this hotel agai...  \n",
       "         staff             11030    I just returnd to Ireland after a - n...  \n",
       "         check in/out      32742    “If you like bad service this is the ...  \n",
       "         bathroom          33005    I've stayed at many, many Kimpton Hot...  \n",
       "         reservation       30429    My wife and I pored over Trip Advisor...  \n",
       "\n",
       "[140 rows x 3 columns]"
      ]
     },
     "execution_count": 57,
     "metadata": {},
     "output_type": "execute_result"
    }
   ],
   "source": [
    "# Use 'hotel_ID' and 'Topic' as indexes\n",
    "df_hotel_scores = df_hotel_scores.set_index(['hotel_ID', 'Topic']) \n",
    "df_hotel_scores"
   ]
  },
  {
   "cell_type": "code",
   "execution_count": 58,
   "metadata": {},
   "outputs": [
    {
     "data": {
      "text/html": [
       "<div>\n",
       "<style scoped>\n",
       "    .dataframe tbody tr th:only-of-type {\n",
       "        vertical-align: middle;\n",
       "    }\n",
       "\n",
       "    .dataframe tbody tr th {\n",
       "        vertical-align: top;\n",
       "    }\n",
       "\n",
       "    .dataframe thead th {\n",
       "        text-align: right;\n",
       "    }\n",
       "</style>\n",
       "<table border=\"1\" class=\"dataframe\">\n",
       "  <thead>\n",
       "    <tr style=\"text-align: right;\">\n",
       "      <th></th>\n",
       "      <th>Score</th>\n",
       "      <th>Key_Words</th>\n",
       "      <th>Top_Reviews</th>\n",
       "    </tr>\n",
       "    <tr>\n",
       "      <th>Topic</th>\n",
       "      <th></th>\n",
       "      <th></th>\n",
       "      <th></th>\n",
       "    </tr>\n",
       "  </thead>\n",
       "  <tbody>\n",
       "    <tr>\n",
       "      <th>nyc</th>\n",
       "      <td>61.9264</td>\n",
       "      <td>location, good, city, great, nyc, time, new_yo...</td>\n",
       "      <td>34477    Like other reviews i have read, mysel...</td>\n",
       "    </tr>\n",
       "    <tr>\n",
       "      <th>family friendly</th>\n",
       "      <td>48.0492</td>\n",
       "      <td>pool, view, nice, great, area, family, place, ...</td>\n",
       "      <td>10762    My husband and I suffered a great dea...</td>\n",
       "    </tr>\n",
       "    <tr>\n",
       "      <th>transportation</th>\n",
       "      <td>54.6348</td>\n",
       "      <td>walk, street, block, restaurant, airport, clos...</td>\n",
       "      <td>13233    From our corner king room on the --th...</td>\n",
       "    </tr>\n",
       "    <tr>\n",
       "      <th>bedroom</th>\n",
       "      <td>36.6072</td>\n",
       "      <td>bed, nice, good, clean, comfortable, small, ni...</td>\n",
       "      <td>18857    We stayed at the Palomar in Westwood ...</td>\n",
       "    </tr>\n",
       "    <tr>\n",
       "      <th>business service</th>\n",
       "      <td>54.3979</td>\n",
       "      <td>make, service, staff, experience, feel, trip, ...</td>\n",
       "      <td>4652    My clients are in the entertainment fi...</td>\n",
       "    </tr>\n",
       "    <tr>\n",
       "      <th>bar/restaurant</th>\n",
       "      <td>52.8995</td>\n",
       "      <td>service, restaurant, bar, good, food, lobby, d...</td>\n",
       "      <td>30459    My husband and I stayed at the Hyatt ...</td>\n",
       "    </tr>\n",
       "    <tr>\n",
       "      <th>parking</th>\n",
       "      <td>27.4283</td>\n",
       "      <td>parking, free, car, business, internet, park, ...</td>\n",
       "      <td>23628    I used my Marriott Reward points to s...</td>\n",
       "    </tr>\n",
       "    <tr>\n",
       "      <th>breakfast</th>\n",
       "      <td>48.1859</td>\n",
       "      <td>breakfast, coffee, free, area, include, suite,...</td>\n",
       "      <td>24019    Homewood Suites was a real find! I re...</td>\n",
       "    </tr>\n",
       "    <tr>\n",
       "      <th>noise</th>\n",
       "      <td>-35.7244</td>\n",
       "      <td>night, noise, door, bad, hear, sleep, floor, p...</td>\n",
       "      <td>28170    Though this hotel didn't have cockroa...</td>\n",
       "    </tr>\n",
       "    <tr>\n",
       "      <th>customer service</th>\n",
       "      <td>-27.0166</td>\n",
       "      <td>call, desk, front, give, manager, guest, reser...</td>\n",
       "      <td>34081    I called the hotel on ------- to make...</td>\n",
       "    </tr>\n",
       "    <tr>\n",
       "      <th>staff</th>\n",
       "      <td>79.6671</td>\n",
       "      <td>great, staff, friendly, location, helpful, cle...</td>\n",
       "      <td>15945    This hotel was great! The staff was s...</td>\n",
       "    </tr>\n",
       "    <tr>\n",
       "      <th>check in/out</th>\n",
       "      <td>17.2319</td>\n",
       "      <td>check, desk, time, front, back, arrive, day, h...</td>\n",
       "      <td>29154    This was a special birthday weekend t...</td>\n",
       "    </tr>\n",
       "    <tr>\n",
       "      <th>bathroom</th>\n",
       "      <td>-0.6614</td>\n",
       "      <td>bathroom, shower, floor, elevator, water, work...</td>\n",
       "      <td>4153     Room --- faces Wyoming Ave. I'll stay...</td>\n",
       "    </tr>\n",
       "    <tr>\n",
       "      <th>reservation</th>\n",
       "      <td>11.3642</td>\n",
       "      <td>night, book, price, review, find, place, pay, ...</td>\n",
       "      <td>28741    After reading several reviews on here...</td>\n",
       "    </tr>\n",
       "  </tbody>\n",
       "</table>\n",
       "</div>"
      ],
      "text/plain": [
       "                    Score                                          Key_Words  \\\n",
       "Topic                                                                          \n",
       "nyc               61.9264  location, good, city, great, nyc, time, new_yo...   \n",
       "family friendly   48.0492  pool, view, nice, great, area, family, place, ...   \n",
       "transportation    54.6348  walk, street, block, restaurant, airport, clos...   \n",
       "bedroom           36.6072  bed, nice, good, clean, comfortable, small, ni...   \n",
       "business service  54.3979  make, service, staff, experience, feel, trip, ...   \n",
       "bar/restaurant    52.8995  service, restaurant, bar, good, food, lobby, d...   \n",
       "parking           27.4283  parking, free, car, business, internet, park, ...   \n",
       "breakfast         48.1859  breakfast, coffee, free, area, include, suite,...   \n",
       "noise            -35.7244  night, noise, door, bad, hear, sleep, floor, p...   \n",
       "customer service -27.0166  call, desk, front, give, manager, guest, reser...   \n",
       "staff             79.6671  great, staff, friendly, location, helpful, cle...   \n",
       "check in/out      17.2319  check, desk, time, front, back, arrive, day, h...   \n",
       "bathroom          -0.6614  bathroom, shower, floor, elevator, water, work...   \n",
       "reservation       11.3642  night, book, price, review, find, place, pay, ...   \n",
       "\n",
       "                                                        Top_Reviews  \n",
       "Topic                                                                \n",
       "nyc               34477    Like other reviews i have read, mysel...  \n",
       "family friendly   10762    My husband and I suffered a great dea...  \n",
       "transportation    13233    From our corner king room on the --th...  \n",
       "bedroom           18857    We stayed at the Palomar in Westwood ...  \n",
       "business service  4652    My clients are in the entertainment fi...  \n",
       "bar/restaurant    30459    My husband and I stayed at the Hyatt ...  \n",
       "parking           23628    I used my Marriott Reward points to s...  \n",
       "breakfast         24019    Homewood Suites was a real find! I re...  \n",
       "noise             28170    Though this hotel didn't have cockroa...  \n",
       "customer service  34081    I called the hotel on ------- to make...  \n",
       "staff             15945    This hotel was great! The staff was s...  \n",
       "check in/out      29154    This was a special birthday weekend t...  \n",
       "bathroom          4153     Room --- faces Wyoming Ave. I'll stay...  \n",
       "reservation       28741    After reading several reviews on here...  "
      ]
     },
     "execution_count": 58,
     "metadata": {},
     "output_type": "execute_result"
    }
   ],
   "source": [
    "# Scores and top reviews for hotel 1\n",
    "df_hotel_scores.loc[1]"
   ]
  },
  {
   "cell_type": "code",
   "execution_count": 59,
   "metadata": {},
   "outputs": [
    {
     "data": {
      "image/png": "[encoded data removed]",
      "text/plain": [
       "<Figure size 720x360 with 1 Axes>"
      ]
     },
     "metadata": {},
     "output_type": "display_data"
    }
   ],
   "source": [
    "plt.figure(figsize = (10,5))\n",
    "plt.bar(df_hotel_scores.loc[1].index, df_hotel_scores.loc[1].Score)#, width=1)\n",
    "plt.xlabel('Topics', fontsize=15)\n",
    "plt.ylabel('Scores', fontsize=15)\n",
    "plt.title('Scores for Topics', fontsize=18)\n",
    "plt.xticks(fontsize=15, rotation =-45, ha='left')\n",
    "plt.show()"
   ]
  },
  {
   "cell_type": "markdown",
   "metadata": {},
   "source": [
    "We can see that for hotel 1, its 'noise' and 'customer service' have the lowest scores, while its staff and location in NYC have the highest scores. Details can be found in the following top reviews for these topics."
   ]
  },
  {
   "cell_type": "code",
   "execution_count": 61,
   "metadata": {},
   "outputs": [
    {
     "name": "stdout",
     "output_type": "stream",
     "text": [
      "Though this hotel didn't have cockroaches it looked like a roach motel! When we first walked in the hotel, I noticed that the plaster was cracked and coming off of the ceiling and walls! Check in is at -:--, we arrived at -:-- and our room was not ready! So of course I needed to use the restroom, the door had no lock and there were holes in the plaster and walls where I could see the lathe every where I looked and it was filthy!!! We finally get our room and take the creaky, creepy two person elevator, it opens up to a dark,dank hallway with dirty, stinky, stained carpet! It's an image I could imagine to be in a Steven King Novel!!! Our room was even worse! The head boards and lamp shades had a thick layer of dust and dirt, the lamp shades also had splattered soda, I'm guessing, on the inside! The bathroom was moldy and dirty with the only outlet for the room next to the shower wall! No towel hooks or anywhere to put your toiletry's. I was afraid to sleep in the bed for fear of bed bugs! There were only - fuzzy cable channels No air conditioning so we had to sleep with the window open and you could hear everything. And the customer service was lousy, no help at all!!! The owner should be embarrassed and ashamed at the condition of this hotel! It should be condemned!!! I would have changed hotels but their cancellation policy is ridiculous and I would have ended up paying for my three nights stay either way! I also have pictures which I will try and post later.\n",
      "The room was clean and comfortable as I normally would expect from a Crowne Plaza Hotel. The bathroom was sparkling clean, spacious, and with granite counters. The free continental breakfast and happy hour drinks were nice \"\"\"\"\"\"\"\"\"\"\"\"\"\"\"\"\"\"\"\"\"\"\"\"\"\"\"\"\"\"\"\"extras\"\"\"\"\"\"\"\"\"\"\"\"\"\"\"\"\"\"\"\"\"\"\"\"\"\"\"\"\"\"\"\". However, I encountered several difficulties with the hotel. I have reserved a non-smoking room and when I first walked into the room, a huge cigarette odor welcome me to the room. The room was designated as non-smoking room, but it was obvious that the previous guests were smokers and the hotel’s housekeeping failed to deodorize the room before I checked-in. Those non-smokers would understand how tough it's to sleep in a room with cigarettes odor. I even had to move my clothes to the bathroom and close the bathroom door to avoid the cigarette odor sticking to my clothes. Extremely disappointing!! Being that this hotel is located right next to the highway ( -- north), the traffic noise can get extremely loud. I suspected the noise problem when I learned that the hotel was right next to the highway and when booking my reservation, I requested a room away from the highway. As the cigarette odor wasn’t enough, I get assigned a room facing the highway and generators. This demonstrated a lack of consideration and hospitality to my special requests. The funny thing is that the hotel understands that they have a noise problem. The hotel gives out free gift package to their guest that contains a music CD with sleeping music, ear plugs, eye mask, and pillow sprays to ease you into your sleeps. However, that didn’t help me getting much rest at night specially when fire truck sirens, trailer trucks, and early-morning rush hour traffic kept waking me up. I requested a room change, but lady at front desk kept telling me that it was the \"\"\"\"\"\"\"\"\"\"\"\"\"\"\"\"\"\"\"\"\"\"\"\"\"\"\"\"\"\"\"\"only\"\"\"\"\"\"\"\"\"\"\"\"\"\"\"\"\"\"\"\"\"\"\"\"\"\"\"\"\"\"\"\" room available that point. The housekeeping came to vaporize the room, but the traffic noise never got any better. So if you need a good night rest or you are a light sleeper like me, STAY AWAY from this hotel.\n"
     ]
    }
   ],
   "source": [
    "# Top two reviews about 'bathroom' for hotel 1\n",
    "for i in range(top_n):\n",
    "    print(df_hotel_scores.loc[1,'noise']['Top_Reviews'].iloc[i])"
   ]
  },
  {
   "cell_type": "code",
   "execution_count": 60,
   "metadata": {},
   "outputs": [
    {
     "name": "stdout",
     "output_type": "stream",
     "text": [
      "I called the hotel on ------- to make a reservation. A friend of mine found the hotel online and wanted to stay there when we visited San Antonio. The gentleman I spoke with was very polite and answered all of my questions. I was leery about the hotel because of reviews I read on this site. I decided because he was so polite that I would give it a try.\n",
      "I arrived at the Antonian to check-in on August --, ----. I planned on checking out on August --, ----. During the check-in process (right from the beginning when I asked a simple question) I was treated very rudely by the front Desk Clerk. \n",
      "I ignored it at first. I gave him my credit card and signed the electronic pad when he indicated I needed to, continuing the check in process despite the rude treatment. \n",
      "When he gave me my room keys he also gave me an invoice. The amount on the invoice was higher than the amount I was quoted when I made the reservation. He said I was being charged more per night because there is two of us and I only said there would be one when I made the reservation. I did not say how many there would be when I made the reservation, I was never asked. He accused me of lying when I made the reservation; he was continuing to be very rude. \n",
      "I said I would not pay this and that I was in fact tired of being treated this way so I was not going to stay here at all. He argued with me and tried to say everything was my fault, again being very rude. I finally asked for the manager. The manager of course apologized for the front desk clerk's behavior, although it did not really seem sincere. The entire time the clerk was next to him continuing to be very rude. The manager did not say anything to him. \n",
      "The manager informed me that I would be paying the cancelation fee of one night’s stay plus tax. I said that I didn’t think I should be charged that since I tried to check in but was treated so badly. He basically just ignored me. I told him eventually that I refused to pay it and he said it will be charged and I can dispute it with my credit card company if I want. \n",
      "As the manager was checking me out of the hotel he said to me that I “remind him of a person he knows who is a real jerk.” So basically the manager called me a jerk. \n",
      "There was a charge billed to my credit card from the Antonian for $---.-- posted on -------. \n",
      "I have attempted to contact the owner. The staff will not give me their contact information. I left messages at the hotel with the one employee that has been polite to me and actually seemed sincere when he apologized about the incident. He was not there when I checked-in. The owner has not contacted me. \n",
      "I am currently in the process of disputing the charge with my credit card company and I have contacted the Better Business Bureau.\n",
      "I would not recommend anyone stay here. They severely lack customer service skills.\n",
      "During my most recent stay in Los Angeles during June-July ---- on a business trip within the Sheraton Four Points Hotel at Los Angeles I was the victim of a fraud by one of their employees.\n",
      "When I was checking out I settled the respective bill with cash (approximately $--), rather than having it charged to the credit card I have registered upon check-in.\n",
      "Before flying back to the uk I decided to take a few days in Las Vegas, where I stayed at the Hilton. I was initially alerted that there was an issue when I checked into the Las Vegas Hilton. The same card I had used in Los Angeles was 'rejected' as payment for the room.\n",
      "I immediately contacted my credit card company in the uk, who informed me that a charge of $--- had been made to the card by the Sheraton Four Points Hotel at LAX. This almost wiped out the remaining credit on the card, and as I did not have any other credit cards I was forced to use the limited cash I had on me, as a consequence I did not have the greatest two days in the city. I was unable to rent a car as had planned to do, plus I was also restricted to eating 'budget' food.\n",
      "After two days a security supervisor from the credit card company called to inform me that they had been in direct contact with the Four Points Hotel, and the customer services manager had confirmed that a desk clerk had been fired as a consequence of a number of thefts. When visitors settled their hotel accounts in cash (as I did) the offending desk clerk would simply charge the amount to the registered credit card, then pocket the cash ($--- in my case)\n",
      "When I reported the matter to the hotel they did not even apologise. However, after a number of letters and emails to the Starwood HQ they agreed that they would provide me with some level of 'compensation' which was in the form of either a free stay, or at least vouchers.\n",
      "It will shortly be the FOURTH anniversary of the stay and I have still not received any vouchers, or indeed any physical confirmation that I would be provided with a free stay upon my next trip to the United States.\n",
      "The reason this matter came to mind again is because I am flying out to Los Angeles later this month and I would like Starwood to provide me with what they promised.\n",
      "I have sent them two letters over the last few weeks but they have failed to respond to any of them.\n",
      "To say I am disappointed with the outcome of this matter would be an understatement. Not only was I the victim of theft, but the premeditated criminal actions of a Starwood Hotels employee robbed me of a relaxing stay in Las Vegas, and a trip to the Grand Canyon, which I had always dreamed of.\n",
      "Needless to say, I shall never stay with any of their hotels ever again, and I would like to warn all visitors of the possibility of becoming a victim of theft whenever you stay with Starwood Hotels. However, should it happen to you do not expect any form of apology or indeed compensation.\n"
     ]
    }
   ],
   "source": [
    "# Top two reviews about 'customer_service' for hotel 1\n",
    "for i in range(top_n):\n",
    "    print(df_hotel_scores.loc[1,'customer service']['Top_Reviews'].iloc[i])"
   ]
  },
  {
   "cell_type": "code",
   "execution_count": 62,
   "metadata": {},
   "outputs": [
    {
     "name": "stdout",
     "output_type": "stream",
     "text": [
      "This hotel was great! The staff was so friendly and accommodating. The room was small (but from what we heard, every room in NY is small) but extremely clean. For - girls in their late --'s it was perfect location! Great bars, great food and great shopping all within walking distance. I will definitely stay here again.\n",
      "We spent three days here for the taste of chicago we would definitely return again the room was great the bed are comfortable we was on the -- floor the sky deck was beautiful the lobby was spacious moderm and well appointed this location is walking distance to michigan ave where there is great shopping and resturants love this place would definitely return this is one of the most professional desk,concierge host, doorman and housekeeping staffs kathleen you was the best to joe of security who was a great person and may our stay great thank you\n"
     ]
    }
   ],
   "source": [
    "# Top two reviews about 'staff' for hotel 1\n",
    "for i in range(top_n):\n",
    "    print(df_hotel_scores.loc[1,'staff']['Top_Reviews'].iloc[i])"
   ]
  },
  {
   "cell_type": "code",
   "execution_count": 63,
   "metadata": {},
   "outputs": [
    {
     "name": "stdout",
     "output_type": "stream",
     "text": [
      "Like other reviews i have read, myself and my partner booked this up through an agent without hearing about the reviews. I was horrified when i read them but we wasn't going to let it put a downer on our holiday. \n",
      "When we arrived the Hotel lobby is fantastic. Really modern and very busy with people coming in and out. We were on the -rd floor and our room was very basic but clean. It was cleaned everyday with new towels and sheets and the staff were very friendly. \n",
      "Hotel Penn is an excellent location. Macy's round the corner, Times Square -- minute walk away. Madison Square Gardens across the road, what more could you ask for.\n",
      "I would reccomend this Hotel to anyone and would definatley saty there if i was to visit New York again. After all, how much time do you actually spend in the Hotel when you are in a beautiful city like New York.\n",
      "We just returned from a wonderful time in NYC and the Hilton Times Square added to our enjoyment. The hotel is located in the heart of Times Square just steps away from the action and right next to the subway. The view from our room was incredible. We could see the Hudson river as well as the clock and ball from Times Square. The NYC skyline was exactly the view you hope for when staying in the city. The only negative I can mention would be the construction and having to enter the hotel from --st St. instead of --nd St. This requires you to walk by the back of some of the business that front --nd but it was only a minor inconvenience. The hotel staff was warm, friendly and very helpful. All in all a great trip and a great hotel! We hope to stay there again and would highly reccommend it to any one wanting to stay in Times Square.\n"
     ]
    }
   ],
   "source": [
    "# Top two reviews about 'staff' for hotel 1\n",
    "for i in range(top_n):\n",
    "    print(df_hotel_scores.loc[1,'nyc']['Top_Reviews'].iloc[i])"
   ]
  },
  {
   "cell_type": "markdown",
   "metadata": {},
   "source": [
    "From the above reviews, we can see that for hotel 1, it is close to highway and noisy. Its billing department needs to improve their service. Its staffs did a good job. It is close to many NYC landmarks, and thus its location can be used in the advertisement to attract more customers. Suggestions for other hotels can be obtained similarly."
   ]
  }
 ],
 "metadata": {
  "kernelspec": {
   "display_name": "Python 3",
   "language": "python",
   "name": "python3"
  },
  "language_info": {
   "codemirror_mode": {
    "name": "ipython",
    "version": 3
   },
   "file_extension": ".py",
   "mimetype": "text/x-python",
   "name": "python",
   "nbconvert_exporter": "python",
   "pygments_lexer": "ipython3",
   "version": "3.6.10"
  }
 },
 "nbformat": 4,
 "nbformat_minor": 4
}
